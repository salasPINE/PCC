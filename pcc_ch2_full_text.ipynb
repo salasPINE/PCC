{
  "nbformat": 4,
  "nbformat_minor": 0,
  "metadata": {
    "colab": {
      "provenance": [],
      "toc_visible": true
    },
    "kernelspec": {
      "name": "python3",
      "display_name": "Python 3"
    },
    "language_info": {
      "name": "python"
    }
  },
  "cells": [
    {
      "cell_type": "markdown",
      "source": [
        "# **CHAPTER 2**"
      ],
      "metadata": {
        "id": "BC5-4kDGZVG6"
      }
    },
    {
      "cell_type": "markdown",
      "source": [
        "### **Hello World**"
      ],
      "metadata": {
        "id": "JzNQ2z9lZ7Jy"
      }
    },
    {
      "cell_type": "code",
      "execution_count": null,
      "metadata": {
        "id": "BP__QwvjZQdz",
        "outputId": "f9439831-c939-4644-ab4a-04350a8e03af",
        "colab": {
          "base_uri": "https://localhost:8080/"
        }
      },
      "outputs": [
        {
          "output_type": "stream",
          "name": "stdout",
          "text": [
            "Hello World!\n",
            "Hello World Again!\n",
            "\n",
            "Hello World After a Blank Line\n"
          ]
        }
      ],
      "source": [
        "# Hello World\n",
        "\n",
        "# Shows Hello World in the output\n",
        "print(\"Hello World!\")\n",
        "print('Hello World Again!')\n",
        "\n",
        "# This produces a blank line\n",
        "print()\n",
        "\n",
        "print(\"Hello World After a Blank Line\")"
      ]
    },
    {
      "cell_type": "markdown",
      "source": [
        "---\n",
        "##  **VARIABLES**"
      ],
      "metadata": {
        "id": "GLxYdPGSl3_5"
      }
    },
    {
      "cell_type": "code",
      "source": [
        "# Hello World Using a Variable\n",
        "message = \"Hello Python World!\"\n",
        "print(message)\n",
        "message = \"Hello Python Crash Course!\"\n",
        "print(message)"
      ],
      "metadata": {
        "id": "-1qoBZZamHfE",
        "outputId": "bb7a31ed-5515-4bde-aaf3-9d9f8bd61845",
        "colab": {
          "base_uri": "https://localhost:8080/"
        }
      },
      "execution_count": null,
      "outputs": [
        {
          "output_type": "stream",
          "name": "stdout",
          "text": [
            "Hello Python World!\n",
            "Hello Python Crash Course!\n"
          ]
        }
      ]
    },
    {
      "cell_type": "markdown",
      "source": [
        "- Variable names can contain only letters, numbers and underscores. They cannot start with a number. A variable can be `message_1`, but NOT `1_message`.\n",
        "\n",
        "- Spaces are not allowed in Variable names. Use underscores to separate words in variable names. Example: `greeting_message`\n",
        "\n",
        "- Avoid using Python keywords and function names as variable names. For example, you cannot have a variable called `print`.\n",
        "\n",
        "- Variable names should be short but descriptive.\n",
        "\n",
        "- Variable names should be all lowercase."
      ],
      "metadata": {
        "id": "MMsVu-RImSp6"
      }
    },
    {
      "cell_type": "code",
      "source": [
        "# Hello World Fruit Variables\n",
        "\n",
        "# Variables\n",
        "fruit1 = \"Peach\"\n",
        "fruit2 = \"Orange\"\n",
        "fruit3 = \"Banana\"\n",
        "fruit4 = \"Kiwi\"\n",
        "\n",
        "# This prints them one line each\n",
        "print(fruit1)\n",
        "print(fruit2)\n",
        "print(fruit3)\n",
        "print(fruit4)\n",
        "# This prints them on one line\n",
        "print(fruit1, fruit2, fruit3, frut4)"
      ],
      "metadata": {
        "id": "JpI1VfjyZnXb",
        "colab": {
          "base_uri": "https://localhost:8080/"
        },
        "outputId": "82775036-4928-4684-8aa3-160c5ff823f1"
      },
      "execution_count": null,
      "outputs": [
        {
          "output_type": "stream",
          "name": "stdout",
          "text": [
            "Peach\n",
            "Orange\n",
            "Banana\n",
            "Kiwi\n",
            "Peach Orange Banana Kiwi\n"
          ]
        }
      ]
    },
    {
      "cell_type": "markdown",
      "source": [
        "When there is an error in my code, I get a **Traceback**.\n",
        "When there is an error in my code, I  have to **debug** the code. Debug means to go back to your code and find what is causing the error.\n",
        "\n",
        "Variables are **labels**.\n",
        "A Variable can be described as a box that you can store values in. It is easier, however, to think of them as labels that you can assign to values.\n"
      ],
      "metadata": {
        "id": "qbykVdjUmrKJ"
      }
    },
    {
      "cell_type": "markdown",
      "source": [
        "---\n",
        "## **STRINGS**\n",
        "A *string* is a series of characters. Anything inside quotes is considered a string in Python, and you can use single or double quotes around your strings like this:\n",
        "\n",
        "`\"This is a string\"`\n",
        "\n",
        "`'This is also a string'`\n",
        "\n",
        "This is helpful for when you need to use quotes and apostrophes together."
      ],
      "metadata": {
        "id": "aHSpVpP_nOMi"
      }
    },
    {
      "cell_type": "code",
      "source": [
        "print(\"I don't like using mixed quotes\")\n",
        "print('Using \"quotes\" is sometimes necessary')"
      ],
      "metadata": {
        "id": "lGLLv94LnhIl",
        "colab": {
          "base_uri": "https://localhost:8080/"
        },
        "outputId": "b801f294-7b60-4f83-fad3-48db4bbf44fa"
      },
      "execution_count": null,
      "outputs": [
        {
          "output_type": "stream",
          "name": "stdout",
          "text": [
            "I don't like using mixed quotes\n",
            "Using \"quotes\" is sometimes necessary\n"
          ]
        }
      ]
    },
    {
      "cell_type": "markdown",
      "source": [
        "### Changing Case\n",
        "Examine the following code to change the capitalization of a string"
      ],
      "metadata": {
        "id": "4z42rlpzo9XA"
      }
    },
    {
      "cell_type": "code",
      "source": [
        "name = \"ada lovelace\"\n",
        "\n",
        "print(name.title())\n",
        "\n",
        "name = \"Ada Lovelace\"\n",
        "\n",
        "print(name.upper())\n",
        "print(name.lower())"
      ],
      "metadata": {
        "id": "h2gS8PpdpHfA",
        "colab": {
          "base_uri": "https://localhost:8080/"
        },
        "outputId": "4ae86d15-f3b4-47e8-b85d-c7b0bfed2ba5"
      },
      "execution_count": null,
      "outputs": [
        {
          "output_type": "stream",
          "name": "stdout",
          "text": [
            "Ada Lovelace\n",
            "ADA LOVELACE\n",
            "ada lovelace\n"
          ]
        }
      ]
    },
    {
      "cell_type": "markdown",
      "source": [
        "### Using Variables in Strings\n",
        "**f-strings** are strings that reference variables in them. The f stands for *format*. Python formats the string by replacing the name of any variable in braces {} with its value.\n",
        "\n",
        "To insert a variable's value into a string, place the letter f immediately before the opening quotation mark 1. Put braces around the name or names of any variable you want to use inside the string. Python will replace each variable with its value when the string is displayed."
      ],
      "metadata": {
        "id": "0r7i1261peft"
      }
    },
    {
      "cell_type": "code",
      "source": [
        "first_name = \"ada\"\n",
        "last_name = \"lovelace\"\n",
        "full_name = f\"{first_name} {last_name}\"\n",
        "\n",
        "print(full_name)\n",
        "\n",
        "# Also changing the case\n",
        "first_name = \"ada\"\n",
        "last_name = \"lovelace\"\n",
        "full_name = f\"{first_name} {last_name}\"\n",
        "\n",
        "print(f\"Hello, {full_name.title()}!\")\n",
        "\n",
        "# Use an f-string to compose a message\n",
        "# and assign the whole message to a variable\n",
        "# and also change the case\n",
        "first_name = \"ada\"\n",
        "last_name = \"lovelace\"\n",
        "full_name = f\"{first_name} {last_name}\"\n",
        "\n",
        "message = f\"Hello, {full_name.title()}!\"\n",
        "print(message)"
      ],
      "metadata": {
        "id": "COsouuR5pzBb",
        "colab": {
          "base_uri": "https://localhost:8080/"
        },
        "outputId": "5ea0f79b-3197-4587-9993-e68e327f2445"
      },
      "execution_count": null,
      "outputs": [
        {
          "output_type": "stream",
          "name": "stdout",
          "text": [
            "ada lovelace\n",
            "Hello, Ada Lovelace!\n",
            "Hello, Ada Lovelace!\n"
          ]
        }
      ]
    },
    {
      "cell_type": "markdown",
      "source": [
        "### Adding Whitespace\n",
        "Whitespace is nonprinting characters. Spaces. Tabs. End-Of-Line symbols.\n",
        "\n",
        "\\t is a special command to insert a TAB\n",
        "\n",
        "\\n is a special command to insert a NEWLINE\n"
      ],
      "metadata": {
        "id": "mF7ub9oUrMvs"
      }
    },
    {
      "cell_type": "code",
      "source": [
        "print(\"Python\")\n",
        "print(\"\\tPython\")\n",
        "\n",
        "print()\n",
        "print(\"Languages: \\nPython\\nC\\nJavaScript\")\n",
        "\n",
        "print()\n",
        "print(\"Languages:\\n\\tPython\\n\\tC\\n\\tJavaScript\")"
      ],
      "metadata": {
        "id": "nEmHbLkwrW5t",
        "colab": {
          "base_uri": "https://localhost:8080/"
        },
        "outputId": "f137a6ea-9abb-41d0-b3df-f35790d8ef70"
      },
      "execution_count": null,
      "outputs": [
        {
          "output_type": "stream",
          "name": "stdout",
          "text": [
            "Python\n",
            "\tPython\n",
            "\n",
            "Languages: \n",
            "Python\n",
            "C\n",
            "JavaScript\n",
            "\n",
            "Languages:\n",
            "\tPython\n",
            "\tC\n",
            "\tJavaScript\n"
          ]
        }
      ]
    },
    {
      "cell_type": "markdown",
      "source": [
        "### Stripping Whitespace\n",
        "Python can look for extra whitespace on the right and left sides of a string and automatically remove it.\n",
        "\n",
        "Strip Right `.rstrip()`\n",
        "\n",
        "Strip Left `.lstrip()`\n",
        "\n",
        "Both Sides `.strip()`"
      ],
      "metadata": {
        "id": "u_rK9IbG2IHC"
      }
    },
    {
      "cell_type": "code",
      "source": [
        "# The string needs to be assigned to a variable\n",
        "\n",
        "# has an extra space at the beginning and end\n",
        "favorite_language = '    python    '\n",
        "print(favorite_language)\n",
        "\n",
        "# remove blank space to the right\n",
        "print(favorite_language.rstrip())\n",
        "\n",
        "\n",
        "# remove blank space to the left\n",
        "print(favorite_language.lstrip())\n",
        "\n",
        "# remove on both sides\n",
        "print(favorite_language.strip())\n",
        "\n",
        "# select the output below to see the whitespace highlighted"
      ],
      "metadata": {
        "id": "3kHgr8Yg2YF-",
        "colab": {
          "base_uri": "https://localhost:8080/"
        },
        "outputId": "516659a8-d129-4d33-ff9a-056b7f8f61b8"
      },
      "execution_count": null,
      "outputs": [
        {
          "output_type": "stream",
          "name": "stdout",
          "text": [
            "    python    \n",
            "    python\n",
            "python    \n",
            "python\n"
          ]
        }
      ]
    },
    {
      "cell_type": "markdown",
      "source": [
        "### Removing Prefixes and Suffixes\n",
        "Remove Prefix `.removeprefix()`\n",
        "\n",
        "Remove Suffix `.removesuffix()`\n",
        "\n",
        "Whatever you wish to remove goes inside the parenthese as a string"
      ],
      "metadata": {
        "id": "JSu8vAc34tXG"
      }
    },
    {
      "cell_type": "code",
      "source": [
        "# Remove the prefix\n",
        "url = \"https://www.thepineschool.org\"\n",
        "\n",
        "print(url.removeprefix('https://'))\n",
        "print(url.removeprefix('https://www.'))\n",
        "\n",
        "print()\n",
        "\n",
        "# Remove the suffix\n",
        "filename = \"python_notes.txt\"\n",
        "codefile = \"python_code.py\"\n",
        "\n",
        "print(filename.removesuffix('.txt'))\n",
        "print(codefile.removesuffix('.py'))"
      ],
      "metadata": {
        "id": "qDxEVS3t4y5I",
        "colab": {
          "base_uri": "https://localhost:8080/"
        },
        "outputId": "21489407-2562-4aed-a6a7-a2a4f74647bc"
      },
      "execution_count": null,
      "outputs": [
        {
          "output_type": "stream",
          "name": "stdout",
          "text": [
            "www.thepineschool.org\n",
            "thepineschool.org\n",
            "\n",
            "python_notes\n",
            "python_code\n"
          ]
        }
      ]
    },
    {
      "cell_type": "markdown",
      "source": [
        "---\n",
        "## **NUMBERS**\n",
        "Python treats numbers in several different ways, depending on how they’re being used. The two most commong are **Integers** and **Floats**."
      ],
      "metadata": {
        "id": "aVCUXxbi5xE6"
      }
    },
    {
      "cell_type": "markdown",
      "source": [
        "###Integers\n",
        "You can add (+), subtract (-), multiply (\\*), and divide (/) integers in Python. (\\*\\*) is exponents"
      ],
      "metadata": {
        "id": "6r9tW0_I68GY"
      }
    },
    {
      "cell_type": "code",
      "source": [
        "# INTEGERS\n",
        "print(2 + 3)\n",
        "print(3 - 2)\n",
        "print(2 * 3)\n",
        "print(3 / 2)\n",
        "print(3 ** 2)\n",
        "print(3 ** 3)\n",
        "print(10 ** 6)\n",
        "\n",
        "print(2 + 3*4)\n",
        "print((2 + 3) * 4)"
      ],
      "metadata": {
        "id": "FPGOUZzA6gSt",
        "colab": {
          "base_uri": "https://localhost:8080/"
        },
        "outputId": "c7e85e83-e098-442b-dcef-465aad3d507a"
      },
      "execution_count": null,
      "outputs": [
        {
          "output_type": "stream",
          "name": "stdout",
          "text": [
            "5\n",
            "1\n",
            "6\n",
            "1.5\n",
            "9\n",
            "27\n",
            "1000000\n",
            "14\n",
            "20\n"
          ]
        }
      ]
    },
    {
      "cell_type": "markdown",
      "source": [
        "### Floats\n",
        "Any number with a decimal point is a *float*."
      ],
      "metadata": {
        "id": "b6IITEf97WfK"
      }
    },
    {
      "cell_type": "code",
      "source": [
        "# FLOATS\n",
        "print(0.1 + 0.1)\n",
        "print(0.2 + 0.2)\n",
        "print(2 * 0.1)\n",
        "print(2 * 0.2)\n",
        "\n",
        "print(0.2 + 0.1)\n",
        "print(3 * 0.1)"
      ],
      "metadata": {
        "id": "gxDjnjyL7HXh",
        "colab": {
          "base_uri": "https://localhost:8080/"
        },
        "outputId": "a865cd6c-b1c3-42fc-b8b6-b83e9b641268"
      },
      "execution_count": null,
      "outputs": [
        {
          "output_type": "stream",
          "name": "stdout",
          "text": [
            "0.2\n",
            "0.4\n",
            "0.2\n",
            "0.4\n",
            "0.30000000000000004\n",
            "0.30000000000000004\n"
          ]
        }
      ]
    },
    {
      "cell_type": "markdown",
      "source": [
        "### Integers and Floats\n",
        "When you divide any two numbers, you will always get a float.\n",
        "\n",
        "If you mix an integer and a float, you will always get a float."
      ],
      "metadata": {
        "id": "x74oHH7a7nfn"
      }
    },
    {
      "cell_type": "code",
      "source": [
        "# INTEGERS AND FLOATS\n",
        "# anytime you divide, your result will be a float\n",
        "# anytime you use a float, your result will be a float\n",
        "print(4 / 2)\n",
        "print(1 + 2.0)\n",
        "print(2 * 3.0)\n",
        "print(3.0 * 2)"
      ],
      "metadata": {
        "id": "vsKbM6cT75S2",
        "colab": {
          "base_uri": "https://localhost:8080/"
        },
        "outputId": "bdb9bca2-89c3-4769-d936-0ea39cdaaca1"
      },
      "execution_count": null,
      "outputs": [
        {
          "output_type": "stream",
          "name": "stdout",
          "text": [
            "2.0\n",
            "3.0\n",
            "6.0\n",
            "6.0\n"
          ]
        }
      ]
    },
    {
      "cell_type": "markdown",
      "source": [
        "### Underscores in Numbers\n",
        "You can group digits using underscores to make large numbers more readable"
      ],
      "metadata": {
        "id": "0C7lmhi87-0u"
      }
    },
    {
      "cell_type": "code",
      "source": [
        "# UNDERSCORES\n",
        "# underscores get ignored in numbers. it only helps for us to read the number\n",
        "universe_age = 14_000_000_000\n",
        "print(universe_age)"
      ],
      "metadata": {
        "id": "9K_MJaYH8Fzu",
        "colab": {
          "base_uri": "https://localhost:8080/"
        },
        "outputId": "3f625d68-184f-4e2a-8882-1bc4a67137d7"
      },
      "execution_count": null,
      "outputs": [
        {
          "output_type": "stream",
          "name": "stdout",
          "text": [
            "14000000000\n"
          ]
        }
      ]
    },
    {
      "cell_type": "markdown",
      "source": [
        "### Multiple Assignment\n",
        "You can assign values to more than one variable using a single line of code"
      ],
      "metadata": {
        "id": "sljLWfF38Iya"
      }
    },
    {
      "cell_type": "code",
      "source": [
        "# MULTIPLE ASSIGNMENT\n",
        "# assign values to multiple variables at once\n",
        "x, y, z = 0, 1, 2\n",
        "print(f\"{x} - {y} - {z}\")"
      ],
      "metadata": {
        "id": "F77vxql18Pnp",
        "colab": {
          "base_uri": "https://localhost:8080/"
        },
        "outputId": "878d1a48-764f-47ca-ada8-1e4e181538fc"
      },
      "execution_count": null,
      "outputs": [
        {
          "output_type": "stream",
          "name": "stdout",
          "text": [
            "0 - 1 - 2\n"
          ]
        }
      ]
    },
    {
      "cell_type": "markdown",
      "source": [
        "### Constants\n",
        "A constant is a variable whose value stays the same throughout the life of a program.\n",
        "\n",
        "When you want to treat a variable as a constant in your code, write the name of the variable in all capital letters."
      ],
      "metadata": {
        "id": "xNKZOkEv8TCC"
      }
    },
    {
      "cell_type": "code",
      "source": [
        "#CONSTANTS are done in ALL CAPS\n",
        "MAX_CONNECTIONS = 5_000\n",
        "\n",
        "print(MAX_CONNECTIONS)"
      ],
      "metadata": {
        "id": "AYouvf4O8TtW",
        "colab": {
          "base_uri": "https://localhost:8080/"
        },
        "outputId": "628ed63a-a5a8-4834-fc28-1d706ba62e46"
      },
      "execution_count": null,
      "outputs": [
        {
          "output_type": "stream",
          "name": "stdout",
          "text": [
            "5000\n"
          ]
        }
      ]
    },
    {
      "cell_type": "markdown",
      "source": [
        "### Difference Between Strings and Integers\n",
        "`my_number = 13`\n",
        "\n",
        "`my_number = \"13\"`\n",
        "\n",
        "The first one is an integer, the second is a string.\n"
      ],
      "metadata": {
        "id": "AeYmVBBN8u3C"
      }
    },
    {
      "cell_type": "markdown",
      "source": [
        "---\n",
        "## **COMMENTS**\n",
        "Comments are an extremely useful feature in most programming languages.\n",
        "\n",
        "As your programs become longer and more complicated, you should add notes within your programs that describe what you are doing.\n",
        "\n",
        "A comment allows you to write notes in your spoken language, within your programs.\n",
        "\n",
        "In Python, the hash mark (#) indicates a comment. Anything following a hash mark in your code is ignored by the Python interpreter."
      ],
      "metadata": {
        "id": "3eHQk4ST9-L8"
      }
    },
    {
      "cell_type": "code",
      "source": [
        "# Say hello to everyone.\n",
        "print(\"Hello Python people!\")"
      ],
      "metadata": {
        "id": "rP7z2lg3-XhK",
        "colab": {
          "base_uri": "https://localhost:8080/"
        },
        "outputId": "386ff4f6-0fae-4497-d713-e64ece76173a"
      },
      "execution_count": null,
      "outputs": [
        {
          "output_type": "stream",
          "name": "stdout",
          "text": [
            "Hello Python people!\n"
          ]
        }
      ]
    },
    {
      "cell_type": "markdown",
      "source": [
        "Python ignores the first line and executes the second line.\n",
        "\n",
        "The main reason to write comments is to explain what your code is supposed to do and how you are making it work. When you are in the middle of working on a project, you understand how all of the pieces fit together. But when you return to a project after some time away, you'll likely have forgotten some of the details."
      ],
      "metadata": {
        "id": "ukyBaEtn-ZqP"
      }
    }
  ]
}