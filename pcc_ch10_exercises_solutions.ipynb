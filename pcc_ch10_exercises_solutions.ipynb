{
 "cells": [
  {
   "cell_type": "markdown",
   "metadata": {
    "id": "EbXSfCYQ85RB"
   },
   "source": [
    "# **Chapter 10 Exercises**"
   ]
  },
  {
   "cell_type": "markdown",
   "metadata": {
    "id": "hKZ34sMI-io5"
   },
   "source": [
    "## **10-1 Learning Python**\n",
    "\n",
    "Open a blank file in your text editor and write a few lines summarizing what you've learned about Python so far. Start each line with the phrase *In Python you can. . . .* Save the file as *learning_python.txt* in the same\n",
    "directory as your exercises from this chapter. Write a program that reads the file and prints what you wrote two times: print the contents once by reading in the entire file, and once by storing the lines in a list and then looping over each line."
   ]
  },
  {
   "cell_type": "code",
   "execution_count": null,
   "metadata": {
    "id": "8HfOiQHU82p7"
   },
   "outputs": [],
   "source": [
    "# 10.1 Exercise\n",
    "from pathlib import Path\n",
    "\n",
    "print(\"--- Reading in the entire file:\")\n",
    "path = Path('learning_python.txt')\n",
    "contents = path.read_text()\n",
    "print(contents)\n",
    "\n",
    "print(\"\\n--- Looping over the lines:\")\n",
    "lines = contents.splitlines()\n",
    "for line in lines:\n",
    "    print(line)"
   ]
  },
  {
   "cell_type": "markdown",
   "metadata": {
    "id": "inxB6tWa-vh2"
   },
   "source": [
    "## **10-2 Learning C**\n",
    "\n",
    "You can use the `replace()` method to replace any word in a string with a different word. Here's a quick example showing how to replace 'dog' with 'cat' in a sentence:\n",
    "```\n",
    "message = \"I really like dogs.\"\n",
    "message.replace('dog', 'cat')\n",
    "```\n",
    "\n",
    "Read in each line from the file you just created, *learning_python.txt*, and replace the word *Python* with the name of another language, such as *C*. Print each modified line to the screen."
   ]
  },
  {
   "cell_type": "code",
   "execution_count": null,
   "metadata": {
    "id": "tcIYHsHj-Ga4"
   },
   "outputs": [],
   "source": [
    "# 10.2 Exercise\n",
    "from pathlib import Path\n",
    "\n",
    "path = Path('learning_python.txt')\n",
    "contents = path.read_text()\n",
    "\n",
    "lines = contents.splitlines()\n",
    "for line in lines:\n",
    "    line = line.replace('Python', 'C')\n",
    "    print(line)"
   ]
  },
  {
   "cell_type": "markdown",
   "metadata": {
    "id": "tbOFj9vq_DI-"
   },
   "source": [
    "## **10-3 Simpler Code**\n",
    "\n",
    "The program *file_reader.py* in this section uses a temporary variable, lines, to show how *splitlines()* works. You can skip the temporary variable and loop directly over the list that *splitlines()* returns:\n",
    "\n",
    "`for line in contents.splitlines():`\n",
    "\n",
    "Remove the temporary variable from each of the programs in this section, to make them more concise."
   ]
  },
  {
   "cell_type": "code",
   "execution_count": null,
   "metadata": {
    "id": "Rw3teboJ-TaQ"
   },
   "outputs": [],
   "source": [
    "# 10.3 Exercise\n",
    "# file reader\n",
    "from pathlib import Path\n",
    "\n",
    "path = Path('pi_digits.txt')\n",
    "contents = path.read_text()\n",
    "\n",
    "for line in contents.splitlines():\n",
    "    print(line)"
   ]
  },
  {
   "cell_type": "code",
   "execution_count": null,
   "metadata": {
    "id": "Hmg29-sF9IHQ"
   },
   "outputs": [],
   "source": [
    "# pi birthday\n",
    "from pathlib import Path\n",
    "\n",
    "path = Path('pi_million_digits.txt')\n",
    "contents = path.read_text()\n",
    "\n",
    "pi_string = ''\n",
    "for line in contents.splitlines():\n",
    "    pi_string += line.lstrip()\n",
    "\n",
    "birthday = input(\"Enter your birthday, in the form mmddyy: \")\n",
    "if birthday in pi_string:\n",
    "    print(\"Your birthday appears in the first million digits of pi!\")\n",
    "else:\n",
    "    print(\"Your birthday does not appear in the first million digits of pi.\")"
   ]
  },
  {
   "cell_type": "code",
   "execution_count": null,
   "metadata": {
    "id": "LQhlQ5Gi9KlR"
   },
   "outputs": [],
   "source": [
    "# pi string\n",
    "from pathlib import Path\n",
    "\n",
    "\n",
    "path = Path('pi_million_digits.txt')\n",
    "contents = path.read_text()\n",
    "\n",
    "pi_string = ''\n",
    "for line in contents.splitlines():\n",
    "    pi_string += line.lstrip()\n",
    "\n",
    "print(f\"{pi_string[:52]}...\")\n",
    "print(len(pi_string))"
   ]
  },
  {
   "cell_type": "markdown",
   "metadata": {
    "id": "AdKSwpyl_arx"
   },
   "source": [
    "---\n",
    "## **10-4 Guest**\n",
    "\n",
    "Write a program that prompts the user for their name. When they respond, write their name to a file called *guest.txt*."
   ]
  },
  {
   "cell_type": "code",
   "execution_count": null,
   "metadata": {
    "id": "0SwgrgoT_WYo"
   },
   "outputs": [],
   "source": [
    "# 10.4 Exercise\n",
    "from pathlib import Path\n",
    "\n",
    "path = Path('guest.txt')\n",
    "\n",
    "name = input(\"What's your name? \")\n",
    "path.write_text(name)"
   ]
  },
  {
   "cell_type": "markdown",
   "metadata": {
    "id": "00XB5uez_2uz"
   },
   "source": [
    "## **10-5 Guest Book**\n",
    "\n",
    "Write a while loop that prompts users for their name. Collect all the names that are entered, and then write these names to a file called\n",
    "*guest_book.txt*. Make sure each entry appears on a new line in the file."
   ]
  },
  {
   "cell_type": "code",
   "execution_count": null,
   "metadata": {
    "id": "4vDJ_F2GARPP"
   },
   "outputs": [],
   "source": [
    "# 10.5 Exercise\n",
    "from pathlib import Path\n",
    "\n",
    "path = Path('guest_book.txt')\n",
    "\n",
    "prompt = \"\\nHi, what's your name? \"\n",
    "prompt += \"\\nEnter 'quit' if you're the last guest. \"\n",
    "\n",
    "guest_names = []\n",
    "while True:\n",
    "    name = input(prompt)\n",
    "    if name == 'quit':\n",
    "        break\n",
    "\n",
    "    print(f\"Thanks {name}, we'll add you to the guest book.\")\n",
    "    guest_names.append(name)\n",
    "\n",
    "# Build a string where \"\\n\" is added after each name.\n",
    "file_string = ''\n",
    "for name in guest_names:\n",
    "    file_string += f\"{name}\\n\"\n",
    "\n",
    "path.write_text(file_string)"
   ]
  },
  {
   "cell_type": "markdown",
   "metadata": {
    "id": "cgeMq8NVAZ8v"
   },
   "source": [
    "---\n",
    "## **10-6 Addition**\n",
    "\n",
    "One common problem when prompting for numerical input occurs when people provide text instead of numbers. When you try to convert the input to an int, you'll get a `ValueError`. Write a program that prompts for two numbers. Add them together and print the result. Catch the `ValueError` if either input value is not a number, and print a friendly error message. Test your program by entering two numbers and then by entering some text instead of a number."
   ]
  },
  {
   "cell_type": "code",
   "execution_count": null,
   "metadata": {
    "id": "e9UNuAgXAaJj"
   },
   "outputs": [],
   "source": [
    "# 10.6 Exercise\n",
    "try:\n",
    "    x = input(\"Give me a number: \")\n",
    "    x = int(x)\n",
    "\n",
    "    y = input(\"Give me another number: \")\n",
    "    y = int(y)\n",
    "except ValueError:\n",
    "    print(\"Sorry, I really needed a number.\")\n",
    "else:\n",
    "    sum = x + y\n",
    "    print(f\"The sum of {x} and {y} is {sum}.\")"
   ]
  },
  {
   "cell_type": "markdown",
   "metadata": {
    "id": "BBhMyoZ1A9i6"
   },
   "source": [
    "## **10-7 Addition Calculator**\n",
    "\n",
    "Wrap your code from Exercise 10-6 in a while loop so the user can continue entering numbers, even if they make a mistake and enter text instead of a number."
   ]
  },
  {
   "cell_type": "code",
   "execution_count": null,
   "metadata": {
    "id": "lC7CKBnxBO6i"
   },
   "outputs": [],
   "source": [
    "# 10.7 Exercise\n",
    "print(\"Enter 'q' at any time to quit.\\n\")\n",
    "\n",
    "while True:\n",
    "    try:\n",
    "        x = input(\"\\nGive me a number: \")\n",
    "        if x == 'q':\n",
    "            break\n",
    "        x = int(x)\n",
    "\n",
    "        y = input(\"Give me another number: \")\n",
    "        if y == 'q':\n",
    "            break\n",
    "        y = int(y)\n",
    "\n",
    "    except ValueError:\n",
    "        print(\"Sorry, I really needed a number.\")\n",
    "\n",
    "    else:\n",
    "        sum = x + y\n",
    "        print(f\"The sum of {x} and {y} is {sum}.\")"
   ]
  },
  {
   "cell_type": "markdown",
   "metadata": {
    "id": "hrG4B6lnB4XX"
   },
   "source": [
    "## **10-8 Cats and Dogs**\n",
    "\n",
    "Make two files, *cats.txt* and *dogs.txt*. Store at least three names of cats in the first file and three names of dogs in the second file. Write a program that tries to read these files and print the contents of the file to the screen. Wrap your code in a `try-except` block to catch the `FileNotFound` error, and print a friendly message if a file is missing. Move one of the files to a different location on your system, and make sure the code in the except block executes properly."
   ]
  },
  {
   "cell_type": "code",
   "execution_count": null,
   "metadata": {
    "id": "IO2j0CX-B5wE"
   },
   "outputs": [],
   "source": [
    "# 10.8 Exercise\n",
    "from pathlib import Path\n",
    "\n",
    "filenames = ['cats.txt', 'dogs.txt']\n",
    "\n",
    "for filename in filenames:\n",
    "    print(f\"\\nReading file: {filename}\")\n",
    "\n",
    "    path = Path(filename)\n",
    "    try:\n",
    "        contents = path.read_text()\n",
    "    except FileNotFoundError:\n",
    "        print(\"  Sorry, I can't find that file.\")\n",
    "    else:\n",
    "        print(contents)"
   ]
  },
  {
   "cell_type": "markdown",
   "metadata": {
    "id": "fJf7B1VTsmTa"
   },
   "source": [
    "## **10-9 Silent Cats and Dogs**\n",
    "\n",
    "Modify your `except` block in Exercise 10-8 to fail silently if either file is missing."
   ]
  },
  {
   "cell_type": "code",
   "execution_count": null,
   "metadata": {
    "id": "cqaXwmAfsq-Q"
   },
   "outputs": [],
   "source": [
    "# 10.9 Exercise\n",
    "from pathlib import Path\n",
    "\n",
    "filenames = ['cats.txt', 'dogs.txt']\n",
    "\n",
    "for filename in filenames:\n",
    "    path = Path(filename)\n",
    "    try:\n",
    "        contents = path.read_text()\n",
    "    except FileNotFoundError:\n",
    "        pass\n",
    "    else:\n",
    "        print(f\"\\nReading file: {filename}\")\n",
    "        print(contents)"
   ]
  },
  {
   "cell_type": "markdown",
   "metadata": {
    "id": "A-r-Zl1HBmXw"
   },
   "source": [
    "## **10-10 Common Words**\n",
    "\n",
    "Visit [Project Gutenberg](https://gutenberg.org) and find a few texts you’d like to analyze. Download the text files for these works, or copy the raw text from your browser into a text file on your computer. You can use the `count()` method to find out how many times a word or phrase appears in a string. For example, the following code counts the number of times 'row' appears in a string:\n",
    "```\n",
    "line = \"Row, row, row your boat\"\n",
    "line.count('row')\n",
    "2\n",
    "line.lower().count('row')\n",
    "3\n",
    "```\n",
    "Notice that converting the string to lowercase using `lower()` catches all appearances of the word you're looking for, regardless of how it's formatted. Write a program that reads the files you found at Project Gutenberg and determines how many times the word 'the' appears in each text. This will be an approximation because it will also count words such as 'then' and 'there'. Try counting 'the ', with a space in the string, and see how much lower your count is."
   ]
  },
  {
   "cell_type": "code",
   "execution_count": null,
   "metadata": {
    "id": "q5qAvZNrwfC8"
   },
   "outputs": [],
   "source": [
    "# 10.10 Exercise\n",
    "from pathlib import Path\n",
    "\n",
    "def count_common_words(filename, word):\n",
    "    \"\"\"Count how many times word appears in the text.\"\"\"\n",
    "    # Note: This is a really simple approximation, and the number returned\n",
    "    #   will be higher than the actual count.\n",
    "    path = Path(filename)\n",
    "    try:\n",
    "        contents = path.read_text()\n",
    "    except FileNotFoundError:\n",
    "        pass\n",
    "    else:\n",
    "        word_count = contents.lower().count(word)\n",
    "        msg = f\"'{word}' appears in {filename} about {word_count} times.\"\n",
    "        print(msg)\n",
    "\n",
    "filename = 'alice.txt'\n",
    "count_common_words(filename, 'the')"
   ]
  },
  {
   "cell_type": "markdown",
   "metadata": {
    "id": "wAN6osLbwawK"
   },
   "source": [
    "---\n",
    "## **10-11 Favorite Number**\n",
    "\n",
    "Write a program that prompts for the user's favorite number. Use `json.dumps()` to store this number in a file. Write a separate program that reads in this value and prints the message *“I know your favorite number! It’s _____.*”"
   ]
  },
  {
   "cell_type": "code",
   "execution_count": null,
   "metadata": {
    "id": "iRBnbQOiwjQH"
   },
   "outputs": [],
   "source": [
    "# 10.11 Exercise\n",
    "# Reader\n",
    "from pathlib import Path\n",
    "import json\n",
    "\n",
    "path = Path('favorite_number.json')\n",
    "contents = path.read_text()\n",
    "number = json.loads(contents)\n",
    "\n",
    "print(f\"I know your favorite number! It's {number}.\")"
   ]
  },
  {
   "cell_type": "code",
   "execution_count": null,
   "metadata": {
    "id": "Gf98R94J-76A"
   },
   "outputs": [],
   "source": [
    "# Writer\n",
    "from pathlib import Path\n",
    "import json\n",
    "\n",
    "number = input(\"What's your favorite number? \")\n",
    "\n",
    "path = Path('favorite_number.json')\n",
    "contents = json.dumps(number)\n",
    "path.write_text(contents)\n",
    "\n",
    "print(\"Thanks! I'll remember that number.\")"
   ]
  },
  {
   "cell_type": "markdown",
   "metadata": {
    "id": "1Q7ihsZBwbVI"
   },
   "source": [
    "## **10-12 Favorite Number Remembered**\n",
    "\n",
    "Combine the two programs you wrote in Exercise 10-11 into one file. If the number is already stored, report the favorite number to the user. If not, prompt for the user's favorite number and store it in a file. Run the program twice to see that it works."
   ]
  },
  {
   "cell_type": "code",
   "execution_count": null,
   "metadata": {
    "id": "onq7ze7SwlEM"
   },
   "outputs": [],
   "source": [
    "# 10.12 Exercise\n",
    "from pathlib import Path\n",
    "import json\n",
    "\n",
    "path = Path('favorite_number.json')\n",
    "try:\n",
    "    contents = path.read_text()\n",
    "except FileNotFoundError:\n",
    "    number = input(\"What's your favorite number? \")\n",
    "    contents = json.dumps(number)\n",
    "    path.write_text(contents)\n",
    "    print(\"Thanks, I'll remember that.\")\n",
    "else:\n",
    "    number = json.loads(contents)\n",
    "    print(f\"I know your favorite number! It's {number}.\")"
   ]
  },
  {
   "cell_type": "markdown",
   "metadata": {
    "id": "kgc3xS47wcBv"
   },
   "source": [
    "## **10-13 User Dictionary**\n",
    "\n",
    "The *remember_me.py* example only stores one piece of information, the username. Expand this example by asking for two more pieces of information about the user, then store all the information you collect in a dictionary. Write this dictionary to a file using json.dumps(), and read it back in using json.loads(). Print a summary showing exactly what your program remembers about the user."
   ]
  },
  {
   "cell_type": "code",
   "execution_count": null,
   "metadata": {
    "id": "yVbgg9Guwled"
   },
   "outputs": [],
   "source": [
    "# 10.13 Exercise\n",
    "from pathlib import Path\n",
    "import json\n",
    "\n",
    "\n",
    "def get_stored_user_info(path):\n",
    "    \"\"\"Get stored user info if available.\"\"\"\n",
    "    if path.exists():\n",
    "        contents = path.read_text()\n",
    "        user_dict = json.loads(contents)\n",
    "        return user_dict\n",
    "    else:\n",
    "        return None\n",
    "\n",
    "def get_new_user_info(path):\n",
    "    \"\"\"Get information from a new user.\"\"\"\n",
    "    username = input(\"What is your name? \")\n",
    "    game = input(\"What's your favorite game? \")\n",
    "    animal = input(\"What's your favorite animal? \")\n",
    "\n",
    "    user_dict = {\n",
    "        'username': username,\n",
    "        'game': game,\n",
    "        'animal': animal,\n",
    "    }\n",
    "\n",
    "    contents = json.dumps(user_dict)\n",
    "    path.write_text(contents)\n",
    "    return user_dict\n",
    "\n",
    "def greet_user():\n",
    "    \"\"\"Greet the user by name, and state what we know about them.\"\"\"\n",
    "    path = Path('user_info.json')\n",
    "    user_dict = get_stored_user_info(path)\n",
    "    if user_dict:\n",
    "        print(f\"Welcome back, {user_dict['username']}!\")\n",
    "        print(f\"Hope you've been playing some {user_dict['game']}. \")\n",
    "        print(f\"Have you seen a {user_dict['animal']} recently?\")\n",
    "    else:\n",
    "        user_dict = get_new_user_info(path)\n",
    "        msg = f\"We'll remember you when you return, {user_dict['username']}!\"\n",
    "        print(msg)\n",
    "\n",
    "greet_user()"
   ]
  },
  {
   "cell_type": "markdown",
   "metadata": {
    "id": "6G_74fyVwcMf"
   },
   "source": [
    "## **10-14 Verify User**\n",
    "\n",
    "The final listing for *remember_me.py* assumes either that the user has already entered their username or that the program is running for the first time. We should modify it in case the current user is not the person who last used the program.\n",
    "\n",
    "Before printing a welcome back message in `greet_user()`, ask the user if this is the correct username. If it's not, call `get_new_username()` to get the correct username."
   ]
  },
  {
   "cell_type": "code",
   "execution_count": null,
   "metadata": {
    "id": "F6tAmBzwwmHI"
   },
   "outputs": [],
   "source": [
    "# 10.14 Exercise\n",
    "from pathlib import Path\n",
    "import json\n",
    "\n",
    "def get_stored_username(path):\n",
    "    \"\"\"Get stored username if available.\"\"\"\n",
    "    if path.exists():\n",
    "        contents = path.read_text()\n",
    "        username = json.loads(contents)\n",
    "        return username\n",
    "    else:\n",
    "        return None\n",
    "\n",
    "def get_new_username(path):\n",
    "    \"\"\"Prompt for a new username.\"\"\"\n",
    "    username = input(\"What is your name? \")\n",
    "    contents = json.dumps(username)\n",
    "    path.write_text(contents)\n",
    "    return username\n",
    "\n",
    "def greet_user():\n",
    "    \"\"\"Greet the user by name.\"\"\"\n",
    "    path = Path('username.json')\n",
    "    username = get_stored_username(path)\n",
    "    if username:\n",
    "        correct = input(f\"Are you {username}? (y/n) \")\n",
    "        if correct == 'y':\n",
    "            print(f\"Welcome back, {username}!\")\n",
    "        else:\n",
    "            username = get_new_username(path)\n",
    "            print(f\"We'll remember you when you come back, {username}!\")\n",
    "    else:\n",
    "        username = get_new_username(path)\n",
    "        print(f\"We'll remember you when you come back, {username}!\")\n",
    "\n",
    "greet_user()"
   ]
  },
  {
   "cell_type": "code",
   "execution_count": null,
   "metadata": {
    "id": "WPwd2teV_YEV"
   },
   "outputs": [],
   "source": [
    "# VERIFY USER CLEAN\n",
    "\n",
    "from pathlib import Path\n",
    "import json\n",
    "\n",
    "def get_stored_username(path):\n",
    "    \"\"\"Get stored username if available.\"\"\"\n",
    "    if path.exists():\n",
    "        contents = path.read_text()\n",
    "        username = json.loads(contents)\n",
    "        return username\n",
    "    else:\n",
    "        return None\n",
    "\n",
    "def get_new_username(path):\n",
    "    \"\"\"Prompt for a new username.\"\"\"\n",
    "    username = input(\"What is your name? \")\n",
    "    contents = json.dumps(username)\n",
    "    path.write_text(contents)\n",
    "    return username\n",
    "\n",
    "def greet_user():\n",
    "    \"\"\"Greet the user by name.\"\"\"\n",
    "    path = Path('username.json')\n",
    "    username = get_stored_username(path)\n",
    "    if username:\n",
    "        correct = input(f\"Are you {username}? (y/n) \")\n",
    "        if correct == 'y':\n",
    "            print(f\"Welcome back, {username}!\")\n",
    "            return\n",
    "\n",
    "    # We got a username, but it's not correct.\n",
    "    #   Prompt for a new username.\n",
    "    username = get_new_username(path)\n",
    "    print(f\"We'll remember you when you come back, {username}!\")\n",
    "\n",
    "greet_user()"
   ]
  }
 ],
 "metadata": {
  "colab": {
   "provenance": []
  },
  "kernelspec": {
   "display_name": "Python 3 (ipykernel)",
   "language": "python",
   "name": "python3"
  },
  "language_info": {
   "codemirror_mode": {
    "name": "ipython",
    "version": 3
   },
   "file_extension": ".py",
   "mimetype": "text/x-python",
   "name": "python",
   "nbconvert_exporter": "python",
   "pygments_lexer": "ipython3",
   "version": "3.10.11"
  }
 },
 "nbformat": 4,
 "nbformat_minor": 4
}
