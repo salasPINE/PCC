{
  "nbformat": 4,
  "nbformat_minor": 0,
  "metadata": {
    "colab": {
      "provenance": [],
      "toc_visible": true,
      "authorship_tag": "ABX9TyP1Ms2H0Mc0xJ2JErMK2NvW"
    },
    "kernelspec": {
      "name": "python3",
      "display_name": "Python 3"
    },
    "language_info": {
      "name": "python"
    }
  },
  "cells": [
    {
      "cell_type": "markdown",
      "source": [
        "# **Chapter 0 Exercises**"
      ],
      "metadata": {
        "id": "EbXSfCYQ85RB"
      }
    },
    {
      "cell_type": "markdown",
      "source": [
        "## **0-1 Exercise**\n",
        "\n",
        "Exercise_description"
      ],
      "metadata": {
        "id": "hKZ34sMI-io5"
      }
    },
    {
      "cell_type": "code",
      "execution_count": null,
      "metadata": {
        "id": "8HfOiQHU82p7"
      },
      "outputs": [],
      "source": [
        "# 0.1 Exercise\n"
      ]
    },
    {
      "cell_type": "markdown",
      "source": [
        "## **0-2 Exercise**\n",
        "\n",
        "Exercise_description"
      ],
      "metadata": {
        "id": "inxB6tWa-vh2"
      }
    },
    {
      "cell_type": "code",
      "source": [
        "# 0.2 Exercise\n"
      ],
      "metadata": {
        "id": "tcIYHsHj-Ga4"
      },
      "execution_count": null,
      "outputs": []
    },
    {
      "cell_type": "markdown",
      "source": [
        "## **0-3 Exercise**\n",
        "\n",
        "Exercise_description"
      ],
      "metadata": {
        "id": "tbOFj9vq_DI-"
      }
    },
    {
      "cell_type": "code",
      "source": [
        "# 0.3 Exercise\n"
      ],
      "metadata": {
        "id": "Rw3teboJ-TaQ"
      },
      "execution_count": null,
      "outputs": []
    },
    {
      "cell_type": "markdown",
      "source": [
        "## **0-4 Exercise**\n",
        "\n",
        "Exercise_description"
      ],
      "metadata": {
        "id": "AdKSwpyl_arx"
      }
    },
    {
      "cell_type": "code",
      "source": [
        "# 0.4 Exercise\n"
      ],
      "metadata": {
        "id": "0SwgrgoT_WYo"
      },
      "execution_count": null,
      "outputs": []
    },
    {
      "cell_type": "markdown",
      "source": [
        "## **0-5 Exercise**\n",
        "\n",
        "Exercise_description"
      ],
      "metadata": {
        "id": "00XB5uez_2uz"
      }
    },
    {
      "cell_type": "code",
      "source": [
        "# 0.5 Exercise\n"
      ],
      "metadata": {
        "id": "4vDJ_F2GARPP"
      },
      "execution_count": null,
      "outputs": []
    },
    {
      "cell_type": "markdown",
      "source": [
        "## **0-6 Exercise**\n",
        "\n",
        "Exercise_description"
      ],
      "metadata": {
        "id": "cgeMq8NVAZ8v"
      }
    },
    {
      "cell_type": "code",
      "source": [
        "# 0.6 Exercise\n"
      ],
      "metadata": {
        "id": "e9UNuAgXAaJj"
      },
      "execution_count": null,
      "outputs": []
    },
    {
      "cell_type": "markdown",
      "source": [
        "## **0-7 Exercise**\n",
        "\n",
        "Exercise_description"
      ],
      "metadata": {
        "id": "BBhMyoZ1A9i6"
      }
    },
    {
      "cell_type": "code",
      "source": [
        "# 0.7 Exercise\n"
      ],
      "metadata": {
        "id": "lC7CKBnxBO6i"
      },
      "execution_count": null,
      "outputs": []
    },
    {
      "cell_type": "markdown",
      "source": [
        "## **0-8 Exercise**\n",
        "\n",
        "Exercise_description"
      ],
      "metadata": {
        "id": "hrG4B6lnB4XX"
      }
    },
    {
      "cell_type": "code",
      "source": [
        "# 0.8 Exercise\n"
      ],
      "metadata": {
        "id": "IO2j0CX-B5wE"
      },
      "execution_count": null,
      "outputs": []
    },
    {
      "cell_type": "markdown",
      "source": [
        "## **0-9 Exercise**\n",
        "\n",
        "Exercise_description"
      ],
      "metadata": {
        "id": "fJf7B1VTsmTa"
      }
    },
    {
      "cell_type": "code",
      "source": [
        "# 0.9 Exercise\n"
      ],
      "metadata": {
        "id": "cqaXwmAfsq-Q"
      },
      "execution_count": null,
      "outputs": []
    },
    {
      "cell_type": "markdown",
      "source": [
        "## **0-10 Exercise**\n",
        "\n",
        "Exercise_description"
      ],
      "metadata": {
        "id": "A-r-Zl1HBmXw"
      }
    },
    {
      "cell_type": "code",
      "source": [
        "# 0.10 Exercise\n"
      ],
      "metadata": {
        "id": "q5qAvZNrwfC8"
      },
      "execution_count": null,
      "outputs": []
    },
    {
      "cell_type": "markdown",
      "source": [
        "## **0-11 Exercise**\n",
        "\n",
        "Exercise_description"
      ],
      "metadata": {
        "id": "wAN6osLbwawK"
      }
    },
    {
      "cell_type": "code",
      "source": [
        "# 0.11 Exercise\n"
      ],
      "metadata": {
        "id": "iRBnbQOiwjQH"
      },
      "execution_count": null,
      "outputs": []
    },
    {
      "cell_type": "markdown",
      "source": [
        "## **0-12 Exercise**\n",
        "\n",
        "Exercise_description"
      ],
      "metadata": {
        "id": "1Q7ihsZBwbVI"
      }
    },
    {
      "cell_type": "code",
      "source": [
        "# 0.12 Exercise\n"
      ],
      "metadata": {
        "id": "onq7ze7SwlEM"
      },
      "execution_count": null,
      "outputs": []
    },
    {
      "cell_type": "markdown",
      "source": [
        "## **0-13 Exercise**\n",
        "\n",
        "Exercise_description"
      ],
      "metadata": {
        "id": "kgc3xS47wcBv"
      }
    },
    {
      "cell_type": "code",
      "source": [
        "# 0.13 Exercise\n"
      ],
      "metadata": {
        "id": "yVbgg9Guwled"
      },
      "execution_count": null,
      "outputs": []
    },
    {
      "cell_type": "markdown",
      "source": [
        "## **0-14 Exercise**\n",
        "\n",
        "Exercise_description"
      ],
      "metadata": {
        "id": "6G_74fyVwcMf"
      }
    },
    {
      "cell_type": "code",
      "source": [
        "# 0.14 Exercise\n"
      ],
      "metadata": {
        "id": "F6tAmBzwwmHI"
      },
      "execution_count": null,
      "outputs": []
    },
    {
      "cell_type": "markdown",
      "source": [
        "## **0-15 Exercise**\n",
        "\n",
        "Exercise_description"
      ],
      "metadata": {
        "id": "ECKoqPs8wcTI"
      }
    },
    {
      "cell_type": "code",
      "source": [
        "# 0.15 Exercise\n",
        "\n"
      ],
      "metadata": {
        "id": "xnJcop5gwmid"
      },
      "execution_count": null,
      "outputs": []
    }
  ]
}