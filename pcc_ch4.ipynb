{
  "cells": [
    {
      "cell_type": "markdown",
      "metadata": {
        "id": "u6F3ZR65yvPc"
      },
      "source": [
        "# **Chapter 4 - Working with Lists**"
      ]
    },
    {
      "cell_type": "markdown",
      "metadata": {
        "id": "zq_ivaIE44Rp"
      },
      "source": [
        "## Looping Through an Entire List"
      ]
    },
    {
      "cell_type": "markdown",
      "metadata": {
        "id": "fqgqFiWztStd"
      },
      "source": [
        "Define a list and then define the loop. For every *magician* in the list of **magicians**, print the name of the *magician*."
      ]
    },
    {
      "cell_type": "code",
      "execution_count": null,
      "metadata": {
        "colab": {
          "base_uri": "https://localhost:8080/"
        },
        "id": "1vD-QVWTxhom",
        "outputId": "f56694a0-aa2f-44c1-f2ff-10f761f868ec"
      },
      "outputs": [
        {
          "name": "stdout",
          "output_type": "stream",
          "text": [
            "alice\n",
            "david\n",
            "carolina\n"
          ]
        }
      ],
      "source": [
        "# magicians.py\n",
        "\n",
        "magicians = ['alice', 'david', 'carolina']\n",
        "for magician in magicians:\n",
        "    print(magician)"
      ]
    },
    {
      "cell_type": "markdown",
      "metadata": {
        "id": "izcv9Vy4tyb4"
      },
      "source": [
        "The first line tells Python to get the first value from the list and assign it to magician. This is '*alice*'. Then it get printed. The loop continues until there are no longer any items in the list. The initial variable is a temporary variable that changes with each loop.\n",
        "\n",
        "Choose a good name for the initial variable:\n",
        "```python\n",
        "for cat in cats:\n",
        "for item in list_of_items:\n",
        "```"
      ]
    },
    {
      "cell_type": "code",
      "execution_count": null,
      "metadata": {
        "colab": {
          "base_uri": "https://localhost:8080/"
        },
        "id": "2t-f_r8NuoEG",
        "outputId": "d2b21d98-f527-4260-e874-2b620a3ab1b2"
      },
      "outputs": [
        {
          "name": "stdout",
          "output_type": "stream",
          "text": [
            "Alice, that was a great trick!\n",
            "David, that was a great trick!\n",
            "Carolina, that was a great trick!\n"
          ]
        }
      ],
      "source": [
        "# magicians.py\n",
        "# print a personalized message to each magician\n",
        "\n",
        "magicians = ['alice', 'david', 'carolina']\n",
        "for magician in magicians:\n",
        "    print(f\"{magician.title()}, that was a great trick!\")"
      ]
    },
    {
      "cell_type": "markdown",
      "metadata": {
        "id": "tj0m8op5vApr"
      },
      "source": [
        "Every indented line following the initial line (for) is considered *inside the loop*, and is executed once for each value in the list."
      ]
    },
    {
      "cell_type": "code",
      "execution_count": null,
      "metadata": {
        "colab": {
          "base_uri": "https://localhost:8080/"
        },
        "id": "r5ipG-rQvO9L",
        "outputId": "161bb525-073b-4b81-9ef2-b1cfe66d3ee7"
      },
      "outputs": [
        {
          "name": "stdout",
          "output_type": "stream",
          "text": [
            "Alice, that was a great trick!\n",
            "I cannot wait to see your next trick, Alice\n",
            "\n",
            "David, that was a great trick!\n",
            "I cannot wait to see your next trick, David\n",
            "\n",
            "Carolina, that was a great trick!\n",
            "I cannot wait to see your next trick, Carolina\n",
            "\n"
          ]
        }
      ],
      "source": [
        "# magicians.py\n",
        "# print multiple lines in the loop\n",
        "\n",
        "magicians = ['alice', 'david', 'carolina']\n",
        "for magician in magicians:\n",
        "    print(f\"{magician.title()}, that was a great trick!\")\n",
        "    print(f\"I cannot wait to see your next trick, {magician.title()}\\n\")"
      ]
    },
    {
      "cell_type": "markdown",
      "metadata": {
        "id": "iaL6PrVP8nEK"
      },
      "source": [
        "Anything after the loop is executed one time without repetition. The last print line is not repeated."
      ]
    },
    {
      "cell_type": "code",
      "execution_count": null,
      "metadata": {
        "colab": {
          "base_uri": "https://localhost:8080/"
        },
        "id": "DPWYuzct8s-A",
        "outputId": "c3c2c063-2e9b-4526-bc69-d4c03157f7e2"
      },
      "outputs": [
        {
          "name": "stdout",
          "output_type": "stream",
          "text": [
            "Alice, that was a great trick!\n",
            "I cannot wait to see your next trick, Alice\n",
            "\n",
            "David, that was a great trick!\n",
            "I cannot wait to see your next trick, David\n",
            "\n",
            "Carolina, that was a great trick!\n",
            "I cannot wait to see your next trick, Carolina\n",
            "\n",
            "Thank you, everyone. That was a great magic show!\n"
          ]
        }
      ],
      "source": [
        "# magicians.py\n",
        "# adding after the loop\n",
        "\n",
        "magicians = ['alice', 'david', 'carolina']\n",
        "for magician in magicians:\n",
        "    print(f\"{magician.title()}, that was a great trick!\")\n",
        "    print(f\"I cannot wait to see your next trick, {magician.title()}\\n\")\n",
        "\n",
        "print(\"Thank you, everyone. That was a great magic show!\")"
      ]
    },
    {
      "cell_type": "markdown",
      "metadata": {
        "id": "u4KwUN36A3yT"
      },
      "source": [
        "---\n",
        "## Avoiding Indentation Errors"
      ]
    },
    {
      "cell_type": "markdown",
      "metadata": {
        "id": "0_6Ru3STA_-X"
      },
      "source": [
        "#### Forgetting to Indent.\n",
        "The print line below should be indented, as it is part of the `for` loop. This is an *indentation error* and will cause an error message."
      ]
    },
    {
      "cell_type": "code",
      "execution_count": null,
      "metadata": {
        "colab": {
          "base_uri": "https://localhost:8080/",
          "height": 106
        },
        "id": "mECPtALSBgyY",
        "outputId": "f0aa5626-6b4b-4261-f12a-2b7a36ff35ae"
      },
      "outputs": [
        {
          "ename": "IndentationError",
          "evalue": "expected an indented block after 'for' statement on line 4 (<ipython-input-19-e31d820a8611>, line 5)",
          "output_type": "error",
          "traceback": [
            "\u001b[0;36m  File \u001b[0;32m\"<ipython-input-19-e31d820a8611>\"\u001b[0;36m, line \u001b[0;32m5\u001b[0m\n\u001b[0;31m    print(magician)\u001b[0m\n\u001b[0m    ^\u001b[0m\n\u001b[0;31mIndentationError\u001b[0m\u001b[0;31m:\u001b[0m expected an indented block after 'for' statement on line 4\n"
          ]
        }
      ],
      "source": [
        "# forgot to indent first item in loop, causes error\n",
        "\n",
        "magicians = ['alice', 'david', 'carolina']\n",
        "for magician in magicians:\n",
        "print(magician)"
      ]
    },
    {
      "cell_type": "markdown",
      "metadata": {
        "id": "mHQsQiGGCaxg"
      },
      "source": [
        "#### Forgetting to Indent Additional Lines\n",
        "The code below will run fine, but the result will not be what we want. The second print statement needs to be indented to be part of the loop.\n",
        "\n",
        "This is called a *logical error*. The syntax and code is valid, but the code does not produce the desired result."
      ]
    },
    {
      "cell_type": "code",
      "execution_count": null,
      "metadata": {
        "colab": {
          "base_uri": "https://localhost:8080/"
        },
        "id": "VZqv44p8Cpy_",
        "outputId": "61a2ab93-5abf-4dc1-d978-00683ee628db"
      },
      "outputs": [
        {
          "name": "stdout",
          "output_type": "stream",
          "text": [
            "Alice, that was a great trick!\n",
            "David, that was a great trick!\n",
            "Carolina, that was a great trick!\n",
            "I can't wait to see your next trick, Carolina. \n",
            "\n"
          ]
        }
      ],
      "source": [
        "# forgot to indent second item in loop, does not cause error\n",
        "\n",
        "magicians = ['alice', 'david', 'carolina']\n",
        "for magician in magicians:\n",
        "    print(f\"{magician.title()}, that was a great trick!\")\n",
        "print(f\"I can't wait to see your next trick, {magician.title()}. \\n\")"
      ]
    },
    {
      "cell_type": "markdown",
      "metadata": {
        "id": "Dq-hoSPIDz1a"
      },
      "source": [
        "#### Indenting Unnecessarily\n",
        "If you indent a line that doesn't need to be indented, Python will give you an error. The `print` message below is not part of a loop and does not need to be indented."
      ]
    },
    {
      "cell_type": "code",
      "execution_count": null,
      "metadata": {
        "colab": {
          "base_uri": "https://localhost:8080/",
          "height": 106
        },
        "id": "tdzd7MvcD89Y",
        "outputId": "08738964-1777-4c86-a472-0cdfce452fa0"
      },
      "outputs": [
        {
          "ename": "IndentationError",
          "evalue": "unexpected indent (<ipython-input-17-e744c47c5d20>, line 2)",
          "output_type": "error",
          "traceback": [
            "\u001b[0;36m  File \u001b[0;32m\"<ipython-input-17-e744c47c5d20>\"\u001b[0;36m, line \u001b[0;32m2\u001b[0m\n\u001b[0;31m    print(message)\u001b[0m\n\u001b[0m    ^\u001b[0m\n\u001b[0;31mIndentationError\u001b[0m\u001b[0;31m:\u001b[0m unexpected indent\n"
          ]
        }
      ],
      "source": [
        "message = \"Hello Python world!\"\n",
        "    print(message)"
      ]
    },
    {
      "cell_type": "markdown",
      "metadata": {
        "id": "TBI1EfHgEO6V"
      },
      "source": [
        "#### Indenting Unnecessarily After the Loop\n",
        "If we indent the last line in our code, it will be repeated each time, which we do not want.This is a *logical error*."
      ]
    },
    {
      "cell_type": "code",
      "execution_count": null,
      "metadata": {
        "colab": {
          "base_uri": "https://localhost:8080/"
        },
        "id": "Qhn16VuEEhpI",
        "outputId": "13b3bea5-acdd-4b9b-938c-12aad45d6ad0"
      },
      "outputs": [
        {
          "name": "stdout",
          "output_type": "stream",
          "text": [
            "Alice, that was a great trick!\n",
            "I cannot wait to see your next trick, Alice\n",
            "\n",
            "Thank you, everyone. That was a great magic show!\n",
            "David, that was a great trick!\n",
            "I cannot wait to see your next trick, David\n",
            "\n",
            "Thank you, everyone. That was a great magic show!\n",
            "Carolina, that was a great trick!\n",
            "I cannot wait to see your next trick, Carolina\n",
            "\n",
            "Thank you, everyone. That was a great magic show!\n"
          ]
        }
      ],
      "source": [
        "# incorrectly indented final print statement\n",
        "# which we only want to happen after the loop\n",
        "\n",
        "magicians = ['alice', 'david', 'carolina']\n",
        "for magician in magicians:\n",
        "    print(f\"{magician.title()}, that was a great trick!\")\n",
        "    print(f\"I cannot wait to see your next trick, {magician.title()}\\n\")\n",
        "\n",
        "    print(\"Thank you, everyone. That was a great magic show!\")"
      ]
    },
    {
      "cell_type": "markdown",
      "metadata": {
        "id": "C2SEODRIFQkY"
      },
      "source": [
        "#### Forgetting the Colon\n",
        "The colon at the end of a `for` statement tells Python to interpret the next line as the start of the loop. If you forget the colon, you will get a syntax error.\n"
      ]
    },
    {
      "cell_type": "code",
      "execution_count": null,
      "metadata": {
        "colab": {
          "base_uri": "https://localhost:8080/",
          "height": 106
        },
        "id": "NHBo545BFerP",
        "outputId": "28eff2b0-9029-4d70-ee3f-89614e14ff10"
      },
      "outputs": [
        {
          "ename": "SyntaxError",
          "evalue": "expected ':' (<ipython-input-21-d0b9700f7a08>, line 4)",
          "output_type": "error",
          "traceback": [
            "\u001b[0;36m  File \u001b[0;32m\"<ipython-input-21-d0b9700f7a08>\"\u001b[0;36m, line \u001b[0;32m4\u001b[0m\n\u001b[0;31m    for magician in magicians\u001b[0m\n\u001b[0m                             ^\u001b[0m\n\u001b[0;31mSyntaxError\u001b[0m\u001b[0;31m:\u001b[0m expected ':'\n"
          ]
        }
      ],
      "source": [
        "# forgetting to colon before a loop\n",
        "\n",
        "magicians = ['alice', 'david', 'carolina']\n",
        "for magician in magicians\n",
        "    print(magician)"
      ]
    },
    {
      "cell_type": "markdown",
      "metadata": {
        "id": "rbA16TawsdId"
      },
      "source": [
        "---\n",
        "## Making Numerical Lists"
      ]
    },
    {
      "cell_type": "markdown",
      "metadata": {
        "id": "e_TQJuG2sdId"
      },
      "source": [
        "#### Using the `range()` Function\n",
        "Use the `range()` function to generate a series of numbers.\n",
        "\n",
        "It starts counting at your first argument and stops when it gets to your final value, but it does not print your final value.\n",
        "\n",
        "If you want to print 1-5, your range must go to 6.\n",
        "\n",
        "If you only pass one argument to `range()`, it will start at 0."
      ]
    },
    {
      "cell_type": "code",
      "execution_count": null,
      "metadata": {
        "id": "paWi_wJLsdId"
      },
      "outputs": [],
      "source": [
        "# first_numbers.py\n",
        "for value in range(1, 5):\n",
        "    print(value)\n",
        "\n",
        "for value in range(10, 15):\n",
        "    print(value)"
      ]
    },
    {
      "cell_type": "code",
      "execution_count": null,
      "metadata": {
        "id": "a3ftmEtqlW8b"
      },
      "outputs": [],
      "source": [
        "for value in range(1, 6):\n",
        "    print(value)"
      ]
    },
    {
      "cell_type": "code",
      "execution_count": null,
      "metadata": {
        "id": "T-uWXLV9lW8b",
        "outputId": "32631eb3-d59d-4397-85a9-f74c3a4c93bb"
      },
      "outputs": [
        {
          "name": "stdout",
          "output_type": "stream",
          "text": [
            "0\n",
            "1\n",
            "2\n",
            "3\n",
            "4\n",
            "5\n"
          ]
        }
      ],
      "source": [
        "for value in range(6):\n",
        "    print(value)"
      ]
    },
    {
      "cell_type": "markdown",
      "metadata": {
        "id": "cGKDDNwJlW8b"
      },
      "source": [
        "#### Using `range()` to Make a List of Numbers\n",
        "Convert the results of a `range()` directly into a list using the `list()` function.\n",
        "\n",
        "We can also use the `range()` function to tell Python to skip numbers in a given range passing a third argument. Python will use that value as a step size when generating numbers."
      ]
    },
    {
      "cell_type": "code",
      "execution_count": null,
      "metadata": {
        "id": "E9bK5ji3lW8c",
        "outputId": "5f751bac-220c-4288-b35c-1bb05c83ab45"
      },
      "outputs": [
        {
          "name": "stdout",
          "output_type": "stream",
          "text": [
            "[1, 2, 3, 4, 5]\n",
            "[2, 4, 6, 8, 10]\n"
          ]
        }
      ],
      "source": [
        "# Convert a range to a list\n",
        "numbers = list(range(1, 6))\n",
        "print(numbers)\n",
        "\n",
        "# Even numbers from 1-10\n",
        "# Start on the number 2\n",
        "even_numbers = list(range(2, 11, 2))\n",
        "print(even_numbers)"
      ]
    },
    {
      "cell_type": "markdown",
      "metadata": {
        "id": "wTMmdn8KlW8c"
      },
      "source": [
        "Two asterisks (**) represents exponents. Print a list of the first 10 square numbers.\n",
        "\n",
        "* Star with an empty list calles *squares*\n",
        "* Loop through each value in the range, 1-10\n",
        "* Each  value is raised to its square (** 2) and assigned to the variable *square*\n",
        "* Append each new value of *square* to the empty list we created\n",
        "* Print the list"
      ]
    },
    {
      "cell_type": "code",
      "execution_count": null,
      "metadata": {
        "id": "5VViXJWXlW8c",
        "outputId": "7e095d06-60e8-4bcc-8716-1978fee6bc54"
      },
      "outputs": [
        {
          "name": "stdout",
          "output_type": "stream",
          "text": [
            "[1, 4, 9, 16, 25, 36, 49, 64, 81, 100]\n"
          ]
        }
      ],
      "source": [
        "# square_numbers.py\n",
        "squares = []\n",
        "for value in range(1, 11):\n",
        "    square = value ** 2\n",
        "    squares.append(square)\n",
        "\n",
        "print(squares)"
      ]
    },
    {
      "cell_type": "code",
      "execution_count": null,
      "metadata": {
        "id": "a1wkk9-glW8c",
        "outputId": "f8f311f6-720f-48b5-b27e-6509ea8816a8"
      },
      "outputs": [
        {
          "name": "stdout",
          "output_type": "stream",
          "text": [
            "[1, 4, 9, 16, 25, 36, 49, 64, 81, 100]\n"
          ]
        }
      ],
      "source": [
        "# omit the temporary variable square\n",
        "# and append directly to the list\n",
        "\n",
        "squares = []\n",
        "for value in range(1, 11):\n",
        "    squares.append(value**2)\n",
        "\n",
        "print(squares)"
      ]
    },
    {
      "cell_type": "markdown",
      "metadata": {
        "id": "Apt3cThslW8c"
      },
      "source": [
        "#### List Comprehensions\n",
        "combines the for loop and the creation of new elements in one line and automatically appends each new element"
      ]
    },
    {
      "cell_type": "code",
      "execution_count": null,
      "metadata": {
        "id": "YbrcUdEDlW8c"
      },
      "outputs": [],
      "source": [
        "squares = [value**2 for value in range(1,11)]\n",
        "print(squares)"
      ]
    },
    {
      "cell_type": "markdown",
      "metadata": {
        "id": "8xQm-ytclW8c"
      },
      "source": [
        "#### Simple Statistics with a List of Numbers\n",
        "minimum, maximum and sum of a list of numbers"
      ]
    },
    {
      "cell_type": "code",
      "execution_count": null,
      "metadata": {
        "id": "bZcG6yTdlW8c",
        "outputId": "fdf4a066-abf9-4e79-bd19-1e6d7e373f2e"
      },
      "outputs": [
        {
          "name": "stdout",
          "output_type": "stream",
          "text": [
            "0\n",
            "9\n",
            "45\n",
            "\n",
            "4.5\n",
            "\n",
            "The Average is 4.5\n"
          ]
        }
      ],
      "source": [
        "digits = [1, 2, 3, 4, 5, 6, 7, 8, 9, 0]\n",
        "print(min(digits))\n",
        "print(max(digits))\n",
        "print(sum(digits))\n",
        "\n",
        "print()\n",
        "# find average by using len() to count number of values\n",
        "# and then divide the sum by that amount\n",
        "print(sum(digits) / len(digits))\n",
        "print()\n",
        "avg = sum(digits) / len(digits)\n",
        "print(f\"The Average is\", round(avg,2))"
      ]
    },
    {
      "cell_type": "markdown",
      "metadata": {
        "id": "b-g8WYWIlW8d"
      },
      "source": [
        "---\n",
        "## Working with Part of a List"
      ]
    },
    {
      "cell_type": "markdown",
      "source": [
        "#### Slicing a List\n",
        "Getting a specific group of items from a list is called a *slice*.\n",
        "\n",
        "To make slice, specify the index of the first and last elements."
      ],
      "metadata": {
        "id": "QwiyKV4km6JT"
      }
    },
    {
      "cell_type": "code",
      "source": [
        "# players.py\n",
        "\n",
        "players = ['charles', 'martina', 'michael', 'florence', 'eli']\n",
        "\n",
        "print(players[0:3])\n",
        "print(players[1:4])\n",
        "\n",
        "# Omit the first index to start at the beginning and your stop position\n",
        "print(players[:4])\n",
        "# or omit the first value to start after a certain index position to the end\n",
        "print(players[2:])\n",
        "\n",
        "# negative values starts at the end\n",
        "# output the last three players\n",
        "print(players[-3:])"
      ],
      "metadata": {
        "id": "DvVh567pnLib",
        "outputId": "5e5781e3-46a4-445f-a0ed-915253b2ebca",
        "colab": {
          "base_uri": "https://localhost:8080/"
        }
      },
      "execution_count": 7,
      "outputs": [
        {
          "output_type": "stream",
          "name": "stdout",
          "text": [
            "['charles', 'martina', 'michael']\n",
            "['martina', 'michael', 'florence']\n",
            "['charles', 'martina', 'michael', 'florence']\n",
            "['michael', 'florence', 'eli']\n",
            "['michael', 'florence', 'eli']\n"
          ]
        }
      ]
    },
    {
      "cell_type": "markdown",
      "source": [
        "**NOTE**: *You can include a third value in the brackets indicating a slice. If a third value is included, this tells Python how many items to skip between items in the specified range*"
      ],
      "metadata": {
        "id": "n0CT7q3coyHM"
      }
    },
    {
      "cell_type": "code",
      "source": [
        "players = ['charles', 'martina', 'michael', 'florence', 'eli']\n",
        "\n",
        "print(players[0:4:2])\n",
        "print(players[0:4:3])\n"
      ],
      "metadata": {
        "id": "-dfG31Ouo_cW",
        "outputId": "00025f8a-00b6-41d7-8a97-d445ae7a80b4",
        "colab": {
          "base_uri": "https://localhost:8080/"
        }
      },
      "execution_count": 11,
      "outputs": [
        {
          "output_type": "stream",
          "name": "stdout",
          "text": [
            "['charles', 'michael']\n",
            "['charles', 'florence']\n"
          ]
        }
      ]
    },
    {
      "cell_type": "markdown",
      "source": [
        "#### Looping Through a Slice\n",
        "You can use a `loop` with a slice to only loop through some elements of a list"
      ],
      "metadata": {
        "id": "8uxxnkv9pYEg"
      }
    },
    {
      "cell_type": "code",
      "source": [
        "players = ['charles', 'martina', 'michael', 'florence', 'eli']\n",
        "\n",
        "print(\"Here are the first three players on my team:\")\n",
        "for player in players[0:3]:\n",
        "    print(player.title())"
      ],
      "metadata": {
        "id": "fu-DuA1eprj-",
        "outputId": "2587f71d-8926-43f0-87e0-c0d83aafcf5c",
        "colab": {
          "base_uri": "https://localhost:8080/"
        }
      },
      "execution_count": 12,
      "outputs": [
        {
          "output_type": "stream",
          "name": "stdout",
          "text": [
            "Here are the first three players on my team:\n",
            "Charles\n",
            "Martina\n",
            "Michael\n"
          ]
        }
      ]
    },
    {
      "cell_type": "markdown",
      "source": [
        "#### Copying a List\n",
        "To copy a list, make a slice that includes the entire original list by omitting the first and second index `([:])`."
      ],
      "metadata": {
        "id": "o4vhSY_QqBt8"
      }
    },
    {
      "cell_type": "code",
      "source": [
        "# foods.py\n",
        "\n",
        "my_foods = ['pizza', 'falafel', 'carrot cake']\n",
        "friends_foods = my_foods[:]\n",
        "\n",
        "print(\"My favorite foods are:\")\n",
        "print(my_foods)\n",
        "\n",
        "print()\n",
        "\n",
        "print(\"My friends favorite foods are:\")\n",
        "print(friends_foods)"
      ],
      "metadata": {
        "id": "9Xi6m3icqUIB",
        "outputId": "640ed264-0ae5-4055-f531-7c5f437212cb",
        "colab": {
          "base_uri": "https://localhost:8080/"
        }
      },
      "execution_count": 13,
      "outputs": [
        {
          "output_type": "stream",
          "name": "stdout",
          "text": [
            "My favorite foods are:\n",
            "['pizza', 'falafel', 'carrot cake']\n",
            "\n",
            "My friends favorite foods are:\n",
            "['pizza', 'falafel', 'carrot cake']\n"
          ]
        }
      ]
    },
    {
      "cell_type": "markdown",
      "source": [
        "We can now add new foods to each list to show they are different."
      ],
      "metadata": {
        "id": "GaBAiP3bri18"
      }
    },
    {
      "cell_type": "code",
      "source": [
        "my_foods = ['pizza', 'falafel', 'carrot cake']\n",
        "friends_foods = my_foods[:]\n",
        "\n",
        "# add the new foods\n",
        "my_foods.append('canoli')\n",
        "friends_foods.append('ice cream')\n",
        "\n",
        "print(\"My favorite foods are:\")\n",
        "print(my_foods)\n",
        "\n",
        "print()\n",
        "\n",
        "print(\"My friends favorite foods are:\")\n",
        "print(friends_foods)"
      ],
      "metadata": {
        "id": "R5TXaeh8r50U",
        "outputId": "6992df69-22ff-43b7-e9ff-0842a7f7fbc9",
        "colab": {
          "base_uri": "https://localhost:8080/"
        }
      },
      "execution_count": 16,
      "outputs": [
        {
          "output_type": "stream",
          "name": "stdout",
          "text": [
            "My favorite foods are:\n",
            "['pizza', 'falafel', 'carrot cake', 'canoli']\n",
            "\n",
            "My friends favorite foods are:\n",
            "['pizza', 'falafel', 'carrot cake', 'ice cream']\n"
          ]
        }
      ]
    },
    {
      "cell_type": "markdown",
      "source": [
        "`my_foods = friends_foods`\n",
        "\n",
        "does not work, as that simply assigns one variable to the other, pointing both variables to the same list\n",
        "\n",
        "adding a new food to one list will add it to the other, and vice versa\n",
        "\n",
        "\n"
      ],
      "metadata": {
        "id": "AiqADSb1ssTT"
      }
    },
    {
      "cell_type": "code",
      "source": [
        "my_foods = ['pizza', 'falafel', 'carrot cake']\n",
        "\n",
        "# this will not work\n",
        "friends_foods = my_foods\n",
        "\n",
        "my_foods.append('canoli')\n",
        "friends_foods.append('ice cream')\n",
        "\n",
        "print(\"My favorite foods are:\")\n",
        "print(my_foods)\n",
        "\n",
        "print()\n",
        "\n",
        "print(\"My friends favorite foods are:\")\n",
        "print(friends_foods)"
      ],
      "metadata": {
        "id": "dNFhXOLvs3kx",
        "outputId": "e626d477-c9bc-4159-c106-d4f6ab6234b7",
        "colab": {
          "base_uri": "https://localhost:8080/"
        }
      },
      "execution_count": 18,
      "outputs": [
        {
          "output_type": "stream",
          "name": "stdout",
          "text": [
            "My favorite foods are:\n",
            "['pizza', 'falafel', 'carrot cake', 'canoli', 'ice cream']\n",
            "\n",
            "My friends favorite foods are:\n",
            "['pizza', 'falafel', 'carrot cake', 'canoli', 'ice cream']\n"
          ]
        }
      ]
    }
  ],
  "metadata": {
    "colab": {
      "provenance": [],
      "toc_visible": true
    },
    "kernelspec": {
      "display_name": "Python 3",
      "name": "python3"
    },
    "language_info": {
      "codemirror_mode": {
        "name": "ipython",
        "version": 3
      },
      "file_extension": ".py",
      "mimetype": "text/x-python",
      "name": "python",
      "nbconvert_exporter": "python",
      "pygments_lexer": "ipython3",
      "version": "3.10.13"
    }
  },
  "nbformat": 4,
  "nbformat_minor": 0
}