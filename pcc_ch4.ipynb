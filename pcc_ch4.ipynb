{
  "cells": [
    {
      "cell_type": "markdown",
      "metadata": {
        "id": "u6F3ZR65yvPc"
      },
      "source": [
        "# **Chapter 4 - Working with Lists**"
      ]
    },
    {
      "cell_type": "markdown",
      "metadata": {
        "id": "zq_ivaIE44Rp"
      },
      "source": [
        "## Looping Through and Entire List"
      ]
    },
    {
      "cell_type": "markdown",
      "metadata": {
        "id": "fqgqFiWztStd"
      },
      "source": [
        "Define a list and then define the loop. For every *magician* in the list of **magicians**, print the name of the *magician*."
      ]
    },
    {
      "cell_type": "code",
      "execution_count": null,
      "metadata": {
        "colab": {
          "base_uri": "https://localhost:8080/"
        },
        "id": "1vD-QVWTxhom",
        "outputId": "f56694a0-aa2f-44c1-f2ff-10f761f868ec"
      },
      "outputs": [
        {
          "name": "stdout",
          "output_type": "stream",
          "text": [
            "alice\n",
            "david\n",
            "carolina\n"
          ]
        }
      ],
      "source": [
        "# magicians.py\n",
        "\n",
        "magicians = ['alice', 'david', 'carolina']\n",
        "for magician in magicians:\n",
        "    print(magician)"
      ]
    },
    {
      "cell_type": "markdown",
      "metadata": {
        "id": "izcv9Vy4tyb4"
      },
      "source": [
        "The first line tells Python to get the first value from the list and assign it to magician. This is '*alice*'. Then it get printed. The loop continues until there are no longer any items in the list. The initial variable is a temporary variable that changes with each loop.\n",
        "\n",
        "Choose a good name for the initial variable:\n",
        "```python\n",
        "for cat in cats:\n",
        "for item in list_of_items:\n",
        "```"
      ]
    },
    {
      "cell_type": "code",
      "execution_count": null,
      "metadata": {
        "colab": {
          "base_uri": "https://localhost:8080/"
        },
        "id": "2t-f_r8NuoEG",
        "outputId": "d2b21d98-f527-4260-e874-2b620a3ab1b2"
      },
      "outputs": [
        {
          "name": "stdout",
          "output_type": "stream",
          "text": [
            "Alice, that was a great trick!\n",
            "David, that was a great trick!\n",
            "Carolina, that was a great trick!\n"
          ]
        }
      ],
      "source": [
        "# magicians.py\n",
        "# print a personalized message to each magician\n",
        "\n",
        "magicians = ['alice', 'david', 'carolina']\n",
        "for magician in magicians:\n",
        "    print(f\"{magician.title()}, that was a great trick!\")"
      ]
    },
    {
      "cell_type": "markdown",
      "metadata": {
        "id": "tj0m8op5vApr"
      },
      "source": [
        "Every indented line following the initial line (for) is considered *inside the loop*, and is executed once for each value in the list."
      ]
    },
    {
      "cell_type": "code",
      "execution_count": null,
      "metadata": {
        "colab": {
          "base_uri": "https://localhost:8080/"
        },
        "id": "r5ipG-rQvO9L",
        "outputId": "161bb525-073b-4b81-9ef2-b1cfe66d3ee7"
      },
      "outputs": [
        {
          "name": "stdout",
          "output_type": "stream",
          "text": [
            "Alice, that was a great trick!\n",
            "I cannot wait to see your next trick, Alice\n",
            "\n",
            "David, that was a great trick!\n",
            "I cannot wait to see your next trick, David\n",
            "\n",
            "Carolina, that was a great trick!\n",
            "I cannot wait to see your next trick, Carolina\n",
            "\n"
          ]
        }
      ],
      "source": [
        "# magicians.py\n",
        "# print multiple lines in the loop\n",
        "\n",
        "magicians = ['alice', 'david', 'carolina']\n",
        "for magician in magicians:\n",
        "    print(f\"{magician.title()}, that was a great trick!\")\n",
        "    print(f\"I cannot wait to see your next trick, {magician.title()}\\n\")"
      ]
    },
    {
      "cell_type": "markdown",
      "metadata": {
        "id": "iaL6PrVP8nEK"
      },
      "source": [
        "Anything after the loop is executed one time without repetition. The last print line is not repeated."
      ]
    },
    {
      "cell_type": "code",
      "execution_count": null,
      "metadata": {
        "colab": {
          "base_uri": "https://localhost:8080/"
        },
        "id": "DPWYuzct8s-A",
        "outputId": "c3c2c063-2e9b-4526-bc69-d4c03157f7e2"
      },
      "outputs": [
        {
          "name": "stdout",
          "output_type": "stream",
          "text": [
            "Alice, that was a great trick!\n",
            "I cannot wait to see your next trick, Alice\n",
            "\n",
            "David, that was a great trick!\n",
            "I cannot wait to see your next trick, David\n",
            "\n",
            "Carolina, that was a great trick!\n",
            "I cannot wait to see your next trick, Carolina\n",
            "\n",
            "Thank you, everyone. That was a great magic show!\n"
          ]
        }
      ],
      "source": [
        "# magicians.py\n",
        "# adding after the loop\n",
        "\n",
        "magicians = ['alice', 'david', 'carolina']\n",
        "for magician in magicians:\n",
        "    print(f\"{magician.title()}, that was a great trick!\")\n",
        "    print(f\"I cannot wait to see your next trick, {magician.title()}\\n\")\n",
        "\n",
        "print(\"Thank you, everyone. That was a great magic show!\")"
      ]
    },
    {
      "cell_type": "markdown",
      "metadata": {
        "id": "u4KwUN36A3yT"
      },
      "source": [
        "---\n",
        "## Avoiding Indentation Errors"
      ]
    },
    {
      "cell_type": "markdown",
      "metadata": {
        "id": "0_6Ru3STA_-X"
      },
      "source": [
        "#### Forgetting to Indent.\n",
        "The print line below should be indented, as it is part of the `for` loop. This is an *indentation error* and will cause an error message."
      ]
    },
    {
      "cell_type": "code",
      "execution_count": null,
      "metadata": {
        "colab": {
          "base_uri": "https://localhost:8080/",
          "height": 106
        },
        "id": "mECPtALSBgyY",
        "outputId": "f0aa5626-6b4b-4261-f12a-2b7a36ff35ae"
      },
      "outputs": [
        {
          "ename": "IndentationError",
          "evalue": "expected an indented block after 'for' statement on line 4 (<ipython-input-19-e31d820a8611>, line 5)",
          "output_type": "error",
          "traceback": [
            "\u001b[0;36m  File \u001b[0;32m\"<ipython-input-19-e31d820a8611>\"\u001b[0;36m, line \u001b[0;32m5\u001b[0m\n\u001b[0;31m    print(magician)\u001b[0m\n\u001b[0m    ^\u001b[0m\n\u001b[0;31mIndentationError\u001b[0m\u001b[0;31m:\u001b[0m expected an indented block after 'for' statement on line 4\n"
          ]
        }
      ],
      "source": [
        "# forgot to indent first item in loop, causes error\n",
        "\n",
        "magicians = ['alice', 'david', 'carolina']\n",
        "for magician in magicians:\n",
        "print(magician)"
      ]
    },
    {
      "cell_type": "markdown",
      "metadata": {
        "id": "mHQsQiGGCaxg"
      },
      "source": [
        "#### Forgetting to Indent Additional Lines\n",
        "The code below will run fine, but the result will not be what we want. The second print statement needs to be indented to be part of the loop.\n",
        "\n",
        "This is called a *logical error*. The syntax and code is valid, but the code does not produce the desired result."
      ]
    },
    {
      "cell_type": "code",
      "execution_count": null,
      "metadata": {
        "colab": {
          "base_uri": "https://localhost:8080/"
        },
        "id": "VZqv44p8Cpy_",
        "outputId": "61a2ab93-5abf-4dc1-d978-00683ee628db"
      },
      "outputs": [
        {
          "name": "stdout",
          "output_type": "stream",
          "text": [
            "Alice, that was a great trick!\n",
            "David, that was a great trick!\n",
            "Carolina, that was a great trick!\n",
            "I can't wait to see your next trick, Carolina. \n",
            "\n"
          ]
        }
      ],
      "source": [
        "# forgot to indent second item in loop, does not cause error\n",
        "\n",
        "magicians = ['alice', 'david', 'carolina']\n",
        "for magician in magicians:\n",
        "    print(f\"{magician.title()}, that was a great trick!\")\n",
        "print(f\"I can't wait to see your next trick, {magician.title()}. \\n\")"
      ]
    },
    {
      "cell_type": "markdown",
      "metadata": {
        "id": "Dq-hoSPIDz1a"
      },
      "source": [
        "#### Indenting Unnecessarily\n",
        "If you indent a line that doesn't need to be indented, Python will give you an error. The `print` message below is not part of a loop and does not need to be indented."
      ]
    },
    {
      "cell_type": "code",
      "execution_count": null,
      "metadata": {
        "colab": {
          "base_uri": "https://localhost:8080/",
          "height": 106
        },
        "id": "tdzd7MvcD89Y",
        "outputId": "08738964-1777-4c86-a472-0cdfce452fa0"
      },
      "outputs": [
        {
          "ename": "IndentationError",
          "evalue": "unexpected indent (<ipython-input-17-e744c47c5d20>, line 2)",
          "output_type": "error",
          "traceback": [
            "\u001b[0;36m  File \u001b[0;32m\"<ipython-input-17-e744c47c5d20>\"\u001b[0;36m, line \u001b[0;32m2\u001b[0m\n\u001b[0;31m    print(message)\u001b[0m\n\u001b[0m    ^\u001b[0m\n\u001b[0;31mIndentationError\u001b[0m\u001b[0;31m:\u001b[0m unexpected indent\n"
          ]
        }
      ],
      "source": [
        "message = \"Hello Python world!\"\n",
        "    print(message)"
      ]
    },
    {
      "cell_type": "markdown",
      "metadata": {
        "id": "TBI1EfHgEO6V"
      },
      "source": [
        "#### Indenting Unnecessarily After the Loop\n",
        "If we indent the last line in our code, it will be repeated each time, which we do not want.This is a *logical error*."
      ]
    },
    {
      "cell_type": "code",
      "execution_count": null,
      "metadata": {
        "colab": {
          "base_uri": "https://localhost:8080/"
        },
        "id": "Qhn16VuEEhpI",
        "outputId": "13b3bea5-acdd-4b9b-938c-12aad45d6ad0"
      },
      "outputs": [
        {
          "name": "stdout",
          "output_type": "stream",
          "text": [
            "Alice, that was a great trick!\n",
            "I cannot wait to see your next trick, Alice\n",
            "\n",
            "Thank you, everyone. That was a great magic show!\n",
            "David, that was a great trick!\n",
            "I cannot wait to see your next trick, David\n",
            "\n",
            "Thank you, everyone. That was a great magic show!\n",
            "Carolina, that was a great trick!\n",
            "I cannot wait to see your next trick, Carolina\n",
            "\n",
            "Thank you, everyone. That was a great magic show!\n"
          ]
        }
      ],
      "source": [
        "# incorrectly indented final print statement\n",
        "# which we only want to happen after the loop\n",
        "\n",
        "magicians = ['alice', 'david', 'carolina']\n",
        "for magician in magicians:\n",
        "    print(f\"{magician.title()}, that was a great trick!\")\n",
        "    print(f\"I cannot wait to see your next trick, {magician.title()}\\n\")\n",
        "\n",
        "    print(\"Thank you, everyone. That was a great magic show!\")"
      ]
    },
    {
      "cell_type": "markdown",
      "metadata": {
        "id": "C2SEODRIFQkY"
      },
      "source": [
        "#### Forgetting the Colon\n",
        "The colon at the end of a `for` statement tells Python to interpret the next line as the start of the loop. If you forget the colon, you will get a syntax error.\n"
      ]
    },
    {
      "cell_type": "code",
      "execution_count": null,
      "metadata": {
        "colab": {
          "base_uri": "https://localhost:8080/",
          "height": 106
        },
        "id": "NHBo545BFerP",
        "outputId": "28eff2b0-9029-4d70-ee3f-89614e14ff10"
      },
      "outputs": [
        {
          "ename": "SyntaxError",
          "evalue": "expected ':' (<ipython-input-21-d0b9700f7a08>, line 4)",
          "output_type": "error",
          "traceback": [
            "\u001b[0;36m  File \u001b[0;32m\"<ipython-input-21-d0b9700f7a08>\"\u001b[0;36m, line \u001b[0;32m4\u001b[0m\n\u001b[0;31m    for magician in magicians\u001b[0m\n\u001b[0m                             ^\u001b[0m\n\u001b[0;31mSyntaxError\u001b[0m\u001b[0;31m:\u001b[0m expected ':'\n"
          ]
        }
      ],
      "source": [
        "# forgetting to colon before a loop\n",
        "\n",
        "magicians = ['alice', 'david', 'carolina']\n",
        "for magician in magicians\n",
        "    print(magician)"
      ]
    },
    {
      "cell_type": "markdown",
      "metadata": {},
      "source": [
        "---\n",
        "## Making Numerical Lists"
      ]
    },
    {
      "cell_type": "markdown",
      "metadata": {},
      "source": [
        "#### Using the `range()` Function\n",
        "Use the `range()` function to generate a series of numbers.\n",
        "\n",
        "It starts counting and stops when it gets to your final value. Therefore, it will only print 1-4."
      ]
    },
    {
      "cell_type": "code",
      "execution_count": 4,
      "metadata": {},
      "outputs": [
        {
          "name": "stdout",
          "output_type": "stream",
          "text": [
            "1\n",
            "2\n",
            "3\n",
            "4\n",
            "\n",
            "1\n",
            "2\n",
            "3\n",
            "4\n",
            "5\n"
          ]
        }
      ],
      "source": [
        "# first_numbers.py\n",
        "for value in range(1, 5):\n",
        "    print(value)\n",
        "\n",
        "print()\n",
        "\n",
        "for value in range(1, 6):\n",
        "    print(value)"
      ]
    }
  ],
  "metadata": {
    "colab": {
      "authorship_tag": "ABX9TyM0UgbmGPcNigv//gHIb3rp",
      "provenance": [],
      "toc_visible": true
    },
    "kernelspec": {
      "display_name": "Python 3",
      "name": "python3"
    },
    "language_info": {
      "codemirror_mode": {
        "name": "ipython",
        "version": 3
      },
      "file_extension": ".py",
      "mimetype": "text/x-python",
      "name": "python",
      "nbconvert_exporter": "python",
      "pygments_lexer": "ipython3",
      "version": "3.10.13"
    }
  },
  "nbformat": 4,
  "nbformat_minor": 0
}
