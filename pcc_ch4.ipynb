{
  "cells": [
    {
      "cell_type": "markdown",
      "metadata": {
        "id": "u6F3ZR65yvPc"
      },
      "source": [
        "# **Chapter 4 - Working with Lists**"
      ]
    },
    {
      "cell_type": "markdown",
      "metadata": {
        "id": "zq_ivaIE44Rp"
      },
      "source": [
        "## LOOPING THROUGH AN ENTIRE LIST"
      ]
    },
    {
      "cell_type": "markdown",
      "metadata": {
        "id": "fqgqFiWztStd"
      },
      "source": [
        "Define a list and then define the loop. For every *magician* in the list of **magicians**, print the name of the *magician*."
      ]
    },
    {
      "cell_type": "code",
      "execution_count": null,
      "metadata": {
        "colab": {
          "base_uri": "https://localhost:8080/"
        },
        "id": "1vD-QVWTxhom",
        "outputId": "60232acf-72aa-4ece-f8d2-68b65cb42a07"
      },
      "outputs": [
        {
          "output_type": "stream",
          "name": "stdout",
          "text": [
            "alice\n",
            "david\n",
            "carolina\n"
          ]
        }
      ],
      "source": [
        "# magicians.py\n",
        "\n",
        "magicians = ['alice', 'david', 'carolina']\n",
        "for magician in magicians:\n",
        "    print(magician)"
      ]
    },
    {
      "cell_type": "markdown",
      "metadata": {
        "id": "izcv9Vy4tyb4"
      },
      "source": [
        "The first line tells Python to get the first value from the list and assign it to magician. This is '*alice*'. Then it get printed. The loop continues until there are no longer any items in the list. The initial variable is a temporary variable that changes with each loop.\n",
        "\n",
        "Choose a good name for the initial variable:\n",
        "```python\n",
        "for cat in cats:\n",
        "for item in list_of_items:\n",
        "```"
      ]
    },
    {
      "cell_type": "code",
      "execution_count": null,
      "metadata": {
        "colab": {
          "base_uri": "https://localhost:8080/"
        },
        "id": "2t-f_r8NuoEG",
        "outputId": "24d3d095-acab-49f6-e0a9-6fed5c4c43fb"
      },
      "outputs": [
        {
          "output_type": "stream",
          "name": "stdout",
          "text": [
            "Alice, that was a great trick!\n",
            "David, that was a great trick!\n",
            "Carolina, that was a great trick!\n"
          ]
        }
      ],
      "source": [
        "# magicians.py\n",
        "# print a personalized message to each magician\n",
        "\n",
        "magicians = ['alice', 'david', 'carolina']\n",
        "for magician in magicians:\n",
        "    print(f\"{magician.title()}, that was a great trick!\")"
      ]
    },
    {
      "cell_type": "markdown",
      "metadata": {
        "id": "tj0m8op5vApr"
      },
      "source": [
        "Every indented line following the initial line (for) is considered *inside the loop*, and is executed once for each value in the list."
      ]
    },
    {
      "cell_type": "code",
      "execution_count": null,
      "metadata": {
        "colab": {
          "base_uri": "https://localhost:8080/"
        },
        "id": "r5ipG-rQvO9L",
        "outputId": "ea8d55ab-d062-4f2f-cf2f-f6611e5d6d12"
      },
      "outputs": [
        {
          "output_type": "stream",
          "name": "stdout",
          "text": [
            "Alice, that was a great trick!\n",
            "I cannot wait to see your next trick, Alice\n",
            "\n",
            "David, that was a great trick!\n",
            "I cannot wait to see your next trick, David\n",
            "\n",
            "Carolina, that was a great trick!\n",
            "I cannot wait to see your next trick, Carolina\n",
            "\n"
          ]
        }
      ],
      "source": [
        "# magicians.py\n",
        "# print multiple lines in the loop\n",
        "\n",
        "magicians = ['alice', 'david', 'carolina']\n",
        "for magician in magicians:\n",
        "    print(f\"{magician.title()}, that was a great trick!\")\n",
        "    print(f\"I cannot wait to see your next trick, {magician.title()}\\n\")"
      ]
    },
    {
      "cell_type": "markdown",
      "metadata": {
        "id": "iaL6PrVP8nEK"
      },
      "source": [
        "Anything after the loop is executed one time without repetition. The last print line is not repeated."
      ]
    },
    {
      "cell_type": "code",
      "execution_count": null,
      "metadata": {
        "colab": {
          "base_uri": "https://localhost:8080/"
        },
        "id": "DPWYuzct8s-A",
        "outputId": "f03b8dfd-2f92-470c-aa1f-1af1653496dc"
      },
      "outputs": [
        {
          "output_type": "stream",
          "name": "stdout",
          "text": [
            "Alice, that was a great trick!\n",
            "I cannot wait to see your next trick, Alice\n",
            "\n",
            "David, that was a great trick!\n",
            "I cannot wait to see your next trick, David\n",
            "\n",
            "Carolina, that was a great trick!\n",
            "I cannot wait to see your next trick, Carolina\n",
            "\n",
            "Thank you, everyone. That was a great magic show!\n"
          ]
        }
      ],
      "source": [
        "# magicians.py\n",
        "# adding after the loop\n",
        "\n",
        "magicians = ['alice', 'david', 'carolina']\n",
        "for magician in magicians:\n",
        "    print(f\"{magician.title()}, that was a great trick!\")\n",
        "    print(f\"I cannot wait to see your next trick, {magician.title()}\\n\")\n",
        "\n",
        "print(\"Thank you, everyone. That was a great magic show!\")"
      ]
    },
    {
      "cell_type": "markdown",
      "metadata": {
        "id": "u4KwUN36A3yT"
      },
      "source": [
        "---\n",
        "## AVOIDING INDENTATION ERRORS"
      ]
    },
    {
      "cell_type": "markdown",
      "metadata": {
        "id": "0_6Ru3STA_-X"
      },
      "source": [
        "### Forgetting to Indent.\n",
        "The print line below should be indented, as it is part of the `for` loop. This is an *indentation error* and will cause an error message."
      ]
    },
    {
      "cell_type": "code",
      "execution_count": null,
      "metadata": {
        "colab": {
          "base_uri": "https://localhost:8080/",
          "height": 106
        },
        "id": "mECPtALSBgyY",
        "outputId": "ba87f798-2271-43ae-b945-a2da2a109600"
      },
      "outputs": [
        {
          "output_type": "error",
          "ename": "IndentationError",
          "evalue": "expected an indented block after 'for' statement on line 4 (<ipython-input-5-e31d820a8611>, line 5)",
          "traceback": [
            "\u001b[0;36m  File \u001b[0;32m\"<ipython-input-5-e31d820a8611>\"\u001b[0;36m, line \u001b[0;32m5\u001b[0m\n\u001b[0;31m    print(magician)\u001b[0m\n\u001b[0m    ^\u001b[0m\n\u001b[0;31mIndentationError\u001b[0m\u001b[0;31m:\u001b[0m expected an indented block after 'for' statement on line 4\n"
          ]
        }
      ],
      "source": [
        "# forgot to indent first item in loop, causes error\n",
        "\n",
        "magicians = ['alice', 'david', 'carolina']\n",
        "for magician in magicians:\n",
        "print(magician)"
      ]
    },
    {
      "cell_type": "markdown",
      "metadata": {
        "id": "mHQsQiGGCaxg"
      },
      "source": [
        "### Forgetting to Indent Additional Lines\n",
        "The code below will run fine, but the result will not be what we want. The second print statement needs to be indented to be part of the loop.\n",
        "\n",
        "This is called a *logical error*. The syntax and code is valid, but the code does not produce the desired result."
      ]
    },
    {
      "cell_type": "code",
      "execution_count": null,
      "metadata": {
        "colab": {
          "base_uri": "https://localhost:8080/"
        },
        "id": "VZqv44p8Cpy_",
        "outputId": "f61ee5a9-c8f0-4541-f00c-b22b674f7555"
      },
      "outputs": [
        {
          "output_type": "stream",
          "name": "stdout",
          "text": [
            "Alice, that was a great trick!\n",
            "David, that was a great trick!\n",
            "Carolina, that was a great trick!\n",
            "I can't wait to see your next trick, Carolina. \n",
            "\n"
          ]
        }
      ],
      "source": [
        "# forgot to indent second item in loop, does not cause error\n",
        "\n",
        "magicians = ['alice', 'david', 'carolina']\n",
        "for magician in magicians:\n",
        "    print(f\"{magician.title()}, that was a great trick!\")\n",
        "print(f\"I can't wait to see your next trick, {magician.title()}. \\n\")"
      ]
    },
    {
      "cell_type": "markdown",
      "metadata": {
        "id": "Dq-hoSPIDz1a"
      },
      "source": [
        "### Indenting Unnecessarily\n",
        "If you indent a line that doesn't need to be indented, Python will give you an error. The `print` message below is not part of a loop and does not need to be indented."
      ]
    },
    {
      "cell_type": "code",
      "execution_count": null,
      "metadata": {
        "colab": {
          "base_uri": "https://localhost:8080/",
          "height": 106
        },
        "id": "tdzd7MvcD89Y",
        "outputId": "0f9bf4e5-1faa-4317-ec25-4168044d1153"
      },
      "outputs": [
        {
          "output_type": "error",
          "ename": "IndentationError",
          "evalue": "unexpected indent (<ipython-input-7-e744c47c5d20>, line 2)",
          "traceback": [
            "\u001b[0;36m  File \u001b[0;32m\"<ipython-input-7-e744c47c5d20>\"\u001b[0;36m, line \u001b[0;32m2\u001b[0m\n\u001b[0;31m    print(message)\u001b[0m\n\u001b[0m    ^\u001b[0m\n\u001b[0;31mIndentationError\u001b[0m\u001b[0;31m:\u001b[0m unexpected indent\n"
          ]
        }
      ],
      "source": [
        "message = \"Hello Python world!\"\n",
        "    print(message)"
      ]
    },
    {
      "cell_type": "markdown",
      "metadata": {
        "id": "TBI1EfHgEO6V"
      },
      "source": [
        "### Indenting Unnecessarily After the Loop\n",
        "If we indent the last line in our code, it will be repeated each time, which we do not want.This is a *logical error*."
      ]
    },
    {
      "cell_type": "code",
      "execution_count": null,
      "metadata": {
        "colab": {
          "base_uri": "https://localhost:8080/"
        },
        "id": "Qhn16VuEEhpI",
        "outputId": "064f675c-0644-41d7-e7bb-d6382dd30afc"
      },
      "outputs": [
        {
          "output_type": "stream",
          "name": "stdout",
          "text": [
            "Alice, that was a great trick!\n",
            "I cannot wait to see your next trick, Alice\n",
            "\n",
            "Thank you, everyone. That was a great magic show!\n",
            "David, that was a great trick!\n",
            "I cannot wait to see your next trick, David\n",
            "\n",
            "Thank you, everyone. That was a great magic show!\n",
            "Carolina, that was a great trick!\n",
            "I cannot wait to see your next trick, Carolina\n",
            "\n",
            "Thank you, everyone. That was a great magic show!\n"
          ]
        }
      ],
      "source": [
        "# incorrectly indented final print statement\n",
        "# which we only want to happen after the loop\n",
        "\n",
        "magicians = ['alice', 'david', 'carolina']\n",
        "for magician in magicians:\n",
        "    print(f\"{magician.title()}, that was a great trick!\")\n",
        "    print(f\"I cannot wait to see your next trick, {magician.title()}\\n\")\n",
        "\n",
        "    print(\"Thank you, everyone. That was a great magic show!\")"
      ]
    },
    {
      "cell_type": "markdown",
      "metadata": {
        "id": "C2SEODRIFQkY"
      },
      "source": [
        "### Forgetting the Colon\n",
        "The colon at the end of a `for` statement tells Python to interpret the next line as the start of the loop. If you forget the colon, you will get a syntax error.\n"
      ]
    },
    {
      "cell_type": "code",
      "execution_count": null,
      "metadata": {
        "colab": {
          "base_uri": "https://localhost:8080/",
          "height": 106
        },
        "id": "NHBo545BFerP",
        "outputId": "2b58bd88-2979-4f3d-ce83-47e6450bceb8"
      },
      "outputs": [
        {
          "output_type": "error",
          "ename": "SyntaxError",
          "evalue": "expected ':' (<ipython-input-9-d0b9700f7a08>, line 4)",
          "traceback": [
            "\u001b[0;36m  File \u001b[0;32m\"<ipython-input-9-d0b9700f7a08>\"\u001b[0;36m, line \u001b[0;32m4\u001b[0m\n\u001b[0;31m    for magician in magicians\u001b[0m\n\u001b[0m                             ^\u001b[0m\n\u001b[0;31mSyntaxError\u001b[0m\u001b[0;31m:\u001b[0m expected ':'\n"
          ]
        }
      ],
      "source": [
        "# forgetting to colon before a loop\n",
        "\n",
        "magicians = ['alice', 'david', 'carolina']\n",
        "for magician in magicians\n",
        "    print(magician)"
      ]
    },
    {
      "cell_type": "markdown",
      "metadata": {
        "id": "rbA16TawsdId"
      },
      "source": [
        "---\n",
        "## MAKING NUMBERICAL LISTS"
      ]
    },
    {
      "cell_type": "markdown",
      "metadata": {
        "id": "e_TQJuG2sdId"
      },
      "source": [
        "### Using the `range()` Function\n",
        "Use the `range()` function to generate a series of numbers.\n",
        "\n",
        "It starts counting at your first argument and stops when it gets to your final value, but it does not print your final value.\n",
        "\n",
        "If you want to print 1-5, your range must go to 6.\n",
        "\n",
        "If you only pass one argument to `range()`, it will start at 0."
      ]
    },
    {
      "cell_type": "code",
      "execution_count": null,
      "metadata": {
        "colab": {
          "base_uri": "https://localhost:8080/"
        },
        "id": "paWi_wJLsdId",
        "outputId": "0373f19f-2dd9-4115-f618-8c645221fc50"
      },
      "outputs": [
        {
          "output_type": "stream",
          "name": "stdout",
          "text": [
            "1\n",
            "2\n",
            "3\n",
            "4\n",
            "10\n",
            "11\n",
            "12\n",
            "13\n",
            "14\n"
          ]
        }
      ],
      "source": [
        "# first_numbers.py\n",
        "for value in range(1, 5):\n",
        "    print(value)\n",
        "\n",
        "for value in range(10, 15):\n",
        "    print(value)"
      ]
    },
    {
      "cell_type": "code",
      "execution_count": null,
      "metadata": {
        "colab": {
          "base_uri": "https://localhost:8080/"
        },
        "id": "a3ftmEtqlW8b",
        "outputId": "717835e1-c05c-438d-e2c9-74373675867f"
      },
      "outputs": [
        {
          "output_type": "stream",
          "name": "stdout",
          "text": [
            "1\n",
            "2\n",
            "3\n",
            "4\n",
            "5\n"
          ]
        }
      ],
      "source": [
        "for value in range(1, 6):\n",
        "    print(value)"
      ]
    },
    {
      "cell_type": "code",
      "execution_count": null,
      "metadata": {
        "colab": {
          "base_uri": "https://localhost:8080/"
        },
        "id": "T-uWXLV9lW8b",
        "outputId": "03c3ea9d-0149-4122-a6bd-4029464ab549"
      },
      "outputs": [
        {
          "output_type": "stream",
          "name": "stdout",
          "text": [
            "0\n",
            "1\n",
            "2\n",
            "3\n",
            "4\n",
            "5\n"
          ]
        }
      ],
      "source": [
        "for value in range(6):\n",
        "    print(value)"
      ]
    },
    {
      "cell_type": "markdown",
      "metadata": {
        "id": "cGKDDNwJlW8b"
      },
      "source": [
        "### Using `range()` to Make a List of Numbers\n",
        "Convert the results of a `range()` directly into a list using the `list()` function.\n",
        "\n",
        "We can also use the `range()` function to tell Python to skip numbers in a given range passing a third argument. Python will use that value as a step size when generating numbers."
      ]
    },
    {
      "cell_type": "code",
      "execution_count": null,
      "metadata": {
        "colab": {
          "base_uri": "https://localhost:8080/"
        },
        "id": "E9bK5ji3lW8c",
        "outputId": "0d2c9a7d-4f1d-43c8-b50c-f619b0c4cda9"
      },
      "outputs": [
        {
          "output_type": "stream",
          "name": "stdout",
          "text": [
            "[1, 2, 3, 4, 5]\n",
            "[2, 4, 6, 8, 10]\n"
          ]
        }
      ],
      "source": [
        "# Convert a range to a list\n",
        "numbers = list(range(1, 6))\n",
        "print(numbers)\n",
        "\n",
        "# Even numbers from 1-10\n",
        "# Start on the number 2\n",
        "even_numbers = list(range(2, 11, 2))\n",
        "print(even_numbers)"
      ]
    },
    {
      "cell_type": "markdown",
      "metadata": {
        "id": "wTMmdn8KlW8c"
      },
      "source": [
        "Two asterisks (**) represents exponents. Print a list of the first 10 square numbers.\n",
        "\n",
        "* Star with an empty list calles *squares*\n",
        "* Loop through each value in the range, 1-10\n",
        "* Each  value is raised to its square (** 2) and assigned to the variable *square*\n",
        "* Append each new value of *square* to the empty list we created\n",
        "* Print the list"
      ]
    },
    {
      "cell_type": "code",
      "execution_count": null,
      "metadata": {
        "colab": {
          "base_uri": "https://localhost:8080/"
        },
        "id": "5VViXJWXlW8c",
        "outputId": "d75ca78c-3323-48fd-d670-05221e49089f"
      },
      "outputs": [
        {
          "output_type": "stream",
          "name": "stdout",
          "text": [
            "[1, 4, 9, 16, 25, 36, 49, 64, 81, 100]\n"
          ]
        }
      ],
      "source": [
        "# square_numbers.py\n",
        "squares = []\n",
        "for value in range(1, 11):\n",
        "    square = value ** 2\n",
        "    squares.append(square)\n",
        "\n",
        "print(squares)"
      ]
    },
    {
      "cell_type": "code",
      "execution_count": null,
      "metadata": {
        "colab": {
          "base_uri": "https://localhost:8080/"
        },
        "id": "a1wkk9-glW8c",
        "outputId": "98865028-e2d2-4e29-ff6d-e0e90c4f998c"
      },
      "outputs": [
        {
          "output_type": "stream",
          "name": "stdout",
          "text": [
            "[1, 4, 9, 16, 25, 36, 49, 64, 81, 100]\n"
          ]
        }
      ],
      "source": [
        "# omit the temporary variable square\n",
        "# and append directly to the list\n",
        "\n",
        "squares = []\n",
        "for value in range(1, 11):\n",
        "    squares.append(value**2)\n",
        "\n",
        "print(squares)"
      ]
    },
    {
      "cell_type": "markdown",
      "metadata": {
        "id": "Apt3cThslW8c"
      },
      "source": [
        "### List Comprehensions\n",
        "combines the for loop and the creation of new elements in one line and automatically appends each new element"
      ]
    },
    {
      "cell_type": "code",
      "execution_count": null,
      "metadata": {
        "colab": {
          "base_uri": "https://localhost:8080/"
        },
        "id": "YbrcUdEDlW8c",
        "outputId": "b663ae0f-ac98-4a8b-f029-c277d151e34b"
      },
      "outputs": [
        {
          "output_type": "stream",
          "name": "stdout",
          "text": [
            "[1, 4, 9, 16, 25, 36, 49, 64, 81, 100]\n"
          ]
        }
      ],
      "source": [
        "squares = [value**2 for value in range(1,11)]\n",
        "print(squares)"
      ]
    },
    {
      "cell_type": "markdown",
      "metadata": {
        "id": "8xQm-ytclW8c"
      },
      "source": [
        "### Simple Statistics with a List of Numbers\n",
        "minimum, maximum and sum of a list of numbers"
      ]
    },
    {
      "cell_type": "code",
      "execution_count": null,
      "metadata": {
        "colab": {
          "base_uri": "https://localhost:8080/"
        },
        "id": "bZcG6yTdlW8c",
        "outputId": "03cb3e2d-5689-4949-9bd1-36282b56bddf"
      },
      "outputs": [
        {
          "output_type": "stream",
          "name": "stdout",
          "text": [
            "0\n",
            "9\n",
            "45\n",
            "\n",
            "4.5\n",
            "\n",
            "The Average is 4.5\n"
          ]
        }
      ],
      "source": [
        "digits = [1, 2, 3, 4, 5, 6, 7, 8, 9, 0]\n",
        "print(min(digits))\n",
        "print(max(digits))\n",
        "print(sum(digits))\n",
        "\n",
        "print()\n",
        "# find average by using len() to count number of values\n",
        "# and then divide the sum by that amount\n",
        "print(sum(digits) / len(digits))\n",
        "print()\n",
        "avg = sum(digits) / len(digits)\n",
        "print(f\"The Average is\", round(avg,2))"
      ]
    },
    {
      "cell_type": "markdown",
      "metadata": {
        "id": "b-g8WYWIlW8d"
      },
      "source": [
        "---\n",
        "## WORKING WITH PART OF A LIST"
      ]
    },
    {
      "cell_type": "markdown",
      "source": [
        "### Slicing a List\n",
        "Getting a specific group of items from a list is called a *slice*.\n",
        "\n",
        "To make slice, specify the index of the first and last elements."
      ],
      "metadata": {
        "id": "QwiyKV4km6JT"
      }
    },
    {
      "cell_type": "code",
      "source": [
        "# players.py\n",
        "\n",
        "players = ['charles', 'martina', 'michael', 'florence', 'eli']\n",
        "\n",
        "print(players[0:3])\n",
        "print(players[1:4])\n",
        "\n",
        "# Omit the first index to start at the beginning and your stop position\n",
        "print(players[:4])\n",
        "# or omit the first value to start after a certain index position to the end\n",
        "print(players[2:])\n",
        "\n",
        "# negative values starts at the end\n",
        "# output the last three players\n",
        "print(players[-3:])"
      ],
      "metadata": {
        "colab": {
          "base_uri": "https://localhost:8080/"
        },
        "id": "DvVh567pnLib",
        "outputId": "0a1464dc-6545-4c7d-b434-ef342a69726e"
      },
      "execution_count": null,
      "outputs": [
        {
          "output_type": "stream",
          "name": "stdout",
          "text": [
            "['charles', 'martina', 'michael']\n",
            "['martina', 'michael', 'florence']\n",
            "['charles', 'martina', 'michael', 'florence']\n",
            "['michael', 'florence', 'eli']\n",
            "['michael', 'florence', 'eli']\n"
          ]
        }
      ]
    },
    {
      "cell_type": "markdown",
      "source": [
        "**NOTE**: *You can include a third value in the brackets indicating a slice. If a third value is included, this tells Python how many items to skip between items in the specified range*"
      ],
      "metadata": {
        "id": "n0CT7q3coyHM"
      }
    },
    {
      "cell_type": "code",
      "source": [
        "players = ['charles', 'martina', 'michael', 'florence', 'eli']\n",
        "\n",
        "print(players[0:4:2])\n",
        "print(players[0:4:3])\n"
      ],
      "metadata": {
        "colab": {
          "base_uri": "https://localhost:8080/"
        },
        "id": "-dfG31Ouo_cW",
        "outputId": "24bfe045-10fa-41ba-855c-6788dad15dcf"
      },
      "execution_count": null,
      "outputs": [
        {
          "output_type": "stream",
          "name": "stdout",
          "text": [
            "['charles', 'michael']\n",
            "['charles', 'florence']\n"
          ]
        }
      ]
    },
    {
      "cell_type": "markdown",
      "source": [
        "### Looping Through a Slice\n",
        "You can use a `loop` with a slice to only loop through some elements of a list"
      ],
      "metadata": {
        "id": "8uxxnkv9pYEg"
      }
    },
    {
      "cell_type": "code",
      "source": [
        "players = ['charles', 'martina', 'michael', 'florence', 'eli']\n",
        "\n",
        "print(\"Here are the first three players on my team:\")\n",
        "for player in players[0:3]:\n",
        "    print(player.title())"
      ],
      "metadata": {
        "colab": {
          "base_uri": "https://localhost:8080/"
        },
        "id": "fu-DuA1eprj-",
        "outputId": "1d53540a-594f-41ce-e32b-2d443e59d81c"
      },
      "execution_count": null,
      "outputs": [
        {
          "output_type": "stream",
          "name": "stdout",
          "text": [
            "Here are the first three players on my team:\n",
            "Charles\n",
            "Martina\n",
            "Michael\n"
          ]
        }
      ]
    },
    {
      "cell_type": "markdown",
      "source": [
        "### Copying a List\n",
        "To copy a list, make a slice that includes the entire original list by omitting the first and second index `([:])`."
      ],
      "metadata": {
        "id": "o4vhSY_QqBt8"
      }
    },
    {
      "cell_type": "code",
      "source": [
        "# foods.py\n",
        "\n",
        "my_foods = ['pizza', 'falafel', 'carrot cake']\n",
        "friends_foods = my_foods[:]\n",
        "\n",
        "print(\"My favorite foods are:\")\n",
        "print(my_foods)\n",
        "\n",
        "print()\n",
        "\n",
        "print(\"My friends favorite foods are:\")\n",
        "print(friends_foods)"
      ],
      "metadata": {
        "colab": {
          "base_uri": "https://localhost:8080/"
        },
        "id": "9Xi6m3icqUIB",
        "outputId": "b23fe2cd-f8e7-42e7-abc2-686bdbe62267"
      },
      "execution_count": null,
      "outputs": [
        {
          "output_type": "stream",
          "name": "stdout",
          "text": [
            "My favorite foods are:\n",
            "['pizza', 'falafel', 'carrot cake']\n",
            "\n",
            "My friends favorite foods are:\n",
            "['pizza', 'falafel', 'carrot cake']\n"
          ]
        }
      ]
    },
    {
      "cell_type": "markdown",
      "source": [
        "We can now add new foods to each list to show they are different."
      ],
      "metadata": {
        "id": "GaBAiP3bri18"
      }
    },
    {
      "cell_type": "code",
      "source": [
        "my_foods = ['pizza', 'falafel', 'carrot cake']\n",
        "friends_foods = my_foods[:]\n",
        "\n",
        "# add the new foods\n",
        "my_foods.append('canoli')\n",
        "friends_foods.append('ice cream')\n",
        "\n",
        "print(\"My favorite foods are:\")\n",
        "print(my_foods)\n",
        "\n",
        "print()\n",
        "\n",
        "print(\"My friends favorite foods are:\")\n",
        "print(friends_foods)"
      ],
      "metadata": {
        "colab": {
          "base_uri": "https://localhost:8080/"
        },
        "id": "R5TXaeh8r50U",
        "outputId": "9d1f4971-0e28-40e7-f9d5-8b5a335e0eb7"
      },
      "execution_count": null,
      "outputs": [
        {
          "output_type": "stream",
          "name": "stdout",
          "text": [
            "My favorite foods are:\n",
            "['pizza', 'falafel', 'carrot cake', 'canoli']\n",
            "\n",
            "My friends favorite foods are:\n",
            "['pizza', 'falafel', 'carrot cake', 'ice cream']\n"
          ]
        }
      ]
    },
    {
      "cell_type": "markdown",
      "source": [
        "`my_foods = friends_foods`\n",
        "\n",
        "does not work, as that simply assigns one variable to the other, pointing both variables to the same list\n",
        "\n",
        "adding a new food to one list will add it to the other, and vice versa\n",
        "\n",
        "\n"
      ],
      "metadata": {
        "id": "AiqADSb1ssTT"
      }
    },
    {
      "cell_type": "code",
      "source": [
        "my_foods = ['pizza', 'falafel', 'carrot cake']\n",
        "\n",
        "# this will not work\n",
        "friends_foods = my_foods\n",
        "\n",
        "my_foods.append('canoli')\n",
        "friends_foods.append('ice cream')\n",
        "\n",
        "print(\"My favorite foods are:\")\n",
        "print(my_foods)\n",
        "\n",
        "print()\n",
        "\n",
        "print(\"My friends favorite foods are:\")\n",
        "print(friends_foods)"
      ],
      "metadata": {
        "colab": {
          "base_uri": "https://localhost:8080/"
        },
        "id": "dNFhXOLvs3kx",
        "outputId": "650d8eed-22e2-401c-e581-5b597d740b51"
      },
      "execution_count": null,
      "outputs": [
        {
          "output_type": "stream",
          "name": "stdout",
          "text": [
            "My favorite foods are:\n",
            "['pizza', 'falafel', 'carrot cake', 'canoli', 'ice cream']\n",
            "\n",
            "My friends favorite foods are:\n",
            "['pizza', 'falafel', 'carrot cake', 'canoli', 'ice cream']\n"
          ]
        }
      ]
    },
    {
      "cell_type": "markdown",
      "source": [
        "---\n",
        "## TUPLES\n",
        "\n",
        "A list that cannot change. An *immutable* list is called a *tuple*. Use a tuple when you want to store a set of values that should not change throughout the life of a program."
      ],
      "metadata": {
        "id": "XtQaKoqJ5AT6"
      }
    },
    {
      "cell_type": "markdown",
      "source": [
        "### Defining a Tuple\n",
        "A tuple looks just like a list, except you use parentheses `()` instead of square brackets `[]`\n",
        "\n",
        "A rectangle that should always be a certain size"
      ],
      "metadata": {
        "id": "HS3yFwI05OrR"
      }
    },
    {
      "cell_type": "code",
      "source": [
        "# dimensions.py\n",
        "\n",
        "dimensions = (200,50)\n",
        "print(dimensions[0])\n",
        "print(dimensions[1])\n",
        "\n",
        "# if you try to change it, it will not work\n",
        "dimensions[0] = 250"
      ],
      "metadata": {
        "id": "gwRGwNi95b86",
        "outputId": "3815645f-8b7a-473d-bb03-0287e252798a",
        "colab": {
          "base_uri": "https://localhost:8080/",
          "height": 210
        }
      },
      "execution_count": 25,
      "outputs": [
        {
          "output_type": "stream",
          "name": "stdout",
          "text": [
            "200\n",
            "50\n"
          ]
        },
        {
          "output_type": "error",
          "ename": "TypeError",
          "evalue": "'tuple' object does not support item assignment",
          "traceback": [
            "\u001b[0;31m---------------------------------------------------------------------------\u001b[0m",
            "\u001b[0;31mTypeError\u001b[0m                                 Traceback (most recent call last)",
            "\u001b[0;32m<ipython-input-25-2a2349b71f62>\u001b[0m in \u001b[0;36m<cell line: 8>\u001b[0;34m()\u001b[0m\n\u001b[1;32m      6\u001b[0m \u001b[0;34m\u001b[0m\u001b[0m\n\u001b[1;32m      7\u001b[0m \u001b[0;31m# if you try to change it, it will not work\u001b[0m\u001b[0;34m\u001b[0m\u001b[0;34m\u001b[0m\u001b[0m\n\u001b[0;32m----> 8\u001b[0;31m \u001b[0mdimensions\u001b[0m\u001b[0;34m[\u001b[0m\u001b[0;36m0\u001b[0m\u001b[0;34m]\u001b[0m \u001b[0;34m=\u001b[0m \u001b[0;36m250\u001b[0m\u001b[0;34m\u001b[0m\u001b[0;34m\u001b[0m\u001b[0m\n\u001b[0m",
            "\u001b[0;31mTypeError\u001b[0m: 'tuple' object does not support item assignment"
          ]
        }
      ]
    },
    {
      "cell_type": "markdown",
      "source": [
        "### Looping Through All Values in a Tuple\n",
        "\n",
        "Same as working with a list"
      ],
      "metadata": {
        "id": "X0tiJNx26CL0"
      }
    },
    {
      "cell_type": "code",
      "source": [
        "dimensions = (200,50)\n",
        "for dimension in dimensions:\n",
        "    print(dimension)"
      ],
      "metadata": {
        "id": "SCxCYfp56IiT",
        "outputId": "c46205a5-be2b-4f72-c63a-973c1a48fb3c",
        "colab": {
          "base_uri": "https://localhost:8080/"
        }
      },
      "execution_count": 26,
      "outputs": [
        {
          "output_type": "stream",
          "name": "stdout",
          "text": [
            "200\n",
            "50\n"
          ]
        }
      ]
    },
    {
      "cell_type": "markdown",
      "source": [
        "### Writing Over a Tuple\n",
        "\n",
        "You cannot modify a tuple, but you can change it completely using the same variable name and new values"
      ],
      "metadata": {
        "id": "APxShzfN6RcX"
      }
    },
    {
      "cell_type": "code",
      "source": [
        "dimensions = (200, 50)\n",
        "print(\"Original dimensions:\")\n",
        "for dimension in dimensions:\n",
        "    print(dimension)\n",
        "\n",
        "print()\n",
        "\n",
        "# using the same name, but different values\n",
        "dimensions = (400, 100)\n",
        "print(\"Modified dimensions:\")\n",
        "for dimension in dimensions:\n",
        "    print(dimension)"
      ],
      "metadata": {
        "id": "lJELwsVu6b3D",
        "outputId": "cc9b738a-fbb7-4b85-91e9-4373cbce841e",
        "colab": {
          "base_uri": "https://localhost:8080/"
        }
      },
      "execution_count": 28,
      "outputs": [
        {
          "output_type": "stream",
          "name": "stdout",
          "text": [
            "Original dimensions:\n",
            "200\n",
            "50\n",
            "\n",
            "Modified dimensions:\n",
            "400\n",
            "100\n"
          ]
        }
      ]
    },
    {
      "cell_type": "markdown",
      "source": [
        "---\n",
        "## STYLING YOUR CODE\n",
        "\n",
        "PEP 8 instructs programmers on how to style their code. Code will always be \"read\" more often than it is written. Always write code that is easy to read."
      ],
      "metadata": {
        "id": "yXfs4QuG_jq4"
      }
    },
    {
      "cell_type": "markdown",
      "source": [
        "### Indentation\n",
        "* Use four spaces per indentation level\n",
        "* Do not use TABS\n",
        "\n",
        "### Line Length\n",
        "* Each line should only be 80 characters per line\n",
        "* Each comment should only be 72 characters per line\n",
        "* 99 character lines are also common\n",
        "\n",
        "### Blank Lines\n",
        "* Use blank lines to group parts of your program visually.\n",
        "* Do not use multiple blank lines 3-4 between sections\n",
        "\n",
        "### Comments\n",
        "* Always use comments above your code to explain what is happening"
      ],
      "metadata": {
        "id": "lJeGvEmZ_n0n"
      }
    },
    {
      "cell_type": "markdown",
      "source": [
        "---\n",
        "## SUMMARY\n",
        "\n",
        "In this chapter\n",
        "\n",
        "- You learned how to work efficiently with the elements in a list\n",
        "- You learned how to work through a list using a `for` loop\n",
        "- How Python uses indentation to structure a program, and how to avoid some common indentation errors\n",
        "- You learned to make simple numerical lists\n",
        "- You learned a few operations you can perform on numerical lists\n",
        "- You learned how to slice a list to work with a subset of items\n",
        "- You learned how to copy lists properly using a slice\n",
        "- You learned about tuples, which provide a degree of protection to a set of values that shouldn’t change\n",
        "- You saw how to style your code to make it easy to read"
      ],
      "metadata": {
        "id": "9TYAmUeJAwKV"
      }
    }
  ],
  "metadata": {
    "colab": {
      "provenance": [],
      "toc_visible": true
    },
    "kernelspec": {
      "display_name": "Python 3",
      "name": "python3"
    },
    "language_info": {
      "codemirror_mode": {
        "name": "ipython",
        "version": 3
      },
      "file_extension": ".py",
      "mimetype": "text/x-python",
      "name": "python",
      "nbconvert_exporter": "python",
      "pygments_lexer": "ipython3",
      "version": "3.10.13"
    }
  },
  "nbformat": 4,
  "nbformat_minor": 0
}