{
  "nbformat": 4,
  "nbformat_minor": 0,
  "metadata": {
    "colab": {
      "provenance": [],
      "toc_visible": true,
      "authorship_tag": "ABX9TyM0UgbmGPcNigv//gHIb3rp",
      "include_colab_link": true
    },
    "kernelspec": {
      "name": "python3",
      "display_name": "Python 3"
    },
    "language_info": {
      "name": "python"
    }
  },
  "cells": [
    {
      "cell_type": "markdown",
      "metadata": {
        "id": "view-in-github",
        "colab_type": "text"
      },
      "source": [
        "<a href=\"https://colab.research.google.com/github/salasPINE/pythonPCC/blob/main/pcc_ch4.ipynb\" target=\"_parent\"><img src=\"https://colab.research.google.com/assets/colab-badge.svg\" alt=\"Open In Colab\"/></a>"
      ]
    },
    {
      "cell_type": "markdown",
      "source": [
        "# **Chapter 4 - Working with Lists**"
      ],
      "metadata": {
        "id": "u6F3ZR65yvPc"
      }
    },
    {
      "cell_type": "markdown",
      "source": [
        "## Looping Through and Entire List"
      ],
      "metadata": {
        "id": "zq_ivaIE44Rp"
      }
    },
    {
      "cell_type": "markdown",
      "source": [
        "Define a list and then define the loop. For every *magician* in the list of **magicians**, print the name of the *magician*."
      ],
      "metadata": {
        "id": "fqgqFiWztStd"
      }
    },
    {
      "cell_type": "code",
      "execution_count": 3,
      "metadata": {
        "id": "1vD-QVWTxhom",
        "colab": {
          "base_uri": "https://localhost:8080/"
        },
        "outputId": "f56694a0-aa2f-44c1-f2ff-10f761f868ec"
      },
      "outputs": [
        {
          "output_type": "stream",
          "name": "stdout",
          "text": [
            "alice\n",
            "david\n",
            "carolina\n"
          ]
        }
      ],
      "source": [
        "# magicians.py\n",
        "\n",
        "magicians = ['alice', 'david', 'carolina']\n",
        "for magician in magicians:\n",
        "    print(magician)"
      ]
    },
    {
      "cell_type": "markdown",
      "source": [
        "The first line tells Python to get the first value from the list and assign it to magician. This is '*alice*'. Then it get printed. The loop continues until there are no longer any items in the list. The initial variable is a temporary variable that changes with each loop.\n",
        "\n",
        "Choose a good name for the initial variable:\n",
        "```python\n",
        "for cat in cats:\n",
        "for item in list_of_items:\n",
        "```"
      ],
      "metadata": {
        "id": "izcv9Vy4tyb4"
      }
    },
    {
      "cell_type": "code",
      "source": [
        "# magicians.py\n",
        "# print a personalized message to each magician\n",
        "\n",
        "magicians = ['alice', 'david', 'carolina']\n",
        "for magician in magicians:\n",
        "    print(f\"{magician.title()}, that was a great trick!\")"
      ],
      "metadata": {
        "id": "2t-f_r8NuoEG",
        "colab": {
          "base_uri": "https://localhost:8080/"
        },
        "outputId": "d2b21d98-f527-4260-e874-2b620a3ab1b2"
      },
      "execution_count": 4,
      "outputs": [
        {
          "output_type": "stream",
          "name": "stdout",
          "text": [
            "Alice, that was a great trick!\n",
            "David, that was a great trick!\n",
            "Carolina, that was a great trick!\n"
          ]
        }
      ]
    },
    {
      "cell_type": "markdown",
      "source": [
        "Every indented line following the initial line (for) is considered *inside the loop*, and is executed once for each value in the list."
      ],
      "metadata": {
        "id": "tj0m8op5vApr"
      }
    },
    {
      "cell_type": "code",
      "source": [
        "# magicians.py\n",
        "# print multiple lines in the loop\n",
        "\n",
        "magicians = ['alice', 'david', 'carolina']\n",
        "for magician in magicians:\n",
        "    print(f\"{magician.title()}, that was a great trick!\")\n",
        "    print(f\"I cannot wait to see your next trick, {magician.title()}\\n\")"
      ],
      "metadata": {
        "id": "r5ipG-rQvO9L",
        "colab": {
          "base_uri": "https://localhost:8080/"
        },
        "outputId": "161bb525-073b-4b81-9ef2-b1cfe66d3ee7"
      },
      "execution_count": 5,
      "outputs": [
        {
          "output_type": "stream",
          "name": "stdout",
          "text": [
            "Alice, that was a great trick!\n",
            "I cannot wait to see your next trick, Alice\n",
            "\n",
            "David, that was a great trick!\n",
            "I cannot wait to see your next trick, David\n",
            "\n",
            "Carolina, that was a great trick!\n",
            "I cannot wait to see your next trick, Carolina\n",
            "\n"
          ]
        }
      ]
    },
    {
      "cell_type": "markdown",
      "source": [
        "Anything after the loop is executed one time without repetition. The last print line is not repeated."
      ],
      "metadata": {
        "id": "iaL6PrVP8nEK"
      }
    },
    {
      "cell_type": "code",
      "source": [
        "# magicians.py\n",
        "# adding after the loop\n",
        "\n",
        "magicians = ['alice', 'david', 'carolina']\n",
        "for magician in magicians:\n",
        "    print(f\"{magician.title()}, that was a great trick!\")\n",
        "    print(f\"I cannot wait to see your next trick, {magician.title()}\\n\")\n",
        "\n",
        "print(\"Thank you, everyone. That was a great magic show!\")"
      ],
      "metadata": {
        "id": "DPWYuzct8s-A",
        "colab": {
          "base_uri": "https://localhost:8080/"
        },
        "outputId": "c3c2c063-2e9b-4526-bc69-d4c03157f7e2"
      },
      "execution_count": 20,
      "outputs": [
        {
          "output_type": "stream",
          "name": "stdout",
          "text": [
            "Alice, that was a great trick!\n",
            "I cannot wait to see your next trick, Alice\n",
            "\n",
            "David, that was a great trick!\n",
            "I cannot wait to see your next trick, David\n",
            "\n",
            "Carolina, that was a great trick!\n",
            "I cannot wait to see your next trick, Carolina\n",
            "\n",
            "Thank you, everyone. That was a great magic show!\n"
          ]
        }
      ]
    },
    {
      "cell_type": "markdown",
      "source": [
        "---\n",
        "## Avoiding Indentation Errors"
      ],
      "metadata": {
        "id": "u4KwUN36A3yT"
      }
    },
    {
      "cell_type": "markdown",
      "source": [
        "#### Forgetting to Indent.\n",
        "The print line below should be indented, as it is part of the `for` loop. This is an *indentation error* and will cause an error message."
      ],
      "metadata": {
        "id": "0_6Ru3STA_-X"
      }
    },
    {
      "cell_type": "code",
      "source": [
        "# forgot to indent first item in loop, causes error\n",
        "\n",
        "magicians = ['alice', 'david', 'carolina']\n",
        "for magician in magicians:\n",
        "print(magician)"
      ],
      "metadata": {
        "colab": {
          "base_uri": "https://localhost:8080/",
          "height": 106
        },
        "id": "mECPtALSBgyY",
        "outputId": "f0aa5626-6b4b-4261-f12a-2b7a36ff35ae"
      },
      "execution_count": 19,
      "outputs": [
        {
          "output_type": "error",
          "ename": "IndentationError",
          "evalue": "expected an indented block after 'for' statement on line 4 (<ipython-input-19-e31d820a8611>, line 5)",
          "traceback": [
            "\u001b[0;36m  File \u001b[0;32m\"<ipython-input-19-e31d820a8611>\"\u001b[0;36m, line \u001b[0;32m5\u001b[0m\n\u001b[0;31m    print(magician)\u001b[0m\n\u001b[0m    ^\u001b[0m\n\u001b[0;31mIndentationError\u001b[0m\u001b[0;31m:\u001b[0m expected an indented block after 'for' statement on line 4\n"
          ]
        }
      ]
    },
    {
      "cell_type": "markdown",
      "source": [
        "#### Forgetting to Indent Additional Lines\n",
        "The code below will run fine, but the result will not be what we want. The second print statement needs to be indented to be part of the loop.\n",
        "\n",
        "This is called a *logical error*. The syntax and code is valid, but the code does not produce the desired result."
      ],
      "metadata": {
        "id": "mHQsQiGGCaxg"
      }
    },
    {
      "cell_type": "code",
      "source": [
        "# forgot to indent second item in loop, does not cause error\n",
        "\n",
        "magicians = ['alice', 'david', 'carolina']\n",
        "for magician in magicians:\n",
        "    print(f\"{magician.title()}, that was a great trick!\")\n",
        "print(f\"I can't wait to see your next trick, {magician.title()}. \\n\")"
      ],
      "metadata": {
        "colab": {
          "base_uri": "https://localhost:8080/"
        },
        "id": "VZqv44p8Cpy_",
        "outputId": "61a2ab93-5abf-4dc1-d978-00683ee628db"
      },
      "execution_count": 18,
      "outputs": [
        {
          "output_type": "stream",
          "name": "stdout",
          "text": [
            "Alice, that was a great trick!\n",
            "David, that was a great trick!\n",
            "Carolina, that was a great trick!\n",
            "I can't wait to see your next trick, Carolina. \n",
            "\n"
          ]
        }
      ]
    },
    {
      "cell_type": "markdown",
      "source": [
        "#### Indenting Unnecessarily\n",
        "If you indent a line that doesn't need to be indented, Python will give you an error. The `print` message below is not part of a loop and does not need to be indented."
      ],
      "metadata": {
        "id": "Dq-hoSPIDz1a"
      }
    },
    {
      "cell_type": "code",
      "source": [
        "message = \"Hello Python world!\"\n",
        "    print(message)"
      ],
      "metadata": {
        "colab": {
          "base_uri": "https://localhost:8080/",
          "height": 106
        },
        "id": "tdzd7MvcD89Y",
        "outputId": "08738964-1777-4c86-a472-0cdfce452fa0"
      },
      "execution_count": 17,
      "outputs": [
        {
          "output_type": "error",
          "ename": "IndentationError",
          "evalue": "unexpected indent (<ipython-input-17-e744c47c5d20>, line 2)",
          "traceback": [
            "\u001b[0;36m  File \u001b[0;32m\"<ipython-input-17-e744c47c5d20>\"\u001b[0;36m, line \u001b[0;32m2\u001b[0m\n\u001b[0;31m    print(message)\u001b[0m\n\u001b[0m    ^\u001b[0m\n\u001b[0;31mIndentationError\u001b[0m\u001b[0;31m:\u001b[0m unexpected indent\n"
          ]
        }
      ]
    },
    {
      "cell_type": "markdown",
      "source": [
        "#### Indenting Unnecessarily After the Loop\n",
        "If we indent the last line in our code, it will be repeated each time, which we do not want.This is a *logical error*."
      ],
      "metadata": {
        "id": "TBI1EfHgEO6V"
      }
    },
    {
      "cell_type": "code",
      "source": [
        "# incorrectly indented final print statement\n",
        "# which we only want to happen after the loop\n",
        "\n",
        "magicians = ['alice', 'david', 'carolina']\n",
        "for magician in magicians:\n",
        "    print(f\"{magician.title()}, that was a great trick!\")\n",
        "    print(f\"I cannot wait to see your next trick, {magician.title()}\\n\")\n",
        "\n",
        "    print(\"Thank you, everyone. That was a great magic show!\")"
      ],
      "metadata": {
        "colab": {
          "base_uri": "https://localhost:8080/"
        },
        "id": "Qhn16VuEEhpI",
        "outputId": "13b3bea5-acdd-4b9b-938c-12aad45d6ad0"
      },
      "execution_count": 16,
      "outputs": [
        {
          "output_type": "stream",
          "name": "stdout",
          "text": [
            "Alice, that was a great trick!\n",
            "I cannot wait to see your next trick, Alice\n",
            "\n",
            "Thank you, everyone. That was a great magic show!\n",
            "David, that was a great trick!\n",
            "I cannot wait to see your next trick, David\n",
            "\n",
            "Thank you, everyone. That was a great magic show!\n",
            "Carolina, that was a great trick!\n",
            "I cannot wait to see your next trick, Carolina\n",
            "\n",
            "Thank you, everyone. That was a great magic show!\n"
          ]
        }
      ]
    },
    {
      "cell_type": "markdown",
      "source": [
        "#### Forgetting the Colon\n",
        "The colon at the end of a `for` statement tells Python to interpret the next line as the start of the loop. If you forget the colon, you will get a syntax error.\n"
      ],
      "metadata": {
        "id": "C2SEODRIFQkY"
      }
    },
    {
      "cell_type": "code",
      "source": [
        "# forgetting to colon before a loop\n",
        "\n",
        "magicians = ['alice', 'david', 'carolina']\n",
        "for magician in magicians\n",
        "    print(magician)"
      ],
      "metadata": {
        "colab": {
          "base_uri": "https://localhost:8080/",
          "height": 106
        },
        "id": "NHBo545BFerP",
        "outputId": "f5311e6e-3510-4802-cba5-b989f890caed"
      },
      "execution_count": 15,
      "outputs": [
        {
          "output_type": "error",
          "ename": "SyntaxError",
          "evalue": "expected ':' (<ipython-input-15-95bb6711d536>, line 4)",
          "traceback": [
            "\u001b[0;36m  File \u001b[0;32m\"<ipython-input-15-95bb6711d536>\"\u001b[0;36m, line \u001b[0;32m4\u001b[0m\n\u001b[0;31m    for magician in magicians\u001b[0m\n\u001b[0m                             ^\u001b[0m\n\u001b[0;31mSyntaxError\u001b[0m\u001b[0;31m:\u001b[0m expected ':'\n"
          ]
        }
      ]
    }
  ]
}