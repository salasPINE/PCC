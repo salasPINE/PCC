{
  "nbformat": 4,
  "nbformat_minor": 0,
  "metadata": {
    "colab": {
      "provenance": []
    },
    "kernelspec": {
      "name": "python3",
      "display_name": "Python 3"
    },
    "language_info": {
      "name": "python"
    }
  },
  "cells": [
    {
      "cell_type": "markdown",
      "source": [
        "# **Chapter 10 - Files and Exceptions**"
      ],
      "metadata": {
        "id": "u6F3ZR65yvPc"
      }
    },
    {
      "cell_type": "markdown",
      "source": [
        "---\n",
        "## **READING FROM A FILE**"
      ],
      "metadata": {
        "id": "zq_ivaIE44Rp"
      }
    },
    {
      "cell_type": "markdown",
      "source": [
        "#### **Reading the Contents of a File**"
      ],
      "metadata": {
        "id": "SNWpWW6R2weR"
      }
    },
    {
      "cell_type": "code",
      "source": [],
      "metadata": {
        "id": "uV5QPqPO4Ykf"
      },
      "execution_count": null,
      "outputs": []
    },
    {
      "cell_type": "markdown",
      "source": [
        "#### **Relative and Absolute File Paths**"
      ],
      "metadata": {
        "id": "oXhJiAnMDbQh"
      }
    },
    {
      "cell_type": "code",
      "source": [],
      "metadata": {
        "id": "wSjn8nkl4Zx2"
      },
      "execution_count": null,
      "outputs": []
    },
    {
      "cell_type": "markdown",
      "source": [
        "#### **Accessing a File's Lines**"
      ],
      "metadata": {
        "id": "gPfloHKlDcFD"
      }
    },
    {
      "cell_type": "code",
      "source": [],
      "metadata": {
        "id": "ONReY5324bA_"
      },
      "execution_count": null,
      "outputs": []
    },
    {
      "cell_type": "markdown",
      "source": [
        "#### **Working with a File's Contents**"
      ],
      "metadata": {
        "id": "jQnDTVyFDc3K"
      }
    },
    {
      "cell_type": "code",
      "source": [],
      "metadata": {
        "id": "NnrByCpU4coe"
      },
      "execution_count": null,
      "outputs": []
    },
    {
      "cell_type": "markdown",
      "source": [
        "#### **Large Files: One Million Digits**"
      ],
      "metadata": {
        "id": "F5K9ba-qDds3"
      }
    },
    {
      "cell_type": "code",
      "source": [],
      "metadata": {
        "id": "b80ebyqW4eTL"
      },
      "execution_count": null,
      "outputs": []
    },
    {
      "cell_type": "markdown",
      "source": [
        "#### **Is Your Birthday Contained in Pi?**"
      ],
      "metadata": {
        "id": "I7LYmxSmL0Us"
      }
    },
    {
      "cell_type": "markdown",
      "source": [
        "⭐ *EXERCISES 10-1 to 10-3*"
      ],
      "metadata": {
        "id": "-PBU7OUNW4TH"
      }
    },
    {
      "cell_type": "markdown",
      "source": [
        "---\n",
        "## **WRITING TO A FILE**"
      ],
      "metadata": {
        "id": "VR46jm8eDWkP"
      }
    },
    {
      "cell_type": "markdown",
      "source": [
        "#### **Writing a Single Line**"
      ],
      "metadata": {
        "id": "91MIhu4BDr1G"
      }
    },
    {
      "cell_type": "code",
      "source": [],
      "metadata": {
        "id": "tEvdP3M04g2J"
      },
      "execution_count": null,
      "outputs": []
    },
    {
      "cell_type": "markdown",
      "source": [
        "#### **Writing Multiple Lines**"
      ],
      "metadata": {
        "id": "OXUY7sa3DsvD"
      }
    },
    {
      "cell_type": "code",
      "source": [],
      "metadata": {
        "id": "gaE3cuHw4iF5"
      },
      "execution_count": null,
      "outputs": []
    },
    {
      "cell_type": "markdown",
      "source": [
        "⭐ *EXERCISES 10-4 to 10-5*"
      ],
      "metadata": {
        "id": "t_mK0e9xMdlP"
      }
    },
    {
      "cell_type": "markdown",
      "source": [
        "---\n",
        "## **EXCEPTIONS**"
      ],
      "metadata": {
        "id": "oCEMwFCXDtnA"
      }
    },
    {
      "cell_type": "code",
      "source": [],
      "metadata": {
        "id": "G54nOPNg4jbP"
      },
      "execution_count": null,
      "outputs": []
    },
    {
      "cell_type": "markdown",
      "source": [
        "#### **Handling the ZeroDivisionError Exception**"
      ],
      "metadata": {
        "id": "EHweHzOwDuZg"
      }
    },
    {
      "cell_type": "code",
      "source": [],
      "metadata": {
        "id": "BDVGRaTM4ryg"
      },
      "execution_count": null,
      "outputs": []
    },
    {
      "cell_type": "markdown",
      "source": [
        "#### **Using try-except Blocks**"
      ],
      "metadata": {
        "id": "HrOFZ09kDvVM"
      }
    },
    {
      "cell_type": "code",
      "source": [],
      "metadata": {
        "id": "SQSE6VL74tMH"
      },
      "execution_count": null,
      "outputs": []
    },
    {
      "cell_type": "markdown",
      "source": [
        "#### **Using Exceptions to Prevent Crashes**"
      ],
      "metadata": {
        "id": "R4xAtS13MtFB"
      }
    },
    {
      "cell_type": "code",
      "source": [],
      "metadata": {
        "id": "iIBkpDVhMyzl"
      },
      "execution_count": null,
      "outputs": []
    },
    {
      "cell_type": "markdown",
      "source": [
        "#### **The else Block**"
      ],
      "metadata": {
        "id": "M227aIM3Mtxs"
      }
    },
    {
      "cell_type": "code",
      "source": [],
      "metadata": {
        "id": "3aGEh4IXM2vd"
      },
      "execution_count": null,
      "outputs": []
    },
    {
      "cell_type": "markdown",
      "source": [
        "#### **Handling the FileNotFoundError Exception**"
      ],
      "metadata": {
        "id": "4_SI8YqfMuZM"
      }
    },
    {
      "cell_type": "code",
      "source": [],
      "metadata": {
        "id": "SG6fPkHaNHWy"
      },
      "execution_count": null,
      "outputs": []
    },
    {
      "cell_type": "markdown",
      "source": [
        "#### **Analyzing Text**"
      ],
      "metadata": {
        "id": "Wu0fT5NDNH2A"
      }
    },
    {
      "cell_type": "code",
      "source": [],
      "metadata": {
        "id": "nsjyRpTANNxi"
      },
      "execution_count": null,
      "outputs": []
    },
    {
      "cell_type": "markdown",
      "source": [
        "#### **Working with Multiple Files**"
      ],
      "metadata": {
        "id": "1lbuG8pUNIZJ"
      }
    },
    {
      "cell_type": "code",
      "source": [],
      "metadata": {
        "id": "QcCFlr9ZNRTD"
      },
      "execution_count": null,
      "outputs": []
    },
    {
      "cell_type": "markdown",
      "source": [
        "#### **Failing Silently**"
      ],
      "metadata": {
        "id": "uoGExeGbNI78"
      }
    },
    {
      "cell_type": "code",
      "source": [],
      "metadata": {
        "id": "dkCAYs9WNVBF"
      },
      "execution_count": null,
      "outputs": []
    },
    {
      "cell_type": "markdown",
      "source": [
        "#### **Deciding Which Errors to Report**"
      ],
      "metadata": {
        "id": "IsQCtR2ENJVx"
      }
    },
    {
      "cell_type": "markdown",
      "source": [
        "⭐ *EXERCISES 10-6 to 10-10*"
      ],
      "metadata": {
        "id": "8TUWcl1AW8iv"
      }
    },
    {
      "cell_type": "markdown",
      "source": [
        "---\n",
        "## **STORING DATA**"
      ],
      "metadata": {
        "id": "oFRV0scmDX8x"
      }
    },
    {
      "cell_type": "markdown",
      "source": [
        "#### **Using json.dumps() and json.loads()**"
      ],
      "metadata": {
        "id": "E5pf51o4DwT0"
      }
    },
    {
      "cell_type": "code",
      "source": [],
      "metadata": {
        "id": "iZLxGkZz4wRC"
      },
      "execution_count": null,
      "outputs": []
    },
    {
      "cell_type": "markdown",
      "source": [
        "#### **Saving and Reading User-Generated Data**"
      ],
      "metadata": {
        "id": "Yrwexw_fDxHw"
      }
    },
    {
      "cell_type": "code",
      "source": [],
      "metadata": {
        "id": "MzFnVweo4xxN"
      },
      "execution_count": null,
      "outputs": []
    },
    {
      "cell_type": "markdown",
      "source": [
        "#### **Refactoring**"
      ],
      "metadata": {
        "id": "FE-yvxAzDx3m"
      }
    },
    {
      "cell_type": "code",
      "source": [],
      "metadata": {
        "id": "QclYrFKD4zBK"
      },
      "execution_count": null,
      "outputs": []
    },
    {
      "cell_type": "markdown",
      "source": [
        "⭐ *EXERCISES 10-11 to 10-14*"
      ],
      "metadata": {
        "id": "O6BREAqSXAAw"
      }
    }
  ]
}