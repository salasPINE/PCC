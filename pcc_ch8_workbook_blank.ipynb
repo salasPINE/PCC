{
  "nbformat": 4,
  "nbformat_minor": 0,
  "metadata": {
    "colab": {
      "provenance": [],
      "toc_visible": true
    },
    "kernelspec": {
      "name": "python3",
      "display_name": "Python 3"
    },
    "language_info": {
      "name": "python"
    }
  },
  "cells": [
    {
      "cell_type": "markdown",
      "source": [
        "# **Chapter 8 - Functions**"
      ],
      "metadata": {
        "id": "u6F3ZR65yvPc"
      }
    },
    {
      "cell_type": "markdown",
      "source": [
        "---\n",
        "## **DEFINING A FUNCTION**"
      ],
      "metadata": {
        "id": "zq_ivaIE44Rp"
      }
    },
    {
      "cell_type": "markdown",
      "source": [
        "#### **Passing Information to a Function**"
      ],
      "metadata": {
        "id": "SNWpWW6R2weR"
      }
    },
    {
      "cell_type": "code",
      "source": [],
      "metadata": {
        "id": "-SNdzoyTogTc"
      },
      "execution_count": null,
      "outputs": []
    },
    {
      "cell_type": "markdown",
      "source": [
        "#### **Arguments and Parameters**"
      ],
      "metadata": {
        "id": "oXhJiAnMDbQh"
      }
    },
    {
      "cell_type": "code",
      "source": [],
      "metadata": {
        "id": "JLuScr8hoh2g"
      },
      "execution_count": null,
      "outputs": []
    },
    {
      "cell_type": "markdown",
      "source": [
        "⭐ *EXERCISES 8-1 to 8-2*"
      ],
      "metadata": {
        "id": "-PBU7OUNW4TH"
      }
    },
    {
      "cell_type": "markdown",
      "source": [
        "---\n",
        "## **PASSING ARGUMENTS**"
      ],
      "metadata": {
        "id": "VR46jm8eDWkP"
      }
    },
    {
      "cell_type": "markdown",
      "source": [
        "#### **Positional Arguments**"
      ],
      "metadata": {
        "id": "91MIhu4BDr1G"
      }
    },
    {
      "cell_type": "code",
      "source": [],
      "metadata": {
        "id": "C7YcafDjolbD"
      },
      "execution_count": null,
      "outputs": []
    },
    {
      "cell_type": "markdown",
      "source": [
        "<u>Multiple Function Calls</u>"
      ],
      "metadata": {
        "id": "OXUY7sa3DsvD"
      }
    },
    {
      "cell_type": "code",
      "source": [],
      "metadata": {
        "id": "0Q7x3_o2onok"
      },
      "execution_count": null,
      "outputs": []
    },
    {
      "cell_type": "markdown",
      "source": [
        "<u>Order Matters in Positional Arguments</u>"
      ],
      "metadata": {
        "id": "oCEMwFCXDtnA"
      }
    },
    {
      "cell_type": "code",
      "source": [],
      "metadata": {
        "id": "7JdHJS8WonHJ"
      },
      "execution_count": null,
      "outputs": []
    },
    {
      "cell_type": "markdown",
      "source": [
        "#### **Keyword Arguments**"
      ],
      "metadata": {
        "id": "EHweHzOwDuZg"
      }
    },
    {
      "cell_type": "code",
      "source": [],
      "metadata": {
        "id": "SUQlZnA8oqoA"
      },
      "execution_count": null,
      "outputs": []
    },
    {
      "cell_type": "markdown",
      "source": [
        "#### **Default Values**"
      ],
      "metadata": {
        "id": "HrOFZ09kDvVM"
      }
    },
    {
      "cell_type": "code",
      "source": [],
      "metadata": {
        "id": "41p414xEor0d"
      },
      "execution_count": null,
      "outputs": []
    },
    {
      "cell_type": "markdown",
      "source": [
        "#### **Equivalent Function Calls**"
      ],
      "metadata": {
        "id": "Jyn62l0Sy5Yo"
      }
    },
    {
      "cell_type": "code",
      "source": [],
      "metadata": {
        "id": "0rypMt5potFW"
      },
      "execution_count": null,
      "outputs": []
    },
    {
      "cell_type": "markdown",
      "source": [
        "#### **Avoiding Argument Error**"
      ],
      "metadata": {
        "id": "nQcYQzdry9UC"
      }
    },
    {
      "cell_type": "code",
      "source": [],
      "metadata": {
        "id": "jNINjU--ounw"
      },
      "execution_count": null,
      "outputs": []
    },
    {
      "cell_type": "markdown",
      "source": [
        "⭐ *EXERCISES 8-3 to 8-5*"
      ],
      "metadata": {
        "id": "8TUWcl1AW8iv"
      }
    },
    {
      "cell_type": "markdown",
      "source": [
        "---\n",
        "## **RETURN VALUES**"
      ],
      "metadata": {
        "id": "oFRV0scmDX8x"
      }
    },
    {
      "cell_type": "markdown",
      "source": [
        "#### **Returning a Simple Value**"
      ],
      "metadata": {
        "id": "E5pf51o4DwT0"
      }
    },
    {
      "cell_type": "code",
      "source": [],
      "metadata": {
        "id": "mLyD8UlWozNI"
      },
      "execution_count": null,
      "outputs": []
    },
    {
      "cell_type": "markdown",
      "source": [
        "#### **Making an Argument Optional**"
      ],
      "metadata": {
        "id": "Yrwexw_fDxHw"
      }
    },
    {
      "cell_type": "code",
      "source": [],
      "metadata": {
        "id": "q9GAWbEEo1B2"
      },
      "execution_count": null,
      "outputs": []
    },
    {
      "cell_type": "markdown",
      "source": [
        "#### **Returning a Dictionary**"
      ],
      "metadata": {
        "id": "FE-yvxAzDx3m"
      }
    },
    {
      "cell_type": "code",
      "source": [],
      "metadata": {
        "id": "IeXrXVCWo2ci"
      },
      "execution_count": null,
      "outputs": []
    },
    {
      "cell_type": "markdown",
      "source": [
        "#### **Using a Function with a `while` Loop**"
      ],
      "metadata": {
        "id": "sc-MosLPDyk4"
      }
    },
    {
      "cell_type": "code",
      "source": [],
      "metadata": {
        "id": "gqIPpdqco4Ql"
      },
      "execution_count": null,
      "outputs": []
    },
    {
      "cell_type": "markdown",
      "source": [
        "⭐ *EXERCISES 8-6 to 8-8*"
      ],
      "metadata": {
        "id": "O6BREAqSXAAw"
      }
    },
    {
      "cell_type": "markdown",
      "source": [
        "---\n",
        "## **PASSING A LIST**"
      ],
      "metadata": {
        "id": "mwmXVIIvzhC-"
      }
    },
    {
      "cell_type": "markdown",
      "source": [
        "#### **Modifying a List in a Function**"
      ],
      "metadata": {
        "id": "UVJZ6f9DzqxP"
      }
    },
    {
      "cell_type": "code",
      "source": [],
      "metadata": {
        "id": "6o_cpxSqo63Q"
      },
      "execution_count": null,
      "outputs": []
    },
    {
      "cell_type": "markdown",
      "source": [
        "#### **Preventing a Function from Modifying a List**"
      ],
      "metadata": {
        "id": "xCXsGdmNz1Qo"
      }
    },
    {
      "cell_type": "code",
      "source": [],
      "metadata": {
        "id": "8GBQpvt0o8io"
      },
      "execution_count": null,
      "outputs": []
    },
    {
      "cell_type": "markdown",
      "source": [
        "⭐ *EXERCISES 8-9 to 8-11*"
      ],
      "metadata": {
        "id": "W4_W98YdzoSF"
      }
    },
    {
      "cell_type": "markdown",
      "source": [
        "---\n",
        "## **PASSING AN ARBITRARY NUMBER OF ARGUMENTS**"
      ],
      "metadata": {
        "id": "PoPHoGck0Bxy"
      }
    },
    {
      "cell_type": "markdown",
      "source": [
        "#### **Mixing Positional and Arbitrary Arguments**"
      ],
      "metadata": {
        "id": "BTdfRwaj0enH"
      }
    },
    {
      "cell_type": "code",
      "source": [],
      "metadata": {
        "id": "_KaFTHjxo_Pn"
      },
      "execution_count": null,
      "outputs": []
    },
    {
      "cell_type": "markdown",
      "source": [
        "#### **Using Arbitrary Keyword Arguments**"
      ],
      "metadata": {
        "id": "PMBkL4fY0lCN"
      }
    },
    {
      "cell_type": "code",
      "source": [],
      "metadata": {
        "id": "fGelP6FupA_-"
      },
      "execution_count": null,
      "outputs": []
    },
    {
      "cell_type": "markdown",
      "source": [
        "⭐ *EXERCISES 8-12 to 8-14*"
      ],
      "metadata": {
        "id": "cB3n8Ep30YX6"
      }
    },
    {
      "cell_type": "markdown",
      "source": [
        "---\n",
        "## **STORING YOUR FUNCTIONS IN MODULES**"
      ],
      "metadata": {
        "id": "RzcCbbsI0F0y"
      }
    },
    {
      "cell_type": "markdown",
      "source": [
        "#### **Importing Specific Functions**"
      ],
      "metadata": {
        "id": "J_JeiWAT0ujZ"
      }
    },
    {
      "cell_type": "code",
      "source": [],
      "metadata": {
        "id": "N9xVL4VFpDcA"
      },
      "execution_count": null,
      "outputs": []
    },
    {
      "cell_type": "markdown",
      "source": [
        "#### **Using `as` to Give a Function an Alias**"
      ],
      "metadata": {
        "id": "m9CMkm7x0x7n"
      }
    },
    {
      "cell_type": "code",
      "source": [],
      "metadata": {
        "id": "TYxwvSwxpEqV"
      },
      "execution_count": null,
      "outputs": []
    },
    {
      "cell_type": "markdown",
      "source": [
        "#### **Using `as` to Give a Module an Alias**"
      ],
      "metadata": {
        "id": "cpAmmswK05bW"
      }
    },
    {
      "cell_type": "code",
      "source": [],
      "metadata": {
        "id": "-KckRLycpGMq"
      },
      "execution_count": null,
      "outputs": []
    },
    {
      "cell_type": "markdown",
      "source": [
        "#### **Importing All Functions in a Module**"
      ],
      "metadata": {
        "id": "SJ90VBW20-aa"
      }
    },
    {
      "cell_type": "code",
      "source": [],
      "metadata": {
        "id": "Yj4VLDVvpKBu"
      },
      "execution_count": null,
      "outputs": []
    },
    {
      "cell_type": "markdown",
      "source": [
        "---\n",
        "## **STYLING FUNCTIONS**"
      ],
      "metadata": {
        "id": "T3VIP4fh0KZG"
      }
    },
    {
      "cell_type": "code",
      "source": [],
      "metadata": {
        "id": "Bpz87r2bpL45"
      },
      "execution_count": null,
      "outputs": []
    },
    {
      "cell_type": "markdown",
      "source": [
        "⭐ *EXERCISES 8-15 to 8-17*"
      ],
      "metadata": {
        "id": "gNgwxUWb0afq"
      }
    },
    {
      "cell_type": "markdown",
      "source": [
        "---\n",
        "## **SUMMARY**"
      ],
      "metadata": {
        "id": "bqi0bi960OKp"
      }
    }
  ]
}