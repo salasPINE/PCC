{
  "nbformat": 4,
  "nbformat_minor": 0,
  "metadata": {
    "colab": {
      "provenance": [],
      "toc_visible": true
    },
    "kernelspec": {
      "name": "python3",
      "display_name": "Python 3"
    },
    "language_info": {
      "name": "python"
    }
  },
  "cells": [
    {
      "cell_type": "markdown",
      "source": [
        "# **Chapter 9 Exercises**"
      ],
      "metadata": {
        "id": "EbXSfCYQ85RB"
      }
    },
    {
      "cell_type": "markdown",
      "source": [
        "## **9-1 Restaurant**\n",
        "\n",
        "Make a class called Restaurant. The `__init__()` method for Restaurant should store two attributes: a restaurant_name and a cuisine_type. Make a method called `describe_restaurant()` that prints these two pieces of information, and a method called `open_restaurant()` that prints a message indicating that the restaurant is open. --- Make an instance called restaurant from your class. Print the two attributes individually, and then call both methods."
      ],
      "metadata": {
        "id": "hKZ34sMI-io5"
      }
    },
    {
      "cell_type": "code",
      "execution_count": null,
      "metadata": {
        "id": "8HfOiQHU82p7"
      },
      "outputs": [],
      "source": [
        "# 9.1 Restaurant.py\n"
      ]
    },
    {
      "cell_type": "markdown",
      "source": [
        "## **9-2 Three Restaurants**\n",
        "\n",
        "Start with your class from Exercise 9-1. Create three different instances from the class, and call `describe_restaurant()` for each instance."
      ],
      "metadata": {
        "id": "inxB6tWa-vh2"
      }
    },
    {
      "cell_type": "code",
      "source": [
        "# 9.2 ThreeRestaurants.py\n"
      ],
      "metadata": {
        "id": "tcIYHsHj-Ga4"
      },
      "execution_count": null,
      "outputs": []
    },
    {
      "cell_type": "markdown",
      "source": [
        "## **9-3 Users**\n",
        "\n",
        "Make a class called User. Create two attributes called `first_name` and `last_name`, and then create several other attributes that are typically stored in a user profile. Make a method called `describe_user()` that prints a summary of the users information. Make another method called `greet_user()` that prints a personalized greeting to the user.  ---  Create several instances representing different users, and call both methods for each user."
      ],
      "metadata": {
        "id": "tbOFj9vq_DI-"
      }
    },
    {
      "cell_type": "code",
      "source": [
        "# 9.3 Users.py\n"
      ],
      "metadata": {
        "id": "Rw3teboJ-TaQ"
      },
      "execution_count": null,
      "outputs": []
    },
    {
      "cell_type": "markdown",
      "source": [
        "---\n",
        "## **9-4 Number Served**\n",
        "\n",
        "Start with your program from Exercise 9-1. Add an attribute called `number_served` with a default value of 0. Create an instance called `restaurant` from this class. Print the number of customers the restaurant has served, and then change this value and print it again.\n",
        "\n",
        "Add a method called `set_number_served()` that lets you set the number of customers that have been served. Call this method with a new number and print the value again.\n",
        "\n",
        "Add a method called `increment_number_served()` that lets you increment the number of customers who've been served. Call this method with any number you like that could represent how many customers were served in, say, a day of business."
      ],
      "metadata": {
        "id": "AdKSwpyl_arx"
      }
    },
    {
      "cell_type": "code",
      "source": [
        "# 9.4 NumberServed.py\n"
      ],
      "metadata": {
        "id": "0SwgrgoT_WYo"
      },
      "execution_count": null,
      "outputs": []
    },
    {
      "cell_type": "markdown",
      "source": [
        "## **9-5 Login Attemps**\n",
        "\n",
        "Add an attribute called `login_attempts` to your User class from Exercise 9-3. Write a method called `increment_login_attempts()` that increments the value of login_attempts by 1. Write another method called `reset_login_attempts()` that resets the value of login_attempts to zero.\n",
        "\n",
        "Make an instance of the User class and call `increment_login_attempts()` several times. Print the value of login_attempts to make sure it was incremented properly, and then call `reset_login_attempts()`. Print `login_attempts` again to make sure it was reset to 0."
      ],
      "metadata": {
        "id": "00XB5uez_2uz"
      }
    },
    {
      "cell_type": "code",
      "source": [
        "# 9.5 LoginAttempts.py\n"
      ],
      "metadata": {
        "id": "4vDJ_F2GARPP"
      },
      "execution_count": null,
      "outputs": []
    },
    {
      "cell_type": "markdown",
      "source": [
        "---\n",
        "## **9-6 Ice Cream Stand**\n",
        "\n",
        "An ice cream stand is a specific kind of restaurant. Write a class called `IceCreamStand` that inherits from the `Restaurant` class you wrote in Exercise 9-1 or Exercise 9-4. Either version of the class will work; just pick the one you like better. Add an attribute called flavors that stores a list of ice cream flavors. Write a method that displays these flavors. Create an instance of `IceCreamStand`, and call this method."
      ],
      "metadata": {
        "id": "cgeMq8NVAZ8v"
      }
    },
    {
      "cell_type": "code",
      "source": [
        "# 9.6 IceCreamStand.py\n"
      ],
      "metadata": {
        "id": "e9UNuAgXAaJj"
      },
      "execution_count": null,
      "outputs": []
    },
    {
      "cell_type": "markdown",
      "source": [
        "## **9-7 Admin**\n",
        "\n",
        "An administrator is a special kind of user. Write a class called `Admin` that inherits from the `User` class you wrote in Exercise 9-3 or Exercise 9-5. Add an attribute, privileges, that stores a list of strings like \"can add post\", \"can delete post\", \"can ban user\", and so on. Write a method called `show_privileges()` that lists the administrator's set of privileges. Create an instance of `Admin`, and call your method."
      ],
      "metadata": {
        "id": "BBhMyoZ1A9i6"
      }
    },
    {
      "cell_type": "code",
      "source": [
        "# 9.7 Admin.py\n"
      ],
      "metadata": {
        "id": "lC7CKBnxBO6i"
      },
      "execution_count": null,
      "outputs": []
    },
    {
      "cell_type": "markdown",
      "source": [
        "## **9-8 Privileges**\n",
        "\n",
        "Write a separate `Privileges` class. The class should have one attribute, privileges, that stores a list of strings as described in Exercise 9-7. Move the `show_privileges()` method to this class. Make a `Privileges` instance as an attribute in the `Admin` class. Create a new instance of `Admin` and use your method to show its privileges."
      ],
      "metadata": {
        "id": "hrG4B6lnB4XX"
      }
    },
    {
      "cell_type": "code",
      "source": [
        "# 9.8 Privileges.py\n"
      ],
      "metadata": {
        "id": "IO2j0CX-B5wE"
      },
      "execution_count": null,
      "outputs": []
    },
    {
      "cell_type": "markdown",
      "source": [
        "## **9-9 Battery Upgrade**\n",
        "\n",
        "Use the final version of electric_car.py from this section. Add a method to the `Battery` class called `upgrade_battery()`. This method should check the battery size and set the capacity to 65 if it isn't already. Make an electric car with a default battery size, call `get_range()` once, and then call `get_range()` a second time after upgrading the battery. You should see an\n",
        "increase in the car's range."
      ],
      "metadata": {
        "id": "fJf7B1VTsmTa"
      }
    },
    {
      "cell_type": "code",
      "source": [
        "# 9.9 BatteryUpgrade.py\n"
      ],
      "metadata": {
        "id": "cqaXwmAfsq-Q"
      },
      "execution_count": null,
      "outputs": []
    },
    {
      "cell_type": "markdown",
      "source": [
        "---\n",
        "## **9-10 Imported Restaurant**\n",
        "\n",
        "Using your latest `Restaurant` class, store it in a module. Make a separate file that imports `Restaurant`. Make a `Restaurant` instance, and call one of Restaurant's methods to show that the `import` statement is working properly."
      ],
      "metadata": {
        "id": "A-r-Zl1HBmXw"
      }
    },
    {
      "cell_type": "code",
      "source": [
        "# 9.10 ImportedRestaurant.py\n"
      ],
      "metadata": {
        "id": "q5qAvZNrwfC8"
      },
      "execution_count": null,
      "outputs": []
    },
    {
      "cell_type": "markdown",
      "source": [
        "## **9-11 Imported Admin**\n",
        "\n",
        "Start with your work from Exercise 9-8. Store the classes `User`, `Privileges`, and `Admin` in one module. Create a separate file, make an `Admin` instance, and call `show_privileges()` to show that everything is working correctly."
      ],
      "metadata": {
        "id": "wAN6osLbwawK"
      }
    },
    {
      "cell_type": "code",
      "source": [
        "# 9.11 ImportedAdmin.py\n"
      ],
      "metadata": {
        "id": "iRBnbQOiwjQH"
      },
      "execution_count": null,
      "outputs": []
    },
    {
      "cell_type": "markdown",
      "source": [
        "## **9-12 Multiple Modules**\n",
        "\n",
        "Store the `User` class in one module, and store the `Privileges` and `Admin` classes in a separate module. In a separate file, create an `Admin` instance and call `show_privileges()` to show that everything is still working correctly."
      ],
      "metadata": {
        "id": "1Q7ihsZBwbVI"
      }
    },
    {
      "cell_type": "code",
      "source": [
        "# 9.12 MultipleModules.py\n"
      ],
      "metadata": {
        "id": "onq7ze7SwlEM"
      },
      "execution_count": null,
      "outputs": []
    },
    {
      "cell_type": "markdown",
      "source": [
        "---\n",
        "## **9-13 Dice**\n",
        "\n",
        "Make a class Die with one attribute called `sides`, which has a default value of 6. Write a method called `roll_die()` that prints a random number between 1 and the number of sides the die has. Make a 6-sided die and roll it 10 times. Make a 10-sided die and a 20-sided die. Roll each die 10 times."
      ],
      "metadata": {
        "id": "kgc3xS47wcBv"
      }
    },
    {
      "cell_type": "code",
      "source": [
        "# 9.13 Dice.py\n"
      ],
      "metadata": {
        "id": "yVbgg9Guwled"
      },
      "execution_count": null,
      "outputs": []
    },
    {
      "cell_type": "markdown",
      "source": [
        "## **9-14 Lottery**\n",
        "\n",
        "Make a list or tuple containing a series of 10 numbers and 5 letters. Randomly select 4 numbers or letters from the list and print a message saying that any ticket matching these 4 numbers or letters wins a prize."
      ],
      "metadata": {
        "id": "6G_74fyVwcMf"
      }
    },
    {
      "cell_type": "code",
      "source": [
        "# 9.14 Lottery.py\n"
      ],
      "metadata": {
        "id": "F6tAmBzwwmHI"
      },
      "execution_count": null,
      "outputs": []
    },
    {
      "cell_type": "markdown",
      "source": [
        "## **9-15 Lottery Analysis**\n",
        "\n",
        "You can use a loop to see how hard it might be to win the kind of lottery you just modeled. Make a list or tuple called `my_ticket`. Write a loop that keeps pulling numbers until your ticket wins. Print a message reporting how many times the loop had to run to give you a winning ticket."
      ],
      "metadata": {
        "id": "ECKoqPs8wcTI"
      }
    },
    {
      "cell_type": "code",
      "source": [
        "# 9.15 LotteryAnalysis.py\n",
        "\n"
      ],
      "metadata": {
        "id": "xnJcop5gwmid"
      },
      "execution_count": null,
      "outputs": []
    },
    {
      "cell_type": "markdown",
      "source": [
        "## **9-16 Python Module of the Week**\n",
        "\n",
        "One excellent resource for exploring the Python standard library is a site called Python Module of the Week. Go to [Python Module of the Week](https://pymotw.com) and look at the table of contents. Find a module that looks interesting to you and read about it, perhaps starting with the random module."
      ],
      "metadata": {
        "id": "-j7GI7PPnFJ0"
      }
    },
    {
      "cell_type": "code",
      "source": [
        "# 9.16"
      ],
      "metadata": {
        "id": "iytezoZ2nG0_"
      },
      "execution_count": null,
      "outputs": []
    }
  ]
}