{
  "nbformat": 4,
  "nbformat_minor": 0,
  "metadata": {
    "colab": {
      "provenance": [],
      "toc_visible": true,
      "authorship_tag": "ABX9TyP1x9krAG1WnJcYZkp7RzY4"
    },
    "kernelspec": {
      "name": "python3",
      "display_name": "Python 3"
    },
    "language_info": {
      "name": "python"
    }
  },
  "cells": [
    {
      "cell_type": "markdown",
      "source": [
        "# **Chapter 5 - IF Statements**\n"
      ],
      "metadata": {
        "id": "u6F3ZR65yvPc"
      }
    },
    {
      "cell_type": "markdown",
      "source": [
        "---\n",
        "## **A Simple Example**"
      ],
      "metadata": {
        "id": "zq_ivaIE44Rp"
      }
    },
    {
      "cell_type": "code",
      "source": [],
      "metadata": {
        "id": "NV8NyQ5yNPwI"
      },
      "execution_count": null,
      "outputs": []
    },
    {
      "cell_type": "markdown",
      "source": [
        "---\n",
        "## **Conditional Tests**"
      ],
      "metadata": {
        "id": "aWE5nbTi5QXE"
      }
    },
    {
      "cell_type": "markdown",
      "source": [
        "#### **Checking for Equality**"
      ],
      "metadata": {
        "id": "SNWpWW6R2weR"
      }
    },
    {
      "cell_type": "code",
      "source": [],
      "metadata": {
        "id": "g4Rgl0etNTNv"
      },
      "execution_count": null,
      "outputs": []
    },
    {
      "cell_type": "markdown",
      "source": [
        "#### **Checking for Inequality**"
      ],
      "metadata": {
        "id": "UiCu-2IJ6PzY"
      }
    },
    {
      "cell_type": "code",
      "source": [],
      "metadata": {
        "id": "BtX42xotNVPW"
      },
      "execution_count": null,
      "outputs": []
    },
    {
      "cell_type": "markdown",
      "source": [
        "#### **Numerical Comparisons**"
      ],
      "metadata": {
        "id": "ywJucu8I6W8v"
      }
    },
    {
      "cell_type": "code",
      "source": [],
      "metadata": {
        "id": "4G6PylWuNXF_"
      },
      "execution_count": null,
      "outputs": []
    },
    {
      "cell_type": "markdown",
      "source": [
        "#### **Checking Multiple Conditions**"
      ],
      "metadata": {
        "id": "YDN-T1Qq6cHb"
      }
    },
    {
      "cell_type": "code",
      "source": [],
      "metadata": {
        "id": "hqZfYFRZNZoM"
      },
      "execution_count": null,
      "outputs": []
    },
    {
      "cell_type": "markdown",
      "source": [
        "#### Using `and` to Check Multiple Conditions"
      ],
      "metadata": {
        "id": "1zY0O_hA6gcF"
      }
    },
    {
      "cell_type": "code",
      "source": [],
      "metadata": {
        "id": "eVT5DjBYNcEJ"
      },
      "execution_count": null,
      "outputs": []
    },
    {
      "cell_type": "markdown",
      "source": [
        "#### Using `or` to Check Multiple Conditions"
      ],
      "metadata": {
        "id": "FeACWLNT6mu2"
      }
    },
    {
      "cell_type": "code",
      "source": [],
      "metadata": {
        "id": "6IwQZdrtNdnd"
      },
      "execution_count": null,
      "outputs": []
    },
    {
      "cell_type": "markdown",
      "source": [
        "#### **Checking Whether a Value Is in a List**"
      ],
      "metadata": {
        "id": "teUP7m6V6teX"
      }
    },
    {
      "cell_type": "code",
      "source": [],
      "metadata": {
        "id": "3Y5JAsNrNhqX"
      },
      "execution_count": null,
      "outputs": []
    },
    {
      "cell_type": "markdown",
      "source": [
        "#### **Checking Whether a Value Is Not in a List**"
      ],
      "metadata": {
        "id": "5dsT4sM47W3C"
      }
    },
    {
      "cell_type": "code",
      "source": [],
      "metadata": {
        "id": "9ZkLerytNiIp"
      },
      "execution_count": null,
      "outputs": []
    },
    {
      "cell_type": "markdown",
      "source": [
        "#### **Boolean Expressions**"
      ],
      "metadata": {
        "id": "xbIcMHIj7f1_"
      }
    },
    {
      "cell_type": "code",
      "source": [],
      "metadata": {
        "id": "g4WoOatDNiv0"
      },
      "execution_count": null,
      "outputs": []
    },
    {
      "cell_type": "markdown",
      "source": [
        "---\n",
        "## **`if` Statements**"
      ],
      "metadata": {
        "id": "PpfX-VcN5hDh"
      }
    },
    {
      "cell_type": "markdown",
      "source": [
        "#### **Simple** `if` **Statements**"
      ],
      "metadata": {
        "id": "WE3IY5MJ7ldT"
      }
    },
    {
      "cell_type": "code",
      "source": [],
      "metadata": {
        "id": "pqFpQE8ENm4B"
      },
      "execution_count": null,
      "outputs": []
    },
    {
      "cell_type": "markdown",
      "source": [
        "#### `if-else` **Statements**"
      ],
      "metadata": {
        "id": "7eksekQ67peT"
      }
    },
    {
      "cell_type": "code",
      "source": [],
      "metadata": {
        "id": "FXKljH9tNoVz"
      },
      "execution_count": null,
      "outputs": []
    },
    {
      "cell_type": "markdown",
      "source": [
        "#### **The** `if-elif-else` **Chain**"
      ],
      "metadata": {
        "id": "qrNg2QfD-5fB"
      }
    },
    {
      "cell_type": "code",
      "source": [],
      "metadata": {
        "id": "k5Qmux3CNp_k"
      },
      "execution_count": null,
      "outputs": []
    },
    {
      "cell_type": "markdown",
      "source": [
        "#### **Using Multiple** `elif` **Blocks**"
      ],
      "metadata": {
        "id": "uu4Xyit2--iX"
      }
    },
    {
      "cell_type": "code",
      "source": [],
      "metadata": {
        "id": "J8vGuUGwNrak"
      },
      "execution_count": null,
      "outputs": []
    },
    {
      "cell_type": "markdown",
      "source": [
        "#### **Ommitting the** `else` **Block**"
      ],
      "metadata": {
        "id": "WS2J_dkB_G1u"
      }
    },
    {
      "cell_type": "code",
      "source": [],
      "metadata": {
        "id": "7Rl6eF_kNs1S"
      },
      "execution_count": null,
      "outputs": []
    },
    {
      "cell_type": "markdown",
      "source": [
        "#### **Testing Multiple Conditions**"
      ],
      "metadata": {
        "id": "_TLwEhSW_Lf-"
      }
    },
    {
      "cell_type": "code",
      "source": [],
      "metadata": {
        "id": "2kMJ8g1PNubb"
      },
      "execution_count": null,
      "outputs": []
    },
    {
      "cell_type": "markdown",
      "source": [
        "---\n",
        "## **Using `if` Statements with Lists**"
      ],
      "metadata": {
        "id": "qewzmxt25oIO"
      }
    },
    {
      "cell_type": "markdown",
      "source": [
        "#### **Checking for Special Items**"
      ],
      "metadata": {
        "id": "XSOL2WTr_SLj"
      }
    },
    {
      "cell_type": "code",
      "source": [],
      "metadata": {
        "id": "KcDArDiQNzhM"
      },
      "execution_count": null,
      "outputs": []
    },
    {
      "cell_type": "markdown",
      "source": [
        "#### **Checking That a List Is Not Empty**"
      ],
      "metadata": {
        "id": "x4C-0j-7_V-X"
      }
    },
    {
      "cell_type": "code",
      "source": [],
      "metadata": {
        "id": "7RkkCcl9N1Ck"
      },
      "execution_count": null,
      "outputs": []
    },
    {
      "cell_type": "markdown",
      "source": [
        "#### **Using Multiple Lists**"
      ],
      "metadata": {
        "id": "T6DQTfUS_Z5V"
      }
    },
    {
      "cell_type": "code",
      "source": [],
      "metadata": {
        "id": "DN063QYgN2ZD"
      },
      "execution_count": null,
      "outputs": []
    },
    {
      "cell_type": "markdown",
      "source": [
        "---\n",
        "## **Styling Your `if` Statements**"
      ],
      "metadata": {
        "id": "aA2YXAdF5vJm"
      }
    },
    {
      "cell_type": "code",
      "source": [],
      "metadata": {
        "id": "KrLduBG2N6q7"
      },
      "execution_count": null,
      "outputs": []
    },
    {
      "cell_type": "markdown",
      "source": [
        "---\n",
        "## **Summary**\n",
        "\n",
        "- List Items"
      ],
      "metadata": {
        "id": "Jk5L_i6Y_h4a"
      }
    }
  ]
}