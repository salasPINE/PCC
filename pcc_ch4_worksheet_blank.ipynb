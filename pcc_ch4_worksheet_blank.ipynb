{
  "cells": [
    {
      "cell_type": "markdown",
      "metadata": {
        "id": "u6F3ZR65yvPc"
      },
      "source": [
        "# **Chapter 4 - Working with Lists**"
      ]
    },
    {
      "cell_type": "markdown",
      "metadata": {
        "id": "zq_ivaIE44Rp"
      },
      "source": [
        "## LOOPING THROUGH AN ENTIRE LIST"
      ]
    },
    {
      "cell_type": "code",
      "execution_count": null,
      "metadata": {
        "id": "1vD-QVWTxhom"
      },
      "outputs": [],
      "source": []
    },
    {
      "cell_type": "markdown",
      "metadata": {
        "id": "u4KwUN36A3yT"
      },
      "source": [
        "---\n",
        "## AVOIDING INDENTATION ERRORS"
      ]
    },
    {
      "cell_type": "markdown",
      "metadata": {
        "id": "0_6Ru3STA_-X"
      },
      "source": [
        "### Forgetting to Indent."
      ]
    },
    {
      "cell_type": "code",
      "execution_count": null,
      "metadata": {
        "id": "mECPtALSBgyY"
      },
      "outputs": [],
      "source": []
    },
    {
      "cell_type": "markdown",
      "metadata": {
        "id": "mHQsQiGGCaxg"
      },
      "source": [
        "### Forgetting to Indent Additional Lines"
      ]
    },
    {
      "cell_type": "code",
      "execution_count": null,
      "metadata": {
        "id": "VZqv44p8Cpy_"
      },
      "outputs": [],
      "source": []
    },
    {
      "cell_type": "markdown",
      "metadata": {
        "id": "Dq-hoSPIDz1a"
      },
      "source": [
        "### Indenting Unnecessarily"
      ]
    },
    {
      "cell_type": "code",
      "execution_count": null,
      "metadata": {
        "id": "tdzd7MvcD89Y"
      },
      "outputs": [],
      "source": []
    },
    {
      "cell_type": "markdown",
      "metadata": {
        "id": "TBI1EfHgEO6V"
      },
      "source": [
        "### Indenting Unnecessarily After the Loop"
      ]
    },
    {
      "cell_type": "code",
      "execution_count": null,
      "metadata": {
        "id": "Qhn16VuEEhpI"
      },
      "outputs": [],
      "source": []
    },
    {
      "cell_type": "markdown",
      "metadata": {
        "id": "C2SEODRIFQkY"
      },
      "source": [
        "### Forgetting the Colon"
      ]
    },
    {
      "cell_type": "code",
      "execution_count": null,
      "metadata": {
        "id": "NHBo545BFerP"
      },
      "outputs": [],
      "source": []
    },
    {
      "cell_type": "markdown",
      "metadata": {
        "id": "rbA16TawsdId"
      },
      "source": [
        "---\n",
        "## MAKING NUMBERICAL LISTS"
      ]
    },
    {
      "cell_type": "markdown",
      "metadata": {
        "id": "e_TQJuG2sdId"
      },
      "source": [
        "### Using the `range()` Function\n"
      ]
    },
    {
      "cell_type": "code",
      "execution_count": null,
      "metadata": {
        "id": "paWi_wJLsdId"
      },
      "outputs": [],
      "source": []
    },
    {
      "cell_type": "markdown",
      "metadata": {
        "id": "cGKDDNwJlW8b"
      },
      "source": [
        "### Using `range()` to Make a List of Numbers"
      ]
    },
    {
      "cell_type": "code",
      "execution_count": null,
      "metadata": {
        "id": "E9bK5ji3lW8c"
      },
      "outputs": [],
      "source": []
    },
    {
      "cell_type": "markdown",
      "metadata": {
        "id": "Apt3cThslW8c"
      },
      "source": [
        "### List Comprehensions"
      ]
    },
    {
      "cell_type": "code",
      "execution_count": null,
      "metadata": {
        "id": "YbrcUdEDlW8c"
      },
      "outputs": [],
      "source": []
    },
    {
      "cell_type": "markdown",
      "metadata": {
        "id": "8xQm-ytclW8c"
      },
      "source": [
        "### Simple Statistics with a List of Numbers"
      ]
    },
    {
      "cell_type": "code",
      "execution_count": null,
      "metadata": {
        "id": "bZcG6yTdlW8c"
      },
      "outputs": [],
      "source": []
    },
    {
      "cell_type": "markdown",
      "metadata": {
        "id": "b-g8WYWIlW8d"
      },
      "source": [
        "---\n",
        "## WORKING WITH PART OF A LIST"
      ]
    },
    {
      "cell_type": "markdown",
      "source": [
        "### Slicing a List"
      ],
      "metadata": {
        "id": "QwiyKV4km6JT"
      }
    },
    {
      "cell_type": "code",
      "source": [],
      "metadata": {
        "id": "DvVh567pnLib"
      },
      "execution_count": null,
      "outputs": []
    },
    {
      "cell_type": "markdown",
      "source": [
        "### Looping Through a Slice"
      ],
      "metadata": {
        "id": "8uxxnkv9pYEg"
      }
    },
    {
      "cell_type": "code",
      "source": [],
      "metadata": {
        "id": "fu-DuA1eprj-"
      },
      "execution_count": null,
      "outputs": []
    },
    {
      "cell_type": "markdown",
      "source": [
        "### Copying a List"
      ],
      "metadata": {
        "id": "o4vhSY_QqBt8"
      }
    },
    {
      "cell_type": "code",
      "source": [],
      "metadata": {
        "id": "9Xi6m3icqUIB"
      },
      "execution_count": null,
      "outputs": []
    },
    {
      "cell_type": "markdown",
      "source": [
        "---\n",
        "## TUPLES"
      ],
      "metadata": {
        "id": "XtQaKoqJ5AT6"
      }
    },
    {
      "cell_type": "markdown",
      "source": [
        "### Defining a Tuple"
      ],
      "metadata": {
        "id": "HS3yFwI05OrR"
      }
    },
    {
      "cell_type": "code",
      "source": [],
      "metadata": {
        "id": "gwRGwNi95b86"
      },
      "execution_count": null,
      "outputs": []
    },
    {
      "cell_type": "markdown",
      "source": [
        "### Looping Through All Values in a Tuple"
      ],
      "metadata": {
        "id": "X0tiJNx26CL0"
      }
    },
    {
      "cell_type": "code",
      "source": [],
      "metadata": {
        "id": "SCxCYfp56IiT"
      },
      "execution_count": null,
      "outputs": []
    },
    {
      "cell_type": "markdown",
      "source": [
        "### Writing Over a Tuple"
      ],
      "metadata": {
        "id": "APxShzfN6RcX"
      }
    },
    {
      "cell_type": "code",
      "source": [],
      "metadata": {
        "id": "lJELwsVu6b3D"
      },
      "execution_count": null,
      "outputs": []
    },
    {
      "cell_type": "markdown",
      "source": [
        "---\n",
        "## STYLING YOUR CODE\n",
        "\n",
        "PEP 8 instructs programmers on how to style their code. Code will always be \"read\" more often than it is written. Always write code that is easy to read."
      ],
      "metadata": {
        "id": "yXfs4QuG_jq4"
      }
    },
    {
      "cell_type": "markdown",
      "source": [
        "### Indentation\n",
        "* Use four spaces per indentation level\n",
        "* Do not use TABS\n",
        "\n",
        "### Line Length\n",
        "* Each line should only be 80 characters per line\n",
        "* Each comment should only be 72 characters per line\n",
        "* 99 character lines are also common\n",
        "\n",
        "### Blank Lines\n",
        "* Use blank lines to group parts of your program visually.\n",
        "* Do not use multiple blank lines 3-4 between sections\n",
        "\n",
        "### Comments\n",
        "* Always use comments above your code to explain what is happening"
      ],
      "metadata": {
        "id": "lJeGvEmZ_n0n"
      }
    },
    {
      "cell_type": "markdown",
      "source": [
        "---\n",
        "## SUMMARY\n",
        "\n",
        "- List of items"
      ],
      "metadata": {
        "id": "9TYAmUeJAwKV"
      }
    }
  ],
  "metadata": {
    "colab": {
      "provenance": [],
      "toc_visible": true
    },
    "kernelspec": {
      "display_name": "Python 3",
      "name": "python3"
    },
    "language_info": {
      "codemirror_mode": {
        "name": "ipython",
        "version": 3
      },
      "file_extension": ".py",
      "mimetype": "text/x-python",
      "name": "python",
      "nbconvert_exporter": "python",
      "pygments_lexer": "ipython3",
      "version": "3.10.13"
    }
  },
  "nbformat": 4,
  "nbformat_minor": 0
}