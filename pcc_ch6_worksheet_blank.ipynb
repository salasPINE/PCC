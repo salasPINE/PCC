{
  "nbformat": 4,
  "nbformat_minor": 0,
  "metadata": {
    "colab": {
      "provenance": [],
      "toc_visible": true,
      "authorship_tag": "ABX9TyMSRdqu7FvtXAOFJJTfEzqW"
    },
    "kernelspec": {
      "name": "python3",
      "display_name": "Python 3"
    },
    "language_info": {
      "name": "python"
    }
  },
  "cells": [
    {
      "cell_type": "markdown",
      "source": [
        "# **Chapter 6 - Dictionaries**"
      ],
      "metadata": {
        "id": "u6F3ZR65yvPc"
      }
    },
    {
      "cell_type": "markdown",
      "source": [
        "---\n",
        "## **A Simple Dictionary**"
      ],
      "metadata": {
        "id": "zq_ivaIE44Rp"
      }
    },
    {
      "cell_type": "code",
      "source": [],
      "metadata": {
        "id": "QP8roXRWHYH2"
      },
      "execution_count": null,
      "outputs": []
    },
    {
      "cell_type": "markdown",
      "source": [
        "---\n",
        "## **WORKING WITH DICTIONARIES**"
      ],
      "metadata": {
        "id": "AGkTen7QGQVL"
      }
    },
    {
      "cell_type": "code",
      "source": [],
      "metadata": {
        "id": "l-6i8olllId8"
      },
      "execution_count": null,
      "outputs": []
    },
    {
      "cell_type": "markdown",
      "source": [
        "#### **Accessing Values in a Dictionary**"
      ],
      "metadata": {
        "id": "SNWpWW6R2weR"
      }
    },
    {
      "cell_type": "code",
      "source": [],
      "metadata": {
        "id": "8Raw0KMFlKyU"
      },
      "execution_count": null,
      "outputs": []
    },
    {
      "cell_type": "markdown",
      "source": [
        "#### **Adding New Key-Value Pairs**"
      ],
      "metadata": {
        "id": "oXhJiAnMDbQh"
      }
    },
    {
      "cell_type": "code",
      "source": [],
      "metadata": {
        "id": "9m3I-vERlMX9"
      },
      "execution_count": null,
      "outputs": []
    },
    {
      "cell_type": "markdown",
      "source": [
        "#### **Starting with an Empty Dictionary**"
      ],
      "metadata": {
        "id": "gPfloHKlDcFD"
      }
    },
    {
      "cell_type": "code",
      "source": [],
      "metadata": {
        "id": "zkH5IIYulOE6"
      },
      "execution_count": null,
      "outputs": []
    },
    {
      "cell_type": "markdown",
      "source": [
        "#### **Modifying Values in a Dictionary**"
      ],
      "metadata": {
        "id": "jQnDTVyFDc3K"
      }
    },
    {
      "cell_type": "code",
      "source": [],
      "metadata": {
        "id": "PYLJNgpelPoM"
      },
      "execution_count": null,
      "outputs": []
    },
    {
      "cell_type": "markdown",
      "source": [
        "#### **Removing Key-Value Pairs**"
      ],
      "metadata": {
        "id": "F5K9ba-qDds3"
      }
    },
    {
      "cell_type": "code",
      "source": [],
      "metadata": {
        "id": "JACk7LfOlRPF"
      },
      "execution_count": null,
      "outputs": []
    },
    {
      "cell_type": "markdown",
      "source": [
        "#### **A Dictionary of Similar Objects**"
      ],
      "metadata": {
        "id": "0I4O47D0HjZp"
      }
    },
    {
      "cell_type": "code",
      "source": [],
      "metadata": {
        "id": "lLNSMOjhlSsm"
      },
      "execution_count": null,
      "outputs": []
    },
    {
      "cell_type": "markdown",
      "source": [
        "#### **Using `get()` to Access Values**"
      ],
      "metadata": {
        "id": "iVJ2JocAHqtB"
      }
    },
    {
      "cell_type": "code",
      "source": [],
      "metadata": {
        "id": "2qo9lyUwlUGO"
      },
      "execution_count": null,
      "outputs": []
    },
    {
      "cell_type": "markdown",
      "source": [
        "⭐ *EXERCISES 6-1 to 6-3*"
      ],
      "metadata": {
        "id": "btwuOE-zH0td"
      }
    },
    {
      "cell_type": "markdown",
      "source": [
        "---\n",
        "## **LOOPING THROUGH A DICTIONARY**"
      ],
      "metadata": {
        "id": "VR46jm8eDWkP"
      }
    },
    {
      "cell_type": "markdown",
      "source": [
        "#### **Looping Through All Key-Value Pairs**"
      ],
      "metadata": {
        "id": "91MIhu4BDr1G"
      }
    },
    {
      "cell_type": "code",
      "source": [],
      "metadata": {
        "id": "1DSGALM-lXkF"
      },
      "execution_count": null,
      "outputs": []
    },
    {
      "cell_type": "markdown",
      "source": [
        "#### **Looping Through All the Keys in a Dictionary**"
      ],
      "metadata": {
        "id": "OXUY7sa3DsvD"
      }
    },
    {
      "cell_type": "code",
      "source": [],
      "metadata": {
        "id": "hvcNbS0QlYzN"
      },
      "execution_count": null,
      "outputs": []
    },
    {
      "cell_type": "markdown",
      "source": [
        "#### **Looping Through a Dictionary's Keys in a Particular Order**"
      ],
      "metadata": {
        "id": "oCEMwFCXDtnA"
      }
    },
    {
      "cell_type": "code",
      "source": [],
      "metadata": {
        "id": "odAAlGKJlbHt"
      },
      "execution_count": null,
      "outputs": []
    },
    {
      "cell_type": "markdown",
      "source": [
        "#### **Looping Through All Values in a Dictionary**"
      ],
      "metadata": {
        "id": "EHweHzOwDuZg"
      }
    },
    {
      "cell_type": "code",
      "source": [],
      "metadata": {
        "id": "5Iapr9LFlchL"
      },
      "execution_count": null,
      "outputs": []
    },
    {
      "cell_type": "markdown",
      "source": [
        "⭐ *EXERCISES 6-4 to 6-6*"
      ],
      "metadata": {
        "id": "HrOFZ09kDvVM"
      }
    },
    {
      "cell_type": "markdown",
      "source": [
        "---\n",
        "## **NESTING**"
      ],
      "metadata": {
        "id": "oFRV0scmDX8x"
      }
    },
    {
      "cell_type": "markdown",
      "source": [
        "#### **A List of Dictionaries**"
      ],
      "metadata": {
        "id": "E5pf51o4DwT0"
      }
    },
    {
      "cell_type": "code",
      "source": [],
      "metadata": {
        "id": "EBjGAKE6lfPA"
      },
      "execution_count": null,
      "outputs": []
    },
    {
      "cell_type": "markdown",
      "source": [
        "#### **A List in a Dictionary**"
      ],
      "metadata": {
        "id": "Yrwexw_fDxHw"
      }
    },
    {
      "cell_type": "code",
      "source": [],
      "metadata": {
        "id": "jzhWn3W_lg6b"
      },
      "execution_count": null,
      "outputs": []
    },
    {
      "cell_type": "markdown",
      "source": [
        "#### **A Dictionary in a Dictionary**"
      ],
      "metadata": {
        "id": "FE-yvxAzDx3m"
      }
    },
    {
      "cell_type": "code",
      "source": [],
      "metadata": {
        "id": "b_PSW9qyljzO"
      },
      "execution_count": null,
      "outputs": []
    },
    {
      "cell_type": "markdown",
      "source": [
        "⭐ *EXERCISES 6-7 to 6-12*"
      ],
      "metadata": {
        "id": "sc-MosLPDyk4"
      }
    },
    {
      "cell_type": "markdown",
      "source": [
        "---\n",
        "## **SUMMARY**"
      ],
      "metadata": {
        "id": "EzBh_fZWDzbG"
      }
    }
  ]
}