{
 "cells": [
  {
   "cell_type": "markdown",
   "metadata": {
    "id": "EbXSfCYQ85RB"
   },
   "source": [
    "# **Chapter 3 Exercises**"
   ]
  },
  {
   "cell_type": "markdown",
   "metadata": {
    "id": "hKZ34sMI-io5"
   },
   "source": [
    "## 3-1 Names\n",
    "\n",
    "Store the names of a few of your friends in a list called names. Print each person’s name by accessing each element in the list, one at a time."
   ]
  },
  {
   "cell_type": "code",
   "execution_count": 2,
   "metadata": {
    "colab": {
     "base_uri": "https://localhost:8080/"
    },
    "id": "8HfOiQHU82p7",
    "outputId": "f37433db-7a42-4883-f661-022db98908a3"
   },
   "outputs": [
    {
     "name": "stdout",
     "output_type": "stream",
     "text": [
      "Alexander\n",
      "Adam\n",
      "Jorge\n",
      "Juan\n",
      "Jennifer\n",
      "Maria\n"
     ]
    }
   ],
   "source": [
    "# 3.1_names_zu.py\n",
    "\n",
    "# list with names\n",
    "names = ['Alexander', 'Adam', 'Jorge', 'Juan', 'Jennifer', 'Maria']\n",
    "\n",
    "# print one item per line\n",
    "print(names[0])\n",
    "print(names[1])\n",
    "print(names[2])\n",
    "print(names[3])\n",
    "print(names[4])\n",
    "print(names[5])"
   ]
  },
  {
   "cell_type": "markdown",
   "metadata": {
    "id": "inxB6tWa-vh2"
   },
   "source": [
    "## 3-2 Greetings\n",
    "\n",
    "Start with the list you used in Exercise 3-1, but instead of just printing each persons name, print a message to them. The text of each message should be the same, but each message should be personalized with the persons name"
   ]
  },
  {
   "cell_type": "code",
   "execution_count": null,
   "metadata": {
    "colab": {
     "base_uri": "https://localhost:8080/"
    },
    "id": "tcIYHsHj-Ga4",
    "outputId": "79043c38-9850-4d5b-801d-58bef7a579e6"
   },
   "outputs": [
    {
     "name": "stdout",
     "output_type": "stream",
     "text": [
      "Welcome to Tech class London\n",
      "Welcome to Tech class Olivia\n",
      "Welcome to Tech class Derek\n",
      "Welcome to Tech class Charlie\n",
      "Welcome to Tech class Kanner\n",
      "Welcome to Tech class Brock\n"
     ]
    }
   ],
   "source": [
    "# 3.2_greetings_zu.py\n",
    "\n",
    "# list of names\n",
    "names = ['Alexander', 'Adam', 'Jorge', 'Juan', 'Jennifer', 'Maria']\n",
    "\n",
    "# variables with welcome message for each person\n",
    "message0 = f\"Welcome to Tech class {names[0]}\"\n",
    "message1 = f\"Welcome to Tech class {names[1]}\"\n",
    "message2 = f\"Welcome to Tech class {names[2]}\"\n",
    "message3 = f\"Welcome to Tech class {names[3]}\"\n",
    "message4 = f\"Welcome to Tech class {names[4]}\"\n",
    "message5 = f\"Welcome to Tech class {names[5]}\"\n",
    "\n",
    "# print each personalized message\n",
    "print(message0)\n",
    "print(message1)\n",
    "print(message2)\n",
    "print(message3)\n",
    "print(message4)\n",
    "print(message5)"
   ]
  },
  {
   "cell_type": "markdown",
   "metadata": {
    "id": "tbOFj9vq_DI-"
   },
   "source": [
    "## 3-3 Your Own List\n",
    "\n",
    "Think of your favorite mode of transportation, such as a motorcycle or a car, and make a list that stores several examples. Use your list to print a series of statements about these items, such as \"I would like to own a Honda motorcycle.\""
   ]
  },
  {
   "cell_type": "code",
   "execution_count": null,
   "metadata": {
    "colab": {
     "base_uri": "https://localhost:8080/"
    },
    "id": "Rw3teboJ-TaQ",
    "outputId": "cfcc9a85-8a2e-4794-ce7f-acf08a335576"
   },
   "outputs": [
    {
     "name": "stdout",
     "output_type": "stream",
     "text": [
      "I would love to own a Fiat 500 modern remake\n",
      "Having a SCOOTER to ride to work would be great\n"
     ]
    }
   ],
   "source": [
    "# 3.3_your_own_list\n",
    "\n",
    "# list\n",
    "transport = ['fiat', 'ebike', 'scooter', 'nissan']\n",
    "\n",
    "# two personalized messages\n",
    "message1 = f\"I would love to own a {transport[0].title()} 500 modern remake\"\n",
    "print(message1)\n",
    "\n",
    "message2 = f\"Having a {transport[2].upper()} to ride to work would be great\"\n",
    "print(message2)"
   ]
  },
  {
   "cell_type": "markdown",
   "metadata": {
    "id": "AdKSwpyl_arx"
   },
   "source": [
    "---\n",
    "## 3-4 Guest List\n",
    "\n",
    "If you could invite anyone, living or deceased, to dinner, who would you invite?\n",
    "* Make a list that includes at least three people you’d like to invite to dinner.\n",
    "* Then use your list to print a message to each person, inviting them to dinner."
   ]
  },
  {
   "cell_type": "code",
   "execution_count": 1,
   "metadata": {
    "colab": {
     "base_uri": "https://localhost:8080/"
    },
    "id": "0SwgrgoT_WYo",
    "outputId": "5f79d344-5605-45c8-cc46-a19379937f74"
   },
   "outputs": [
    {
     "name": "stdout",
     "output_type": "stream",
     "text": [
      "Mozart, you are cordially invited to dinner.\n",
      "Ghandi, you are cordially invited to dinner.\n",
      "Franco, you are cordially invited to dinner.\n",
      "Mozart, you are cordially invited to dinner.\n",
      "Ghandi, you are cordially invited to dinner.\n",
      "Franco, you are cordially invited to dinner.\n"
     ]
    }
   ],
   "source": [
    "# 3.4_GuestList_zu.py\n",
    "\n",
    "# guest list\n",
    "guests = ['mozart', 'ghandi', 'franco']\n",
    "\n",
    "# dinner message\n",
    "dinnermsg = \"you are cordially invited to dinner.\"\n",
    "\n",
    "# print each guest a dinner message\n",
    "print(f\"{guests[0].title()}, {dinnermsg}\")\n",
    "print(f\"{guests[1].title()}, {dinnermsg}\")\n",
    "print(f\"{guests[2].title()}, {dinnermsg}\")\n",
    "\n",
    "# alternate\n",
    "print(f\"{guests[0].title()}, you are cordially invited to dinner.\")\n",
    "print(f\"{guests[1].title()}, you are cordially invited to dinner.\")\n",
    "print(f\"{guests[2].title()}, you are cordially invited to dinner.\")\n"
   ]
  },
  {
   "cell_type": "markdown",
   "metadata": {
    "id": "00XB5uez_2uz"
   },
   "source": [
    "## 3-5 Changing Guest List\n",
    "\n",
    "You just heard that one of your guests can’t make the dinner, so you need to send out a new set of invitations. You’ll have to think of someone else to invite.\n",
    "\n",
    "* Start with your program from Exercise 3-4. Add a print() call at the end of\n",
    "your program, stating the name of the guest who can’t make it.\n",
    "* Modify your list, replacing the name of the guest who can’t make it with the\n",
    "name of the new person you are inviting.\n",
    "* Print a second set of invitation messages, one for each person who is still in\n",
    "your list."
   ]
  },
  {
   "cell_type": "code",
   "execution_count": null,
   "metadata": {
    "colab": {
     "base_uri": "https://localhost:8080/"
    },
    "id": "4vDJ_F2GARPP",
    "outputId": "621bc234-5a8c-4612-819c-7371dee70f8f"
   },
   "outputs": [
    {
     "name": "stdout",
     "output_type": "stream",
     "text": [
      "Mr. Mozart, you are cordially invited to dinner.\n",
      "Mr. Ghandi, you are cordially invited to dinner.\n",
      "Mr. Franco, you are cordially invited to dinner.\n",
      "\n",
      "Mr. Franco cannot make it to dinner\n",
      "\n",
      "Mr. Mozart, you are cordially invited to dinner.\n",
      "Mr. Ghandi, you are cordially invited to dinner.\n",
      "Mr. Beethoven, you are cordially invited to dinner.\n"
     ]
    }
   ],
   "source": [
    "# 3.5_ChangingGuestList_zu.py\n",
    "\n",
    "# guest list\n",
    "guests = ['mozart', 'ghandi', 'franco']\n",
    "\n",
    "# dinner message\n",
    "dinnermsg = \"you are cordially invited to dinner.\"\n",
    "\n",
    "# print each guest a dinner message\n",
    "print(f\"Mr. {guests[0].title()}, {dinnermsg}\")\n",
    "print(f\"Mr. {guests[1].title()}, {dinnermsg}\")\n",
    "print(f\"Mr. {guests[2].title()}, {dinnermsg}\")\n",
    "\n",
    "print()\n",
    "# print the person who cannot make it, removed from end of list\n",
    "print(f\"Mr. {guests[-1].title()} cannot make it to dinner\")\n",
    "\n",
    "# remove the last person from the list and replace them\n",
    "guests[-1] = 'beethoven'\n",
    "\n",
    "print()\n",
    "\n",
    "# print the invitations again\n",
    "print(f\"Mr. {guests[0].title()}, {dinnermsg}\")\n",
    "print(f\"Mr. {guests[1].title()}, {dinnermsg}\")\n",
    "print(f\"Mr. {guests[2].title()}, {dinnermsg}\")\n"
   ]
  },
  {
   "cell_type": "markdown",
   "metadata": {
    "id": "cgeMq8NVAZ8v"
   },
   "source": [
    "## 3-6 More Guests\n",
    "\n",
    "You just found a bigger dinner table, so now more space is available. Think of three more guests to invite to dinner.\n",
    "\n",
    "* Start with your program from Exercise 3-5. Add a print() call to the end of your program, informing people that you found a bigger table.\n",
    "* Use insert() to add one new guest to the beginning of your list.\n",
    "* Use insert() to add one new guest to the middle of your list.\n",
    "* Use append() to add one new guest to the end of your list.\n",
    "* Print a new set of invitation messages, one for each person in your list.\n",
    "\n"
   ]
  },
  {
   "cell_type": "code",
   "execution_count": null,
   "metadata": {
    "colab": {
     "base_uri": "https://localhost:8080/"
    },
    "id": "e9UNuAgXAaJj",
    "outputId": "caedb30d-83e4-4e0d-bf79-de9f1c950d82"
   },
   "outputs": [
    {
     "name": "stdout",
     "output_type": "stream",
     "text": [
      "Mr. Mozart, you are cordially invited to dinner.\n",
      "Mr. Ghandi, you are cordially invited to dinner.\n",
      "Mr. Franco, you are cordially invited to dinner.\n",
      "\n",
      "Mr. Franco cannot make it to dinner\n",
      "\n",
      "Mr. Mozart, you are cordially invited to dinner.\n",
      "Mr. Ghandi, you are cordially invited to dinner.\n",
      "Mr. Beethoven, you are cordially invited to dinner.\n",
      "\n",
      "Good news! We have found a bigger table for dinner and will be adding additional guests.\n",
      "\n",
      "Mr. Vivaldi, you are cordially invited to dinner.\n",
      "Mr. Mozart, you are cordially invited to dinner.\n",
      "Mr. Shostakovich, you are cordially invited to dinner.\n",
      "Mr. Ghandi, you are cordially invited to dinner.\n",
      "Mr. Beethoven, you are cordially invited to dinner.\n",
      "Mr. Lenin, you are cordially invited to dinner.\n"
     ]
    }
   ],
   "source": [
    "# 3.6_MoreGuests_zu.py\n",
    "\n",
    "# guest list\n",
    "guests = ['mozart', 'ghandi', 'franco']\n",
    "\n",
    "# dinner message\n",
    "dinnermsg = \"you are cordially invited to dinner.\"\n",
    "\n",
    "# print each guest a dinner message\n",
    "print(f\"Mr. {guests[0].title()}, {dinnermsg}\")\n",
    "print(f\"Mr. {guests[1].title()}, {dinnermsg}\")\n",
    "print(f\"Mr. {guests[2].title()}, {dinnermsg}\")\n",
    "\n",
    "print()\n",
    "# print the person who cannot make it, removed from end of list\n",
    "print(f\"Mr. {guests[-1].title()} cannot make it to dinner\")\n",
    "\n",
    "# remove the last person from the list and replace them\n",
    "guests[-1] = 'beethoven'\n",
    "\n",
    "print()\n",
    "\n",
    "# print the invitations again\n",
    "print(f\"Mr. {guests[0].title()}, {dinnermsg}\")\n",
    "print(f\"Mr. {guests[1].title()}, {dinnermsg}\")\n",
    "print(f\"Mr. {guests[2].title()}, {dinnermsg}\")\n",
    "\n",
    "print()\n",
    "# inform the guests that we now have a bigger table\n",
    "print(\"Good news! We have found a bigger table for dinner and will be adding additional guests.\")\n",
    "\n",
    "# insert and append the new guests to our list\n",
    "guests.insert(0, 'vivaldi')\n",
    "guests.insert(2, 'shostakovich')\n",
    "guests.append('lenin')\n",
    "\n",
    "# check to make sure our list is OK\n",
    "# print(guests)\n",
    "# print(len(guests))\n",
    "\n",
    "print()\n",
    "# print the invitations again\n",
    "print(f\"Mr. {guests[0].title()}, {dinnermsg}\")\n",
    "print(f\"Mr. {guests[1].title()}, {dinnermsg}\")\n",
    "print(f\"Mr. {guests[2].title()}, {dinnermsg}\")\n",
    "print(f\"Mr. {guests[3].title()}, {dinnermsg}\")\n",
    "print(f\"Mr. {guests[4].title()}, {dinnermsg}\")\n",
    "print(f\"Mr. {guests[5].title()}, {dinnermsg}\")\n"
   ]
  },
  {
   "cell_type": "markdown",
   "metadata": {
    "id": "BBhMyoZ1A9i6"
   },
   "source": [
    "## 3-7 Shrinking Guest List\n",
    "\n",
    "You just found out that your new dinner table won’t arrive in time for the dinner, and now you have space for only two guests.\n",
    "\n",
    "* Start with your program from Exercise 3-6. Add a new line that prints a message saying that you can invite only two people for dinner.\n",
    "* Use pop() to remove guests from your list one at a time until only two names remain in your list. Each time you pop a name from your list, print a message to that person letting them know you’re sorry you can’t invite them to dinner.\n",
    "* Print a message to each of the two people still on your list, letting them know they’re still invited.\n",
    "* Use del to remove the last two names from your list, so you have an empty list. Print your list to make sure you actually have an empty list at the end of **your** program."
   ]
  },
  {
   "cell_type": "code",
   "execution_count": null,
   "metadata": {
    "colab": {
     "base_uri": "https://localhost:8080/"
    },
    "id": "lC7CKBnxBO6i",
    "outputId": "65754fc2-6ff9-47b1-b794-2a5ca325b6be"
   },
   "outputs": [
    {
     "name": "stdout",
     "output_type": "stream",
     "text": [
      "Mr. Mozart, you are cordially invited to dinner.\n",
      "Mr. Ghandi, you are cordially invited to dinner.\n",
      "Mr. Franco, you are cordially invited to dinner.\n",
      "\n",
      "Mr. Franco cannot make it to dinner\n",
      "\n",
      "Mr. Mozart, you are cordially invited to dinner.\n",
      "Mr. Ghandi, you are cordially invited to dinner.\n",
      "Mr. Beethoven, you are cordially invited to dinner.\n",
      "\n",
      "Good news! We have found a bigger table for dinner and will be adding additional guests.\n",
      "\n",
      "Mr. Vivaldi, you are cordially invited to dinner.\n",
      "Mr. Mozart, you are cordially invited to dinner.\n",
      "Mr. Shostakovich, you are cordially invited to dinner.\n",
      "Mr. Ghandi, you are cordially invited to dinner.\n",
      "Mr. Beethoven, you are cordially invited to dinner.\n",
      "Mr. Lenin, you are cordially invited to dinner.\n",
      "\n",
      "Unfortunately, only two people will be able to attend dinner now.\n",
      "\n",
      "Vivaldi, you are no longer invited to dinner.\n",
      "Mozart, you are no longer invited to dinner.\n",
      "Shostakovich, you are no longer invited to dinner.\n",
      "Ghandi, you are no longer invited to dinner.\n",
      "\n",
      "Mr. Beethoven, you are still invited to dinner.\n",
      "Mr. Lenin, you are still invited to dinner.\n",
      "[]\n"
     ]
    }
   ],
   "source": [
    "# 3.7_ShrinkingGuestList_zu.py\n",
    "\n",
    "# Code from 3.6\n",
    "# guest list\n",
    "guests = ['mozart', 'ghandi', 'franco']\n",
    "\n",
    "# dinner message\n",
    "dinnermsg = \"you are cordially invited to dinner.\"\n",
    "\n",
    "# print each guest a dinner message\n",
    "print(f\"Mr. {guests[0].title()}, {dinnermsg}\")\n",
    "print(f\"Mr. {guests[1].title()}, {dinnermsg}\")\n",
    "print(f\"Mr. {guests[2].title()}, {dinnermsg}\")\n",
    "\n",
    "print()\n",
    "# print the person who cannot make it, removed from end of list\n",
    "print(f\"Mr. {guests[-1].title()} cannot make it to dinner\")\n",
    "\n",
    "# remove the last person from the list and replace them\n",
    "guests[-1] = 'beethoven'\n",
    "\n",
    "print()\n",
    "\n",
    "# print the invitations again\n",
    "print(f\"Mr. {guests[0].title()}, {dinnermsg}\")\n",
    "print(f\"Mr. {guests[1].title()}, {dinnermsg}\")\n",
    "print(f\"Mr. {guests[2].title()}, {dinnermsg}\")\n",
    "\n",
    "print()\n",
    "# inform the guests that we now have a bigger table\n",
    "print(\"Good news! We have found a bigger table for dinner and will be adding additional guests.\")\n",
    "\n",
    "# insert and append the new guests to our list\n",
    "guests.insert(0, 'vivaldi')\n",
    "guests.insert(2, 'shostakovich')\n",
    "guests.append('lenin')\n",
    "\n",
    "# check to make sure our list is OK\n",
    "# print(guests)\n",
    "# print(len(guests))\n",
    "\n",
    "print()\n",
    "# print the invitations again\n",
    "print(f\"Mr. {guests[0].title()}, {dinnermsg}\")\n",
    "print(f\"Mr. {guests[1].title()}, {dinnermsg}\")\n",
    "print(f\"Mr. {guests[2].title()}, {dinnermsg}\")\n",
    "print(f\"Mr. {guests[3].title()}, {dinnermsg}\")\n",
    "print(f\"Mr. {guests[4].title()}, {dinnermsg}\")\n",
    "print(f\"Mr. {guests[5].title()}, {dinnermsg}\")\n",
    "\n",
    "\n",
    "# 3.7 New Code\n",
    "\n",
    "print()\n",
    "print(\"Unfortunately, only two people will be able to attend dinner now.\")\n",
    "\n",
    "print()\n",
    "noguest = guests.pop(0)\n",
    "print(f\"{noguest.title()}, you are no longer invited to dinner.\")\n",
    "noguest = guests.pop(0)\n",
    "print(f\"{noguest.title()}, you are no longer invited to dinner.\")\n",
    "noguest = guests.pop(0)\n",
    "print(f\"{noguest.title()}, you are no longer invited to dinner.\")\n",
    "noguest = guests.pop(0)\n",
    "print(f\"{noguest.title()}, you are no longer invited to dinner.\")\n",
    "\n",
    "# to check my list and how many are in it\n",
    "# print(guests)\n",
    "# print(len(guests))\n",
    "\n",
    "# dinner message\n",
    "dinnermsg2 = \"you are still invited to dinner.\"\n",
    "\n",
    "print()\n",
    "# print the invitations again\n",
    "print(f\"Mr. {guests[0].title()}, {dinnermsg2}\")\n",
    "print(f\"Mr. {guests[1].title()}, {dinnermsg2}\")\n",
    "\n",
    "\n",
    "# delete the last two guests\n",
    "del guests[0]\n",
    "del guests[0]\n",
    "\n",
    "# empty list proof\n",
    "print(guests)"
   ]
  },
  {
   "cell_type": "markdown",
   "metadata": {
    "id": "A-r-Zl1HBmXw"
   },
   "source": [
    "---\n",
    "## 3-8 Seeing the World\n",
    "\n",
    "Think of at least five places in the world you’d like to visit.\n",
    "\n",
    "* Store the locations in a list. Make sure the list is not in alphabetical order.\n",
    "* Print your list in its original order. Don’t worry about printing the list neatly; just print it as a raw Python list.\n",
    "* Use sorted() to print your list in alphabetical order without modifying the actual list.\n",
    "* Show that your list is still in its original order by printing it.\n",
    "* Use sorted() to print your list in reverse-alphabetical order without changing the order of the original list.\n",
    "* Show that your list is still in its original order by printing it again.\n",
    "* Use reverse() to change the order of your list. Print the list to show that its order has changed.\n",
    "* Use reverse() to change the order of your list again. Print the list to show it’s back to its original order.\n",
    "* Use sort() to change your list so it’s stored in alphabetical order. Print the list to show that its order has been changed.\n",
    "* Use sort() to change your list so it’s stored in reverse-alphabetical order. Print the list to show that its order has changed.\n"
   ]
  },
  {
   "cell_type": "code",
   "execution_count": null,
   "metadata": {
    "colab": {
     "base_uri": "https://localhost:8080/"
    },
    "id": "yYzhntZjB_9W",
    "outputId": "d0d4fd5f-85be-4169-9c00-a7686d1744e3"
   },
   "outputs": [
    {
     "name": "stdout",
     "output_type": "stream",
     "text": [
      "Original order:\n",
      "['sydney', 'tokyo', 'budapest', 'moscow', 'london']\n",
      "\n",
      "Alphabetical:\n",
      "['budapest', 'london', 'moscow', 'sydney', 'tokyo']\n",
      "\n",
      "Original order:\n",
      "['sydney', 'tokyo', 'budapest', 'moscow', 'london']\n",
      "\n",
      "Reverse alphabetical:\n",
      "['tokyo', 'sydney', 'moscow', 'london', 'budapest']\n",
      "\n",
      "Original order:\n",
      "['sydney', 'tokyo', 'budapest', 'moscow', 'london']\n",
      "\n",
      "Reversed:\n",
      "['london', 'moscow', 'budapest', 'tokyo', 'sydney']\n",
      "\n",
      "Original order:\n",
      "['sydney', 'tokyo', 'budapest', 'moscow', 'london']\n",
      "\n",
      "Alphabetical\n",
      "['budapest', 'london', 'moscow', 'sydney', 'tokyo']\n",
      "\n",
      "Reverse alphabetical:\n",
      "['tokyo', 'sydney', 'moscow', 'london', 'budapest']\n"
     ]
    }
   ],
   "source": [
    "# 3.8_SeeingTheWorld_zu.py\n",
    "\n",
    "places = ['sydney', 'tokyo', 'budapest', 'moscow', 'london']\n",
    "\n",
    "print(\"Original order:\")\n",
    "print(places)\n",
    "\n",
    "print(\"\\nAlphabetical:\")\n",
    "print(sorted(places))\n",
    "print(\"\\nOriginal order:\")\n",
    "print(places)\n",
    "\n",
    "print(\"\\nReverse alphabetical:\")\n",
    "print(sorted(places, reverse=True))\n",
    "print(\"\\nOriginal order:\")\n",
    "print(places)\n",
    "\n",
    "print(\"\\nReversed:\")\n",
    "places.reverse()\n",
    "print(places)\n",
    "\n",
    "print(\"\\nOriginal order:\")\n",
    "places.reverse()\n",
    "print(places)\n",
    "\n",
    "print(\"\\nAlphabetical\")\n",
    "places.sort()\n",
    "print(places)\n",
    "\n",
    "print(\"\\nReverse alphabetical:\")\n",
    "places.sort(reverse=True)\n",
    "print(places)"
   ]
  },
  {
   "cell_type": "markdown",
   "metadata": {
    "id": "R4wWMgc8CFC9"
   },
   "source": [
    "## 3-9 Dinner Guests\n",
    "\n",
    "Working with one of the programs from Exercises 3-4 through 3-7, use len() to print a message indicating the number of people you’re inviting to dinner."
   ]
  },
  {
   "cell_type": "code",
   "execution_count": null,
   "metadata": {
    "colab": {
     "base_uri": "https://localhost:8080/"
    },
    "id": "y3EURpBeCNJ6",
    "outputId": "b01207b9-c7c3-456e-aee1-133000486e5a"
   },
   "outputs": [
    {
     "name": "stdout",
     "output_type": "stream",
     "text": [
      "Mr. Mozart, you are cordially invited to dinner.\n",
      "Mr. Ghandi, you are cordially invited to dinner.\n",
      "Mr. Franco, you are cordially invited to dinner.\n",
      "\n",
      "There are 3 guests coming to dinner.\n"
     ]
    }
   ],
   "source": [
    "# 3.9_DinnerGuests_zu.py\n",
    "\n",
    "# guest list\n",
    "guests = ['mozart', 'ghandi', 'franco']\n",
    "\n",
    "# dinner message\n",
    "dinnermsg = \"you are cordially invited to dinner.\"\n",
    "\n",
    "# print each guest a dinner message\n",
    "print(f\"Mr. {guests[0].title()}, {dinnermsg}\")\n",
    "print(f\"Mr. {guests[1].title()}, {dinnermsg}\")\n",
    "print(f\"Mr. {guests[2].title()}, {dinnermsg}\")\n",
    "\n",
    "print()\n",
    "# how many are coming?\n",
    "print(f\"There are {len(guests)} guests coming to dinner.\")"
   ]
  },
  {
   "cell_type": "markdown",
   "metadata": {
    "id": "zHu0LoINCP_V"
   },
   "source": [
    "## 3-10 Every Function\n",
    "\n",
    "Think of things you could store in a list. For example, you could make a list of mountains, rivers, countries, cities, languages, or anything else you’d like. Write a program that creates a list containing these items and then uses each function introduced in this chapter at least once."
   ]
  },
  {
   "cell_type": "code",
   "execution_count": null,
   "metadata": {
    "id": "0MMDa6IhCad1"
   },
   "outputs": [],
   "source": [
    "# 3.10_EveryFunction_zu.py\n",
    "\n"
   ]
  }
 ],
 "metadata": {
  "colab": {
   "provenance": [],
   "toc_visible": true
  },
  "kernelspec": {
   "display_name": "Python 3 (ipykernel)",
   "language": "python",
   "name": "python3"
  },
  "language_info": {
   "codemirror_mode": {
    "name": "ipython",
    "version": 3
   },
   "file_extension": ".py",
   "mimetype": "text/x-python",
   "name": "python",
   "nbconvert_exporter": "python",
   "pygments_lexer": "ipython3",
   "version": "3.10.11"
  }
 },
 "nbformat": 4,
 "nbformat_minor": 4
}
