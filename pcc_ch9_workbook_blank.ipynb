{
  "nbformat": 4,
  "nbformat_minor": 0,
  "metadata": {
    "colab": {
      "provenance": [],
      "toc_visible": true
    },
    "kernelspec": {
      "name": "python3",
      "display_name": "Python 3"
    },
    "language_info": {
      "name": "python"
    }
  },
  "cells": [
    {
      "cell_type": "markdown",
      "source": [
        "# **Chapter 9 - Classes**"
      ],
      "metadata": {
        "id": "u6F3ZR65yvPc"
      }
    },
    {
      "cell_type": "markdown",
      "source": [
        "---\n",
        "## **CREATING AND USING A CLASS**"
      ],
      "metadata": {
        "id": "zq_ivaIE44Rp"
      }
    },
    {
      "cell_type": "markdown",
      "source": [
        "#### **Creating the Dog Class / The __init__() Method**"
      ],
      "metadata": {
        "id": "SNWpWW6R2weR"
      }
    },
    {
      "cell_type": "code",
      "source": [],
      "metadata": {
        "id": "uV5QPqPO4Ykf"
      },
      "execution_count": null,
      "outputs": []
    },
    {
      "cell_type": "markdown",
      "source": [
        "#### **Making an Instance from a Class**"
      ],
      "metadata": {
        "id": "oXhJiAnMDbQh"
      }
    },
    {
      "cell_type": "code",
      "source": [],
      "metadata": {
        "id": "wSjn8nkl4Zx2"
      },
      "execution_count": null,
      "outputs": []
    },
    {
      "cell_type": "markdown",
      "source": [
        "<u>Accessing Attributes</u>"
      ],
      "metadata": {
        "id": "gPfloHKlDcFD"
      }
    },
    {
      "cell_type": "code",
      "source": [],
      "metadata": {
        "id": "ONReY5324bA_"
      },
      "execution_count": null,
      "outputs": []
    },
    {
      "cell_type": "markdown",
      "source": [
        "<u>Calling Methods</u>"
      ],
      "metadata": {
        "id": "jQnDTVyFDc3K"
      }
    },
    {
      "cell_type": "code",
      "source": [],
      "metadata": {
        "id": "NnrByCpU4coe"
      },
      "execution_count": null,
      "outputs": []
    },
    {
      "cell_type": "markdown",
      "source": [
        "<u>Creating Multiple Instances</u>"
      ],
      "metadata": {
        "id": "F5K9ba-qDds3"
      }
    },
    {
      "cell_type": "code",
      "source": [],
      "metadata": {
        "id": "b80ebyqW4eTL"
      },
      "execution_count": null,
      "outputs": []
    },
    {
      "cell_type": "markdown",
      "source": [
        "⭐ *EXERCISES 9-1 to 9-3*"
      ],
      "metadata": {
        "id": "-PBU7OUNW4TH"
      }
    },
    {
      "cell_type": "markdown",
      "source": [
        "---\n",
        "## **WORKING WITH CLASSES AND INSTANCES**"
      ],
      "metadata": {
        "id": "VR46jm8eDWkP"
      }
    },
    {
      "cell_type": "markdown",
      "source": [
        "#### **The Car Class**"
      ],
      "metadata": {
        "id": "91MIhu4BDr1G"
      }
    },
    {
      "cell_type": "code",
      "source": [],
      "metadata": {
        "id": "tEvdP3M04g2J"
      },
      "execution_count": null,
      "outputs": []
    },
    {
      "cell_type": "markdown",
      "source": [
        "#### **Setting a Default Value for an Attribute**"
      ],
      "metadata": {
        "id": "OXUY7sa3DsvD"
      }
    },
    {
      "cell_type": "code",
      "source": [],
      "metadata": {
        "id": "gaE3cuHw4iF5"
      },
      "execution_count": null,
      "outputs": []
    },
    {
      "cell_type": "markdown",
      "source": [
        "#### **Modifying Attribute Values**"
      ],
      "metadata": {
        "id": "oCEMwFCXDtnA"
      }
    },
    {
      "cell_type": "markdown",
      "source": [
        "<u>Modifying an Attribute's Value Directly</u>"
      ],
      "metadata": {
        "id": "_yieleY0F9rN"
      }
    },
    {
      "cell_type": "code",
      "source": [],
      "metadata": {
        "id": "G54nOPNg4jbP"
      },
      "execution_count": null,
      "outputs": []
    },
    {
      "cell_type": "markdown",
      "source": [
        "<u>Modifying an Attribute's Value Through a Method</u>"
      ],
      "metadata": {
        "id": "EHweHzOwDuZg"
      }
    },
    {
      "cell_type": "code",
      "source": [],
      "metadata": {
        "id": "BDVGRaTM4ryg"
      },
      "execution_count": null,
      "outputs": []
    },
    {
      "cell_type": "markdown",
      "source": [
        "<u>Incrementing an Attribute’s Value Through a Method</u>"
      ],
      "metadata": {
        "id": "HrOFZ09kDvVM"
      }
    },
    {
      "cell_type": "code",
      "source": [],
      "metadata": {
        "id": "SQSE6VL74tMH"
      },
      "execution_count": null,
      "outputs": []
    },
    {
      "cell_type": "markdown",
      "source": [
        "⭐ *EXERCISES 9-4 to 9-5*"
      ],
      "metadata": {
        "id": "8TUWcl1AW8iv"
      }
    },
    {
      "cell_type": "markdown",
      "source": [
        "---\n",
        "## **INHERITANCE**"
      ],
      "metadata": {
        "id": "oFRV0scmDX8x"
      }
    },
    {
      "cell_type": "markdown",
      "source": [
        "#### **The `__init__()` Method for a Child Class**"
      ],
      "metadata": {
        "id": "E5pf51o4DwT0"
      }
    },
    {
      "cell_type": "code",
      "source": [],
      "metadata": {
        "id": "iZLxGkZz4wRC"
      },
      "execution_count": null,
      "outputs": []
    },
    {
      "cell_type": "markdown",
      "source": [
        "#### **Defining Attributes and Methods for the Child Class**"
      ],
      "metadata": {
        "id": "Yrwexw_fDxHw"
      }
    },
    {
      "cell_type": "code",
      "source": [],
      "metadata": {
        "id": "MzFnVweo4xxN"
      },
      "execution_count": null,
      "outputs": []
    },
    {
      "cell_type": "markdown",
      "source": [
        "#### **Overriding Methods from the Parent Class**"
      ],
      "metadata": {
        "id": "FE-yvxAzDx3m"
      }
    },
    {
      "cell_type": "code",
      "source": [],
      "metadata": {
        "id": "QclYrFKD4zBK"
      },
      "execution_count": null,
      "outputs": []
    },
    {
      "cell_type": "markdown",
      "source": [
        "#### **Instances as Attributes**"
      ],
      "metadata": {
        "id": "sc-MosLPDyk4"
      }
    },
    {
      "cell_type": "code",
      "source": [],
      "metadata": {
        "id": "-kuCZSjP40XU"
      },
      "execution_count": null,
      "outputs": []
    },
    {
      "cell_type": "markdown",
      "source": [],
      "metadata": {
        "id": "2jrI4vPYIMyF"
      }
    },
    {
      "cell_type": "markdown",
      "source": [
        "⭐ *EXERCISES 9-6 to 9-9*"
      ],
      "metadata": {
        "id": "O6BREAqSXAAw"
      }
    },
    {
      "cell_type": "markdown",
      "source": [
        "---\n",
        "## **IMPORTING CLASSES**"
      ],
      "metadata": {
        "id": "BSybHkAsHFTG"
      }
    },
    {
      "cell_type": "markdown",
      "source": [
        "#### **Importing a Single Class**"
      ],
      "metadata": {
        "id": "vF22qZknHIn_"
      }
    },
    {
      "cell_type": "code",
      "source": [],
      "metadata": {
        "id": "5udzwgg-HTLB"
      },
      "execution_count": null,
      "outputs": []
    },
    {
      "cell_type": "markdown",
      "source": [
        "#### **Storing Multiple Classes in a Module**"
      ],
      "metadata": {
        "id": "K5RmUaGxHJX9"
      }
    },
    {
      "cell_type": "code",
      "source": [],
      "metadata": {
        "id": "SpxeOpMNHYpE"
      },
      "execution_count": null,
      "outputs": []
    },
    {
      "cell_type": "markdown",
      "source": [
        "#### **Importing Multiple Classes from a Module**"
      ],
      "metadata": {
        "id": "RbgC6WQmHJ-o"
      }
    },
    {
      "cell_type": "code",
      "source": [],
      "metadata": {
        "id": "fZUqvCYuHcxf"
      },
      "execution_count": null,
      "outputs": []
    },
    {
      "cell_type": "markdown",
      "source": [
        "#### **Importing an Entire Module**"
      ],
      "metadata": {
        "id": "KhnOgwQbHKTA"
      }
    },
    {
      "cell_type": "code",
      "source": [],
      "metadata": {
        "id": "M_8TXhkLHrG7"
      },
      "execution_count": null,
      "outputs": []
    },
    {
      "cell_type": "markdown",
      "source": [
        "#### **Importing All Classes from a Module**"
      ],
      "metadata": {
        "id": "K_LiD356HKtv"
      }
    },
    {
      "cell_type": "code",
      "source": [],
      "metadata": {
        "id": "RtHsf1jYHr8Y"
      },
      "execution_count": null,
      "outputs": []
    },
    {
      "cell_type": "markdown",
      "source": [
        "#### **Importing a Module into a Module**"
      ],
      "metadata": {
        "id": "f06KR6ONHLQx"
      }
    },
    {
      "cell_type": "code",
      "source": [],
      "metadata": {
        "id": "T5mj16EvHszB"
      },
      "execution_count": null,
      "outputs": []
    },
    {
      "cell_type": "markdown",
      "source": [
        "#### **Using Aliases**"
      ],
      "metadata": {
        "id": "ivQChX1hHwEj"
      }
    },
    {
      "cell_type": "code",
      "source": [],
      "metadata": {
        "id": "0n1cQ1mYIBCe"
      },
      "execution_count": null,
      "outputs": []
    },
    {
      "cell_type": "markdown",
      "source": [
        "⭐ *EXERCISES 9-10 to 9-12*"
      ],
      "metadata": {
        "id": "XpR-44NUHw_-"
      }
    },
    {
      "cell_type": "markdown",
      "source": [
        "---\n",
        "## **THE PYTHON STANDARD LIBRARY**"
      ],
      "metadata": {
        "id": "HbfETRr3Hxln"
      }
    },
    {
      "cell_type": "code",
      "source": [],
      "metadata": {
        "id": "SnCorBNwIf7I"
      },
      "execution_count": null,
      "outputs": []
    },
    {
      "cell_type": "markdown",
      "source": [
        "⭐ *EXERCISES 9-13 to 9-16*"
      ],
      "metadata": {
        "id": "NHfekl-kHyGy"
      }
    },
    {
      "cell_type": "markdown",
      "source": [
        "---\n",
        "## **STYLING CLASSES**"
      ],
      "metadata": {
        "id": "odJ_2mykIk_G"
      }
    },
    {
      "cell_type": "markdown",
      "source": [
        "*   Class names should be written in camelCase\n",
        "*   Every class should have a docstring immediately following the class definition.\n",
        "*   Use blank lines to organize code, but don't use them excessively.\n",
        "*   If you need to import a module from the standard library and a module that you wrote, place the import statement for the standard library module first. Then add a blank line and the import statement for the module you wrote.\n",
        "\n"
      ],
      "metadata": {
        "id": "-CzZlB1IIq-L"
      }
    }
  ]
}