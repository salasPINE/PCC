{
  "nbformat": 4,
  "nbformat_minor": 0,
  "metadata": {
    "colab": {
      "provenance": [],
      "toc_visible": true
    },
    "kernelspec": {
      "name": "python3",
      "display_name": "Python 3"
    },
    "language_info": {
      "name": "python"
    }
  },
  "cells": [
    {
      "cell_type": "markdown",
      "source": [
        "# **Chapter 5 Exercises**"
      ],
      "metadata": {
        "id": "EbXSfCYQ85RB"
      }
    },
    {
      "cell_type": "markdown",
      "source": [
        "## **5-1 Conditional Tests**\n",
        "\n",
        "Write a series of conditional tests. Print a statement describing each test and your prediction for the results of each test. Your code should look something like this:\n",
        "\n",
        "```\n",
        "car = 'subaru'\n",
        "print(\"Is car == 'subaru'? I predict True.\")\n",
        "print(car == 'subaru')\n",
        "\n",
        "print(\"\\nIs car == 'audi'? I predict False.\")\n",
        "print(car == 'audi')\n",
        "```\n",
        "\n",
        "* Look closely at your results, and make sure you understand why each line evaluates to True or False.\n",
        "* Create at least 10 tests. Have at least 5 tests evaluate to True and another 5 tests evaluate to False.\n",
        "\n"
      ],
      "metadata": {
        "id": "hKZ34sMI-io5"
      }
    },
    {
      "cell_type": "code",
      "execution_count": null,
      "metadata": {
        "id": "8HfOiQHU82p7"
      },
      "outputs": [],
      "source": [
        "# 5.1 Conditional Tests\n",
        "\n"
      ]
    },
    {
      "cell_type": "markdown",
      "source": [
        "## **5-2 More Conditional Tests**\n",
        "\n",
        "You don’t have to limit the number of tests you create to 10. If you want to try more comparisons, write more tests and add them to *conditional_tests.py*. Have at least one True and one False result for each of the following:\n",
        "\n",
        "* Tests for equality and inequality with strings\n",
        "* Tests using the `lower()` method\n",
        "* Numerical tests involving equality and inequality, greater than and less than, greater than or equal to, and less than or equal to\n",
        "* Tests using the `and` keyword and the `or` keyword\n",
        "* Test whether an item is in a list\n",
        "* Test whether an item is not in a list"
      ],
      "metadata": {
        "id": "inxB6tWa-vh2"
      }
    },
    {
      "cell_type": "code",
      "source": [
        "# 5.2 More Conditional Tests\n",
        "\n",
        "# tests for equality and inequality with strings\n"
      ],
      "metadata": {
        "id": "tcIYHsHj-Ga4"
      },
      "execution_count": null,
      "outputs": []
    },
    {
      "cell_type": "code",
      "source": [
        "# test using the lower() method\n"
      ],
      "metadata": {
        "id": "vTm1YvGwh6kH"
      },
      "execution_count": null,
      "outputs": []
    },
    {
      "cell_type": "code",
      "source": [
        "# numerical tests\n"
      ],
      "metadata": {
        "id": "xNPvglKDiI2B"
      },
      "execution_count": null,
      "outputs": []
    },
    {
      "cell_type": "code",
      "source": [
        "# tests using the keywords AND / OR\n"
      ],
      "metadata": {
        "id": "xJywycJqiNCr"
      },
      "execution_count": null,
      "outputs": []
    },
    {
      "cell_type": "code",
      "source": [
        "# test items in a list IN / NOT\n"
      ],
      "metadata": {
        "id": "eQH5quBmiUPD"
      },
      "execution_count": null,
      "outputs": []
    },
    {
      "cell_type": "code",
      "source": [
        "# more involved example using a list (optional)\n"
      ],
      "metadata": {
        "id": "NuH7exNBigrd"
      },
      "execution_count": null,
      "outputs": []
    },
    {
      "cell_type": "markdown",
      "source": [
        "\n",
        "\n",
        "---\n",
        "\n"
      ],
      "metadata": {
        "id": "sAC290YSe_Vh"
      }
    },
    {
      "cell_type": "markdown",
      "source": [
        "## **5-3 Alien Colors 1**\n",
        "\n",
        "Imagine an alien was just shot down in a game. Create a variable called `alien_color` and assign it a value of 'green', 'yellow', or 'red'.\n",
        "\n",
        "* Write an if statement to test whether the alien’s color is green. If it is, print a message that the player just earned 5 points.\n",
        "* Write one version of this program that passes the if test and another that fails. (The version that fails will have no output.)"
      ],
      "metadata": {
        "id": "tbOFj9vq_DI-"
      }
    },
    {
      "cell_type": "code",
      "source": [
        "# 5.3 Alien Colors 1\n",
        "\n"
      ],
      "metadata": {
        "id": "Rw3teboJ-TaQ"
      },
      "execution_count": null,
      "outputs": []
    },
    {
      "cell_type": "markdown",
      "source": [
        "## **5-4 Alien Colors 2**\n",
        "\n",
        "Choose a color for an alien as you did in Exercise 5-3, and write an `if-else` chain.\n",
        "\n",
        "* If the alien’s color is green, print a statement that the player just earned 5 points for shooting the alien.\n",
        "* If the alien’s color isn’t green, print a statement that the player just earned 10 points.\n",
        "* Write one version of this program that runs the if block and another that runs the else block."
      ],
      "metadata": {
        "id": "AdKSwpyl_arx"
      }
    },
    {
      "cell_type": "code",
      "source": [
        "# 5.4 Alien Colors 2\n",
        "\n"
      ],
      "metadata": {
        "id": "0SwgrgoT_WYo"
      },
      "execution_count": null,
      "outputs": []
    },
    {
      "cell_type": "markdown",
      "source": [
        "## **5-5 Alien Colors 3**\n",
        "\n",
        "Turn your `if-else` chain from Exercise 5-4 into an `if-elif-else` chain.\n",
        "\n",
        "* If the alien is green, print a message that the player earned 5 points.\n",
        "* If the alien is yellow, print a message that the player earned 10 points.\n",
        "* If the alien is red, print a message that the player earned 15 points.\n",
        "* Write three versions of this program, making sure each message is printed for the appropriate color alien."
      ],
      "metadata": {
        "id": "00XB5uez_2uz"
      }
    },
    {
      "cell_type": "code",
      "source": [
        "# 5.5 Alien Colors 3\n"
      ],
      "metadata": {
        "id": "4vDJ_F2GARPP"
      },
      "execution_count": null,
      "outputs": []
    },
    {
      "cell_type": "markdown",
      "source": [
        "## **5-6 Stages of Life**\n",
        "\n",
        "Write an `if-elif-else` chain that determines a persons stage of life. Set a value for the variable age, and then:\n",
        "\n",
        "* If the person is less than 2 years old, print a message that the person is a baby.\n",
        "* If the person is at least 2 years old but less than 4, print a message that the person is a toddler.\n",
        "* If the person is at least 4 years old but less than 13, print a message that the person is a kid.\n",
        "* If the person is at least 13 years old but less than 20, print a message that the person is a teenager.\n",
        "* If the person is at least 20 years old but less than 65, print a message that the person is an adult.\n",
        "* If the person is age 65 or older, print a message that the person is an elder."
      ],
      "metadata": {
        "id": "cgeMq8NVAZ8v"
      }
    },
    {
      "cell_type": "code",
      "source": [
        "# 5.6 Stages of Life\n",
        "\n"
      ],
      "metadata": {
        "id": "e9UNuAgXAaJj"
      },
      "execution_count": null,
      "outputs": []
    },
    {
      "cell_type": "markdown",
      "source": [
        "## **5-7 Favorite Fruit**\n",
        "\n",
        "Make a list of your favorite fruits, and then write a series of independent `if` statements that check for certain fruits in your list.\n",
        "\n",
        "* Make a list of your three favorite fruits and call it *favorite_fruits*.\n",
        "* Write five `if` statements. Each should check whether a certain kind of fruit is in your list. If the fruit is in your list, the if block should print a statement, such as You really like bananas!"
      ],
      "metadata": {
        "id": "BBhMyoZ1A9i6"
      }
    },
    {
      "cell_type": "code",
      "source": [
        "# 5.7 Favorite Fruit\n",
        "\n"
      ],
      "metadata": {
        "id": "lC7CKBnxBO6i"
      },
      "execution_count": null,
      "outputs": []
    },
    {
      "cell_type": "markdown",
      "source": [
        "\n",
        "\n",
        "---\n",
        "\n"
      ],
      "metadata": {
        "id": "3bxApb8ag32Q"
      }
    },
    {
      "cell_type": "markdown",
      "source": [
        "## **5-8 Hello Admin**\n",
        "\n",
        "Make a list of five or more usernames, including the name 'admin'. Imagine you are writing code that will print a greeting to each user after they log in to a website. Loop through the list, and print a greeting to each user.\n",
        "\n",
        "* If the username is 'admin', print a special greeting, such as *Hello admin,would you like to see a status report?*\n",
        "* Otherwise, print a generic greeting, such as *Hello Jaden, thank you for logging in again.*"
      ],
      "metadata": {
        "id": "hrG4B6lnB4XX"
      }
    },
    {
      "cell_type": "code",
      "source": [
        "# 5.8 Hello Admin\n",
        "\n"
      ],
      "metadata": {
        "id": "IO2j0CX-B5wE"
      },
      "execution_count": null,
      "outputs": []
    },
    {
      "cell_type": "code",
      "source": [],
      "metadata": {
        "id": "bkuWGNpTsYKP"
      },
      "execution_count": null,
      "outputs": []
    },
    {
      "cell_type": "markdown",
      "source": [
        "## **5-9 No Users**\n",
        "\n",
        "Add an `if` test to *hello_admin.py* to make sure the list of users is not empty.\n",
        "\n",
        "* If the list is empty, print the message We need to find some users!\n",
        "* Remove all of the usernames from your list, and make sure the correct message is printed."
      ],
      "metadata": {
        "id": "A-r-Zl1HBmXw"
      }
    },
    {
      "cell_type": "code",
      "source": [
        "# 5.9 Exercise\n",
        "\n"
      ],
      "metadata": {
        "id": "q5qAvZNrwfC8"
      },
      "execution_count": null,
      "outputs": []
    },
    {
      "cell_type": "markdown",
      "source": [
        "## **5-10 Checking Usernames**\n",
        "\n",
        "Do the following to create a program that simulates how websites ensure that everyone has a unique username.\n",
        "\n",
        "* Make a list of five or more usernames called *current_users*.\n",
        "* Make another list of five usernames called *new_users*. Make sure one or two of the new usernames are also in the *current_users* list.\n",
        "* Loop through the *new_users* list to see if each new username has already been used. If it has, print a message that the person will need to enter a new username. If a username has not been used, print a message saying that the username is available.\n",
        "* Make sure your comparison is case insensitive. If 'John' has been used, 'JOHN' should not be accepted. (To do this, you'll need to make a copy of *current_users* containing the lowercase versions of all existing users.)"
      ],
      "metadata": {
        "id": "wAN6osLbwawK"
      }
    },
    {
      "cell_type": "code",
      "source": [
        "# 5.10 Checking Usernames\n",
        "\n"
      ],
      "metadata": {
        "id": "iRBnbQOiwjQH"
      },
      "execution_count": null,
      "outputs": []
    },
    {
      "cell_type": "markdown",
      "source": [
        "## **5-11 Ordinal Numbers**\n",
        "\n",
        "Ordinal numbers indicate their position in a list, such as 1st or 2nd. Most ordinal numbers end in th, except 1, 2, and 3.\n",
        "\n",
        "* Store the numbers 1 through 9 in a list.\n",
        "* Loop through the list.\n",
        "* Use an `if-elif-else` chain inside the loop to print the proper ordinal ending for each number. Your output should read \"1st 2nd 3rd 4th 5th 6th 7th 8th 9th\", and each result should be on a separate line."
      ],
      "metadata": {
        "id": "1Q7ihsZBwbVI"
      }
    },
    {
      "cell_type": "code",
      "source": [
        "# 5.11 Ordinal Numbers\n",
        "\n"
      ],
      "metadata": {
        "id": "onq7ze7SwlEM"
      },
      "execution_count": null,
      "outputs": []
    },
    {
      "cell_type": "markdown",
      "source": [
        "\n",
        "\n",
        "---\n",
        "\n"
      ],
      "metadata": {
        "id": "bgBZ-n2d0kJR"
      }
    },
    {
      "cell_type": "markdown",
      "source": [
        "## **5-12 Styling `if` Statements**\n",
        "\n",
        "Review the programs you wrote in this chapter, and make sure you styled your conditional tests appropriately. Go back and fix any that are not styled appropriately"
      ],
      "metadata": {
        "id": "kgc3xS47wcBv"
      }
    },
    {
      "cell_type": "markdown",
      "source": [
        "## **5-13 Your Ideas**\n",
        "\n",
        "At this point, you’re a more capable programmer than you were when you started this book. Now that you have a better sense of how real-world situations are modeled in programs, you might be thinking of some problems you could solve with your own programs. Record any new ideas you have about problems you might want to solve as your programming skills continue to improve. Consider games you might want to write, datasets you might want to explore, and web applications you’d like to create."
      ],
      "metadata": {
        "id": "6G_74fyVwcMf"
      }
    },
    {
      "cell_type": "markdown",
      "source": [
        "### **My Ideas List**\n",
        "\n",
        "Type Here"
      ],
      "metadata": {
        "id": "ECKoqPs8wcTI"
      }
    }
  ]
}