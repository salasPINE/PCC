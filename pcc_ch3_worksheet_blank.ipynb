{
  "nbformat": 4,
  "nbformat_minor": 0,
  "metadata": {
    "colab": {
      "provenance": [],
      "toc_visible": true,
      "authorship_tag": "ABX9TyMZjy8WGQF8YMenpBIs5+e8"
    },
    "kernelspec": {
      "name": "python3",
      "display_name": "Python 3"
    },
    "language_info": {
      "name": "python"
    }
  },
  "cells": [
    {
      "cell_type": "markdown",
      "source": [
        "# **Chapter 3 - Introducing Lists**"
      ],
      "metadata": {
        "id": "u6F3ZR65yvPc"
      }
    },
    {
      "cell_type": "markdown",
      "source": [
        "## **WHAT IS A LIST**"
      ],
      "metadata": {
        "id": "zq_ivaIE44Rp"
      }
    },
    {
      "cell_type": "code",
      "execution_count": null,
      "metadata": {
        "id": "1vD-QVWTxhom"
      },
      "outputs": [],
      "source": []
    },
    {
      "cell_type": "markdown",
      "source": [
        "### Print an element from a list"
      ],
      "metadata": {
        "id": "SNWpWW6R2weR"
      }
    },
    {
      "cell_type": "code",
      "source": [],
      "metadata": {
        "id": "h9gB1gms2pRj"
      },
      "execution_count": null,
      "outputs": []
    },
    {
      "cell_type": "markdown",
      "source": [
        "### Using Methods"
      ],
      "metadata": {
        "id": "s89Yxa4M3XXr"
      }
    },
    {
      "cell_type": "code",
      "source": [],
      "metadata": {
        "id": "ZPeulukK3dMM"
      },
      "execution_count": null,
      "outputs": []
    },
    {
      "cell_type": "markdown",
      "source": [
        "### Using in Variables"
      ],
      "metadata": {
        "id": "vUQwYhzs4F5o"
      }
    },
    {
      "cell_type": "code",
      "source": [],
      "metadata": {
        "id": "6ES2roQt4Kiq"
      },
      "execution_count": null,
      "outputs": []
    },
    {
      "cell_type": "markdown",
      "source": [
        "⭐ *EXERCISES 3-1 to 3-3*"
      ],
      "metadata": {
        "id": "LRu5hXAQqJWs"
      }
    },
    {
      "cell_type": "markdown",
      "source": [
        "---\n",
        "## **MODIFYING, ADDING, REMOVING ELEMENTS**"
      ],
      "metadata": {
        "id": "iqwcB_QI6cVX"
      }
    },
    {
      "cell_type": "markdown",
      "source": [
        "### Modyfing Elements"
      ],
      "metadata": {
        "id": "fwkkKDl46gkr"
      }
    },
    {
      "cell_type": "code",
      "source": [],
      "metadata": {
        "id": "tewlCaTw6snY"
      },
      "execution_count": null,
      "outputs": []
    },
    {
      "cell_type": "markdown",
      "source": [
        "### Adding Elements"
      ],
      "metadata": {
        "id": "Zbn2O7wx7wWT"
      }
    },
    {
      "cell_type": "code",
      "source": [],
      "metadata": {
        "id": "SOUxJdGz8MVC"
      },
      "execution_count": null,
      "outputs": []
    },
    {
      "cell_type": "markdown",
      "source": [
        "### Staring with an Empty List"
      ],
      "metadata": {
        "id": "DoufZwtt945Q"
      }
    },
    {
      "cell_type": "code",
      "source": [],
      "metadata": {
        "id": "6pkM5RSi98Ci"
      },
      "execution_count": null,
      "outputs": []
    },
    {
      "cell_type": "markdown",
      "source": [
        "### Inserting Elements"
      ],
      "metadata": {
        "id": "rq5qwDjp-Wlo"
      }
    },
    {
      "cell_type": "code",
      "source": [],
      "metadata": {
        "id": "-GcFK7_q-utK"
      },
      "execution_count": null,
      "outputs": []
    },
    {
      "cell_type": "markdown",
      "source": [
        "### Removing Elements (del)"
      ],
      "metadata": {
        "id": "c-OW15oH-bpx"
      }
    },
    {
      "cell_type": "code",
      "source": [],
      "metadata": {
        "id": "9Nw-Rjyp_Wi4"
      },
      "execution_count": null,
      "outputs": []
    },
    {
      "cell_type": "markdown",
      "source": [
        "### Removing Elements (pop)"
      ],
      "metadata": {
        "id": "AzcbL8VACwTg"
      }
    },
    {
      "cell_type": "code",
      "source": [],
      "metadata": {
        "id": "TgxyO3ZnC-6-"
      },
      "execution_count": null,
      "outputs": []
    },
    {
      "cell_type": "markdown",
      "source": [
        "### Removing Elements (remove)"
      ],
      "metadata": {
        "id": "dBTwW0ffGTZm"
      }
    },
    {
      "cell_type": "code",
      "source": [],
      "metadata": {
        "id": "ZY3RqD4AGmTy"
      },
      "execution_count": null,
      "outputs": []
    },
    {
      "cell_type": "markdown",
      "source": [
        "⭐ *EXERCISES 3-4 to 3-7*"
      ],
      "metadata": {
        "id": "Y8siTdqxqPnQ"
      }
    },
    {
      "cell_type": "markdown",
      "source": [
        "---\n",
        "## **ORGANIZING ELEMENTS**"
      ],
      "metadata": {
        "id": "znpyaE69-gtD"
      }
    },
    {
      "cell_type": "markdown",
      "source": [
        "### Sorting a list permanently"
      ],
      "metadata": {
        "id": "iryh6-dIISbN"
      }
    },
    {
      "cell_type": "code",
      "source": [],
      "metadata": {
        "id": "w95ZpwAWIXdc"
      },
      "execution_count": null,
      "outputs": []
    },
    {
      "cell_type": "markdown",
      "source": [
        "### Sorting a list temporarily"
      ],
      "metadata": {
        "id": "yTm34G2bJE-c"
      }
    },
    {
      "cell_type": "code",
      "source": [],
      "metadata": {
        "id": "jG-H5xHOJYNI"
      },
      "execution_count": null,
      "outputs": []
    },
    {
      "cell_type": "markdown",
      "source": [
        "### Reverse Order (permanent)"
      ],
      "metadata": {
        "id": "s9b5Jj6pKHDB"
      }
    },
    {
      "cell_type": "code",
      "source": [],
      "metadata": {
        "id": "8g-My8G7KfQS"
      },
      "execution_count": null,
      "outputs": []
    },
    {
      "cell_type": "markdown",
      "source": [
        "### Finding the Length\n"
      ],
      "metadata": {
        "id": "spdWR2w3K5oJ"
      }
    },
    {
      "cell_type": "code",
      "source": [],
      "metadata": {
        "id": "CRm4B0EqLMDD"
      },
      "execution_count": null,
      "outputs": []
    },
    {
      "cell_type": "markdown",
      "source": [
        "⭐ *EXERCISES 3-8 to 3-10*"
      ],
      "metadata": {
        "id": "JvnnP3SOqVB7"
      }
    }
  ]
}