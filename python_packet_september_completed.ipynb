{
  "nbformat": 4,
  "nbformat_minor": 0,
  "metadata": {
    "colab": {
      "provenance": [],
      "toc_visible": true
    },
    "kernelspec": {
      "name": "python3",
      "display_name": "Python 3"
    },
    "language_info": {
      "name": "python"
    }
  },
  "cells": [
    {
      "cell_type": "markdown",
      "source": [
        "# **Python Packet - September**\n",
        "*Covers Chapters 1-3*"
      ],
      "metadata": {
        "id": "EbXSfCYQ85RB"
      }
    },
    {
      "cell_type": "markdown",
      "source": [
        "---\n",
        "## **PP-01**"
      ],
      "metadata": {
        "id": "hKZ34sMI-io5"
      }
    },
    {
      "cell_type": "code",
      "execution_count": null,
      "metadata": {
        "id": "8HfOiQHU82p7"
      },
      "outputs": [],
      "source": [
        "# PP-01 Printing and Comments\n",
        "print(\"Hello World!\")\n",
        "print(\"Hello Again\")\n",
        "print(\"I like typing this.\")\n",
        "print(\"This is fun.\")\n",
        "print('Yay! Printing.')\n",
        "print(\"I'd much rather you 'not laugh'.\")\n",
        "print('I \"said\" do not laugh.')\n",
        "\n",
        "# Anything after the # is ignored by python.\n",
        "print(\"I could have code like this.\") # and the comment after is ignored\n",
        "# You can also use a comment to \"disable\" or comment out code:\n",
        "# print(\"This won't run.\")\n",
        "print(\"This will run.\")\n"
      ]
    },
    {
      "cell_type": "markdown",
      "source": [
        "## **PP-02**"
      ],
      "metadata": {
        "id": "inxB6tWa-vh2"
      }
    },
    {
      "cell_type": "code",
      "source": [
        "# PP-02 Math\n",
        "print(\"+ plus (addition)\")\n",
        "print(\"- minus (subtraction)\")\n",
        "print(\"/ slash (division)\")\n",
        "print(\"* asterisk (multiplication)\")\n",
        "print(\"< less-than\")\n",
        "print(\"> greater-than\")\n",
        "print(\"<= less-than-equal\")\n",
        "print(\">= greater-than-equal\")\n",
        "print() # empty line\n",
        "print(\"I will now count my chickens:\")\n",
        "print(\"Hens\", 25 + 30 / 6)\n",
        "print(\"Roosters\", 100 - 25 * 3 % 4)\n",
        "print(\"Now I will count the eggs:\")\n",
        "print(3 + 2 + 1 - 5 + 4 % 2 - 1 / 4 + 6)\n",
        "print(\"Is it true that 3 + 2 < 5 - 7?\")\n",
        "print(3 + 2 < 5 - 7)\n",
        "print(\"What is 3 + 2?\", 3 + 2)\n",
        "print(\"What is 5 - 7?\", 5 - 7)\n",
        "print(\"Oh, that's why it's False.\")\n",
        "print(\"How about some more.\")\n",
        "print(\"Is it greater?\", 5 > -2)\n",
        "print(\"Is it greater or equal?\", 5 >= -2)\n",
        "print(\"Is it less or equal?\", 5 <= -2)\n"
      ],
      "metadata": {
        "id": "tcIYHsHj-Ga4"
      },
      "execution_count": null,
      "outputs": []
    },
    {
      "cell_type": "markdown",
      "source": [
        "## **PP-03**"
      ],
      "metadata": {
        "id": "tbOFj9vq_DI-"
      }
    },
    {
      "cell_type": "code",
      "source": [
        "# PP-03 More Math\n",
        "print(\"What is two plus four?\")\n",
        "print(2 + 4)\n",
        "print() # empty line\n",
        "print(\"What is 200 divided by 20?\")\n",
        "print(200 / 20)\n",
        "print() # empty line\n",
        "print(\"What is 30 times 12?\")\n",
        "print(30 * 12)\n",
        "print() # empty line\n",
        "print(\"You got 2 dollars every day for two weeks\")\n",
        "print(\"...and then you spent 10 dollars...\")\n",
        "print(\"How much money do you have left?\")\n",
        "print(\"Solution: 2 times 14, minus 10\")\n",
        "print(2 * 14 - 10)\n",
        "print() # empty line\n",
        "print(\"If I make 12 dollars a day,\")\n",
        "print(\"and give my brother half after 30 days,\")\n",
        "print(\"how much money will I have?\")\n",
        "print(\"Solution: 12 times 30, divided by 2\")\n",
        "print(12 * 30 / 2)\n",
        "print() # empty line\n",
        "print(\"TRUE FALSE Statements\")\n",
        "print(\"Is 4 greater than 7?\")\n",
        "print(4 > 7)\n",
        "print(\"Is 4 plus 2 greater than 7?\")\n",
        "print(4 + 2 > 7)\n",
        "print(\"4 + 2 = 6\")\n",
        "print(\"Is 3 + 2 greater than or equal to 2 + 3?\")\n",
        "print(3 + 2 >= 2 + 3)\n",
        "print(\"Is 3 times 2 less than or equal to 1 times 4?\")\n",
        "print(3 * 2 <= 1 * 4)\n",
        "print(\"3 times 2 = \", 3 * 2)\n",
        "print(\"1 times 4 = \", 1 * 4)\n"
      ],
      "metadata": {
        "id": "Rw3teboJ-TaQ"
      },
      "execution_count": null,
      "outputs": []
    },
    {
      "cell_type": "markdown",
      "source": [
        "## **PP-04**"
      ],
      "metadata": {
        "id": "AdKSwpyl_arx"
      }
    },
    {
      "cell_type": "code",
      "source": [
        "# PP-04 More Practice\n",
        "# Another code review and practice!\n",
        "# Type everything EXACTLY like you see it\n",
        "# including the spaces and the blank lines\n",
        "\n",
        "# The print command\n",
        "print(\"REVIEW - HELLO and PRINT\")\n",
        "print(\"Hello World!\")\n",
        "print(\"Hello Again\")\n",
        "print(\"Just how many times can you say hello?\")\n",
        "# print(\"This is a comment. It will not show in the output.\")\n",
        "print('This string uses single quotes')\n",
        "print(\"This one has 'single quotes' inside of the double quotes\")\n",
        "print('This one has \"double quotes\" inside of the single quotes')\n",
        "\n",
        "# A seperator\n",
        "print(\"---\")\n",
        "\n",
        "# The Comment\n",
        "# A comment, this is so you can read your program later.\n",
        "# Anything after the # is ignored by python.\n",
        "\n",
        "print(\"REVIEW - COMMENTS\")\n",
        "print(\"This statement will show in your ouput.\")\n",
        "# and the comment after is ignored\n",
        "\n",
        "# You can also use a comment to \"disable\" or comment out code:\n",
        "# print(\"This won't run.\")\n",
        "print(\"This will run.\")\n",
        "\n",
        "# Comments are good for turning code \"off\" and \"on\"\n",
        "# But mostly they are used as reminders and explanations\n",
        "\n",
        "# A seperator\n",
        "print(\"---\")\n",
        "\n",
        "# Math in Python\n",
        "print(\"REVIEW - MATH\")\n",
        "# A statement followed by a math calculation\n",
        "# Notice that the math does not have quotes. Important!\n",
        "\n",
        "print(\"What is 32 plus 64?\")\n",
        "print(32 + 64)\n",
        "\n",
        "# Math symbols get spaces before and after them\n",
        "# To make it easier to read\n",
        "\n",
        "print(\"What is 512 divided by 64?\")\n",
        "print(512 / 64)\n",
        "print(\"What is 1024 times 512?\")\n",
        "print(1024 * 512)\n",
        "\n",
        "# This is a word problem\n",
        "print() # a blank line instead of a seperator\n",
        "print(\"You got 10 dollars every month for 5 years,\")\n",
        "print(\"...you then spent 200 dollars...\")\n",
        "print(\"How much money do you have left?\")\n",
        "print(\"Solution: 10 times 12 months x 5 years minus 200\")\n",
        "print(10 * (12 * 5) - 200)\n",
        "\n",
        "# Logical comparisons and multiple commands in one line\n",
        "print(\"---\")\n",
        "print(\"LOGIC COMPARISON\")\n",
        "print(\"Is 3 times 2 less than or equal to 1 times 4?\")\n",
        "print(3 * 2 <= 1 * 4)\n",
        "# Logical comparisons output True or False instead of a number\n",
        "print(\"Explanation:\")\n",
        "print(\"3 times 2 = \", 3 * 2)\n",
        "print(\"1 times 4 = \", 1 * 4)\n",
        "\n",
        "# Using a comma with a space allows you to do\n",
        "# two or more commands in one line\n",
        "print(\"---\")\n",
        "print(\"MULTIPLE COMMANDS IN ONE LINE\")\n",
        "print(\"20 times 10 =\", 20 * 10, \"---\", \"10 plus 5 =\", 10 + 5)\n"
      ],
      "metadata": {
        "id": "0SwgrgoT_WYo"
      },
      "execution_count": null,
      "outputs": []
    },
    {
      "cell_type": "markdown",
      "source": [
        "## **PP-05**"
      ],
      "metadata": {
        "id": "00XB5uez_2uz"
      }
    },
    {
      "cell_type": "code",
      "source": [
        "# PP-05 Variables\n",
        "# This section declares the variables (configures what they are)\n",
        "students = 300\n",
        "students_present = 250\n",
        "classroom_seats = 30\n",
        "classrooms = 10\n",
        "teachers = 20\n",
        "# Declared variables can be used in mathematical calculations if they are numbers\n",
        "teachers_not_used = teachers - classrooms\n",
        "classroom_capacity = classrooms * classroom_seats\n",
        "classroom_average = students_present / classrooms\n",
        "\n",
        "# This is where the variables are used in the code\n",
        "print(f\"There are {students} total students.\")\n",
        "print(f\"There are {classrooms} classrooms available.\")\n",
        "print(f\"There are {teachers} teachers available.\")\n",
        "print(f\"There will be {teachers_not_used} teachers not needed.\")\n",
        "print(f\"We can teach {classroom_capacity} students today.\")\n",
        "print(f\"We have {students_present} students present today.\")\n",
        "print(f\"There will be {classroom_average} students in each classroom.\")\n",
        "\n"
      ],
      "metadata": {
        "id": "4vDJ_F2GARPP"
      },
      "execution_count": null,
      "outputs": []
    },
    {
      "cell_type": "markdown",
      "source": [
        "## **PP-06**"
      ],
      "metadata": {
        "id": "cgeMq8NVAZ8v"
      }
    },
    {
      "cell_type": "code",
      "source": [
        "# PP-06 More Variables\n",
        "my_name = 'Prime Zu'\n",
        "my_age = 16\n",
        "my_height = 74 # inches\n",
        "my_weight = 180 # lbs\n",
        "my_eyes = 'Brown'\n",
        "my_teeth = 'White'\n",
        "my_hair = 'Brown'\n",
        "\n",
        "print(f\"Let's talk about {my_name}.\")\n",
        "print(f\"He's {my_height} inches tall.\")\n",
        "print(f\"He's {my_weight} pounds heavy.\")\n",
        "print(\"Actually that's not too heavy.\")\n",
        "print(f\"He's got {my_eyes} eyes and {my_hair} hair.\")\n",
        "print(f\"His teeth are usually {my_teeth} depending on the coffee.\")\n",
        "\n",
        "\n",
        "# this line is tricky, try to get it exactly right\n",
        "total = my_age + my_height + my_weight\n",
        "print(f\"If I add {my_age}, {my_height}, and {my_weight} I get {total}.\")\n"
      ],
      "metadata": {
        "id": "e9UNuAgXAaJj"
      },
      "execution_count": null,
      "outputs": []
    },
    {
      "cell_type": "markdown",
      "source": [
        "## **PP-07**"
      ],
      "metadata": {
        "id": "BBhMyoZ1A9i6"
      }
    },
    {
      "cell_type": "code",
      "source": [
        "# PP-07 Strings and Text\n",
        "types_of_people = 10\n",
        "x = f\"There are {types_of_people} types of people.\"\n",
        "\n",
        "binary = \"binary\"\n",
        "do_not = \"don't\"\n",
        "y = f\"Those who know {binary} and those who {do_not}.\"\n",
        "\n",
        "print(x)\n",
        "print(y)\n",
        "\n",
        "print(f\"I said: {x}\")\n",
        "print(f\"I also said: '{y}'\")\n",
        "\n",
        "w = \"This is the left side of...\"\n",
        "e = \"a string with a right side.\"\n",
        "\n",
        "print(w + e)\n"
      ],
      "metadata": {
        "id": "lC7CKBnxBO6i"
      },
      "execution_count": null,
      "outputs": []
    },
    {
      "cell_type": "markdown",
      "source": [
        "## **PP-08**"
      ],
      "metadata": {
        "id": "hrG4B6lnB4XX"
      }
    },
    {
      "cell_type": "code",
      "source": [
        "# PP-08 More Printing\n",
        "end1 = \"C\"\n",
        "end2 = \"h\"\n",
        "end3 = \"e\"\n",
        "end4 = \"e\"\n",
        "end5 = \"s\"\n",
        "end6 = \"e\"\n",
        "end7 = \"B\"\n",
        "end8 = \"u\"\n",
        "end9 = \"r\"\n",
        "end10 = \"g\"\n",
        "end11 = \"e\"\n",
        "end12 = \"r\"\n",
        "# watch that comma at the end. try removing it to see what happens\n",
        "print(end1 + end2 + end3 + end4 + end5 + end6, end=' ')\n",
        "print(end7 + end8 + end9 + end10 + end11 + end12)\n"
      ],
      "metadata": {
        "id": "IO2j0CX-B5wE"
      },
      "execution_count": null,
      "outputs": []
    },
    {
      "cell_type": "markdown",
      "source": [
        "## **PP-09**"
      ],
      "metadata": {
        "id": "fJf7B1VTsmTa"
      }
    },
    {
      "cell_type": "code",
      "source": [
        "# PP-09 Even More Printing\n",
        "days = \"Mon Tue Wed Thu Fri Sat Sun\"\n",
        "months = \"\\nJan\\nFeb\\nMar\\nApr\\nMay\\nJun\\nJul\\nAug\"\n",
        "\n",
        "print(f\"Here are the days: {days}\")\n",
        "print(f\"Here are the months: {months}\")\n",
        "\n",
        "\n",
        "\n",
        "\n",
        "print(\"\"\"\n",
        "There's something going on here.\n",
        "With the three double-quotes.\n",
        "We'll be able to type as much as we like.\n",
        "Even 4 lines if we want, or 5, or 6.\n",
        "\"\"\")\n",
        "print()\n",
        "\n",
        "tabby_cat = \"\\tI'm tabbed in.\"\n",
        "persian_cat = \"I'm split\\non a line.\"\n",
        "backslash_cat = \"I'm \\\\ a \\\\ cat.\"\n",
        "\n",
        "fat_cat = \"\"\"\n",
        "I'll do a list for Fat Cat:\n",
        "\\t* Cat food\n",
        "\\t* Fishies\n",
        "\\t* Catnip\\n\\t* Grass\n",
        "\"\"\"\n",
        "\n",
        "print(tabby_cat)\n",
        "print(persian_cat)\n",
        "print(backslash_cat)\n",
        "print(fat_cat)\n",
        "\n"
      ],
      "metadata": {
        "id": "cqaXwmAfsq-Q"
      },
      "execution_count": null,
      "outputs": []
    },
    {
      "cell_type": "markdown",
      "source": [
        "## **PP-10**"
      ],
      "metadata": {
        "id": "A-r-Zl1HBmXw"
      }
    },
    {
      "cell_type": "code",
      "source": [
        "# PP-10\n",
        "# Shows Hello World in the output\n",
        "print(\"Hello World!\")\n",
        "print('Hello World Again!')\n",
        "\n",
        "# This produces a blank line\n",
        "print() # empty line\n",
        "\n",
        "print(\"Hello World After a Blank Line\")\n",
        "print()\n",
        "\n",
        "# Variables\n",
        "msg1 = \"I love learning to use Python.\"\n",
        "msg2 = \"It's really satisfying!\"\n",
        "print(msg1)\n",
        "print(msg2)\n",
        "print() # empty line\n",
        "\n",
        "# More Variables\n",
        "fruit1 = \"Peach\"\n",
        "fruit2 = \"Orange\"\n",
        "fruit3 = \"Banana\"\n",
        "fruit4 = \"Kiwi\"\n",
        "\n",
        "\n",
        "\n",
        "# This prints them one line each\n",
        "print(fruit1)\n",
        "print(fruit2)\n",
        "print(fruit3)\n",
        "print(fruit4)\n",
        "# This prints them on one line\n",
        "print(fruit1, fruit2, fruit3, fruit4)\n",
        "print()\n",
        "\n",
        "# changing the case\n",
        "name = \"prime zu\"\n",
        "print(name.lower())\n",
        "print(name.upper())\n",
        "print(name.title())\n",
        "print()\n",
        "\n"
      ],
      "metadata": {
        "id": "q5qAvZNrwfC8"
      },
      "execution_count": null,
      "outputs": []
    },
    {
      "cell_type": "markdown",
      "source": [
        "## **PP-11**"
      ],
      "metadata": {
        "id": "wAN6osLbwawK"
      }
    },
    {
      "cell_type": "code",
      "source": [
        "# PP-11 Variables in Strings\n",
        "name = \"prime\"\n",
        "msg = f\"Hello {name.title()}, would you like to learn some Python today?\"\n",
        "print(msg)\n",
        "print()\n",
        "\n",
        "first_name = \"ada\"\n",
        "last_name = \"lovelace\"\n",
        "full_name = f\"{first_name} {last_name}\"\n",
        "\n",
        "print(full_name)\n",
        "\n",
        "# Also changing the case\n",
        "print(f\"Hello, {full_name.title()}!\")\n",
        "\n",
        "# Use an f-string to compose a message\n",
        "# and assign the whole message to a variable\n",
        "first_name = \"ada\"\n",
        "last_name = \"lovelace\"\n",
        "full_name = f\"{first_name} {last_name}\"\n",
        "\n",
        "message = f\"Hello, {full_name.title()}!\"\n",
        "print(message)\n"
      ],
      "metadata": {
        "id": "iRBnbQOiwjQH"
      },
      "execution_count": null,
      "outputs": []
    },
    {
      "cell_type": "markdown",
      "source": [
        "## **PP-12**"
      ],
      "metadata": {
        "id": "1Q7ihsZBwbVI"
      }
    },
    {
      "cell_type": "code",
      "source": [
        "# PP-12 File Extensions\n",
        "# Remove the prefix\n",
        "url = \"https://www.thepineschool.org\"\n",
        "\n",
        "print(url.removeprefix('https://'))\n",
        "print(url.removeprefix('https://www.'))\n",
        "\n",
        "print()\n",
        "\n",
        "\n",
        "# Remove the suffix\n",
        "filename = \"python_notes.txt\"\n",
        "codefile = \"python_code.py\"\n",
        "\n",
        "print(filename.removesuffix('.txt'))\n",
        "print(codefile.removesuffix('.py'))\n",
        "\n"
      ],
      "metadata": {
        "id": "onq7ze7SwlEM"
      },
      "execution_count": null,
      "outputs": []
    },
    {
      "cell_type": "markdown",
      "source": [
        "## **PP-13**"
      ],
      "metadata": {
        "id": "kgc3xS47wcBv"
      }
    },
    {
      "cell_type": "code",
      "source": [
        "# PP-13 Math Again\n",
        "print(\"Addition:\")\n",
        "print(4 + 4)\n",
        "print(\"Subtraction:\")\n",
        "print(20 - 12)\n",
        "print(\"Multiplication:\")\n",
        "print(2 * 4)\n",
        "print(\"Division:\")\n",
        "print(80 / 10)\n",
        "print(\"Exponents:\")\n",
        "print(3 ** 2)\n",
        "print(3 ** 3)\n",
        "print(10 ** 6)\n",
        "print(\"Order of Operations:\")\n",
        "print(2 + 3*4)\n",
        "print((2 + 3) * 4)\n",
        "# anytime you divide, your result will be a float\n",
        "# anytime you use a float, your result will be a float\n",
        "print(4 / 2)\n",
        "print(1 + 2.0)\n",
        "print(2 * 3.0)\n",
        "print(3.0 * 2)\n",
        "# underscores get ignored in numbers. it only helps for us to read the number\n",
        "universe_age = 14_000_000_000\n",
        "print(universe_age)\n",
        "# favorite number\n",
        "fav_num = 42\n",
        "msg = f\"My favorite number is {fav_num}.\"\n",
        "print(msg)\n",
        "\n"
      ],
      "metadata": {
        "id": "yVbgg9Guwled"
      },
      "execution_count": null,
      "outputs": []
    },
    {
      "cell_type": "markdown",
      "source": [
        "## **PP-14**"
      ],
      "metadata": {
        "id": "6G_74fyVwcMf"
      }
    },
    {
      "cell_type": "code",
      "source": [
        "# PP-14 Lists\n",
        "# A list is a collection of items in a particular order\n",
        "names = ['Alexander', 'Adam', 'Jorge', 'Juan', 'Jennifer', 'Maria']\n",
        "print(names)\n",
        "# print one item per line\n",
        "# notice the first index item starts with a zero\n",
        "print(names[0])\n",
        "print(names[1])\n",
        "print(names[2])\n",
        "print(names[3])\n",
        "print(names[4])\n",
        "print(names[5])\n",
        "print()\n",
        "students = ['noa', 'nikolas', 'paige', 'eva', 'natalie', 'finlay', 'mason', 'peyton', 'lila']\n",
        "print(students)\n",
        "# print the last item of a list\n",
        "print(students[-1])\n",
        "# print personalized messages\n",
        "print(f\"Welcome to Tech class {students[0]}, {students[1]}, {students[2]}, {students[3]}, {students[4]}, {students[5]}, {students[6]}, {students[7]}, {students[8]}!\")\n",
        "print()\n",
        "# Use methods to change the capitalization of the list\n",
        "print(students[0].title())\n",
        "print(students[5].lower())\n",
        "print(students[-1].upper())\n",
        "\n"
      ],
      "metadata": {
        "id": "F6tAmBzwwmHI"
      },
      "execution_count": null,
      "outputs": []
    },
    {
      "cell_type": "markdown",
      "source": [
        "## **PP-15**"
      ],
      "metadata": {
        "id": "ECKoqPs8wcTI"
      }
    },
    {
      "cell_type": "code",
      "source": [
        "# PP-15 Modifying Lists\n",
        "cities = ['miami', 'ft. lauderdale', 'coconut creek', 'delray', 'jupiter', 'stuart', 'orlando', 'gainesville', 'pensacola']\n",
        "print(cities)\n",
        "# replace gainesville with tampa\n",
        "cities[7] = 'tampa'\n",
        "print(cities)\n",
        "# append two more cities\n",
        "cities.append('jacksonville')\n",
        "cities.append('hialeah')\n",
        "print(cities)\n",
        "# insert one city in the middle\n",
        "cities.insert(5, 'hollywood')\n",
        "print(cities)\n",
        "# delete the city we inserted\n",
        "del cities[5]\n",
        "print(cities)\n",
        "# pop the last city and use it in a message\n",
        "citypop = cities.pop()\n",
        "print(f\"{citypop.title()} is a city where 98% of the people speak Spanish\")\n",
        "# the city is no longer in the list\n",
        "print(cities)\n",
        "# pop out the third city\n",
        "city_pop = cities.pop(2)\n",
        "print(f\"{city_pop.title()} is where Mr. Salas went to High School.\")\n",
        "# the city is no longer in the list\n",
        "print(cities)\n",
        "# add the cities back\n",
        "cities.append('hialeah')\n",
        "cities.append('coconut creek')\n",
        "print(cities)\n",
        "\n"
      ],
      "metadata": {
        "id": "xnJcop5gwmid"
      },
      "execution_count": null,
      "outputs": []
    },
    {
      "cell_type": "markdown",
      "source": [
        "## **PP-16**"
      ],
      "metadata": {
        "id": "Qf7-9vrU3fcU"
      }
    },
    {
      "cell_type": "code",
      "source": [
        "# PP-16 Starting with Empty Lists\n",
        "# PP-15 Empty Lists\n",
        "# start with an empty list\n",
        "spain_cities = []\n",
        "# add items to your list\n",
        "spain_cities.append('malaga')\n",
        "spain_cities.append('sevilla')\n",
        "spain_cities.append('madrid')\n",
        "spain_cities.append('barcelona')\n",
        "spain_cities.append('valencia')\n",
        "spain_cities.append('bilbao')\n",
        "print(spain_cities)\n",
        "# sort the list temporarily\n",
        "print(sorted(spain_cities))\n",
        "# sort it temporarily backwards alphabetical\n",
        "print(sorted(spain_cities, reverse=True))\n",
        "# sort the list permanently\n",
        "spain_cities.sort()\n",
        "print(spain_cities)\n",
        "# sort the list permanently backwards alphabetical\n",
        "spain_cities.sort(reverse=True)\n",
        "print(spain_cities)\n",
        "# better put it back to normal alphabetical\n",
        "spain_cities.sort()\n",
        "print(spain_cities)\n",
        "# how long is this list?\n",
        "howmany_cities = len(spain_cities)\n",
        "print(f\"The Spanish city list includes {howmany_cities} cities.\")\n"
      ],
      "metadata": {
        "id": "tgihXkXw3kw-"
      },
      "execution_count": null,
      "outputs": []
    }
  ]
}