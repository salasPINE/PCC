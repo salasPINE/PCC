{
  "nbformat": 4,
  "nbformat_minor": 0,
  "metadata": {
    "colab": {
      "provenance": [],
      "toc_visible": true,
      "authorship_tag": "ABX9TyMI1Oq2qPgn2zXKBjxqGMza"
    },
    "kernelspec": {
      "name": "python3",
      "display_name": "Python 3"
    },
    "language_info": {
      "name": "python"
    }
  },
  "cells": [
    {
      "cell_type": "markdown",
      "source": [
        "# **Chapter 5 - IF Statements**"
      ],
      "metadata": {
        "id": "u6F3ZR65yvPc"
      }
    },
    {
      "cell_type": "markdown",
      "source": [
        "---\n",
        "## **A Simple Example**\n",
        "The following example shows how if tests let you respond to special situations correctly. Imagine you have a list of cars and you want to print out the name of each car. Car names are proper names, so the names of most cars should be printed in title case. However, the value 'bmw' should be printed in all uppercase. The following code loops through a list of car names and looks for the value 'bmw'. Whenever the value is 'bmw', it’s printed in uppercase instead of title case:"
      ],
      "metadata": {
        "id": "zq_ivaIE44Rp"
      }
    },
    {
      "cell_type": "code",
      "execution_count": null,
      "metadata": {
        "id": "1vD-QVWTxhom"
      },
      "outputs": [],
      "source": [
        "# cars.py\n",
        "\n"
      ]
    },
    {
      "cell_type": "markdown",
      "source": [
        "---\n",
        "## **Conditional Tests**\n",
        "At the heart of every if statement is an expression that can be evaluated as True or False and is called a conditional test. Python uses the values True and False to decide whether the code in an if statement should be executed. If a conditional test evaluates to True, Python executes the code following the if statement. If the test evaluates to False, Python ignores the code following the if statement."
      ],
      "metadata": {
        "id": "aWE5nbTi5QXE"
      }
    },
    {
      "cell_type": "markdown",
      "source": [
        "#### **Checking for Equality**\n",
        "Sub-sections use Heading 4\n",
        "`Preformated Code`"
      ],
      "metadata": {
        "id": "SNWpWW6R2weR"
      }
    },
    {
      "cell_type": "markdown",
      "source": [
        "#### **Checking for Inequality**\n",
        "Sub-sections use Heading 4\n",
        "`Preformated Code`"
      ],
      "metadata": {
        "id": "UiCu-2IJ6PzY"
      }
    },
    {
      "cell_type": "markdown",
      "source": [
        "#### **Numerical Comparisons**\n",
        "Sub-sections use Heading 4\n",
        "`Preformated Code`"
      ],
      "metadata": {
        "id": "ywJucu8I6W8v"
      }
    },
    {
      "cell_type": "markdown",
      "source": [
        "#### **Checking Multiple Conditions**\n",
        "Sub-sections use Heading 4\n",
        "`Preformated Code`"
      ],
      "metadata": {
        "id": "YDN-T1Qq6cHb"
      }
    },
    {
      "cell_type": "markdown",
      "source": [
        "#### Using `and` to Check Multiple Conditions\n",
        "Sub-sections use Heading 4\n",
        "`Preformated Code`"
      ],
      "metadata": {
        "id": "1zY0O_hA6gcF"
      }
    },
    {
      "cell_type": "markdown",
      "source": [
        "#### Using `or` to Check Multiple Conditions\n",
        "Sub-sections use Heading 4\n",
        "`Preformated Code`"
      ],
      "metadata": {
        "id": "FeACWLNT6mu2"
      }
    },
    {
      "cell_type": "markdown",
      "source": [
        "#### **Checking Whether a Value Is in a List**\n",
        "Sub-sections use Heading 4\n",
        "`Preformated Code`"
      ],
      "metadata": {
        "id": "teUP7m6V6teX"
      }
    },
    {
      "cell_type": "markdown",
      "source": [
        "#### **Checking Whether a Value Is Not in a List**\n",
        "Sub-sections use Heading 4\n",
        "`Preformated Code`"
      ],
      "metadata": {
        "id": "5dsT4sM47W3C"
      }
    },
    {
      "cell_type": "markdown",
      "source": [
        "#### **Boolean Expressions**\n",
        "Sub-sections use Heading 4\n",
        "`Preformated Code`"
      ],
      "metadata": {
        "id": "xbIcMHIj7f1_"
      }
    },
    {
      "cell_type": "markdown",
      "source": [
        "---\n",
        "## **`if` Statements**\n",
        "Chapter Sections use Heading 2 and a divider line"
      ],
      "metadata": {
        "id": "PpfX-VcN5hDh"
      }
    },
    {
      "cell_type": "markdown",
      "source": [
        "#### **Simple** `if` **Statements**\n",
        "Sub-sections use Heading 4\n",
        "`Preformated Code`"
      ],
      "metadata": {
        "id": "WE3IY5MJ7ldT"
      }
    },
    {
      "cell_type": "markdown",
      "source": [
        "#### `if-else` **Statements**\n",
        "Sub-sections use Heading 4\n",
        "`Preformated Code`"
      ],
      "metadata": {
        "id": "7eksekQ67peT"
      }
    },
    {
      "cell_type": "markdown",
      "source": [
        "#### **The** `if-elif-else` **Chain**\n",
        "Sub-sections use Heading 4\n",
        "`Preformated Code`"
      ],
      "metadata": {
        "id": "qrNg2QfD-5fB"
      }
    },
    {
      "cell_type": "markdown",
      "source": [
        "#### **Using Multiple** `elif` **Blocks**\n",
        "Sub-sections use Heading 4\n",
        "`Preformated Code`"
      ],
      "metadata": {
        "id": "uu4Xyit2--iX"
      }
    },
    {
      "cell_type": "markdown",
      "source": [
        "#### **Ommitting the** `else` **Block**\n",
        "Sub-sections use Heading 4\n",
        "`Preformated Code`"
      ],
      "metadata": {
        "id": "WS2J_dkB_G1u"
      }
    },
    {
      "cell_type": "markdown",
      "source": [
        "#### **Testing Multiple Conditions**\n",
        "Sub-sections use Heading 4\n",
        "`Preformated Code`"
      ],
      "metadata": {
        "id": "_TLwEhSW_Lf-"
      }
    },
    {
      "cell_type": "markdown",
      "source": [
        "---\n",
        "## **Using `if` Statements with Lists**\n",
        "Chapter Sections use Heading 2 and a divider line"
      ],
      "metadata": {
        "id": "qewzmxt25oIO"
      }
    },
    {
      "cell_type": "markdown",
      "source": [
        "#### **Checking for Special Items**\n",
        "Sub-sections use Heading 4\n",
        "`Preformated Code`"
      ],
      "metadata": {
        "id": "XSOL2WTr_SLj"
      }
    },
    {
      "cell_type": "markdown",
      "source": [
        "#### **Checking That a List Is Not Empty**\n",
        "Sub-sections use Heading 4\n",
        "`Preformated Code`"
      ],
      "metadata": {
        "id": "x4C-0j-7_V-X"
      }
    },
    {
      "cell_type": "markdown",
      "source": [
        "#### **Using Multiple Lists**\n",
        "Sub-sections use Heading 4\n",
        "`Preformated Code`"
      ],
      "metadata": {
        "id": "T6DQTfUS_Z5V"
      }
    },
    {
      "cell_type": "markdown",
      "source": [
        "---\n",
        "## **Styling Your `if` Statements**\n",
        "Chapter Sections use Heading 2 and a divider line"
      ],
      "metadata": {
        "id": "aA2YXAdF5vJm"
      }
    },
    {
      "cell_type": "markdown",
      "source": [
        "---\n",
        "## **Summary**\n"
      ],
      "metadata": {
        "id": "Jk5L_i6Y_h4a"
      }
    }
  ]
}