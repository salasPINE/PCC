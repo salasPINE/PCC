{
  "nbformat": 4,
  "nbformat_minor": 0,
  "metadata": {
    "colab": {
      "provenance": [],
      "toc_visible": true,
      "authorship_tag": "ABX9TyNCq79338Iv5+9VLWBpi9p+"
    },
    "kernelspec": {
      "name": "python3",
      "display_name": "Python 3"
    },
    "language_info": {
      "name": "python"
    }
  },
  "cells": [
    {
      "cell_type": "markdown",
      "source": [
        "# **Chapter 2 Exercises**"
      ],
      "metadata": {
        "id": "EbXSfCYQ85RB"
      }
    },
    {
      "cell_type": "markdown",
      "source": [
        "## 2-1 Simple Message\n",
        "\n",
        "Assign a message to a variable, and then print that message."
      ],
      "metadata": {
        "id": "hKZ34sMI-io5"
      }
    },
    {
      "cell_type": "code",
      "execution_count": null,
      "metadata": {
        "id": "8HfOiQHU82p7"
      },
      "outputs": [],
      "source": [
        "# 2.1 Simple Message\n",
        "\n"
      ]
    },
    {
      "cell_type": "markdown",
      "source": [
        "## 2-2 Simple Messages\n",
        "\n",
        "Assign a message to a variable, and print that message. Then change the value of the variable to a new message, and print the new message."
      ],
      "metadata": {
        "id": "inxB6tWa-vh2"
      }
    },
    {
      "cell_type": "code",
      "source": [
        "# 2.2 Simple Messages\n",
        "\n"
      ],
      "metadata": {
        "id": "tcIYHsHj-Ga4"
      },
      "execution_count": null,
      "outputs": []
    },
    {
      "cell_type": "markdown",
      "source": [
        "---\n",
        "## 2-3 Personal Message\n",
        "\n",
        "Use a variable to represent a person’s name, and print a message to that person. Your message should be simple, such as, “Hello Eric, would you like to learn some Python today?”"
      ],
      "metadata": {
        "id": "tbOFj9vq_DI-"
      }
    },
    {
      "cell_type": "code",
      "source": [
        "# 2.3 Personal Message\n",
        "\n"
      ],
      "metadata": {
        "id": "Rw3teboJ-TaQ"
      },
      "execution_count": null,
      "outputs": []
    },
    {
      "cell_type": "markdown",
      "source": [
        "## 2-4 Name Cases\n",
        "\n",
        "Use a variable to represent a persons name, and then print that persons name in lowercase, uppercase, and title case."
      ],
      "metadata": {
        "id": "AdKSwpyl_arx"
      }
    },
    {
      "cell_type": "code",
      "source": [
        "# 2.4 Name Cases\n",
        "\n"
      ],
      "metadata": {
        "id": "0SwgrgoT_WYo"
      },
      "execution_count": null,
      "outputs": []
    },
    {
      "cell_type": "markdown",
      "source": [
        "## 2-5 Famous Quote\n",
        "\n",
        "Find a quote from a famous person you admire. Print the quote and the name of its author. Your output should look something like the following, including the quotation marks:\n",
        "\n",
        "`Albert Einstein once said, \"A person who never made a mistake never tried anything new.\"`"
      ],
      "metadata": {
        "id": "00XB5uez_2uz"
      }
    },
    {
      "cell_type": "code",
      "source": [
        "# 2.5 Famous Quote\n",
        "\n"
      ],
      "metadata": {
        "id": "4vDJ_F2GARPP"
      },
      "execution_count": null,
      "outputs": []
    },
    {
      "cell_type": "markdown",
      "source": [
        "## 2-6 Famous Quote 2\n",
        "\n",
        "Repeat Exercise 2-5, but this time, represent the famous persons name using a variable called famous_person. Then compose your message and represent it with a new variable called message. Print your message."
      ],
      "metadata": {
        "id": "cgeMq8NVAZ8v"
      }
    },
    {
      "cell_type": "code",
      "source": [
        "# 2.6 Famous Quote 2\n",
        "\n"
      ],
      "metadata": {
        "id": "e9UNuAgXAaJj"
      },
      "execution_count": null,
      "outputs": []
    },
    {
      "cell_type": "markdown",
      "source": [
        "## 2-7 Stripping Names\n",
        "\n",
        "Use a variable to represent a persons name, and include some whitespace characters at the beginning and end of the name. Make sure you use each character combination, \"\\t\" and \"\\n\", at least once.\n",
        "\n",
        "Print the name once, so the whitespace around the name is displayed. Then print the name using each of the three stripping functions, lstrip(), rstrip(), and strip()."
      ],
      "metadata": {
        "id": "BBhMyoZ1A9i6"
      }
    },
    {
      "cell_type": "code",
      "source": [
        "# 2.7 Stripping Names\n",
        "\n"
      ],
      "metadata": {
        "id": "lC7CKBnxBO6i"
      },
      "execution_count": null,
      "outputs": []
    },
    {
      "cell_type": "markdown",
      "source": [
        "## 2-8 File Extensions\n",
        "\n",
        "Python has a removesuffix() method that works exactly like removeprefix(). Assign the value 'python_notes.txt' to a variable called filename. Then use the removesuffix() method to display the filename without the file extension, like some file browsers do."
      ],
      "metadata": {
        "id": "hrG4B6lnB4XX"
      }
    },
    {
      "cell_type": "code",
      "source": [
        "# 2.8 File Extensions\n",
        "\n"
      ],
      "metadata": {
        "id": "IO2j0CX-B5wE"
      },
      "execution_count": null,
      "outputs": []
    },
    {
      "cell_type": "markdown",
      "source": [
        "---\n",
        "## 2-9 Number Eight\n",
        "\n",
        "Write addition, subtraction, multiplication, and division operations that each result in the number 8. Be sure to enclose your operations in print() calls to see the results.\n",
        "\n",
        "You should create four lines that look like this: `print(5+3)`\n",
        "\n",
        "Your output should be four lines, with the number 8 appearing once on each line."
      ],
      "metadata": {
        "id": "A-r-Zl1HBmXw"
      }
    },
    {
      "cell_type": "code",
      "source": [
        "# 2.9 Number Eight\n",
        "\n"
      ],
      "metadata": {
        "id": "yYzhntZjB_9W"
      },
      "execution_count": null,
      "outputs": []
    },
    {
      "cell_type": "markdown",
      "source": [
        "## 2-10 Favorite Number\n",
        "\n",
        "Use a variable to represent your favorite number. Then, using that variable, create a message that reveals your favorite number. Print that message."
      ],
      "metadata": {
        "id": "R4wWMgc8CFC9"
      }
    },
    {
      "cell_type": "code",
      "source": [
        "# 2.10 Favorite Number\n",
        "\n"
      ],
      "metadata": {
        "id": "y3EURpBeCNJ6"
      },
      "execution_count": null,
      "outputs": []
    }
  ]
}