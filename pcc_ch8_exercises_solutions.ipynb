{
 "cells": [
  {
   "cell_type": "markdown",
   "metadata": {
    "id": "EbXSfCYQ85RB"
   },
   "source": [
    "# **Chapter 8 Exercises**"
   ]
  },
  {
   "cell_type": "markdown",
   "metadata": {
    "id": "hKZ34sMI-io5"
   },
   "source": [
    "## **8-1 Message**\n",
    "\n",
    "Write a function called `display_message()` that prints one sentence telling everyone what you are learning about in this chapter. Call the function, and make sure the message displays correctly."
   ]
  },
  {
   "cell_type": "code",
   "execution_count": null,
   "metadata": {
    "id": "8HfOiQHU82p7"
   },
   "outputs": [],
   "source": [
    "# 8.1 Exercise\n",
    "def display_message():\n",
    "    \"\"\"Display a message about what I'm learning.\"\"\"\n",
    "    msg = \"I'm learning to store code in functions.\"\n",
    "    print(msg)\n",
    "\n",
    "display_message()"
   ]
  },
  {
   "cell_type": "markdown",
   "metadata": {
    "id": "inxB6tWa-vh2"
   },
   "source": [
    "## **8-2 Favorite Book**\n",
    "\n",
    "Write a function called `favorite_book()` that accepts one parameter, `title`. The function should print a message, such as *One of my favorite books is Alice in Wonderland*. Call the function, making sure to include a book title as an argument in the function call."
   ]
  },
  {
   "cell_type": "code",
   "execution_count": null,
   "metadata": {
    "id": "tcIYHsHj-Ga4"
   },
   "outputs": [],
   "source": [
    "# 8.2 Exercise\n",
    "def favorite_book(title):\n",
    "    \"\"\"Display a message about someone's favorite book.\"\"\"\n",
    "    print(f\"{title} is one of my favorite books.\")\n",
    "\n",
    "favorite_book('The Abstract Wild')"
   ]
  },
  {
   "cell_type": "markdown",
   "metadata": {
    "id": "tbOFj9vq_DI-"
   },
   "source": [
    "---\n",
    "## **8-3 T-Shirt**\n",
    "\n",
    "Write a function called `make_shirt()` that accepts a size and the text of a message that should be printed on the shirt. The function should print a sentence summarizing the size of the shirt and the message printed on it. Call the function once using positional arguments to make a shirt. Call the function a second time using keyword arguments."
   ]
  },
  {
   "cell_type": "code",
   "execution_count": null,
   "metadata": {
    "id": "Rw3teboJ-TaQ"
   },
   "outputs": [],
   "source": [
    "# 8.3 Exercise\n",
    "def make_shirt(size, message):\n",
    "    \"\"\"Summarize the shirt that's going to be made.\"\"\"\n",
    "    print(f\"\\nI'm going to make a {size} t-shirt.\")\n",
    "    print(f'It will say, \"{message}\"')\n",
    "\n",
    "make_shirt('large', 'I love Python!')\n",
    "make_shirt(message=\"Readability counts.\", size='medium')"
   ]
  },
  {
   "cell_type": "markdown",
   "metadata": {
    "id": "AdKSwpyl_arx"
   },
   "source": [
    "---\n",
    "## **8-4 Large Shirts**\n",
    "\n",
    "Modify the `make_shirt()` function so that shirts are large by default with a message that reads I love Python. Make a large shirt and a medium shirt with the default message, and a shirt of any size with a different message."
   ]
  },
  {
   "cell_type": "code",
   "execution_count": null,
   "metadata": {
    "id": "0SwgrgoT_WYo"
   },
   "outputs": [],
   "source": [
    "# 8.4 Exercise\n",
    "def make_shirt(size='large', message='I love Python!'):\n",
    "    \"\"\"Summarize the shirt that's going to be made.\"\"\"\n",
    "    print(f\"\\nI'm going to make a {size} t-shirt.\")\n",
    "    print(f'It will say, \"{message}\"')\n",
    "\n",
    "make_shirt()\n",
    "make_shirt(size='medium')\n",
    "make_shirt('small', 'Programmers are loopy.')"
   ]
  },
  {
   "cell_type": "markdown",
   "metadata": {
    "id": "00XB5uez_2uz"
   },
   "source": [
    "## **8-5 Cities**\n",
    "\n",
    "Write a function called `describe_city()` that accepts the name of a city and its country. The function should print a simple sentence, such as Reykjavik is in Iceland. Give the parameter for the country a default value. Call your function for three different cities, at least one of which is not in the default country."
   ]
  },
  {
   "cell_type": "code",
   "execution_count": null,
   "metadata": {
    "id": "4vDJ_F2GARPP"
   },
   "outputs": [],
   "source": [
    "# 8.5 Exercise\n",
    "def describe_city(city, country='chile'):\n",
    "    \"\"\"Describe a city.\"\"\"\n",
    "    msg = f\"{city.title()} is in {country.title()}.\"\n",
    "    print(msg)\n",
    "\n",
    "describe_city('santiago')\n",
    "describe_city('reykjavik', 'iceland')\n",
    "describe_city('punta arenas')"
   ]
  },
  {
   "cell_type": "markdown",
   "metadata": {
    "id": "cgeMq8NVAZ8v"
   },
   "source": [
    "---\n",
    "## **8-6 City Names**\n",
    "\n",
    "Write a function called `city_country()` that takes in the name of a city and its country. The function should return a string formatted like this:\n",
    "```\n",
    "\"Santiago, Chile\"\n",
    "```\n",
    "Call your function with at least three city-country pairs, and print the values that are returned."
   ]
  },
  {
   "cell_type": "code",
   "execution_count": null,
   "metadata": {
    "id": "e9UNuAgXAaJj"
   },
   "outputs": [],
   "source": [
    "# 8.6 Exercise\n",
    "def city_country(city, country):\n",
    "    \"\"\"Return a string like 'Santiago, Chile'.\"\"\"\n",
    "    return f\"{city.title()}, {country.title()}\"\n",
    "\n",
    "city = city_country('santiago', 'chile')\n",
    "print(city)\n",
    "\n",
    "city = city_country('ushuaia', 'argentina')\n",
    "print(city)\n",
    "\n",
    "city = city_country('longyearbyen', 'svalbard')\n",
    "print(city)"
   ]
  },
  {
   "cell_type": "markdown",
   "metadata": {
    "id": "BBhMyoZ1A9i6"
   },
   "source": [
    "## **8-7 Album**\n",
    "\n",
    "Write a function called `make_album()` that builds a dictionary describing a music album. The function should take in an artist name and an album title, and it should return a dictionary containing these two pieces of information. Use the function to make three dictionaries representing different albums. Print each return value to show that the dictionaries are storing the album information correctly.\n",
    "\n",
    "Use `None` to add an optional parameter to `make_album()` that allows you to store the number of songs on an album. If the calling line includes a value for the number of songs, add that value to the album's dictionary. Make at least one new function call that includes the number of songs on an album."
   ]
  },
  {
   "cell_type": "code",
   "execution_count": null,
   "metadata": {
    "id": "lC7CKBnxBO6i"
   },
   "outputs": [],
   "source": [
    "# 8.7 Exercise\n",
    "def make_album(artist, title):\n",
    "    \"\"\"Build a dictionary containing information about an album.\"\"\"\n",
    "    album_dict = {\n",
    "        'artist': artist.title(),\n",
    "        'title': title.title(),\n",
    "        }\n",
    "    return album_dict\n",
    "\n",
    "album = make_album('metallica', 'ride the lightning')\n",
    "print(album)\n",
    "\n",
    "album = make_album('beethoven', 'ninth symphony')\n",
    "print(album)\n",
    "\n",
    "album = make_album('willie nelson', 'red-headed stranger')\n",
    "print(album)"
   ]
  },
  {
   "cell_type": "code",
   "execution_count": null,
   "metadata": {
    "id": "PwHD5VxEyCGc"
   },
   "outputs": [],
   "source": [
    "def make_album(artist, title, num_songs=0):\n",
    "    \"\"\"Build a dictionary containing information about an album.\"\"\"\n",
    "    album_dict = {\n",
    "        'artist': artist.title(),\n",
    "        'title': title.title(),\n",
    "        }\n",
    "    if num_songs:\n",
    "        album_dict['num_songs'] = num_songs\n",
    "    return album_dict\n",
    "\n",
    "album = make_album('metallica', 'ride the lightning')\n",
    "print(album)\n",
    "\n",
    "album = make_album('beethoven', 'ninth symphony')\n",
    "print(album)\n",
    "\n",
    "album = make_album('willie nelson', 'red-headed stranger')\n",
    "print(album)\n",
    "\n",
    "album = make_album('iron maiden', 'piece of mind', num_songs=8)\n",
    "print(album)"
   ]
  },
  {
   "cell_type": "markdown",
   "metadata": {
    "id": "hrG4B6lnB4XX"
   },
   "source": [
    "## **8-8 User Albums**\n",
    "\n",
    "Start with your program from Exercise 8-7. Write a `while` loop that allows users to enter an album's artist and title. Once you have that information, call `make_album()` with the user's input and print the dictionary that's created. Be sure to include a quit value in the while loop."
   ]
  },
  {
   "cell_type": "code",
   "execution_count": null,
   "metadata": {
    "id": "IO2j0CX-B5wE"
   },
   "outputs": [],
   "source": [
    "# 8.8 Exercise\n",
    "def make_album(artist, title, num_songs=0):\n",
    "    \"\"\"Build a dictionary containing information about an album.\"\"\"\n",
    "    album_dict = {\n",
    "        'artist': artist.title(),\n",
    "        'title': title.title(),\n",
    "        }\n",
    "    if num_songs:\n",
    "        album_dict['num_songs'] = num_songs\n",
    "    return album_dict\n",
    "\n",
    "# Prepare the prompts.\n",
    "title_prompt = \"\\nWhat album are you thinking of? \"\n",
    "artist_prompt = \"Who's the artist? \"\n",
    "\n",
    "# Let the user know how to quit.\n",
    "print(\"Enter 'quit' at any time to stop.\")\n",
    "\n",
    "while True:\n",
    "    title = input(title_prompt)\n",
    "    if title == 'quit':\n",
    "        break\n",
    "\n",
    "    artist = input(artist_prompt)\n",
    "    if artist == 'quit':\n",
    "        break\n",
    "\n",
    "    album = make_album(artist, title)\n",
    "    print(album)\n",
    "\n",
    "print(\"\\nThanks for responding!\")"
   ]
  },
  {
   "cell_type": "markdown",
   "metadata": {
    "id": "fJf7B1VTsmTa"
   },
   "source": [
    "---\n",
    "## **8-9 Messages**\n",
    "\n",
    "Make a list containing a series of short text messages. Pass the list to a function called `show_messages()`, which prints each text message."
   ]
  },
  {
   "cell_type": "code",
   "execution_count": null,
   "metadata": {
    "id": "cqaXwmAfsq-Q"
   },
   "outputs": [],
   "source": [
    "# 8.9 Exercise\n",
    "def show_messages(messages):\n",
    "    \"\"\"Print all messages in the list.\"\"\"\n",
    "    for message in messages:\n",
    "        print(message)\n",
    "\n",
    "messages = [\"hello there\", \"how are u?\", \":)\"]\n",
    "show_messages(messages)"
   ]
  },
  {
   "cell_type": "markdown",
   "metadata": {
    "id": "A-r-Zl1HBmXw"
   },
   "source": [
    "## **8-10 Sending Messages**\n",
    "\n",
    "Start with a copy of your program from Exercise 8-9. Write a function called `send_messages()` that prints each text message and moves each message to a new list called `sent_messages` as it's printed. After calling the function, print both of your lists to make sure the messages were moved correctly."
   ]
  },
  {
   "cell_type": "code",
   "execution_count": null,
   "metadata": {
    "id": "q5qAvZNrwfC8"
   },
   "outputs": [],
   "source": [
    "# 8.10 Exercise\n",
    "def show_messages(messages):\n",
    "    \"\"\"Print all messages in the list.\"\"\"\n",
    "    print(\"Showing all messages:\")\n",
    "    for message in messages:\n",
    "        print(message)\n",
    "\n",
    "def send_messages(messages, sent_messages):\n",
    "    \"\"\"Print each message, and then move it to sent_messages.\"\"\"\n",
    "    print(\"\\nSending all messages:\")\n",
    "    while messages:\n",
    "        current_message = messages.pop()\n",
    "        print(current_message)\n",
    "        sent_messages.append(current_message)\n",
    "\n",
    "messages = [\"hello there\", \"how are u?\", \":)\"]\n",
    "show_messages(messages)\n",
    "\n",
    "sent_messages = []\n",
    "send_messages(messages, sent_messages)\n",
    "\n",
    "print(\"\\nFinal lists:\")\n",
    "print(messages)\n",
    "print(sent_messages)"
   ]
  },
  {
   "cell_type": "markdown",
   "metadata": {
    "id": "wAN6osLbwawK"
   },
   "source": [
    "## **8-11 Archived Messages**\n",
    "\n",
    "Start with your work from Exercise 8-10. Call the function `send_messages()` with a copy of the list of messages. After calling the function, print both of your lists to show that the original list has retained its messages."
   ]
  },
  {
   "cell_type": "code",
   "execution_count": null,
   "metadata": {
    "id": "iRBnbQOiwjQH"
   },
   "outputs": [],
   "source": [
    "# 8.11 Exercise\n",
    "def show_messages(messages):\n",
    "    \"\"\"Print all messages in the list.\"\"\"\n",
    "    print(\"Showing all messages:\")\n",
    "    for message in messages:\n",
    "        print(message)\n",
    "\n",
    "def send_messages(messages, sent_messages):\n",
    "    \"\"\"Print each message, and then move it to sent_messages.\"\"\"\n",
    "    print(\"\\nSending all messages:\")\n",
    "    while messages:\n",
    "        current_message = messages.pop()\n",
    "        print(current_message)\n",
    "        sent_messages.append(current_message)\n",
    "\n",
    "messages = [\"hello there\", \"how are u?\", \":)\"]\n",
    "show_messages(messages)\n",
    "\n",
    "sent_messages = []\n",
    "send_messages(messages[:], sent_messages)\n",
    "\n",
    "print(\"\\nFinal lists:\")\n",
    "print(messages)\n",
    "print(sent_messages)"
   ]
  },
  {
   "cell_type": "markdown",
   "metadata": {
    "id": "1Q7ihsZBwbVI"
   },
   "source": [
    "---\n",
    "## **8-12 Sandwiches**\n",
    "\n",
    "Write a function that accepts a list of items a person wants on a sandwich. The function should have one parameter that collects as many items as the function call provides, and it should print a summary of the sandwich that's being ordered. Call the function three times, using a different number of arguments each time."
   ]
  },
  {
   "cell_type": "code",
   "execution_count": null,
   "metadata": {
    "id": "onq7ze7SwlEM"
   },
   "outputs": [],
   "source": [
    "# 8.12 Exercise\n",
    "def make_sandwich(*items):\n",
    "    \"\"\"Make a sandwich with the given items.\"\"\"\n",
    "    print(\"\\nI'll make you a great sandwich:\")\n",
    "    for item in items:\n",
    "        print(f\"  ...adding {item} to your sandwich.\")\n",
    "    print(\"Your sandwich is ready!\")\n",
    "\n",
    "make_sandwich('roast beef', 'cheddar cheese', 'lettuce', 'honey dijon')\n",
    "make_sandwich('turkey', 'apple slices', 'honey mustard')\n",
    "make_sandwich('peanut butter', 'strawberry jam')"
   ]
  },
  {
   "cell_type": "markdown",
   "metadata": {
    "id": "kgc3xS47wcBv"
   },
   "source": [
    "## **8-13 User Profile**\n",
    "\n",
    "Start with a copy of *user_profile.py*. Build a profile of yourself by calling `build_profile()`, using your first and last names and three other key-value pairs that describe you."
   ]
  },
  {
   "cell_type": "code",
   "execution_count": null,
   "metadata": {
    "id": "yVbgg9Guwled"
   },
   "outputs": [],
   "source": [
    "# 8.13 Exercise\n",
    "def build_profile(first, last, **user_info):\n",
    "    \"\"\"Build a dictionary containing everything we know about a user.\"\"\"\n",
    "    user_info['first_name'] = first\n",
    "    user_info['last_name'] = last\n",
    "    return user_info\n",
    "\n",
    "user_profile = build_profile('albert', 'einstein',\n",
    "                             location='princeton',\n",
    "                             field='physics')\n",
    "print(user_profile)\n",
    "\n",
    "# unfinished"
   ]
  },
  {
   "cell_type": "markdown",
   "metadata": {
    "id": "6G_74fyVwcMf"
   },
   "source": [
    "## **8-14 Cars**\n",
    "\n",
    "Write a function that stores information about a car in a dictionary. The function should always receive a manufacturer and a model name. It should then accept an arbitrary number of keyword arguments. Call the function with the required information and two other name-value pairs, such as a color or an optional feature. Your function should work for a call like this one:\n",
    "```\n",
    "car = make_car('subaru', 'outback', color='blue', tow_package=True)\n",
    "```\n",
    "Print the dictionary that's returned to make sure all the information was stored correctly."
   ]
  },
  {
   "cell_type": "code",
   "execution_count": null,
   "metadata": {
    "id": "F6tAmBzwwmHI"
   },
   "outputs": [],
   "source": [
    "# 8.14 Exercise\n",
    "def make_car(manufacturer, model, **options):\n",
    "    \"\"\"Make a dictionary representing a car.\"\"\"\n",
    "    car_dict = {\n",
    "        'manufacturer': manufacturer.title(),\n",
    "        'model': model.title(),\n",
    "        }\n",
    "    for option, value in options.items():\n",
    "        car_dict[option] = value\n",
    "\n",
    "    return car_dict\n",
    "\n",
    "my_outback = make_car('subaru', 'outback', color='blue', tow_package=True)\n",
    "print(my_outback)\n",
    "\n",
    "my_old_accord = make_car('honda', 'accord', year=1991, color='white',\n",
    "        headlights='popup')\n",
    "print(my_old_accord)"
   ]
  },
  {
   "cell_type": "markdown",
   "metadata": {
    "id": "ECKoqPs8wcTI"
   },
   "source": [
    "---\n",
    "## **8-15 Printing Models**\n",
    "\n",
    "Put the functions for the example *printing_models.py* in a separate file called *printing_functions.py*. Write an import statement at the top of *printing_models.py*, and modify the file to use the imported functions."
   ]
  },
  {
   "cell_type": "code",
   "execution_count": null,
   "metadata": {
    "id": "xnJcop5gwmid"
   },
   "outputs": [],
   "source": [
    "# 8.15 Exercise\n",
    "import printing_functions as pf\n",
    "\n",
    "unprinted_designs = ['iphone case', 'robot pendant', 'dodecahedron']\n",
    "completed_models = []\n",
    "\n",
    "pf.print_models(unprinted_designs, completed_models)\n",
    "pf.show_completed_models(completed_models)"
   ]
  },
  {
   "cell_type": "markdown",
   "metadata": {
    "id": "62zO17X686Dj"
   },
   "source": [
    "## **8-16 Imports**\n",
    "\n",
    "Using a program you wrote that has one function in it, store that function in a separate file. Import the function into your main program file, and call the function using each of these approaches:\n",
    "```\n",
    "import module_name\n",
    "from module_name import function_name\n",
    "from module_name import function_name as fn\n",
    "import module_name as mn\n",
    "from module_name import *\n",
    "```"
   ]
  },
  {
   "cell_type": "code",
   "execution_count": null,
   "metadata": {
    "id": "__1OPgj38-Mf"
   },
   "outputs": [],
   "source": [
    "# 8.16 Exercise\n"
   ]
  },
  {
   "cell_type": "markdown",
   "metadata": {
    "id": "qEmHTXIX87HW"
   },
   "source": [
    "## **8-17 Styling Functions**\n",
    "\n",
    "Choose any three programs you wrote for this chapter, and make sure they follow the styling guidelines described in this section."
   ]
  }
 ],
 "metadata": {
  "colab": {
   "provenance": [],
   "toc_visible": true
  },
  "kernelspec": {
   "display_name": "Python 3 (ipykernel)",
   "language": "python",
   "name": "python3"
  },
  "language_info": {
   "codemirror_mode": {
    "name": "ipython",
    "version": 3
   },
   "file_extension": ".py",
   "mimetype": "text/x-python",
   "name": "python",
   "nbconvert_exporter": "python",
   "pygments_lexer": "ipython3",
   "version": "3.10.11"
  }
 },
 "nbformat": 4,
 "nbformat_minor": 4
}
