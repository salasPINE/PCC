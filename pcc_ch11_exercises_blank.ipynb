{
  "nbformat": 4,
  "nbformat_minor": 0,
  "metadata": {
    "colab": {
      "provenance": [],
      "toc_visible": true
    },
    "kernelspec": {
      "name": "python3",
      "display_name": "Python 3"
    },
    "language_info": {
      "name": "python"
    }
  },
  "cells": [
    {
      "cell_type": "markdown",
      "source": [
        "# **Chapter 11 Exercises**"
      ],
      "metadata": {
        "id": "EbXSfCYQ85RB"
      }
    },
    {
      "cell_type": "markdown",
      "source": [
        "## **11-1 City, Country**\n",
        "\n",
        "Write a function that accepts two parameters: a city name and a country name. The function should return a single string of the form City, Country, such as Santiago, Chile. Store the function in a module called *city_functions.py*, and save this file in a new folder so pytest won't try to run the tests we've already written.\n",
        "\n",
        "Create a file called *test_cities.py* that tests the function you just wrote. Write a function called `test_city_country()` to verify that calling your function with values such as '*santiago*' and '*chile*' results in the correct string. Run the test, and make sure `test_city_country()` passes."
      ],
      "metadata": {
        "id": "hKZ34sMI-io5"
      }
    },
    {
      "cell_type": "code",
      "execution_count": null,
      "metadata": {
        "id": "8HfOiQHU82p7"
      },
      "outputs": [],
      "source": [
        "# 11.1 Exercise\n"
      ]
    },
    {
      "cell_type": "markdown",
      "source": [
        "## **11-2 Population**\n",
        "\n",
        "Modify your function so it requires a third parameter, population. It should now return a single string of the form City, Country – population xxx, such as Santiago, Chile – population 5000000. Run the test again, and make sure `test_city_country()` fails this time.\n",
        "\n",
        "Modify the function so the population parameter is optional. Run the test, and make sure `test_city_country()` passes again.\n",
        "\n",
        "Write a second test called `test_city_country_population()` that verifies you can call your function with the values '*santiago*', '*chile*', and '*population =5000000*'. Run the tests one more time, and make sure this new test passes."
      ],
      "metadata": {
        "id": "inxB6tWa-vh2"
      }
    },
    {
      "cell_type": "code",
      "source": [
        "# 11.2 Exercise\n"
      ],
      "metadata": {
        "id": "tcIYHsHj-Ga4"
      },
      "execution_count": null,
      "outputs": []
    },
    {
      "cell_type": "markdown",
      "source": [
        "---\n",
        "## **11-3 Employee**\n",
        "\n",
        "Write a class called Employee. The `__init__()` method should take in a first name, a last name, and an annual salary, and store each of these as attributes. Write a method called `give_raise()` that adds $5,000 to the annual salary by default but also accepts a different raise amount. Write a test file for Employee with two test functions, `test_give_default_raise()` and `test_give_custom_raise()`. Write your tests once without using a fixture, and make sure they both pass. Then write a fixture so you don't have to create a new employee instance in each test function. Run the tests again, and make sure both tests still pass."
      ],
      "metadata": {
        "id": "tbOFj9vq_DI-"
      }
    },
    {
      "cell_type": "code",
      "source": [
        "# 11.3 Exercise\n"
      ],
      "metadata": {
        "id": "Rw3teboJ-TaQ"
      },
      "execution_count": null,
      "outputs": []
    }
  ]
}