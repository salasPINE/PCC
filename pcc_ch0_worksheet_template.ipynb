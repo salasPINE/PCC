{
  "nbformat": 4,
  "nbformat_minor": 0,
  "metadata": {
    "colab": {
      "provenance": [],
      "toc_visible": true,
      "authorship_tag": "ABX9TyMlBs6Hi5/zXcU20OgPltPn"
    },
    "kernelspec": {
      "name": "python3",
      "display_name": "Python 3"
    },
    "language_info": {
      "name": "python"
    }
  },
  "cells": [
    {
      "cell_type": "markdown",
      "source": [
        "# **Chapter 0 - Python Crash Course**"
      ],
      "metadata": {
        "id": "u6F3ZR65yvPc"
      }
    },
    {
      "cell_type": "markdown",
      "source": [
        "---\n",
        "## **HEADING**\n",
        "Notes"
      ],
      "metadata": {
        "id": "zq_ivaIE44Rp"
      }
    },
    {
      "cell_type": "markdown",
      "source": [
        "#### **Heading Four**\n",
        "Notes"
      ],
      "metadata": {
        "id": "SNWpWW6R2weR"
      }
    },
    {
      "cell_type": "markdown",
      "source": [
        "#### **Heading Four**\n",
        "Notes"
      ],
      "metadata": {
        "id": "oXhJiAnMDbQh"
      }
    },
    {
      "cell_type": "markdown",
      "source": [
        "#### **Heading Four**\n",
        "Notes"
      ],
      "metadata": {
        "id": "gPfloHKlDcFD"
      }
    },
    {
      "cell_type": "markdown",
      "source": [
        "#### **Heading Four**\n",
        "Notes"
      ],
      "metadata": {
        "id": "jQnDTVyFDc3K"
      }
    },
    {
      "cell_type": "markdown",
      "source": [
        "#### **Heading Four**\n",
        "Notes"
      ],
      "metadata": {
        "id": "F5K9ba-qDds3"
      }
    },
    {
      "cell_type": "markdown",
      "source": [
        "---\n",
        "## **HEADING**\n",
        "Notes"
      ],
      "metadata": {
        "id": "VR46jm8eDWkP"
      }
    },
    {
      "cell_type": "markdown",
      "source": [
        "#### **Heading Four**\n",
        "Notes"
      ],
      "metadata": {
        "id": "91MIhu4BDr1G"
      }
    },
    {
      "cell_type": "markdown",
      "source": [
        "#### **Heading Four**\n",
        "Notes"
      ],
      "metadata": {
        "id": "OXUY7sa3DsvD"
      }
    },
    {
      "cell_type": "markdown",
      "source": [
        "#### **Heading Four**\n",
        "Notes"
      ],
      "metadata": {
        "id": "oCEMwFCXDtnA"
      }
    },
    {
      "cell_type": "markdown",
      "source": [
        "#### **Heading Four**\n",
        "Notes"
      ],
      "metadata": {
        "id": "EHweHzOwDuZg"
      }
    },
    {
      "cell_type": "markdown",
      "source": [
        "#### **Heading Four**\n",
        "Notes"
      ],
      "metadata": {
        "id": "HrOFZ09kDvVM"
      }
    },
    {
      "cell_type": "markdown",
      "source": [
        "---\n",
        "## **HEADING**\n",
        "Notes"
      ],
      "metadata": {
        "id": "oFRV0scmDX8x"
      }
    },
    {
      "cell_type": "markdown",
      "source": [
        "#### **Heading Four**\n",
        "Notes"
      ],
      "metadata": {
        "id": "E5pf51o4DwT0"
      }
    },
    {
      "cell_type": "markdown",
      "source": [
        "#### **Heading Four**\n",
        "Notes"
      ],
      "metadata": {
        "id": "Yrwexw_fDxHw"
      }
    },
    {
      "cell_type": "markdown",
      "source": [
        "#### **Heading Four**\n",
        "Notes"
      ],
      "metadata": {
        "id": "FE-yvxAzDx3m"
      }
    },
    {
      "cell_type": "markdown",
      "source": [
        "#### **Heading Four**\n",
        "Notes"
      ],
      "metadata": {
        "id": "sc-MosLPDyk4"
      }
    },
    {
      "cell_type": "markdown",
      "source": [
        "#### **Heading Four**\n",
        "Notes"
      ],
      "metadata": {
        "id": "EzBh_fZWDzbG"
      }
    }
  ]
}