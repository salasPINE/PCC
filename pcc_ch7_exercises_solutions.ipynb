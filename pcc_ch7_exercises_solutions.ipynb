{
 "cells": [
  {
   "cell_type": "markdown",
   "metadata": {
    "id": "EbXSfCYQ85RB"
   },
   "source": [
    "# **Chapter 7 Exercises**"
   ]
  },
  {
   "cell_type": "markdown",
   "metadata": {
    "id": "hKZ34sMI-io5"
   },
   "source": [
    "## **7-1 Rental Car**\n",
    "\n",
    "Write a program that asks the user what kind of rental car they would like. Print a message about that car, such as \"Let me see if I can find you a Subaru.\""
   ]
  },
  {
   "cell_type": "code",
   "execution_count": null,
   "metadata": {
    "id": "8HfOiQHU82p7"
   },
   "outputs": [],
   "source": [
    "# 7.1 Exercise\n",
    "car = input(\"What kind of car would you like? \")\n",
    "\n",
    "print(f\"Let me see if I can find you a {car.title()}.\")"
   ]
  },
  {
   "cell_type": "markdown",
   "metadata": {
    "id": "inxB6tWa-vh2"
   },
   "source": [
    "## **7-2 Restaurant Seating**\n",
    "\n",
    "Write a program that asks the user how many people are in their dinner group. If the answer is more than eight, print a message saying they'll have to wait for a table. Otherwise, report that their table is ready."
   ]
  },
  {
   "cell_type": "code",
   "execution_count": null,
   "metadata": {
    "id": "tcIYHsHj-Ga4"
   },
   "outputs": [],
   "source": [
    "# 7.2 Exercise\n",
    "party_size = input(\"How many people are in your dinner party tonight? \")\n",
    "party_size = int(party_size)\n",
    "\n",
    "if party_size > 8:\n",
    "    print(\"I'm sorry, you'll have to wait for a table.\")\n",
    "else:\n",
    "    print(\"Your table is ready.\")"
   ]
  },
  {
   "cell_type": "markdown",
   "metadata": {
    "id": "tbOFj9vq_DI-"
   },
   "source": [
    "## **7-3 Multiples of Ten**\n",
    "\n",
    "Ask the user for a number, and then report whether the number is a multiple of 10 or not."
   ]
  },
  {
   "cell_type": "code",
   "execution_count": null,
   "metadata": {
    "id": "Rw3teboJ-TaQ"
   },
   "outputs": [],
   "source": [
    "# 7.3 Exercise\n",
    "number = input(\"Give me a number, please: \")\n",
    "number = int(number)\n",
    "\n",
    "if number % 10 == 0:\n",
    "    print(f\"{number} is a multiple of 10.\")\n",
    "else:\n",
    "    print(f\"{number} is not a multiple of 10.\")"
   ]
  },
  {
   "cell_type": "markdown",
   "metadata": {
    "id": "AdKSwpyl_arx"
   },
   "source": [
    "---\n",
    "## **7-4 Pizza Toppings**\n",
    "\n",
    "Write a loop that prompts the user to enter a series of pizza toppings until they enter a 'quit' value. As they enter each topping, print a message saying you'll add that topping to their pizza."
   ]
  },
  {
   "cell_type": "code",
   "execution_count": null,
   "metadata": {
    "id": "0SwgrgoT_WYo"
   },
   "outputs": [],
   "source": [
    "# 7.4 Exercise\n",
    "prompt = \"\\nWhat topping would you like on your pizza?\"\n",
    "prompt += \"\\nEnter 'quit' when you are finished: \"\n",
    "\n",
    "while True:\n",
    "    topping = input(prompt)\n",
    "    if topping != 'quit':\n",
    "        print(f\"  I'll add {topping} to your pizza.\")\n",
    "    else:\n",
    "        break"
   ]
  },
  {
   "cell_type": "markdown",
   "metadata": {
    "id": "00XB5uez_2uz"
   },
   "source": [
    "## **7-5 Movie Tickets**\n",
    "\n",
    "A movie theater charges different ticket prices depending on a persons age. If a person is under the age of 3, the ticket is free; if they are between 3 and 12, the ticket is 10 dollars, and if they are over age 12, the ticket is 15. Write a loop in which you ask users their age, and then tell them the cost of their movie ticket."
   ]
  },
  {
   "cell_type": "code",
   "execution_count": null,
   "metadata": {
    "id": "4vDJ_F2GARPP"
   },
   "outputs": [],
   "source": [
    "# 7.5 Exercise\n",
    "prompt = \"\\nHow old are you?\"\n",
    "prompt += \"\\nEnter 'quit' when you are finished. \"\n",
    "\n",
    "while True:\n",
    "    age = input(prompt)\n",
    "    if age == 'quit':\n",
    "        break\n",
    "    age = int(age)\n",
    "\n",
    "    if age < 3:\n",
    "        print(\"  You get in free!\")\n",
    "    elif age < 13:\n",
    "        print(\"  Your ticket is $10.\")\n",
    "    else:\n",
    "        print(\"  Your ticket is $15.\")"
   ]
  },
  {
   "cell_type": "markdown",
   "metadata": {
    "id": "cgeMq8NVAZ8v"
   },
   "source": [
    "## **7-6 Three Exits**\n",
    "\n",
    "Write different versions of either Exercise 7-4 or 7-5 that do each of the following at least once:\n",
    "* Use a conditional test in the while statement to stop the loop.\n",
    "* Use an active variable to control how long the loop runs.\n",
    "* Use a break statement to exit the loop when the user enters a 'quit' value."
   ]
  },
  {
   "cell_type": "code",
   "execution_count": null,
   "metadata": {
    "id": "e9UNuAgXAaJj"
   },
   "outputs": [],
   "source": [
    "# 7.6 Exercise\n",
    "#conditional test in the while statement\n",
    "prompt = \"\\nHow old are you?\"\n",
    "prompt += \"\\nEnter 'quit' when you are finished. \"\n",
    "\n",
    "active = True\n",
    "\n",
    "while active:\n",
    "    age = input(prompt)\n",
    "    if age == 'quit':\n",
    "        active = False\n",
    "    else:\n",
    "        age = int(age)\n",
    "\n",
    "        if age < 3:\n",
    "            print(\"  You get in free!\")\n",
    "        elif age < 13:\n",
    "            print(\"  Your ticket is $10.\")\n",
    "        else:\n",
    "            print(\"  Your ticket is $15.\")"
   ]
  },
  {
   "cell_type": "code",
   "execution_count": null,
   "metadata": {
    "id": "LhOX3qIb10Us"
   },
   "outputs": [],
   "source": [
    "#Use a conditional test in the while statement to stop the loop\n",
    "active=True\n",
    "while active:\n",
    "    age=input(\"What is your age?: \")\n",
    "    if int(age)<3:\n",
    "        print(\"Ticket is free.\")\n",
    "        active=False\n",
    "    elif int(age)>=3 and int(age)<=12:\n",
    "        print(\"Ticket is $10\")\n",
    "        active=False\n",
    "    elif int(age)>12:\n",
    "        print(\"Ticket is $15\")\n",
    "        active=False"
   ]
  },
  {
   "cell_type": "code",
   "execution_count": null,
   "metadata": {
    "id": "ndayCzGz14Dc"
   },
   "outputs": [],
   "source": [
    "#Use an active variable to control how long the loop runs\n",
    "count=0\n",
    "while count<10:\n",
    "    age=input(\"What is your age?: \")\n",
    "    if int(age)<3:\n",
    "        print(\"Ticket is free.\")\n",
    "        count+=1\n",
    "    elif int(age)>=3 and int(age)<=12:\n",
    "        print(\"Ticket is $10\")\n",
    "        count+=1\n",
    "    elif int(age)>12:\n",
    "        print(\"Ticket is $15\")\n",
    "        count+=1"
   ]
  },
  {
   "cell_type": "code",
   "execution_count": null,
   "metadata": {
    "id": "KN3sh5yN17ky"
   },
   "outputs": [],
   "source": [
    "#Use a break statement to exit the loop when the user enters a 'quit' value.\n",
    "active=True\n",
    "while active:\n",
    "    age=input(\"What is your age?: \")\n",
    "    if int(age)<3:\n",
    "        print(\"Ticket is free.\")\n",
    "        active=False\n",
    "    elif int(age)>=3 and int(age)<=12:\n",
    "        print(\"Ticket is $10\")\n",
    "        active=False\n",
    "    elif int(age)>12:\n",
    "        print(\"Ticket is $15\")\n",
    "        active=False\n",
    "    elif age=='quit':\n",
    "        break"
   ]
  },
  {
   "cell_type": "markdown",
   "metadata": {
    "id": "BBhMyoZ1A9i6"
   },
   "source": [
    "## **7-7 Infinity**\n",
    "\n",
    "Write a loop that never ends, and run it. (To end the loop, press CTRL-C.)"
   ]
  },
  {
   "cell_type": "code",
   "execution_count": null,
   "metadata": {
    "id": "lC7CKBnxBO6i"
   },
   "outputs": [],
   "source": [
    "# 7.7 Exercise\n",
    "x=1\n",
    "while x==1:\n",
    "    print(\"To infinity and beyond!\")"
   ]
  },
  {
   "cell_type": "code",
   "execution_count": null,
   "metadata": {
    "id": "_dspgLyR2z5M"
   },
   "outputs": [],
   "source": [
    "# another infinite loop\n",
    "value = 1\n",
    "\n",
    "while value < 3:\n",
    "    print(\"This will go on forever!\")"
   ]
  },
  {
   "cell_type": "markdown",
   "metadata": {
    "id": "hrG4B6lnB4XX"
   },
   "source": [
    "---\n",
    "## **7-8 Deli**\n",
    "\n",
    "Make a list called sandwich_orders and fill it with the names of various sandwiches. Then make an empty list called finished_sandwiches. Loop through the list of sandwich orders and print a message for each order, such as I made your tuna sandwich. As each sandwich is made, move it to the list of finished sandwiches. After all the sandwiches have been made, print a message listing each sandwich that was made."
   ]
  },
  {
   "cell_type": "code",
   "execution_count": null,
   "metadata": {
    "id": "IO2j0CX-B5wE"
   },
   "outputs": [],
   "source": [
    "# 7.8 Exercise\n",
    "sandwich_orders = ['veggie', 'grilled cheese', 'turkey', 'roast beef']\n",
    "finished_sandwiches = []\n",
    "\n",
    "while sandwich_orders:\n",
    "    current_sandwich = sandwich_orders.pop()\n",
    "    print(f\"I'm working on your {current_sandwich} sandwich.\")\n",
    "    finished_sandwiches.append(current_sandwich)\n",
    "\n",
    "print(\"\\n\")\n",
    "for sandwich in finished_sandwiches:\n",
    "    print(f\"I made a {sandwich} sandwich.\")"
   ]
  },
  {
   "cell_type": "markdown",
   "metadata": {
    "id": "fJf7B1VTsmTa"
   },
   "source": [
    "## **7-9 No Pastrami**\n",
    "\n",
    "Using the list sandwich_orders from Exercise 7-8, make sure the sandwich 'pastrami' appears in the list at least three times. Add code near the beginning of your program to print a message saying the deli has run out of pastrami, and then use a while loop to remove all occurrences of 'pastrami' from sandwich_orders. Make sure no pastrami sandwiches end up in finished_sandwiches."
   ]
  },
  {
   "cell_type": "code",
   "execution_count": null,
   "metadata": {
    "id": "cqaXwmAfsq-Q"
   },
   "outputs": [],
   "source": [
    "# 7.9 Exercise\n",
    "sandwich_orders = [\n",
    "    'pastrami', 'veggie', 'grilled cheese', 'pastrami',\n",
    "    'turkey', 'roast beef', 'pastrami']\n",
    "finished_sandwiches = []\n",
    "\n",
    "print(\"I'm sorry, we're all out of pastrami today.\")\n",
    "while 'pastrami' in sandwich_orders:\n",
    "    sandwich_orders.remove('pastrami')\n",
    "\n",
    "print(\"\\n\")\n",
    "while sandwich_orders:\n",
    "    current_sandwich = sandwich_orders.pop()\n",
    "    print(f\"I'm working on your {current_sandwich} sandwich.\")\n",
    "    finished_sandwiches.append(current_sandwich)\n",
    "\n",
    "print(\"\\n\")\n",
    "for sandwich in finished_sandwiches:\n",
    "    print(f\"I made a {sandwich} sandwich.\")"
   ]
  },
  {
   "cell_type": "markdown",
   "metadata": {
    "id": "A-r-Zl1HBmXw"
   },
   "source": [
    "## **7-10 Dream Vacation**\n",
    "\n",
    "Write a program that polls users about their dream vacation. Write a prompt similar to If you could visit one place in the world, where would you go? Include a block of code that prints the results of the poll."
   ]
  },
  {
   "cell_type": "code",
   "execution_count": null,
   "metadata": {
    "id": "q5qAvZNrwfC8"
   },
   "outputs": [],
   "source": [
    "# 7.10 Exercise\n",
    "name_prompt = \"\\nWhat's your name? \"\n",
    "place_prompt = \"If you could visit one place in the world, where would it be? \"\n",
    "continue_prompt = \"\\nWould you like to let someone else respond? (yes/no) \"\n",
    "\n",
    "# Responses will be stored in the form {name: place}.\n",
    "responses = {}\n",
    "\n",
    "while True:\n",
    "    # Ask the user where they'd like to go.\n",
    "    name = input(name_prompt)\n",
    "    place = input(place_prompt)\n",
    "\n",
    "    # Store the response.\n",
    "    responses[name] = place\n",
    "\n",
    "    # Ask if there's anyone else responding.\n",
    "    repeat = input(continue_prompt)\n",
    "    if repeat != 'yes':\n",
    "        break\n",
    "\n",
    "# Show results of the survey.\n",
    "print(\"\\n--- Results ---\")\n",
    "for name, place in responses.items():\n",
    "    print(f\"{name.title()} would like to visit {place.title()}.\")"
   ]
  }
 ],
 "metadata": {
  "colab": {
   "provenance": [],
   "toc_visible": true
  },
  "kernelspec": {
   "display_name": "Python 3 (ipykernel)",
   "language": "python",
   "name": "python3"
  },
  "language_info": {
   "codemirror_mode": {
    "name": "ipython",
    "version": 3
   },
   "file_extension": ".py",
   "mimetype": "text/x-python",
   "name": "python",
   "nbconvert_exporter": "python",
   "pygments_lexer": "ipython3",
   "version": "3.10.11"
  }
 },
 "nbformat": 4,
 "nbformat_minor": 4
}
