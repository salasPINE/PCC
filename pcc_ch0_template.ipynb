{
  "nbformat": 4,
  "nbformat_minor": 0,
  "metadata": {
    "colab": {
      "provenance": [],
      "toc_visible": true,
      "authorship_tag": "ABX9TyNJQF3YaC6tcRhrXsXqTY3a"
    },
    "kernelspec": {
      "name": "python3",
      "display_name": "Python 3"
    },
    "language_info": {
      "name": "python"
    }
  },
  "cells": [
    {
      "cell_type": "markdown",
      "source": [
        "# **Chapter 0 - Python Crash Course**"
      ],
      "metadata": {
        "id": "u6F3ZR65yvPc"
      }
    },
    {
      "cell_type": "markdown",
      "source": [
        "## Heading 2\n",
        "Chapter Sections use Heading 2"
      ],
      "metadata": {
        "id": "zq_ivaIE44Rp"
      }
    },
    {
      "cell_type": "code",
      "execution_count": null,
      "metadata": {
        "id": "1vD-QVWTxhom"
      },
      "outputs": [],
      "source": [
        "# Code Block\n"
      ]
    },
    {
      "cell_type": "markdown",
      "source": [
        "#### Heading Four\n",
        "Sub-sections use HEading 4\n",
        "`Preformated Code`"
      ],
      "metadata": {
        "id": "SNWpWW6R2weR"
      }
    },
    {
      "cell_type": "code",
      "source": [
        "# Code\n"
      ],
      "metadata": {
        "id": "h9gB1gms2pRj"
      },
      "execution_count": null,
      "outputs": []
    }
  ]
}