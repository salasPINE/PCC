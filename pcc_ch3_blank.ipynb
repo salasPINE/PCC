{
  "nbformat": 4,
  "nbformat_minor": 0,
  "metadata": {
    "colab": {
      "provenance": [],
      "toc_visible": true,
      "authorship_tag": "ABX9TyNb8rC3ygLWQQveZlUC74Mv"
    },
    "kernelspec": {
      "name": "python3",
      "display_name": "Python 3"
    },
    "language_info": {
      "name": "python"
    }
  },
  "cells": [
    {
      "cell_type": "markdown",
      "source": [
        "# **Chapter 3 - Introducing Lists**"
      ],
      "metadata": {
        "id": "u6F3ZR65yvPc"
      }
    },
    {
      "cell_type": "markdown",
      "source": [
        "## **WHAT IS A LIST**\n",
        "A **list** is a collection of items in a particular order.\n",
        "Square Brackets `[]` indicate a list and elements of the list are separated by commas"
      ],
      "metadata": {
        "id": "zq_ivaIE44Rp"
      }
    },
    {
      "cell_type": "code",
      "execution_count": null,
      "metadata": {
        "colab": {
          "base_uri": "https://localhost:8080/"
        },
        "id": "1vD-QVWTxhom",
        "outputId": "1b65da1e-f613-4016-ff06-8b6a4e6ee620"
      },
      "outputs": [
        {
          "output_type": "stream",
          "name": "stdout",
          "text": [
            "Hello World!\n"
          ]
        }
      ],
      "source": [
        "# this is a comment\n",
        "\n",
        "print(\"Hello World!\")"
      ]
    },
    {
      "cell_type": "markdown",
      "source": [
        "### Print an element from a list\n",
        "The first item in the list is index `[0]`\n",
        "The last item in the list can be accessed by using `[-1]`"
      ],
      "metadata": {
        "id": "SNWpWW6R2weR"
      }
    },
    {
      "cell_type": "code",
      "source": [],
      "metadata": {
        "id": "h9gB1gms2pRj"
      },
      "execution_count": null,
      "outputs": []
    },
    {
      "cell_type": "markdown",
      "source": [
        "### Using Methods"
      ],
      "metadata": {
        "id": "s89Yxa4M3XXr"
      }
    },
    {
      "cell_type": "code",
      "source": [],
      "metadata": {
        "id": "ZPeulukK3dMM"
      },
      "execution_count": null,
      "outputs": []
    },
    {
      "cell_type": "markdown",
      "source": [
        "### Using in Variables\n",
        "You can use elements of a list in variable and strings"
      ],
      "metadata": {
        "id": "vUQwYhzs4F5o"
      }
    },
    {
      "cell_type": "code",
      "source": [],
      "metadata": {
        "id": "6ES2roQt4Kiq"
      },
      "execution_count": null,
      "outputs": []
    },
    {
      "cell_type": "markdown",
      "source": [
        "---\n",
        "## **MODIFYING, ADDING, REMOVING ELEMENTS**\n",
        "Most lists you create will be *dynamic*, meaning you’ll build a list and then add and remove elements from it as your program runs its course"
      ],
      "metadata": {
        "id": "iqwcB_QI6cVX"
      }
    },
    {
      "cell_type": "markdown",
      "source": [
        "### Modyfing Elements\n",
        "To change an element, use the name of the list followed by the index of the element you want to change, and then provide the new value you want that item to have."
      ],
      "metadata": {
        "id": "fwkkKDl46gkr"
      }
    },
    {
      "cell_type": "code",
      "source": [],
      "metadata": {
        "id": "tewlCaTw6snY"
      },
      "execution_count": null,
      "outputs": []
    },
    {
      "cell_type": "markdown",
      "source": [
        "### Adding Elements\n",
        "Using `append` will add items to the end of the list"
      ],
      "metadata": {
        "id": "Zbn2O7wx7wWT"
      }
    },
    {
      "cell_type": "code",
      "source": [],
      "metadata": {
        "id": "SOUxJdGz8MVC"
      },
      "execution_count": null,
      "outputs": []
    },
    {
      "cell_type": "markdown",
      "source": [
        "### Staring with an Empty List\n",
        "You can create an empty list `[]` and dynamically add items using the `append` command.\n"
      ],
      "metadata": {
        "id": "DoufZwtt945Q"
      }
    },
    {
      "cell_type": "code",
      "source": [],
      "metadata": {
        "id": "6pkM5RSi98Ci"
      },
      "execution_count": null,
      "outputs": []
    },
    {
      "cell_type": "markdown",
      "source": [
        "### Inserting Elements\n",
        "You can add a new element at any position in your list by using the `insert()` method. You do this by specifying the index of the new element and the value of the new item:"
      ],
      "metadata": {
        "id": "rq5qwDjp-Wlo"
      }
    },
    {
      "cell_type": "code",
      "source": [],
      "metadata": {
        "id": "-GcFK7_q-utK"
      },
      "execution_count": null,
      "outputs": []
    },
    {
      "cell_type": "markdown",
      "source": [
        "### Removing Elements (del)\n",
        "You can remove an item according to its position in the list or according to its value.\n",
        "\n",
        "Use `del` to permanently remove from a list by index position\n"
      ],
      "metadata": {
        "id": "c-OW15oH-bpx"
      }
    },
    {
      "cell_type": "code",
      "source": [],
      "metadata": {
        "id": "9Nw-Rjyp_Wi4"
      },
      "execution_count": null,
      "outputs": []
    },
    {
      "cell_type": "markdown",
      "source": [
        "You can remove from any position using `del`"
      ],
      "metadata": {
        "id": "-tmK8knR_oSu"
      }
    },
    {
      "cell_type": "code",
      "source": [],
      "metadata": {
        "id": "az4JKwAk_wgm"
      },
      "execution_count": null,
      "outputs": []
    },
    {
      "cell_type": "markdown",
      "source": [
        "### Removing Elements (pop)\n",
        "Use the `pop()` method to cut the last item in a list but still retain it. (Like the difference between Cut and Delete on a computer.)\n"
      ],
      "metadata": {
        "id": "AzcbL8VACwTg"
      }
    },
    {
      "cell_type": "code",
      "source": [],
      "metadata": {
        "id": "TgxyO3ZnC-6-"
      },
      "execution_count": null,
      "outputs": []
    },
    {
      "cell_type": "markdown",
      "source": [
        "Use the popped item in a `print` sentence, embedding it"
      ],
      "metadata": {
        "id": "q6KOlIsPEexR"
      }
    },
    {
      "cell_type": "code",
      "source": [],
      "metadata": {
        "id": "1l7z4f4rENat"
      },
      "execution_count": null,
      "outputs": []
    },
    {
      "cell_type": "markdown",
      "source": [
        "You can `pop()` an item from an position in a list by including the index"
      ],
      "metadata": {
        "id": "cmsDuuvJEv8y"
      }
    },
    {
      "cell_type": "code",
      "source": [],
      "metadata": {
        "id": "pz-5VCwVEbpp"
      },
      "execution_count": null,
      "outputs": []
    },
    {
      "cell_type": "markdown",
      "source": [
        "**NOTE**: Each time you use `pop()`, the item you work with is no longer stored in the list.\n",
        "\n",
        "When you want to delete an item from a list and not use that item in any way, use the `del` statement; if you want to use an item as you remove it, use the `pop()` method."
      ],
      "metadata": {
        "id": "toSZejNrFV1a"
      }
    },
    {
      "cell_type": "markdown",
      "source": [
        "### Removing Elements (remove)\n",
        "Use `remove()` to permanently remove from a list by value instead of index number\n",
        "\n",
        "Python will figure out where 'ducati' is and remove it."
      ],
      "metadata": {
        "id": "dBTwW0ffGTZm"
      }
    },
    {
      "cell_type": "code",
      "source": [],
      "metadata": {
        "id": "ZY3RqD4AGmTy"
      },
      "execution_count": null,
      "outputs": []
    },
    {
      "cell_type": "markdown",
      "source": [
        "You can assign the value you are going to remove to a variable first and then remove it."
      ],
      "metadata": {
        "id": "ATxZ7fJUHQ5-"
      }
    },
    {
      "cell_type": "code",
      "source": [],
      "metadata": {
        "id": "PeMQFQR5HZp0"
      },
      "execution_count": null,
      "outputs": []
    },
    {
      "cell_type": "markdown",
      "source": [
        "---\n",
        "## **ORGANIZING ELEMENTS**"
      ],
      "metadata": {
        "id": "znpyaE69-gtD"
      }
    },
    {
      "cell_type": "markdown",
      "source": [
        "### Sorting a list permanently\n",
        "`sort()` alphabetizes the list permanently. It can also sort in reverse."
      ],
      "metadata": {
        "id": "iryh6-dIISbN"
      }
    },
    {
      "cell_type": "code",
      "source": [],
      "metadata": {
        "id": "w95ZpwAWIXdc"
      },
      "execution_count": null,
      "outputs": []
    },
    {
      "cell_type": "markdown",
      "source": [
        "### Sorting a list temporarily\n",
        "The `sorted()` function lets you display your list in a particular order, but does not affect the actual order of the list."
      ],
      "metadata": {
        "id": "yTm34G2bJE-c"
      }
    },
    {
      "cell_type": "code",
      "source": [],
      "metadata": {
        "id": "jG-H5xHOJYNI"
      },
      "execution_count": null,
      "outputs": []
    },
    {
      "cell_type": "markdown",
      "source": [
        "### Reverse Order (permanent)\n",
        "To reverse the original order of a list, you can use `reverse()`. It does not sort backward alphabetically; it simply reverses the order of the list."
      ],
      "metadata": {
        "id": "s9b5Jj6pKHDB"
      }
    },
    {
      "cell_type": "code",
      "source": [],
      "metadata": {
        "id": "8g-My8G7KfQS"
      },
      "execution_count": null,
      "outputs": []
    },
    {
      "cell_type": "markdown",
      "source": [
        "### Finding the Length\n",
        "You can find the length of a list by using the `len()` function."
      ],
      "metadata": {
        "id": "spdWR2w3K5oJ"
      }
    },
    {
      "cell_type": "code",
      "source": [],
      "metadata": {
        "id": "CRm4B0EqLMDD"
      },
      "execution_count": null,
      "outputs": []
    }
  ]
}