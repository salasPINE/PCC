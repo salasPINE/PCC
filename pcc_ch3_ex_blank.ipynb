{
  "nbformat": 4,
  "nbformat_minor": 0,
  "metadata": {
    "colab": {
      "provenance": [],
      "toc_visible": true,
      "authorship_tag": "ABX9TyMLKB5GzRssdYmIUF+3zCdA"
    },
    "kernelspec": {
      "name": "python3",
      "display_name": "Python 3"
    },
    "language_info": {
      "name": "python"
    }
  },
  "cells": [
    {
      "cell_type": "markdown",
      "source": [
        "# **Chapter 3 Exercises**"
      ],
      "metadata": {
        "id": "EbXSfCYQ85RB"
      }
    },
    {
      "cell_type": "markdown",
      "source": [
        "## 3-1 Names\n",
        "\n",
        "Store the names of a few of your friends in a list called names. Print each person’s name by accessing each element in the list, one at a time."
      ],
      "metadata": {
        "id": "hKZ34sMI-io5"
      }
    },
    {
      "cell_type": "code",
      "execution_count": null,
      "metadata": {
        "id": "8HfOiQHU82p7"
      },
      "outputs": [],
      "source": [
        "# 3.1_names_zu.py\n",
        "\n"
      ]
    },
    {
      "cell_type": "markdown",
      "source": [
        "## 3-2 Greetings\n",
        "\n",
        "Start with the list you used in Exercise 3-1, but instead of just printing each persons name, print a message to them. The text of each message should be the same, but each message should be personalized with the persons name"
      ],
      "metadata": {
        "id": "inxB6tWa-vh2"
      }
    },
    {
      "cell_type": "code",
      "source": [
        "# 3.2_greetings_zu.py\n",
        "\n"
      ],
      "metadata": {
        "id": "tcIYHsHj-Ga4"
      },
      "execution_count": null,
      "outputs": []
    },
    {
      "cell_type": "markdown",
      "source": [
        "## 3-3 Your Own List\n",
        "\n",
        "Think of your favorite mode of transportation, such as a motorcycle or a car, and make a list that stores several examples. Use your list to print a series of statements about these items, such as \"I would like to own a Honda motorcycle.\""
      ],
      "metadata": {
        "id": "tbOFj9vq_DI-"
      }
    },
    {
      "cell_type": "code",
      "source": [
        "# 3.3_your_own_list\n",
        "\n"
      ],
      "metadata": {
        "id": "Rw3teboJ-TaQ"
      },
      "execution_count": null,
      "outputs": []
    },
    {
      "cell_type": "markdown",
      "source": [
        "---\n",
        "## 3-4 Guest List\n",
        "\n",
        "If you could invite anyone, living or deceased, to dinner, who would you invite?\n",
        "* Make a list that includes at least three people you’d like to invite to dinner.\n",
        "* Then use your list to print a message to each person, inviting them to dinner."
      ],
      "metadata": {
        "id": "AdKSwpyl_arx"
      }
    },
    {
      "cell_type": "code",
      "source": [
        "# 3.4_GuestList_zu.py\n",
        "\n"
      ],
      "metadata": {
        "id": "0SwgrgoT_WYo"
      },
      "execution_count": null,
      "outputs": []
    },
    {
      "cell_type": "code",
      "source": [],
      "metadata": {
        "id": "qiMkYTD-AR7Z"
      },
      "execution_count": null,
      "outputs": []
    },
    {
      "cell_type": "markdown",
      "source": [
        "## 3-5 Changing Guest List\n",
        "\n",
        "You just heard that one of your guests can’t make the dinner, so you need to send out a new set of invitations. You’ll have to think of someone else to invite.\n",
        "\n",
        "* Start with your program from Exercise 3-4. Add a print() call at the end of\n",
        "your program, stating the name of the guest who can’t make it.\n",
        "* Modify your list, replacing the name of the guest who can’t make it with the\n",
        "name of the new person you are inviting.\n",
        "* Print a second set of invitation messages, one for each person who is still in\n",
        "your list."
      ],
      "metadata": {
        "id": "00XB5uez_2uz"
      }
    },
    {
      "cell_type": "code",
      "source": [
        "# 3.5_ChangingGuestList_zu.py\n",
        "\n"
      ],
      "metadata": {
        "id": "4vDJ_F2GARPP"
      },
      "execution_count": null,
      "outputs": []
    },
    {
      "cell_type": "code",
      "source": [],
      "metadata": {
        "id": "ZgB6aBNLAsGW"
      },
      "execution_count": null,
      "outputs": []
    },
    {
      "cell_type": "markdown",
      "source": [
        "## 3-6 More Guests\n",
        "\n",
        "You just found a bigger dinner table, so now more space is available. Think of three more guests to invite to dinner.\n",
        "\n",
        "* Start with your program from Exercise 3-5. Add a print() call to the end of your program, informing people that you found a bigger table.\n",
        "* Use insert() to add one new guest to the beginning of your list.\n",
        "* Use insert() to add one new guest to the middle of your list.\n",
        "* Use append() to add one new guest to the end of your list.\n",
        "* Print a new set of invitation messages, one for each person in your list.\n",
        "\n"
      ],
      "metadata": {
        "id": "cgeMq8NVAZ8v"
      }
    },
    {
      "cell_type": "code",
      "source": [
        "# 3.6_MoreGuests_zu.py\n",
        "\n"
      ],
      "metadata": {
        "id": "e9UNuAgXAaJj"
      },
      "execution_count": null,
      "outputs": []
    },
    {
      "cell_type": "code",
      "source": [],
      "metadata": {
        "id": "PeUfAd4vDJNu"
      },
      "execution_count": null,
      "outputs": []
    },
    {
      "cell_type": "markdown",
      "source": [
        "## 3-7 Shrinking Guest List\n",
        "\n",
        "You just found out that your new dinner table won’t arrive in time for the dinner, and now you have space for only two guests.\n",
        "\n",
        "* Start with your program from Exercise 3-6. Add a new line that prints a message saying that you can invite only two people for dinner.\n",
        "* Use pop() to remove guests from your list one at a time until only two names remain in your list. Each time you pop a name from your list, print a message to that person letting them know you’re sorry you can’t invite them to dinner.\n",
        "* Print a message to each of the two people still on your list, letting them know they’re still invited.\n",
        "* Use del to remove the last two names from your list, so you have an empty list. Print your list to make sure you actually have an empty list at the end of **your** program."
      ],
      "metadata": {
        "id": "BBhMyoZ1A9i6"
      }
    },
    {
      "cell_type": "code",
      "source": [
        "# 3.7_ShrinkingGuestList_zu.py\n",
        "\n",
        "# Code from 3.6\n",
        "\n",
        "\n",
        "# 3.7 New Code\n",
        "\n"
      ],
      "metadata": {
        "id": "lC7CKBnxBO6i"
      },
      "execution_count": null,
      "outputs": []
    },
    {
      "cell_type": "code",
      "source": [],
      "metadata": {
        "id": "a-4GiKyiF1hD"
      },
      "execution_count": null,
      "outputs": []
    },
    {
      "cell_type": "markdown",
      "source": [
        "---\n",
        "## 3-8 Seeing the World\n",
        "\n",
        "Think of at least five places in the world you’d like to visit.\n",
        "\n",
        "* Store the locations in a list. Make sure the list is not in alphabetical order.\n",
        "* Print your list in its original order. Don’t worry about printing the list neatly; just print it as a raw Python list.\n",
        "* Use sorted() to print your list in alphabetical order without modifying the actual list.\n",
        "* Show that your list is still in its original order by printing it.\n",
        "* Use sorted() to print your list in reverse-alphabetical order without changing the order of the original list.\n",
        "* Show that your list is still in its original order by printing it again.\n",
        "* Use reverse() to change the order of your list. Print the list to show that its order has changed.\n",
        "* Use reverse() to change the order of your list again. Print the list to show it’s back to its original order.\n",
        "* Use sort() to change your list so it’s stored in alphabetical order. Print the list to show that its order has been changed.\n",
        "* Use sort() to change your list so it’s stored in reverse-alphabetical order. Print the list to show that its order has changed.\n"
      ],
      "metadata": {
        "id": "A-r-Zl1HBmXw"
      }
    },
    {
      "cell_type": "code",
      "source": [
        "# 3.8_SeeingTheWorld_zu.py\n",
        "\n"
      ],
      "metadata": {
        "id": "yYzhntZjB_9W"
      },
      "execution_count": null,
      "outputs": []
    },
    {
      "cell_type": "code",
      "source": [],
      "metadata": {
        "id": "I5p1QnR1IlJL"
      },
      "execution_count": null,
      "outputs": []
    },
    {
      "cell_type": "markdown",
      "source": [
        "## 3-9 Dinner Guests\n",
        "\n",
        "Working with one of the programs from Exercises 3-4 through 3-7 (pages 41–42), use len() to print a message indicating the number of people you’re inviting to dinner."
      ],
      "metadata": {
        "id": "R4wWMgc8CFC9"
      }
    },
    {
      "cell_type": "code",
      "source": [
        "# 3.9_DinnerGuests_zu.py\n",
        "\n"
      ],
      "metadata": {
        "id": "y3EURpBeCNJ6"
      },
      "execution_count": null,
      "outputs": []
    },
    {
      "cell_type": "markdown",
      "source": [
        "## 3-10 Every Function\n",
        "\n",
        "Think of things you could store in a list. For example, you could make a list of mountains, rivers, countries, cities, languages, or anything else you’d like. Write a program that creates a list containing these items and then uses each function introduced in this chapter at least once."
      ],
      "metadata": {
        "id": "zHu0LoINCP_V"
      }
    },
    {
      "cell_type": "code",
      "source": [
        "# 3.10_EveryFunction_zu.py\n",
        "\n"
      ],
      "metadata": {
        "id": "0MMDa6IhCad1"
      },
      "execution_count": null,
      "outputs": []
    }
  ]
}