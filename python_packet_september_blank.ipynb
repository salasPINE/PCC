{
  "nbformat": 4,
  "nbformat_minor": 0,
  "metadata": {
    "colab": {
      "provenance": [],
      "toc_visible": true
    },
    "kernelspec": {
      "name": "python3",
      "display_name": "Python 3"
    },
    "language_info": {
      "name": "python"
    }
  },
  "cells": [
    {
      "cell_type": "markdown",
      "source": [
        "# **Python Packet - September**\n",
        "*Covers Chapters 1-3*"
      ],
      "metadata": {
        "id": "EbXSfCYQ85RB"
      }
    },
    {
      "cell_type": "markdown",
      "source": [
        "---\n",
        "## **PP-01**"
      ],
      "metadata": {
        "id": "hKZ34sMI-io5"
      }
    },
    {
      "cell_type": "code",
      "execution_count": null,
      "metadata": {
        "id": "8HfOiQHU82p7"
      },
      "outputs": [],
      "source": [
        "\n"
      ]
    },
    {
      "cell_type": "markdown",
      "source": [
        "## **PP-02**"
      ],
      "metadata": {
        "id": "inxB6tWa-vh2"
      }
    },
    {
      "cell_type": "code",
      "source": [
        "\n"
      ],
      "metadata": {
        "id": "tcIYHsHj-Ga4"
      },
      "execution_count": null,
      "outputs": []
    },
    {
      "cell_type": "markdown",
      "source": [
        "## **PP-03**"
      ],
      "metadata": {
        "id": "tbOFj9vq_DI-"
      }
    },
    {
      "cell_type": "code",
      "source": [
        "\n"
      ],
      "metadata": {
        "id": "Rw3teboJ-TaQ"
      },
      "execution_count": null,
      "outputs": []
    },
    {
      "cell_type": "markdown",
      "source": [
        "## **PP-04**"
      ],
      "metadata": {
        "id": "AdKSwpyl_arx"
      }
    },
    {
      "cell_type": "code",
      "source": [
        "\n"
      ],
      "metadata": {
        "id": "0SwgrgoT_WYo"
      },
      "execution_count": null,
      "outputs": []
    },
    {
      "cell_type": "markdown",
      "source": [
        "## **PP-05**"
      ],
      "metadata": {
        "id": "00XB5uez_2uz"
      }
    },
    {
      "cell_type": "code",
      "source": [
        "\n"
      ],
      "metadata": {
        "id": "4vDJ_F2GARPP"
      },
      "execution_count": null,
      "outputs": []
    },
    {
      "cell_type": "markdown",
      "source": [
        "## **PP-06**"
      ],
      "metadata": {
        "id": "cgeMq8NVAZ8v"
      }
    },
    {
      "cell_type": "code",
      "source": [
        "\n"
      ],
      "metadata": {
        "id": "e9UNuAgXAaJj"
      },
      "execution_count": null,
      "outputs": []
    },
    {
      "cell_type": "markdown",
      "source": [
        "## **PP-07**"
      ],
      "metadata": {
        "id": "BBhMyoZ1A9i6"
      }
    },
    {
      "cell_type": "code",
      "source": [
        "\n"
      ],
      "metadata": {
        "id": "lC7CKBnxBO6i"
      },
      "execution_count": null,
      "outputs": []
    },
    {
      "cell_type": "markdown",
      "source": [
        "## **PP-08**"
      ],
      "metadata": {
        "id": "hrG4B6lnB4XX"
      }
    },
    {
      "cell_type": "code",
      "source": [
        "\n"
      ],
      "metadata": {
        "id": "IO2j0CX-B5wE"
      },
      "execution_count": null,
      "outputs": []
    },
    {
      "cell_type": "markdown",
      "source": [
        "## **PP-09**"
      ],
      "metadata": {
        "id": "fJf7B1VTsmTa"
      }
    },
    {
      "cell_type": "code",
      "source": [
        "\n"
      ],
      "metadata": {
        "id": "cqaXwmAfsq-Q"
      },
      "execution_count": null,
      "outputs": []
    },
    {
      "cell_type": "markdown",
      "source": [
        "## **PP-10**"
      ],
      "metadata": {
        "id": "A-r-Zl1HBmXw"
      }
    },
    {
      "cell_type": "code",
      "source": [
        "\n"
      ],
      "metadata": {
        "id": "q5qAvZNrwfC8"
      },
      "execution_count": null,
      "outputs": []
    },
    {
      "cell_type": "markdown",
      "source": [
        "## **PP-11**"
      ],
      "metadata": {
        "id": "wAN6osLbwawK"
      }
    },
    {
      "cell_type": "code",
      "source": [
        "\n"
      ],
      "metadata": {
        "id": "iRBnbQOiwjQH"
      },
      "execution_count": null,
      "outputs": []
    },
    {
      "cell_type": "markdown",
      "source": [
        "## **PP-12**"
      ],
      "metadata": {
        "id": "1Q7ihsZBwbVI"
      }
    },
    {
      "cell_type": "code",
      "source": [
        "\n"
      ],
      "metadata": {
        "id": "onq7ze7SwlEM"
      },
      "execution_count": null,
      "outputs": []
    },
    {
      "cell_type": "markdown",
      "source": [
        "## **PP-13**"
      ],
      "metadata": {
        "id": "kgc3xS47wcBv"
      }
    },
    {
      "cell_type": "code",
      "source": [
        "\n"
      ],
      "metadata": {
        "id": "yVbgg9Guwled"
      },
      "execution_count": null,
      "outputs": []
    },
    {
      "cell_type": "markdown",
      "source": [
        "## **PP-14**"
      ],
      "metadata": {
        "id": "6G_74fyVwcMf"
      }
    },
    {
      "cell_type": "code",
      "source": [
        "\n"
      ],
      "metadata": {
        "id": "F6tAmBzwwmHI"
      },
      "execution_count": null,
      "outputs": []
    },
    {
      "cell_type": "markdown",
      "source": [
        "## **PP-15**"
      ],
      "metadata": {
        "id": "ECKoqPs8wcTI"
      }
    },
    {
      "cell_type": "code",
      "source": [
        "\n"
      ],
      "metadata": {
        "id": "xnJcop5gwmid"
      },
      "execution_count": null,
      "outputs": []
    },
    {
      "cell_type": "markdown",
      "source": [
        "## **PP-16**"
      ],
      "metadata": {
        "id": "foUoZGBB3_on"
      }
    },
    {
      "cell_type": "code",
      "source": [
        "\n"
      ],
      "metadata": {
        "id": "DufzFCHR4CWs"
      },
      "execution_count": null,
      "outputs": []
    }
  ]
}