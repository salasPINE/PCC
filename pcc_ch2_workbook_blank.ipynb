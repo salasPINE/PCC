{
  "nbformat": 4,
  "nbformat_minor": 0,
  "metadata": {
    "colab": {
      "provenance": [],
      "toc_visible": true
    },
    "kernelspec": {
      "name": "python3",
      "display_name": "Python 3"
    },
    "language_info": {
      "name": "python"
    }
  },
  "cells": [
    {
      "cell_type": "markdown",
      "source": [
        "# **CHAPTER 2**"
      ],
      "metadata": {
        "id": "BC5-4kDGZVG6"
      }
    },
    {
      "cell_type": "markdown",
      "source": [
        "### **Hello World**"
      ],
      "metadata": {
        "id": "JzNQ2z9lZ7Jy"
      }
    },
    {
      "cell_type": "code",
      "execution_count": null,
      "metadata": {
        "id": "BP__QwvjZQdz"
      },
      "outputs": [],
      "source": []
    },
    {
      "cell_type": "markdown",
      "source": [
        "---\n",
        "##  **VARIABLES**"
      ],
      "metadata": {
        "id": "GLxYdPGSl3_5"
      }
    },
    {
      "cell_type": "code",
      "source": [],
      "metadata": {
        "id": "-1qoBZZamHfE"
      },
      "execution_count": null,
      "outputs": []
    },
    {
      "cell_type": "markdown",
      "source": [
        "⭐ *EXERCISES 2-1 to 2-2*"
      ],
      "metadata": {
        "id": "Y08-4jPZpfQj"
      }
    },
    {
      "cell_type": "markdown",
      "source": [
        "---\n",
        "## **STRINGS**"
      ],
      "metadata": {
        "id": "aHSpVpP_nOMi"
      }
    },
    {
      "cell_type": "code",
      "source": [],
      "metadata": {
        "id": "lGLLv94LnhIl"
      },
      "execution_count": null,
      "outputs": []
    },
    {
      "cell_type": "markdown",
      "source": [
        "### Changing Case"
      ],
      "metadata": {
        "id": "4z42rlpzo9XA"
      }
    },
    {
      "cell_type": "code",
      "source": [],
      "metadata": {
        "id": "h2gS8PpdpHfA"
      },
      "execution_count": null,
      "outputs": []
    },
    {
      "cell_type": "markdown",
      "source": [
        "### Using Variables in Strings"
      ],
      "metadata": {
        "id": "0r7i1261peft"
      }
    },
    {
      "cell_type": "code",
      "source": [],
      "metadata": {
        "id": "COsouuR5pzBb"
      },
      "execution_count": null,
      "outputs": []
    },
    {
      "cell_type": "markdown",
      "source": [
        "### Adding Whitespace"
      ],
      "metadata": {
        "id": "mF7ub9oUrMvs"
      }
    },
    {
      "cell_type": "code",
      "source": [],
      "metadata": {
        "id": "nEmHbLkwrW5t"
      },
      "execution_count": null,
      "outputs": []
    },
    {
      "cell_type": "markdown",
      "source": [
        "### Stripping Whitespace"
      ],
      "metadata": {
        "id": "u_rK9IbG2IHC"
      }
    },
    {
      "cell_type": "code",
      "source": [],
      "metadata": {
        "id": "3kHgr8Yg2YF-"
      },
      "execution_count": null,
      "outputs": []
    },
    {
      "cell_type": "markdown",
      "source": [
        "### Removing Prefixes and Suffixes"
      ],
      "metadata": {
        "id": "JSu8vAc34tXG"
      }
    },
    {
      "cell_type": "code",
      "source": [],
      "metadata": {
        "id": "qDxEVS3t4y5I"
      },
      "execution_count": null,
      "outputs": []
    },
    {
      "cell_type": "markdown",
      "source": [
        "### Avoiding Syntax Errors with Strings"
      ],
      "metadata": {
        "id": "fy8lUHkxEooQ"
      }
    },
    {
      "cell_type": "code",
      "source": [],
      "metadata": {
        "id": "docbFV0QE05N"
      },
      "execution_count": null,
      "outputs": []
    },
    {
      "cell_type": "markdown",
      "source": [
        "⭐ *EXERCISES 2-3 to 2-8*"
      ],
      "metadata": {
        "id": "fXX6Os1kpmlL"
      }
    },
    {
      "cell_type": "markdown",
      "source": [
        "---\n",
        "## **NUMBERS**"
      ],
      "metadata": {
        "id": "aVCUXxbi5xE6"
      }
    },
    {
      "cell_type": "markdown",
      "source": [
        "### Integers"
      ],
      "metadata": {
        "id": "6r9tW0_I68GY"
      }
    },
    {
      "cell_type": "code",
      "source": [],
      "metadata": {
        "id": "FPGOUZzA6gSt"
      },
      "execution_count": null,
      "outputs": []
    },
    {
      "cell_type": "markdown",
      "source": [
        "### Floats"
      ],
      "metadata": {
        "id": "b6IITEf97WfK"
      }
    },
    {
      "cell_type": "code",
      "source": [],
      "metadata": {
        "id": "gxDjnjyL7HXh"
      },
      "execution_count": null,
      "outputs": []
    },
    {
      "cell_type": "markdown",
      "source": [
        "### Integers and Floats"
      ],
      "metadata": {
        "id": "x74oHH7a7nfn"
      }
    },
    {
      "cell_type": "code",
      "source": [],
      "metadata": {
        "id": "vsKbM6cT75S2"
      },
      "execution_count": null,
      "outputs": []
    },
    {
      "cell_type": "markdown",
      "source": [
        "### Underscores in Numbers"
      ],
      "metadata": {
        "id": "0C7lmhi87-0u"
      }
    },
    {
      "cell_type": "code",
      "source": [],
      "metadata": {
        "id": "9K_MJaYH8Fzu"
      },
      "execution_count": null,
      "outputs": []
    },
    {
      "cell_type": "markdown",
      "source": [
        "### Multiple Assignment"
      ],
      "metadata": {
        "id": "sljLWfF38Iya"
      }
    },
    {
      "cell_type": "code",
      "source": [],
      "metadata": {
        "id": "F77vxql18Pnp"
      },
      "execution_count": null,
      "outputs": []
    },
    {
      "cell_type": "markdown",
      "source": [
        "### Constants"
      ],
      "metadata": {
        "id": "xNKZOkEv8TCC"
      }
    },
    {
      "cell_type": "code",
      "source": [],
      "metadata": {
        "id": "AYouvf4O8TtW"
      },
      "execution_count": null,
      "outputs": []
    },
    {
      "cell_type": "markdown",
      "source": [
        "### Difference Between Strings and Integers"
      ],
      "metadata": {
        "id": "AeYmVBBN8u3C"
      }
    },
    {
      "cell_type": "code",
      "source": [],
      "metadata": {
        "id": "oEVthnGnJhwy"
      },
      "execution_count": null,
      "outputs": []
    },
    {
      "cell_type": "markdown",
      "source": [
        "⭐ *EXERCISES 2-9 to 2-10*"
      ],
      "metadata": {
        "id": "2jfD2m9ZpxPw"
      }
    },
    {
      "cell_type": "markdown",
      "source": [
        "---\n",
        "## **COMMENTS**"
      ],
      "metadata": {
        "id": "3eHQk4ST9-L8"
      }
    },
    {
      "cell_type": "code",
      "source": [],
      "metadata": {
        "id": "rP7z2lg3-XhK"
      },
      "execution_count": null,
      "outputs": []
    }
  ]
}