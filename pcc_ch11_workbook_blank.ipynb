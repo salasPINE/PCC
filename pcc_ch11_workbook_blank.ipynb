{
  "nbformat": 4,
  "nbformat_minor": 0,
  "metadata": {
    "colab": {
      "provenance": [],
      "toc_visible": true
    },
    "kernelspec": {
      "name": "python3",
      "display_name": "Python 3"
    },
    "language_info": {
      "name": "python"
    }
  },
  "cells": [
    {
      "cell_type": "markdown",
      "source": [
        "# **Chapter 11 - Testing Your Code**"
      ],
      "metadata": {
        "id": "u6F3ZR65yvPc"
      }
    },
    {
      "cell_type": "markdown",
      "source": [
        "You can create a file with the code in your cell by using %%file\n",
        "```\n",
        "%%file createdfile.py\n",
        "print(\"Hello Created File\")\n",
        "```\n",
        "You can then run a pytest on the file directly, by invoking the python interpreter using !python\n",
        "```\n",
        "!python -m pytest createdfile.py\n",
        "```"
      ],
      "metadata": {
        "id": "RO9oIwpDS6oa"
      }
    },
    {
      "cell_type": "code",
      "source": [
        "%%file createdfile.py\n",
        "\n",
        "print(\"Hello Created File\")"
      ],
      "metadata": {
        "id": "o1IaaUxJTgeY"
      },
      "execution_count": null,
      "outputs": []
    },
    {
      "cell_type": "code",
      "source": [
        "!python -m pytest createdfile.py"
      ],
      "metadata": {
        "id": "viaaxrxfTsQU"
      },
      "execution_count": null,
      "outputs": []
    },
    {
      "cell_type": "markdown",
      "source": [
        "---\n",
        "## **TESTING A FUNCTION**"
      ],
      "metadata": {
        "id": "zq_ivaIE44Rp"
      }
    },
    {
      "cell_type": "markdown",
      "source": [
        "#### **Unit Tests and Test Cases**"
      ],
      "metadata": {
        "id": "SNWpWW6R2weR"
      }
    },
    {
      "cell_type": "markdown",
      "source": [
        "#### **A Passing Test**"
      ],
      "metadata": {
        "id": "oXhJiAnMDbQh"
      }
    },
    {
      "cell_type": "code",
      "source": [],
      "metadata": {
        "id": "wSjn8nkl4Zx2"
      },
      "execution_count": null,
      "outputs": []
    },
    {
      "cell_type": "markdown",
      "source": [
        "#### **Running a Test**"
      ],
      "metadata": {
        "id": "gPfloHKlDcFD"
      }
    },
    {
      "cell_type": "code",
      "source": [],
      "metadata": {
        "id": "ONReY5324bA_"
      },
      "execution_count": null,
      "outputs": []
    },
    {
      "cell_type": "markdown",
      "source": [
        "#### **A Failing Test**"
      ],
      "metadata": {
        "id": "jQnDTVyFDc3K"
      }
    },
    {
      "cell_type": "code",
      "source": [],
      "metadata": {
        "id": "NnrByCpU4coe"
      },
      "execution_count": null,
      "outputs": []
    },
    {
      "cell_type": "markdown",
      "source": [
        "#### **Responding to a Failed Test**"
      ],
      "metadata": {
        "id": "F5K9ba-qDds3"
      }
    },
    {
      "cell_type": "code",
      "source": [],
      "metadata": {
        "id": "b80ebyqW4eTL"
      },
      "execution_count": null,
      "outputs": []
    },
    {
      "cell_type": "markdown",
      "source": [
        "#### **Adding New Tests**"
      ],
      "metadata": {
        "id": "UCoEjs4pV0bG"
      }
    },
    {
      "cell_type": "code",
      "source": [],
      "metadata": {
        "id": "0XQs0LwbV2cf"
      },
      "execution_count": null,
      "outputs": []
    },
    {
      "cell_type": "markdown",
      "source": [
        "⭐ *EXERCISES 11-1 to 11-2*"
      ],
      "metadata": {
        "id": "-PBU7OUNW4TH"
      }
    },
    {
      "cell_type": "markdown",
      "source": [
        "---\n",
        "## **TESTING A CLASS**"
      ],
      "metadata": {
        "id": "VR46jm8eDWkP"
      }
    },
    {
      "cell_type": "markdown",
      "source": [
        "#### **A Variety of Assertions**"
      ],
      "metadata": {
        "id": "91MIhu4BDr1G"
      }
    },
    {
      "cell_type": "markdown",
      "source": [
        "```\n",
        "ASSERTION                   CLAIM\n",
        "assert a == b               Assert that two values are equal.\n",
        "assert a != b               Assert that two values are not equal.\n",
        "assert a                    Assert that a evaluates to True.\n",
        "assert not a                Assert that a evaluates to False.\n",
        "assert element in list      Assert that an element is in a list.\n",
        "assert element not in list  Assert that an element is not in a list.\n",
        "```"
      ],
      "metadata": {
        "id": "DpH21DcPWHqQ"
      }
    },
    {
      "cell_type": "markdown",
      "source": [
        "#### **A Class to Test**"
      ],
      "metadata": {
        "id": "OXUY7sa3DsvD"
      }
    },
    {
      "cell_type": "code",
      "source": [],
      "metadata": {
        "id": "gaE3cuHw4iF5"
      },
      "execution_count": null,
      "outputs": []
    },
    {
      "cell_type": "markdown",
      "source": [
        "#### **Testing the AnonymousSurvey Class**"
      ],
      "metadata": {
        "id": "oCEMwFCXDtnA"
      }
    },
    {
      "cell_type": "code",
      "source": [],
      "metadata": {
        "id": "G54nOPNg4jbP"
      },
      "execution_count": null,
      "outputs": []
    },
    {
      "cell_type": "markdown",
      "source": [
        "#### **Using Fixtures**"
      ],
      "metadata": {
        "id": "EHweHzOwDuZg"
      }
    },
    {
      "cell_type": "code",
      "source": [],
      "metadata": {
        "id": "BDVGRaTM4ryg"
      },
      "execution_count": null,
      "outputs": []
    },
    {
      "cell_type": "markdown",
      "source": [
        "⭐ *EXERCISES 11-3*"
      ],
      "metadata": {
        "id": "8TUWcl1AW8iv"
      }
    },
    {
      "cell_type": "code",
      "source": [],
      "metadata": {
        "id": "rWYxbgZ04130"
      },
      "execution_count": null,
      "outputs": []
    }
  ]
}