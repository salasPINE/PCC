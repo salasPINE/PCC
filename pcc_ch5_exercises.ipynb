{
 "cells": [
  {
   "cell_type": "markdown",
   "metadata": {
    "id": "EbXSfCYQ85RB"
   },
   "source": [
    "# **Chapter 5 Exercises**"
   ]
  },
  {
   "cell_type": "markdown",
   "metadata": {
    "id": "hKZ34sMI-io5"
   },
   "source": [
    "## **5-1 Conditional Tests**\n",
    "\n",
    "Write a series of conditional tests. Print a statement describing each test and your prediction for the results of each test. Your code should look something like this:\n",
    "\n",
    "```\n",
    "car = 'subaru'\n",
    "print(\"Is car == 'subaru'? I predict True.\")\n",
    "print(car == 'subaru')\n",
    "\n",
    "print(\"\\nIs car == 'audi'? I predict False.\")\n",
    "print(car == 'audi')\n",
    "```\n",
    "\n",
    "* Look closely at your results, and make sure you understand why each line evaluates to True or False.\n",
    "* Create at least 10 tests. Have at least 5 tests evaluate to True and another 5 tests evaluate to False.\n",
    "\n"
   ]
  },
  {
   "cell_type": "code",
   "execution_count": null,
   "metadata": {
    "colab": {
     "base_uri": "https://localhost:8080/"
    },
    "id": "8HfOiQHU82p7",
    "outputId": "d5bdf2b5-1c69-4955-e38e-27af86bd4e79"
   },
   "outputs": [
    {
     "name": "stdout",
     "output_type": "stream",
     "text": [
      "Is moto == 'yamaha'? I predict True.\n",
      "True\n",
      "Is the color red?\n",
      "False\n",
      "Is the game monopoly?\n",
      "True\n",
      "Will I fail technology class?\n",
      "False\n",
      "Do I live in Florida?\n",
      "True\n",
      "Does bored == yes?\n",
      "False\n",
      "Is Real Madrid better than Barcelona?\n",
      "True\n"
     ]
    }
   ],
   "source": [
    "# 5.1 Conditional Tests\n",
    "\n",
    "moto = 'yamaha'\n",
    "print(\"Is moto == 'yamaha'? I predict True.\")\n",
    "print(moto == 'yamaha')\n",
    "\n",
    "# false\n",
    "color = 'red'\n",
    "print(\"Is the color red?\")\n",
    "print(color == 'blue')\n",
    "\n",
    "# true\n",
    "game = 'monopoly'\n",
    "print(\"Is the game monopoly?\")\n",
    "print(game == 'monopoly')\n",
    "\n",
    "# false\n",
    "fail = 'technology'\n",
    "print(\"Will I fail technology class?\")\n",
    "print(fail == 'history')\n",
    "\n",
    "# true\n",
    "state = 'florida'\n",
    "print(\"Do I live in Florida?\")\n",
    "print(state == 'florida')\n",
    "\n",
    "# false\n",
    "bored = 'yes'\n",
    "print(\"Does bored == yes?\")\n",
    "print(bored == 'no')\n",
    "\n",
    "# true\n",
    "team = 'Real Madrid'\n",
    "print(\"Is Real Madrid better than Barcelona?\")\n",
    "print(team == \"Real Madrid\")"
   ]
  },
  {
   "cell_type": "markdown",
   "metadata": {
    "id": "inxB6tWa-vh2"
   },
   "source": [
    "## **5-2 More Conditional Tests**\n",
    "\n",
    "You don’t have to limit the number of tests you create to 10. If you want to try more comparisons, write more tests and add them to *conditional_tests.py*. Have at least one True and one False result for each of the following:\n",
    "\n",
    "* Tests for equality and inequality with strings\n",
    "* Tests using the `lower()` method\n",
    "* Numerical tests involving equality and inequality, greater than and less than, greater than or equal to, and less than or equal to\n",
    "* Tests using the `and` keyword and the `or` keyword\n",
    "* Test whether an item is in a list\n",
    "* Test whether an item is not in a list"
   ]
  },
  {
   "cell_type": "code",
   "execution_count": null,
   "metadata": {
    "id": "tcIYHsHj-Ga4"
   },
   "outputs": [],
   "source": [
    "# 5.2 More Conditional Tests\n",
    "# conditional_tests.py\n",
    "\n",
    "# testing for equality\n",
    "string = \"Mr. Salas\"\n",
    "print(\"Is the teacher for Technology class Mr. Salas?\")\n",
    "print(string == \"Mr. Salas\")\n",
    "\n",
    "# inequality\n",
    "string2 = \"Mr. Tolliver\"\n",
    "print(\"Is the teacher for Communications class Mr. Salas?\")\n",
    "print(string2 != \"Mr. Tolliver\")\n",
    "\n",
    "# using the lower method\n",
    "auto = \"BMW\"\n",
    "auto == \"bmw\" # this returns false\n",
    "auto.lower() == \"bmw\"\n",
    "# making it false\n",
    "auto = \"Mercedes\"\n",
    "auto.lower() == \"BMW\"\n"
   ]
  },
  {
   "cell_type": "code",
   "execution_count": null,
   "metadata": {
    "colab": {
     "base_uri": "https://localhost:8080/"
    },
    "id": "jCi_Ws_1fH6y",
    "outputId": "a24598ed-39f8-42c2-a081-11d6d2797d60"
   },
   "outputs": [
    {
     "name": "stdout",
     "output_type": "stream",
     "text": [
      "Is 90 equal to 93?\n",
      "False\n",
      "Is 97 equal to 97?\n",
      "True\n",
      "Is 88 not equal to 88?\n",
      "False\n",
      "Is 88 not equal to 89?\n",
      "True\n",
      "Is 99 greater than or equal to 100?\n",
      "False\n",
      "Is 99 less than or equal to 100?\n",
      "True\n",
      "Is 50 greater than 0?\n",
      "True\n",
      "Is 60 less than 70?\n",
      "True\n",
      "I barely passed that test, didn't I?\n",
      "\n",
      "Did both of you pass the test?\n",
      "True\n",
      "Did at least one of you pass the test?\n",
      "True\n",
      "Is Nike one of our vendors?\n",
      "True\n",
      "Is Adidas one of our vendors?\n",
      "False\n",
      "Adidas is not one of our vendors.\n"
     ]
    }
   ],
   "source": [
    "# numerical tests\n",
    "\n",
    "# equal false\n",
    "grade = 93\n",
    "print(\"Is 90 equal to 93?\")\n",
    "print(grade == 90)\n",
    "\n",
    "# equal true\n",
    "grade = 97\n",
    "print(\"Is 97 equal to 97?\")\n",
    "print(grade == 97)\n",
    "\n",
    "# inequality false\n",
    "grade = 88\n",
    "print(\"Is 88 not equal to 88?\")\n",
    "print(grade != 88)\n",
    "\n",
    "# inequality true\n",
    "grade = 88\n",
    "print(\"Is 88 not equal to 89?\")\n",
    "print(grade != 89)\n",
    "\n",
    "# greater than or equal true\n",
    "grade = 99\n",
    "print(\"Is 99 greater than or equal to 100?\")\n",
    "print(grade >= 100)\n",
    "\n",
    "# less than or equal false\n",
    "grade = 99\n",
    "print(\"Is 99 less than or equal to 100?\")\n",
    "print(grade <= 100)\n",
    "\n",
    "# greater than true\n",
    "grade = 50\n",
    "print(\"Is 50 greater than 0?\")\n",
    "print(grade > 0)\n",
    "\n",
    "# less than true\n",
    "grade = 60\n",
    "print(\"Is 60 less than 70?\")\n",
    "print(grade < 70)\n",
    "\n",
    "# greater than, using an if loop\n",
    "grade = 73\n",
    "if grade > 60:\n",
    "  print(\"I barely passed that test, didn't I?\")\n",
    "# this will print, because the check is True\n",
    "\n",
    "print()\n",
    "\n",
    "# using AND, both conditions have to be true\n",
    "grade_1 = 87\n",
    "grade_2 = 93\n",
    "print(\"Did both of you pass the test?\")\n",
    "print(grade_1 > 60 and grade_2 > 60)\n",
    "\n",
    "# using OR, only one of the conditions need to be true\n",
    "grade_1 = 87\n",
    "grade_2 = 50\n",
    "print(\"Did at least one of you pass the test?\")\n",
    "print(grade_1 > 60 or grade_2 > 60)\n",
    "\n",
    "# test if an item is in the list\n",
    "# use IN\n",
    "mylist = ['nike', 'puma', 'reebok']\n",
    "# first time is true\n",
    "print(\"Is Nike one of our vendors?\")\n",
    "print('nike' in mylist)\n",
    "# second time is false\n",
    "print(\"Is Adidas one of our vendors?\")\n",
    "print('adidas' in mylist)\n",
    "\n",
    "# using NOT and IF to check if something is in a list\n",
    "mylist = ['nike', 'puma', 'reebok']\n",
    "vendor = 'adidas'\n",
    "if vendor not in mylist:\n",
    "  print(f\"{vendor.title()} is not one of our vendors.\")"
   ]
  },
  {
   "cell_type": "code",
   "execution_count": null,
   "metadata": {
    "collapsed": true,
    "id": "6xI17-MSfElA",
    "jupyter": {
     "outputs_hidden": true
    }
   },
   "outputs": [],
   "source": [
    "# more involved example using a list\n",
    "students = ['kanner', 'brock', 'charlie', 'charles', 'derek', 'london', 'olivia']\n",
    "\n",
    "# print the list of students\n",
    "print(\"These students are in Technology class:\")\n",
    "for student in students:\n",
    "    print(student.title())\n",
    "\n",
    "print()\n",
    "\n",
    "# evaluate to True by checking the list of students\n",
    "print(\"Is Brock in class today?\")\n",
    "user = 'brock'\n",
    "if user in students:\n",
    "    print(f\"{user.title()} is not in class today!\")"
   ]
  },
  {
   "cell_type": "markdown",
   "metadata": {
    "id": "sAC290YSe_Vh"
   },
   "source": [
    "\n",
    "\n",
    "---\n",
    "\n"
   ]
  },
  {
   "cell_type": "markdown",
   "metadata": {
    "id": "tbOFj9vq_DI-"
   },
   "source": [
    "## **5-3 Alien Colors 1**\n",
    "\n",
    "Imagine an alien was just shot down in a game. Create a variable called `alien_color` and assign it a value of 'green', 'yellow', or 'red'.\n",
    "\n",
    "* Write an if statement to test whether the alien’s color is green. If it is, print a message that the player just earned 5 points.\n",
    "* Write one version of this program that passes the if test and another that fails. (The version that fails will have no output.)"
   ]
  },
  {
   "cell_type": "code",
   "execution_count": null,
   "metadata": {
    "colab": {
     "base_uri": "https://localhost:8080/"
    },
    "id": "Rw3teboJ-TaQ",
    "outputId": "78e36043-74d4-4337-fee5-a990a018c49a"
   },
   "outputs": [
    {
     "name": "stdout",
     "output_type": "stream",
     "text": [
      "You just earned 5 points!\n"
     ]
    }
   ],
   "source": [
    "# 5.3 Alien Colors 1\n",
    "\n",
    "# create variable for alien\n",
    "alien_color = 'green'\n",
    "\n",
    "if alien_color == 'green':\n",
    "  print(\"You just earned 5 points!\")\n",
    "\n",
    "# This will not print because the test is False\n",
    "if alien_color == 'red':\n",
    "  print(\"You just earned 5 points!\")"
   ]
  },
  {
   "cell_type": "markdown",
   "metadata": {
    "id": "AdKSwpyl_arx"
   },
   "source": [
    "## **5-4 Alien Colors 2**\n",
    "\n",
    "Choose a color for an alien as you did in Exercise 5-3, and write an `if-else` chain.\n",
    "\n",
    "* If the alien’s color is green, print a statement that the player just earned 5 points for shooting the alien.\n",
    "* If the alien’s color isn’t green, print a statement that the player just earned 10 points.\n",
    "* Write one version of this program that runs the if block and another that runs the else block."
   ]
  },
  {
   "cell_type": "code",
   "execution_count": null,
   "metadata": {
    "colab": {
     "base_uri": "https://localhost:8080/"
    },
    "id": "0SwgrgoT_WYo",
    "outputId": "6524d92e-d2c0-46f2-c084-d9008dbc1865"
   },
   "outputs": [
    {
     "name": "stdout",
     "output_type": "stream",
     "text": [
      "You just earned 5 points!\n",
      "You just earned 10 points!\n"
     ]
    }
   ],
   "source": [
    "# 5.4 Alien Colors 2\n",
    "\n",
    "# this version runs the if block\n",
    "alien_color = 'green'\n",
    "\n",
    "if alien_color == 'green':\n",
    "  print(\"You just earned 5 points!\")\n",
    "else:\n",
    "  print(\"You just earned 10 points!\")\n",
    "\n",
    "\n",
    "# first test is False, therefore runs the else block\n",
    "alien_color = 'green'\n",
    "\n",
    "if alien_color == 'red':\n",
    "  print(\"You just earned 5 points!\")\n",
    "else:\n",
    "  print(\"You just earned 10 points!\")"
   ]
  },
  {
   "cell_type": "markdown",
   "metadata": {
    "id": "00XB5uez_2uz"
   },
   "source": [
    "## **5-5 Alien Colors 3**\n",
    "\n",
    "Turn your `if-else` chain from Exercise 5-4 into an `if-elif-else` chain.\n",
    "\n",
    "* If the alien is green, print a message that the player earned 5 points.\n",
    "* If the alien is yellow, print a message that the player earned 10 points.\n",
    "* If the alien is red, print a message that the player earned 15 points.\n",
    "* Write three versions of this program, making sure each message is printed for the appropriate color alien."
   ]
  },
  {
   "cell_type": "code",
   "execution_count": null,
   "metadata": {
    "id": "4vDJ_F2GARPP"
   },
   "outputs": [],
   "source": [
    "# 5.5 Alien Colors 3\n",
    "# once the first block is working\n",
    "# copy and paste and change the variable for the next two\n",
    "\n",
    "alien_color = 'green'\n",
    "\n",
    "if alien_color == 'green':\n",
    "  print(\"You just earned 5 points!\")\n",
    "elif alien_color == 'yellow':\n",
    "  print(\"You just earned 10 points!\")\n",
    "elif alien_color == 'red':\n",
    "  print(\"You just earned 15 points!\")\n",
    "\n",
    "# the alien is yellow\n",
    "alien_color = 'yellow'\n",
    "\n",
    "if alien_color == 'green':\n",
    "  print(\"You just earned 5 points!\")\n",
    "elif alien_color == 'yellow':\n",
    "  print(\"You just earned 10 points!\")\n",
    "elif alien_color == 'red':\n",
    "  print(\"You just earned 15 points!\")\n",
    "\n",
    "# the alien is red\n",
    "alien_color = 'red'\n",
    "\n",
    "if alien_color == 'green':\n",
    "  print(\"You just earned 5 points!\")\n",
    "elif alien_color == 'yellow':\n",
    "  print(\"You just earned 10 points!\")\n",
    "elif alien_color == 'red':\n",
    "  print(\"You just earned 15 points!\")"
   ]
  },
  {
   "cell_type": "markdown",
   "metadata": {
    "id": "cgeMq8NVAZ8v"
   },
   "source": [
    "## **5-6 Stages of Life**\n",
    "\n",
    "Write an `if-elif-else` chain that determines a persons stage of life. Set a value for the variable age, and then:\n",
    "\n",
    "* If the person is less than 2 years old, print a message that the person is a baby.\n",
    "* If the person is at least 2 years old but less than 4, print a message that the person is a toddler.\n",
    "* If the person is at least 4 years old but less than 13, print a message that the person is a kid.\n",
    "* If the person is at least 13 years old but less than 20, print a message that the person is a teenager.\n",
    "* If the person is at least 20 years old but less than 65, print a message that the person is an adult.\n",
    "* If the person is age 65 or older, print a message that the person is an elder."
   ]
  },
  {
   "cell_type": "code",
   "execution_count": null,
   "metadata": {
    "colab": {
     "base_uri": "https://localhost:8080/"
    },
    "id": "e9UNuAgXAaJj",
    "outputId": "597066e7-5a9c-40a6-a5d8-a2fb73ea3a61"
   },
   "outputs": [
    {
     "name": "stdout",
     "output_type": "stream",
     "text": [
      "You are an elder!\n"
     ]
    }
   ],
   "source": [
    "# 5.6 Stages of Life\n",
    "\n",
    "age = 88\n",
    "\n",
    "if age < 2:\n",
    "  print(\"You are a baby!\")\n",
    "elif age < 4:\n",
    "  print(\"You are a toddler!\")\n",
    "elif age < 13:\n",
    "  print(\"You are a kid!\")\n",
    "elif age < 20:\n",
    "  print(\"You are a teenager!\")\n",
    "elif age < 65:\n",
    "  print(\"You are an adult!\")\n",
    "else:\n",
    "  print(\"You are an elder!\")"
   ]
  },
  {
   "cell_type": "markdown",
   "metadata": {
    "id": "BBhMyoZ1A9i6"
   },
   "source": [
    "## **5-7 Favorite Fruit**\n",
    "\n",
    "Make a list of your favorite fruits, and then write a series of independent `if` statements that check for certain fruits in your list.\n",
    "\n",
    "* Make a list of your three favorite fruits and call it *favorite_fruits*.\n",
    "* Write five `if` statements. Each should check whether a certain kind of fruit is in your list. If the fruit is in your list, the if block should print a statement, such as You really like bananas!"
   ]
  },
  {
   "cell_type": "code",
   "execution_count": null,
   "metadata": {
    "colab": {
     "base_uri": "https://localhost:8080/"
    },
    "id": "lC7CKBnxBO6i",
    "outputId": "98aa6a3c-eea3-46b7-90d0-ba0fce8927eb"
   },
   "outputs": [
    {
     "name": "stdout",
     "output_type": "stream",
     "text": [
      "You really like peaches!\n",
      "You really like blueberries!\n",
      "You really like salmonberries!\n",
      "You don't like kiwis! Shame on you!\n"
     ]
    }
   ],
   "source": [
    "# 5.7 Favorite Fruit\n",
    "\n",
    "favorite_fruits = ['blueberries', 'salmonberries', 'peaches']\n",
    "\n",
    "# bananas and kiwis will be ignored\n",
    "if 'peaches' in favorite_fruits:\n",
    "  print(\"You really like peaches!\")\n",
    "if 'bananas' in favorite_fruits:\n",
    "  print(\"You really like bananas!\")\n",
    "if 'blueberries' in favorite_fruits:\n",
    "  print(\"You really like blueberries!\")\n",
    "if 'salmonberries' in favorite_fruits:\n",
    "  print(\"You really like salmonberries!\")\n",
    "if 'kiwis' in favorite_fruits:\n",
    "  print(\"You really like kiwis!\")\n",
    "\n",
    "# with an inequality test, kiwis will return True\n",
    "if 'kiwis' not in favorite_fruits:\n",
    "  print(\"You don't like kiwis! Shame on you!\")"
   ]
  },
  {
   "cell_type": "markdown",
   "metadata": {
    "id": "3bxApb8ag32Q"
   },
   "source": [
    "\n",
    "\n",
    "---\n",
    "\n"
   ]
  },
  {
   "cell_type": "markdown",
   "metadata": {
    "id": "hrG4B6lnB4XX"
   },
   "source": [
    "## **5-8 Hello Admin**\n",
    "\n",
    "Make a list of five or more usernames, including the name 'admin'. Imagine you are writing code that will print a greeting to each user after they log in to a website. Loop through the list, and print a greeting to each user.\n",
    "\n",
    "* If the username is 'admin', print a special greeting, such as *Hello admin,would you like to see a status report?*\n",
    "* Otherwise, print a generic greeting, such as *Hello Jaden, thank you for logging in again.*"
   ]
  },
  {
   "cell_type": "code",
   "execution_count": null,
   "metadata": {
    "id": "IO2j0CX-B5wE"
   },
   "outputs": [],
   "source": [
    "# 5.8 Hello Admin\n",
    "\n",
    "users = ['admin', 'snapboy', 'gamergirl', 'boredtotears', 'sonicmaven']\n",
    "\n",
    "for user in users:\n",
    "    if user == 'admin':\n",
    "        print(f\"Hello {user}, would you like to see a status report?\")\n",
    "    else:\n",
    "        print(f\"Hello {user}, thank you for logging in again.\")\n"
   ]
  },
  {
   "cell_type": "markdown",
   "metadata": {
    "id": "A-r-Zl1HBmXw"
   },
   "source": [
    "## **5-9 No Users**\n",
    "\n",
    "Add an `if` test to *hello_admin.py* to make sure the list of users is not empty.\n",
    "\n",
    "* If the list is empty, print the message We need to find some users!\n",
    "* Remove all of the usernames from your list, and make sure the correct message is printed."
   ]
  },
  {
   "cell_type": "code",
   "execution_count": null,
   "metadata": {
    "colab": {
     "base_uri": "https://localhost:8080/"
    },
    "id": "q5qAvZNrwfC8",
    "outputId": "d1f54a48-a1e3-4638-a379-cc8cf004e2f3"
   },
   "outputs": [
    {
     "name": "stdout",
     "output_type": "stream",
     "text": [
      "We need to find some users!\n"
     ]
    }
   ],
   "source": [
    "# 5.9 Exercise\n",
    "\n",
    "users = []\n",
    "\n",
    "if users:\n",
    "    for user in users:\n",
    "        print(f\"Hello {user}!\")\n",
    "else:\n",
    "    print(f\"We need to find some users!\")"
   ]
  },
  {
   "cell_type": "markdown",
   "metadata": {
    "id": "wAN6osLbwawK"
   },
   "source": [
    "## **5-10 Checking Usernames**\n",
    "\n",
    "Do the following to create a program that simulates how websites ensure that everyone has a unique username.\n",
    "\n",
    "* Make a list of five or more usernames called *current_users*.\n",
    "* Make another list of five usernames called *new_users*. Make sure one or two of the new usernames are also in the *current_users* list.\n",
    "* Loop through the *new_users* list to see if each new username has already been used. If it has, print a message that the person will need to enter a new username. If a username has not been used, print a message saying that the username is available.\n",
    "* Make sure your comparison is case insensitive. If 'John' has been used, 'JOHN' should not be accepted. (To do this, you'll need to make a copy of *current_users* containing the lowercase versions of all existing users.)"
   ]
  },
  {
   "cell_type": "code",
   "execution_count": null,
   "metadata": {
    "colab": {
     "base_uri": "https://localhost:8080/"
    },
    "id": "iRBnbQOiwjQH",
    "outputId": "b9d3172e-ac69-4709-df83-d4cfabd0ae33"
   },
   "outputs": [
    {
     "name": "stdout",
     "output_type": "stream",
     "text": [
      "lili, that username is available.\n",
      "mark, that username is available.\n",
      "bob, that username is taken. Create a new one\n",
      "ana, that username is taken. Create a new one\n",
      "mary, that username is available.\n"
     ]
    }
   ],
   "source": [
    "# 5.10 Checking Usernames\n",
    "\n",
    "current_users = ['bob', 'joe', 'ana', 'stu', 'mia']\n",
    "\n",
    "new_users = ['lili', 'mark', 'bob', 'ana', 'mary']\n",
    "\n",
    "for user in new_users:\n",
    "    if user in current_users:\n",
    "        print(f\"{user}, that username is taken. Create a new one\")\n",
    "    else:\n",
    "        print(f\"{user}, that username is available.\")"
   ]
  },
  {
   "cell_type": "markdown",
   "metadata": {
    "id": "1Q7ihsZBwbVI"
   },
   "source": [
    "## **5-11 Ordinal Numbers**\n",
    "\n",
    "Ordinal numbers indicate their position in a list, such as 1st or 2nd. Most ordinal numbers end in th, except 1, 2, and 3.\n",
    "\n",
    "* Store the numbers 1 through 9 in a list.\n",
    "* Loop through the list.\n",
    "* Use an `if-elif-else` chain inside the loop to print the proper ordinal ending for each number. Your output should read \"1st 2nd 3rd 4th 5th 6th 7th 8th 9th\", and each result should be on a separate line."
   ]
  },
  {
   "cell_type": "code",
   "execution_count": null,
   "metadata": {
    "colab": {
     "base_uri": "https://localhost:8080/"
    },
    "id": "onq7ze7SwlEM",
    "outputId": "66fad344-c7ad-40e4-b74f-3180b727e2d2"
   },
   "outputs": [
    {
     "name": "stdout",
     "output_type": "stream",
     "text": [
      "1st\n",
      "2nd\n",
      "3rd\n",
      "4th\n",
      "5th\n",
      "6th\n",
      "7th\n",
      "8th\n",
      "9th\n"
     ]
    }
   ],
   "source": [
    "# 5.11 Ordinal Numbers\n",
    "\n",
    "numbers = list(range(1, 10))\n",
    "\n",
    "for number in numbers:\n",
    "    if number == 1:\n",
    "        print(f\"{number}st\")\n",
    "    elif number == 2:\n",
    "        print(f\"{number}nd\")\n",
    "    elif number == 3:\n",
    "        print(f\"{number}rd\")\n",
    "    else:\n",
    "        print(f\"{number}th\")\n",
    "\n"
   ]
  },
  {
   "cell_type": "markdown",
   "metadata": {
    "id": "bgBZ-n2d0kJR"
   },
   "source": [
    "\n",
    "\n",
    "---\n",
    "\n"
   ]
  },
  {
   "cell_type": "markdown",
   "metadata": {
    "id": "kgc3xS47wcBv"
   },
   "source": [
    "## **5-12 Styling `if` Statements**\n",
    "\n",
    "Review the programs you wrote in this chapter, and make sure you styled your conditional tests appropriately. Go back and fix any that are not styled appropriately"
   ]
  },
  {
   "cell_type": "markdown",
   "metadata": {
    "id": "6G_74fyVwcMf"
   },
   "source": [
    "## **5-13 Your Ideas**\n",
    "\n",
    "At this point, you’re a more capable programmer than you were when you started this book. Now that you have a better sense of how real-world situations are modeled in programs, you might be thinking of some problems you could solve with your own programs. Record any new ideas you have about problems you might want to solve as your programming skills continue to improve. Consider games you might want to write, datasets you might want to explore, and web applications you’d like to create."
   ]
  },
  {
   "cell_type": "markdown",
   "metadata": {
    "id": "ECKoqPs8wcTI"
   },
   "source": [
    "### **My Ideas List**\n",
    "\n",
    "Type Here"
   ]
  }
 ],
 "metadata": {
  "colab": {
   "provenance": [],
   "toc_visible": true
  },
  "kernelspec": {
   "display_name": "Python 3 (ipykernel)",
   "language": "python",
   "name": "python3"
  },
  "language_info": {
   "codemirror_mode": {
    "name": "ipython",
    "version": 3
   },
   "file_extension": ".py",
   "mimetype": "text/x-python",
   "name": "python",
   "nbconvert_exporter": "python",
   "pygments_lexer": "ipython3",
   "version": "3.10.11"
  }
 },
 "nbformat": 4,
 "nbformat_minor": 4
}
