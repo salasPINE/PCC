{
  "nbformat": 4,
  "nbformat_minor": 0,
  "metadata": {
    "colab": {
      "provenance": [],
      "toc_visible": true,
      "authorship_tag": "ABX9TyOk+HwPmo6eQnqqF18QZt9P"
    },
    "kernelspec": {
      "name": "python3",
      "display_name": "Python 3"
    },
    "language_info": {
      "name": "python"
    }
  },
  "cells": [
    {
      "cell_type": "markdown",
      "source": [
        "# **CHAPTER 2**"
      ],
      "metadata": {
        "id": "BC5-4kDGZVG6"
      }
    },
    {
      "cell_type": "markdown",
      "source": [
        "### Hello World"
      ],
      "metadata": {
        "id": "JzNQ2z9lZ7Jy"
      }
    },
    {
      "cell_type": "code",
      "execution_count": null,
      "metadata": {
        "id": "BP__QwvjZQdz"
      },
      "outputs": [],
      "source": [
        "# Hello World\n"
      ]
    },
    {
      "cell_type": "markdown",
      "source": [
        "---\n",
        "##  VARIABLES"
      ],
      "metadata": {
        "id": "GLxYdPGSl3_5"
      }
    },
    {
      "cell_type": "code",
      "source": [
        "# Hello World Using a Variable\n"
      ],
      "metadata": {
        "id": "-1qoBZZamHfE"
      },
      "execution_count": null,
      "outputs": []
    },
    {
      "cell_type": "markdown",
      "source": [
        "- Variable names can contain only letters, numbers and underscores. They cannot start with a number. A variable can be `message_1`, but NOT `1_message`.\n",
        "\n",
        "- Spaces are not allowed in Variable names. Use underscores to separate words in variable names. Example: `greeting_message`\n",
        "\n",
        "- Avoid using Python keywords and function names as variable names. For example, you cannot have a variable called `print`.\n",
        "\n",
        "- Variable names should be short but descriptive.\n",
        "\n",
        "- Variable names should be all lowercase."
      ],
      "metadata": {
        "id": "MMsVu-RImSp6"
      }
    },
    {
      "cell_type": "code",
      "source": [
        "# Hello World Fruit Variables\n"
      ],
      "metadata": {
        "id": "JpI1VfjyZnXb"
      },
      "execution_count": null,
      "outputs": []
    },
    {
      "cell_type": "markdown",
      "source": [
        "When there is an error in my code, I get a **Traceback**.\n",
        "When there is an error in my code, I  have to **debug** the code. Debug means to go back to your code and find what is causing the error.\n",
        "\n",
        "Variables are **labels**.\n",
        "A Variable can be described as a box that you can store values in. It is easier, however, to think of them as labels that you can assign to values.\n"
      ],
      "metadata": {
        "id": "qbykVdjUmrKJ"
      }
    },
    {
      "cell_type": "markdown",
      "source": [
        "---\n",
        "## STRINGS\n",
        "A *string* is a series of characters. Anything inside quotes is considered a string in Python, and you can use single or double quotes around your strings like this:\n",
        "\n",
        "`\"This is a string\"`\n",
        "\n",
        "`'This is also a string'`\n",
        "\n",
        "This is helpful for when you need to use quotes and apostrophes together."
      ],
      "metadata": {
        "id": "aHSpVpP_nOMi"
      }
    },
    {
      "cell_type": "code",
      "source": [
        "# mixed quotes examples\n"
      ],
      "metadata": {
        "id": "lGLLv94LnhIl"
      },
      "execution_count": null,
      "outputs": []
    },
    {
      "cell_type": "markdown",
      "source": [
        "### Changing Case\n",
        "Examine the following code to change the capitalization of a string"
      ],
      "metadata": {
        "id": "4z42rlpzo9XA"
      }
    },
    {
      "cell_type": "code",
      "source": [
        "# capitalization\n"
      ],
      "metadata": {
        "id": "h2gS8PpdpHfA"
      },
      "execution_count": null,
      "outputs": []
    },
    {
      "cell_type": "markdown",
      "source": [
        "### Using Variables in Strings\n",
        "**f-strings** are strings that reference variables in them. The f stands for *format*. Python formats the string by replacing the name of any variable in braces {} with its value.\n",
        "\n",
        "To insert a variable's value into a string, place the letter f immediately before the opening quotation mark 1. Put braces around the name or names of any variable you want to use inside the string. Python will replace each variable with its value when the string is displayed."
      ],
      "metadata": {
        "id": "0r7i1261peft"
      }
    },
    {
      "cell_type": "code",
      "source": [
        "# variables in strings\n"
      ],
      "metadata": {
        "id": "COsouuR5pzBb"
      },
      "execution_count": null,
      "outputs": []
    },
    {
      "cell_type": "markdown",
      "source": [
        "### Adding Whitespace\n",
        "Whitespace is nonprinting characters. Spaces. Tabs. End-Of-Line symbols.\n",
        "\n",
        "\\t is a special command to insert a TAB\n",
        "\n",
        "\\n is a special command to insert a NEWLINE\n"
      ],
      "metadata": {
        "id": "mF7ub9oUrMvs"
      }
    },
    {
      "cell_type": "code",
      "source": [
        "# whitespace\n"
      ],
      "metadata": {
        "id": "nEmHbLkwrW5t"
      },
      "execution_count": null,
      "outputs": []
    },
    {
      "cell_type": "markdown",
      "source": [
        "### Stripping Whitespace\n",
        "Python can look for extra whitespace on the right and left sides of a string and automatically remove it.\n",
        "\n",
        "Strip Right `.rstrip()`\n",
        "\n",
        "Strip Left `.lstrip()`\n",
        "\n",
        "Both Sides `.strip()`"
      ],
      "metadata": {
        "id": "u_rK9IbG2IHC"
      }
    },
    {
      "cell_type": "code",
      "source": [
        "#Stripping Whitespace\n"
      ],
      "metadata": {
        "id": "3kHgr8Yg2YF-"
      },
      "execution_count": null,
      "outputs": []
    },
    {
      "cell_type": "markdown",
      "source": [
        "### Removing Prefixes and Suffixes\n",
        "Remove Prefix `.removeprefix()`\n",
        "\n",
        "Remove Suffix `.removesuffix()`\n",
        "\n",
        "Whatever you wish to remove goes inside the parenthese as a string"
      ],
      "metadata": {
        "id": "JSu8vAc34tXG"
      }
    },
    {
      "cell_type": "code",
      "source": [
        "# Removing prefix suffix\n"
      ],
      "metadata": {
        "id": "qDxEVS3t4y5I"
      },
      "execution_count": null,
      "outputs": []
    },
    {
      "cell_type": "markdown",
      "source": [
        "---\n",
        "## NUMBERS\n",
        "Python treats numbers in several different ways, depending on how they’re being used. The two most commong are **Integers** and **Floats**."
      ],
      "metadata": {
        "id": "aVCUXxbi5xE6"
      }
    },
    {
      "cell_type": "markdown",
      "source": [
        "###Integers\n",
        "You can add (+), subtract (-), multiply (\\*), and divide (/) integers in Python. (\\*\\*) is exponents"
      ],
      "metadata": {
        "id": "6r9tW0_I68GY"
      }
    },
    {
      "cell_type": "code",
      "source": [
        "# INTEGERS\n"
      ],
      "metadata": {
        "id": "FPGOUZzA6gSt"
      },
      "execution_count": null,
      "outputs": []
    },
    {
      "cell_type": "markdown",
      "source": [
        "### Floats\n",
        "Any number with a decimal point is a *float*."
      ],
      "metadata": {
        "id": "b6IITEf97WfK"
      }
    },
    {
      "cell_type": "code",
      "source": [
        "# FLOATS\n"
      ],
      "metadata": {
        "id": "gxDjnjyL7HXh"
      },
      "execution_count": null,
      "outputs": []
    },
    {
      "cell_type": "markdown",
      "source": [
        "### Integers and Floats\n",
        "When you divide any two numbers, you will always get a float.\n",
        "\n",
        "If you mix an integer and a float, you will always get a float."
      ],
      "metadata": {
        "id": "x74oHH7a7nfn"
      }
    },
    {
      "cell_type": "code",
      "source": [
        "# INTEGERS AND FLOATS\n",
        "# anytime you divide, your result will be a float\n",
        "# anytime you use a float, your result will be a float\n"
      ],
      "metadata": {
        "id": "vsKbM6cT75S2"
      },
      "execution_count": null,
      "outputs": []
    },
    {
      "cell_type": "markdown",
      "source": [
        "### Underscores in Numbers\n",
        "You can group digits using underscores to make large numbers more readable"
      ],
      "metadata": {
        "id": "0C7lmhi87-0u"
      }
    },
    {
      "cell_type": "code",
      "source": [
        "# UNDERSCORES\n",
        "# underscores get ignored in numbers. it only helps for us to read the number\n"
      ],
      "metadata": {
        "id": "9K_MJaYH8Fzu"
      },
      "execution_count": null,
      "outputs": []
    },
    {
      "cell_type": "markdown",
      "source": [
        "### Multiple Assignment\n",
        "You can assign values to more than one variable using a single line of code"
      ],
      "metadata": {
        "id": "sljLWfF38Iya"
      }
    },
    {
      "cell_type": "code",
      "source": [
        "# MULTIPLE ASSIGNMENT\n",
        "# assign values to multiple variables at once\n"
      ],
      "metadata": {
        "id": "F77vxql18Pnp"
      },
      "execution_count": null,
      "outputs": []
    },
    {
      "cell_type": "markdown",
      "source": [
        "### Constants\n",
        "A constant is a variable whose value stays the same throughout the life of a program.\n",
        "\n",
        "When you want to treat a variable as a constant in your code, write the name of the variable in all capital letters."
      ],
      "metadata": {
        "id": "xNKZOkEv8TCC"
      }
    },
    {
      "cell_type": "code",
      "source": [
        "#CONSTANTS are done in ALL CAPS\n"
      ],
      "metadata": {
        "id": "AYouvf4O8TtW"
      },
      "execution_count": null,
      "outputs": []
    },
    {
      "cell_type": "markdown",
      "source": [
        "### Difference Between Strings and Integers\n",
        "`my_number = 13`\n",
        "\n",
        "`my_number = \"13\"`\n",
        "\n",
        "The first one is an integer, the second is a string.\n"
      ],
      "metadata": {
        "id": "AeYmVBBN8u3C"
      }
    },
    {
      "cell_type": "markdown",
      "source": [
        "---\n",
        "## COMMENTS\n",
        "Comments are an extremely useful feature in most programming languages.\n",
        "\n",
        "As your programs become longer and more complicated, you should add notes within your programs that describe what you are doing.\n",
        "\n",
        "A comment allows you to write notes in your spoken language, within your programs.\n",
        "\n",
        "In Python, the hash mark (#) indicates a comment. Anything following a hash mark in your code is ignored by the Python interpreter."
      ],
      "metadata": {
        "id": "3eHQk4ST9-L8"
      }
    },
    {
      "cell_type": "code",
      "source": [
        "# Say hello to everyone.\n",
        "print(\"Hello Python people!\")"
      ],
      "metadata": {
        "id": "rP7z2lg3-XhK"
      },
      "execution_count": null,
      "outputs": []
    },
    {
      "cell_type": "markdown",
      "source": [
        "Python ignores the first line and executes the second line.\n",
        "\n",
        "The main reason to write comments is to explain what your code is supposed to do and how you are making it work. When you are in the middle of working on a project, you understand how all of the pieces fit together. But when you return to a project after some time away, you'll likely have forgotten some of the details."
      ],
      "metadata": {
        "id": "ukyBaEtn-ZqP"
      }
    }
  ]
}