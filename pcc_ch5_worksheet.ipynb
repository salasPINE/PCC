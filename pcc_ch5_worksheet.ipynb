{
  "nbformat": 4,
  "nbformat_minor": 0,
  "metadata": {
    "colab": {
      "provenance": [],
      "toc_visible": true
    },
    "kernelspec": {
      "name": "python3",
      "display_name": "Python 3"
    },
    "language_info": {
      "name": "python"
    }
  },
  "cells": [
    {
      "cell_type": "markdown",
      "source": [
        "# **Chapter 5 - IF Statements**\n",
        "Programming involves examining a set of conditions and deciding which action to take based on those conditions. Pythons `if` statement allows you to examine the current state of a program and respond to that state."
      ],
      "metadata": {
        "id": "u6F3ZR65yvPc"
      }
    },
    {
      "cell_type": "markdown",
      "source": [
        "---\n",
        "## **A Simple Example**\n",
        "The following example shows how if tests let you respond to special situations correctly. Imagine you have a list of cars and you want to print out the name of each car. Car names are proper names, so the names of most cars should be printed in title case. However, the value 'bmw' should be printed in all uppercase. The following code loops through a list of car names and looks for the value 'bmw'. Whenever the value is 'bmw', it’s printed in uppercase instead of title case:"
      ],
      "metadata": {
        "id": "zq_ivaIE44Rp"
      }
    },
    {
      "cell_type": "code",
      "source": [
        "# cars.py\n",
        "\n",
        "cars = ['audi', 'bmw', 'subaru', 'toyota']\n",
        "\n",
        "for car in cars:\n",
        "  if car == 'bmw':\n",
        "    print(car.upper())\n",
        "  else:\n",
        "    print(car.title())"
      ],
      "metadata": {
        "colab": {
          "base_uri": "https://localhost:8080/"
        },
        "id": "egiQgWpWwcDK",
        "outputId": "a09e1431-9faf-43b7-de7b-30cbf5d34747"
      },
      "execution_count": null,
      "outputs": [
        {
          "output_type": "stream",
          "name": "stdout",
          "text": [
            "Audi\n",
            "BMW\n",
            "Subaru\n",
            "Toyota\n"
          ]
        }
      ]
    },
    {
      "cell_type": "markdown",
      "source": [
        "---\n",
        "## **Conditional Tests**\n",
        "At the heart of every if statement is an expression that can be evaluated as True or False and is called a conditional test. Python uses the values True and False to decide whether the code in an if statement should be executed. If a conditional test evaluates to True, Python executes the code following the if statement. If the test evaluates to False, Python ignores the code following the if statement."
      ],
      "metadata": {
        "id": "aWE5nbTi5QXE"
      }
    },
    {
      "cell_type": "markdown",
      "source": [
        "#### **Checking for Equality**\n",
        "Compare the current value of a variable to a specific value. This simply checks if the variable is equal to our specific value.\n",
        "\n",
        "The first line sets the value of the variable using a single equal sign. The next line checks whether it is true or not by using a double equal sign. This is called the *equality operator*.\n",
        "\n",
        "The equality operator always returns either True or False."
      ],
      "metadata": {
        "id": "SNWpWW6R2weR"
      }
    },
    {
      "cell_type": "code",
      "source": [
        "car = 'bmw'\n",
        "car == 'bmw'\n",
        "\n",
        "car = 'audi'\n",
        "car == 'bmw'"
      ],
      "metadata": {
        "colab": {
          "base_uri": "https://localhost:8080/"
        },
        "id": "zMJwThasxhqc",
        "outputId": "fb282cab-5f89-4746-8271-37d895570d5d"
      },
      "execution_count": null,
      "outputs": [
        {
          "output_type": "execute_result",
          "data": {
            "text/plain": [
              "False"
            ]
          },
          "metadata": {},
          "execution_count": 7
        }
      ]
    },
    {
      "cell_type": "code",
      "source": [
        "# ignoring case\n",
        "\n",
        "car = 'Audi'\n",
        "car == 'audi'\n",
        "\n",
        "# you can convert the variable to lowercase before checking equality\n",
        "car = 'Audi'\n",
        "car.lower() == 'audi'\n"
      ],
      "metadata": {
        "colab": {
          "base_uri": "https://localhost:8080/"
        },
        "id": "bJBEDjHAzMMs",
        "outputId": "8e75d3a1-e1e4-4a34-bece-7fe9671c2676"
      },
      "execution_count": null,
      "outputs": [
        {
          "output_type": "execute_result",
          "data": {
            "text/plain": [
              "True"
            ]
          },
          "metadata": {},
          "execution_count": 9
        }
      ]
    },
    {
      "cell_type": "markdown",
      "source": [
        "#### **Checking for Inequality**\n",
        "When you want to determine when two values are not equal, you use the *inequality operator* ( != )"
      ],
      "metadata": {
        "id": "UiCu-2IJ6PzY"
      }
    },
    {
      "cell_type": "code",
      "source": [
        "# toppings.py\n",
        "\n",
        "requested_topping = 'mushrooms'\n",
        "\n",
        "if requested_topping != 'anchovies':\n",
        "  print(\"Hold the anchovies!\")"
      ],
      "metadata": {
        "colab": {
          "base_uri": "https://localhost:8080/"
        },
        "id": "zjHS7Jb-0LD_",
        "outputId": "457c9eb7-65ed-4810-e239-14a5881c1ba0"
      },
      "execution_count": null,
      "outputs": [
        {
          "output_type": "stream",
          "name": "stdout",
          "text": [
            "Hold the anchovies!\n"
          ]
        }
      ]
    },
    {
      "cell_type": "markdown",
      "source": [
        "#### **Numerical Comparisons**\n",
        "Checking numbers is the same as checking strings of text"
      ],
      "metadata": {
        "id": "ywJucu8I6W8v"
      }
    },
    {
      "cell_type": "code",
      "source": [
        "# numerical comparisons\n",
        "age = 18\n",
        "age == 18"
      ],
      "metadata": {
        "colab": {
          "base_uri": "https://localhost:8080/"
        },
        "id": "a02rahEdaD8z",
        "outputId": "f3feca92-af46-4714-c499-054cc870bef9"
      },
      "execution_count": null,
      "outputs": [
        {
          "output_type": "execute_result",
          "data": {
            "text/plain": [
              "True"
            ]
          },
          "metadata": {},
          "execution_count": 2
        }
      ]
    },
    {
      "cell_type": "code",
      "source": [
        "# magic_number.py\n",
        "# checking for inequality\n",
        "answer = 17\n",
        "if answer != 42:\n",
        "  print(\"That is not the correct answer. Please try again!\")"
      ],
      "metadata": {
        "colab": {
          "base_uri": "https://localhost:8080/"
        },
        "id": "RLZxndnKabf7",
        "outputId": "90e45591-d139-4090-b661-4c9181443778"
      },
      "execution_count": null,
      "outputs": [
        {
          "output_type": "stream",
          "name": "stdout",
          "text": [
            "That is not the correct answer. Please try again!\n"
          ]
        }
      ]
    },
    {
      "cell_type": "code",
      "source": [
        "# mathematical comparisons\n",
        "age = 19\n",
        "age < 21\n",
        "\n",
        "age <= 21\n",
        "\n",
        "age > 21\n",
        "\n",
        "age >= 21\n",
        "\n",
        "age = 15\n",
        "if age < 18:\n",
        "  print(\"You are not an adult!\")"
      ],
      "metadata": {
        "colab": {
          "base_uri": "https://localhost:8080/"
        },
        "id": "KeyRalNXbFIb",
        "outputId": "36d88283-5cea-4c05-b8b5-1dd636c8bbc1"
      },
      "execution_count": null,
      "outputs": [
        {
          "output_type": "stream",
          "name": "stdout",
          "text": [
            "You are not an adult!\n"
          ]
        }
      ]
    },
    {
      "cell_type": "markdown",
      "source": [
        "#### **Checking Multiple Conditions**\n",
        "You can check to see if more than one statement is True or False."
      ],
      "metadata": {
        "id": "YDN-T1Qq6cHb"
      }
    },
    {
      "cell_type": "markdown",
      "source": [
        "#### Using `and` to Check Multiple Conditions\n",
        "Sometimes, you might want two things to be true before something happens."
      ],
      "metadata": {
        "id": "1zY0O_hA6gcF"
      }
    },
    {
      "cell_type": "code",
      "source": [
        "# checking multiple conditions\n",
        "age_0 = 22\n",
        "age_1 = 18\n",
        "age_0 >= 21 and age_1 >= 21\n",
        "\n",
        "# change the second variable to be 21\n",
        "age_1 = 21\n",
        "(age_0 >= 21) and (age_1 >= 21)\n"
      ],
      "metadata": {
        "colab": {
          "base_uri": "https://localhost:8080/"
        },
        "id": "oJGkYMcMb4zC",
        "outputId": "2dd673fe-a370-40f4-fb9d-4be0d1fdead3"
      },
      "execution_count": null,
      "outputs": [
        {
          "output_type": "execute_result",
          "data": {
            "text/plain": [
              "True"
            ]
          },
          "metadata": {},
          "execution_count": 12
        }
      ]
    },
    {
      "cell_type": "markdown",
      "source": [
        "#### Using `or` to Check Multiple Conditions\n",
        "Using or, either of the values can be True in order for the entire statement to be true."
      ],
      "metadata": {
        "id": "FeACWLNT6mu2"
      }
    },
    {
      "cell_type": "code",
      "source": [
        "age_0 = 22\n",
        "age_1 = 18\n",
        "age_0 >= 21 or age_1 >=21\n",
        "\n",
        "# change the first variable to 18 so they are both less than 21\n",
        "age_0 = 18\n",
        "age_0 >= 21 or age_1 >=21\n"
      ],
      "metadata": {
        "colab": {
          "base_uri": "https://localhost:8080/"
        },
        "id": "3rjVD0jNdF9o",
        "outputId": "2ca57d56-8b76-47c1-ade8-95772b704af0"
      },
      "execution_count": null,
      "outputs": [
        {
          "output_type": "execute_result",
          "data": {
            "text/plain": [
              "False"
            ]
          },
          "metadata": {},
          "execution_count": 14
        }
      ]
    },
    {
      "cell_type": "markdown",
      "source": [
        "#### **Checking Whether a Value Is in a List**\n",
        "Use the keyword \"in\" to check if something is in a list"
      ],
      "metadata": {
        "id": "teUP7m6V6teX"
      }
    },
    {
      "cell_type": "code",
      "source": [
        "requested_toppings = ['mushrooms', 'onions', 'pineapple']\n",
        "\n",
        "# this is true\n",
        "'mushrooms' in requested_toppings\n",
        "\n",
        "# this is false\n",
        "'pepperoni' in requested_toppings"
      ],
      "metadata": {
        "colab": {
          "base_uri": "https://localhost:8080/"
        },
        "id": "lAi1urGRd9jV",
        "outputId": "b820ddea-ca2a-4920-8e34-53886b3a86d5"
      },
      "execution_count": null,
      "outputs": [
        {
          "output_type": "execute_result",
          "data": {
            "text/plain": [
              "False"
            ]
          },
          "metadata": {},
          "execution_count": 16
        }
      ]
    },
    {
      "cell_type": "markdown",
      "source": [
        "#### **Checking Whether a Value Is Not in a List**\n",
        "Use the keyword \"not\" to check if somebody is not in a list."
      ],
      "metadata": {
        "id": "5dsT4sM47W3C"
      }
    },
    {
      "cell_type": "code",
      "source": [
        "# banned_users.py\n",
        "\n",
        "banned_users = ['andrew', 'carolina', 'david']\n",
        "\n",
        "user = 'marie'\n",
        "\n",
        "if user not in banned_users:\n",
        "  print(f\"{user.title()}, you can post a response if you wish.\")\n"
      ],
      "metadata": {
        "colab": {
          "base_uri": "https://localhost:8080/"
        },
        "id": "gZn2qCpFerPm",
        "outputId": "11cbea59-6fa1-4cb4-a41c-58b1914254ab"
      },
      "execution_count": null,
      "outputs": [
        {
          "output_type": "stream",
          "name": "stdout",
          "text": [
            "Marie, you can post a response if you wish.\n"
          ]
        }
      ]
    },
    {
      "cell_type": "markdown",
      "source": [
        "#### **Boolean Expressions**\n",
        "A Boolean Expression is just another name for a conditional test. It is always either True or False.\n",
        "\n",
        "Boolean values provide an efficient way to track the state of a program or a condition in a program."
      ],
      "metadata": {
        "id": "xbIcMHIj7f1_"
      }
    },
    {
      "cell_type": "markdown",
      "source": [
        "---\n",
        "## **`if` Statements**\n",
        "An if statement tests for a condition and returns a result in order to do something."
      ],
      "metadata": {
        "id": "PpfX-VcN5hDh"
      }
    },
    {
      "cell_type": "markdown",
      "source": [
        "#### **Simple** `if` **Statements**\n",
        "One test and one solution"
      ],
      "metadata": {
        "id": "WE3IY5MJ7ldT"
      }
    },
    {
      "cell_type": "code",
      "source": [
        "# voting.py\n",
        "age = 19\n",
        "if age >= 18:\n",
        "  print(\"You are old enough to vote!\")\n",
        "  print(\"Have you registered to vote yet?\")"
      ],
      "metadata": {
        "colab": {
          "base_uri": "https://localhost:8080/"
        },
        "id": "K7u3Tw6t9REK",
        "outputId": "e216cbf7-6e32-4c57-a5f5-e26f6401b5c1"
      },
      "execution_count": null,
      "outputs": [
        {
          "output_type": "stream",
          "name": "stdout",
          "text": [
            "You are old enough to vote!\n",
            "Have you registered to vote yet?\n"
          ]
        }
      ]
    },
    {
      "cell_type": "markdown",
      "source": [
        "#### `if-else` **Statements**\n",
        "To take one action when a conditional test passes and a different action when it fails."
      ],
      "metadata": {
        "id": "7eksekQ67peT"
      }
    },
    {
      "cell_type": "code",
      "source": [
        "# voting.py\n",
        "\n",
        "age = 19\n",
        "if age >= 18:\n",
        "  print(\"You are old enough to vote!\")\n",
        "  print(\"Have you registered to vote yet?\")\n",
        "else:\n",
        "  print(\"Sorry, you are too young to vote\")\n",
        "  print(\"Please register to vote as soon as you turn 18\")"
      ],
      "metadata": {
        "colab": {
          "base_uri": "https://localhost:8080/"
        },
        "id": "vPF6jucL-FGi",
        "outputId": "79b124cd-efa5-4238-a7be-50262797eae3"
      },
      "execution_count": null,
      "outputs": [
        {
          "output_type": "stream",
          "name": "stdout",
          "text": [
            "You are old enough to vote!\n",
            "Have you registered to vote yet?\n"
          ]
        }
      ]
    },
    {
      "cell_type": "markdown",
      "source": [
        "#### **The** `if-elif-else` **Chain**\n",
        "You need to test more than two possible situations."
      ],
      "metadata": {
        "id": "qrNg2QfD-5fB"
      }
    },
    {
      "cell_type": "code",
      "source": [
        "# amusementpark.py\n",
        "\n",
        "age = 55\n",
        "if age < 4:\n",
        "  print(\"Your admission cost is $0\")\n",
        "elif age < 18:\n",
        "  print(\"Your admission cost is $25\")\n",
        "else:\n",
        "  print(\"Your admission cost is $40\")\n",
        "\n",
        "# do not put the print statement in the if statement\n",
        "age = 12\n",
        "if age < 4:\n",
        "  price = 0\n",
        "elif age <18:\n",
        "  price = 25\n",
        "else:\n",
        "  price = 40\n",
        "\n",
        "print(f\"Your admission cost is ${price}.\")\n",
        "\n"
      ],
      "metadata": {
        "colab": {
          "base_uri": "https://localhost:8080/"
        },
        "id": "L43esKFs_Nr7",
        "outputId": "035270a4-1f6b-4338-df68-b3ab1295e137"
      },
      "execution_count": null,
      "outputs": [
        {
          "output_type": "stream",
          "name": "stdout",
          "text": [
            "Your admission cost is $40\n",
            "Your admission cost is $25.\n"
          ]
        }
      ]
    },
    {
      "cell_type": "markdown",
      "source": [
        "#### **Using Multiple** `elif` **Blocks**\n",
        "You can use as many elif blocks as you like or need"
      ],
      "metadata": {
        "id": "uu4Xyit2--iX"
      }
    },
    {
      "cell_type": "code",
      "source": [
        "# amusementpark.py\n",
        "\n",
        "# check is seniors are older than 55\n",
        "age = 54\n",
        "if age < 4:\n",
        "  price = 0\n",
        "elif age < 18:\n",
        "  price = 25\n",
        "elif age >= 55:\n",
        "  price = 20\n",
        "else:\n",
        "  price = 40\n",
        "\n",
        "print(f\"Your admission cost is ${price}.\")\n",
        "\n",
        "# check if everybody is younger than 55\n",
        "age = 54\n",
        "if age < 4:\n",
        "  price = 0\n",
        "elif age < 18:\n",
        "  price = 25\n",
        "elif age <= 55:\n",
        "  price = 40\n",
        "else:\n",
        "  price = 20\n",
        "\n",
        "print(f\"Your admission cost is ${price}.\")\n"
      ],
      "metadata": {
        "colab": {
          "base_uri": "https://localhost:8080/"
        },
        "id": "Y_CE9y9zBX8l",
        "outputId": "6df68316-6f8e-4351-fdde-2ec295c79fcf"
      },
      "execution_count": null,
      "outputs": [
        {
          "output_type": "stream",
          "name": "stdout",
          "text": [
            "Your admission cost is $40.\n"
          ]
        }
      ]
    },
    {
      "cell_type": "markdown",
      "source": [
        "#### **Ommitting the** `else` **Block**\n",
        "Python does not requie an else block. Sometimes it is useful, other times it is clearer to use and additional elif statement."
      ],
      "metadata": {
        "id": "WS2J_dkB_G1u"
      }
    },
    {
      "cell_type": "code",
      "source": [
        "# amusementpark.py\n",
        "\n",
        "age = 12\n",
        "if age < 4:\n",
        "  price = 0\n",
        "elif age < 18:\n",
        "  price = 25\n",
        "elif age < 55:\n",
        "  price = 40\n",
        "elif age >= 55:\n",
        "  price = 20\n",
        "\n",
        "print(f\"Your admission cost is ${price}.\")\n"
      ],
      "metadata": {
        "id": "9l3l9X_fC5ZI"
      },
      "execution_count": null,
      "outputs": []
    },
    {
      "cell_type": "markdown",
      "source": [
        "#### **Testing Multiple Conditions**\n",
        "To test multiple conditions, use multiple if statements."
      ],
      "metadata": {
        "id": "_TLwEhSW_Lf-"
      }
    },
    {
      "cell_type": "code",
      "source": [
        "# toppings.py\n",
        "\n",
        "requested_toppings = ['mushrooms', 'extra cheese']\n",
        "\n",
        "if 'mushrooms' in requested_toppings:\n",
        "  print(\"Adding mushrooms\")\n",
        "\n",
        "if 'pepperoni' in requested_toppings:\n",
        "  print(\"Adding pepperoni\")\n",
        "\n",
        "if 'extra cheese' in requested_toppings:\n",
        "  print(\"Adding extra cheese\")\n",
        "\n",
        "print()\n",
        "print(\"Your pizza is ready!\")"
      ],
      "metadata": {
        "colab": {
          "base_uri": "https://localhost:8080/"
        },
        "id": "yHd52c5zD7aD",
        "outputId": "bada8cf9-ed67-4e9d-9881-57fea1033f20"
      },
      "execution_count": null,
      "outputs": [
        {
          "output_type": "stream",
          "name": "stdout",
          "text": [
            "Adding mushrooms\n",
            "Adding extra cheese\n",
            "\n",
            "Your pizza is ready!\n"
          ]
        }
      ]
    },
    {
      "cell_type": "markdown",
      "source": [
        "---\n",
        "## **Using `if` Statements with Lists**\n",
        "Notes"
      ],
      "metadata": {
        "id": "qewzmxt25oIO"
      }
    },
    {
      "cell_type": "markdown",
      "source": [
        "#### **Checking for Special Items**\n",
        "Notes"
      ],
      "metadata": {
        "id": "XSOL2WTr_SLj"
      }
    },
    {
      "cell_type": "markdown",
      "source": [
        "#### **Checking That a List Is Not Empty**\n",
        "Notes"
      ],
      "metadata": {
        "id": "x4C-0j-7_V-X"
      }
    },
    {
      "cell_type": "markdown",
      "source": [
        "#### **Using Multiple Lists**\n",
        "Notes"
      ],
      "metadata": {
        "id": "T6DQTfUS_Z5V"
      }
    },
    {
      "cell_type": "markdown",
      "source": [
        "---\n",
        "## **Styling Your `if` Statements**\n",
        "Notes"
      ],
      "metadata": {
        "id": "aA2YXAdF5vJm"
      }
    },
    {
      "cell_type": "markdown",
      "source": [
        "---\n",
        "## **Summary**\n"
      ],
      "metadata": {
        "id": "Jk5L_i6Y_h4a"
      }
    }
  ]
}