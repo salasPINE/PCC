{
  "nbformat": 4,
  "nbformat_minor": 0,
  "metadata": {
    "colab": {
      "provenance": [],
      "toc_visible": true,
      "authorship_tag": "ABX9TyOG5IBByoToV/j1U/W62vEm"
    },
    "kernelspec": {
      "name": "python3",
      "display_name": "Python 3"
    },
    "language_info": {
      "name": "python"
    }
  },
  "cells": [
    {
      "cell_type": "markdown",
      "source": [
        "# **Chapter 4 Exercises**"
      ],
      "metadata": {
        "id": "EbXSfCYQ85RB"
      }
    },
    {
      "cell_type": "markdown",
      "source": [
        "##4-1 Pizzas\n",
        "\n",
        "Think of at least three kinds of your favorite pizza. Store these pizza names in a list, and then use a for loop to print the name of each pizza."
      ],
      "metadata": {
        "id": "hKZ34sMI-io5"
      }
    },
    {
      "cell_type": "code",
      "execution_count": null,
      "metadata": {
        "id": "8HfOiQHU82p7",
        "colab": {
          "base_uri": "https://localhost:8080/"
        },
        "outputId": "2af3605d-a260-42a2-9eae-988463c75871"
      },
      "outputs": [
        {
          "output_type": "stream",
          "name": "stdout",
          "text": [
            "sausage\n",
            "white\n",
            "supreme\n"
          ]
        }
      ],
      "source": [
        "# 4.1 Pizzas\n",
        "\n",
        "pizzas = ['sausage', 'pepperoni', 'supreme']\n",
        "for pizza in pizzas:\n",
        "    print(pizza)"
      ]
    },
    {
      "cell_type": "markdown",
      "source": [
        "Modify your `for` loop to print a sentence using the name of the pizza, instead of printing just the name of the pizza. For each pizza, you should have one line of output containing a simple statement like `I like pepperoni pizza.` **** Modify the variable to print in ALL CAPS."
      ],
      "metadata": {
        "id": "eTFmcrqqGrig"
      }
    },
    {
      "cell_type": "code",
      "source": [
        "pizzas = ['sausage', 'pepperoni', 'supreme']\n",
        "for pizza in pizzas:\n",
        "    print(f\"I like {pizza} pizza!\")\n",
        "    # print(f\"I like {pizza.upper()} pizza!\")"
      ],
      "metadata": {
        "colab": {
          "base_uri": "https://localhost:8080/"
        },
        "id": "qjXfUd8WG11V",
        "outputId": "b511d34b-d83c-4fc6-abf4-85558af51cae"
      },
      "execution_count": null,
      "outputs": [
        {
          "output_type": "stream",
          "name": "stdout",
          "text": [
            "I like sausage pizza!\n",
            "I like pepperoni pizza!\n",
            "I like supreme pizza!\n"
          ]
        }
      ]
    },
    {
      "cell_type": "markdown",
      "source": [
        "Add a line at the end of your program, outside the `for` loop, that states how much you like pizza. The output should consist of three or more lines about the kinds of pizza you like and then an additional sentence, such as `I really love pizza!`"
      ],
      "metadata": {
        "id": "7_lOXpkoIWiT"
      }
    },
    {
      "cell_type": "code",
      "source": [
        "pizzas = ['sausage', 'pepperoni', 'supreme']\n",
        "for pizza in pizzas:\n",
        "    print(f\"I like {pizza} pizza!\")\n",
        "print()\n",
        "print(\"I really like pizza!\")"
      ],
      "metadata": {
        "colab": {
          "base_uri": "https://localhost:8080/"
        },
        "id": "8UVsl4xeIjR5",
        "outputId": "4e3b8d6c-c709-4167-eccc-acbb55ba8667"
      },
      "execution_count": null,
      "outputs": [
        {
          "output_type": "stream",
          "name": "stdout",
          "text": [
            "I like sausage pizza!\n",
            "I like pepperoni pizza!\n",
            "I like supreme pizza!\n",
            "\n",
            "I really like pizza!\n"
          ]
        }
      ]
    },
    {
      "cell_type": "markdown",
      "source": [
        "##4-2 Animals\n",
        "\n",
        "Think of at least three different animals that have a common characteristic. Store the names of these animals in a list, and then use a `for` loop to print out the name of each animal."
      ],
      "metadata": {
        "id": "inxB6tWa-vh2"
      }
    },
    {
      "cell_type": "code",
      "source": [
        "# 4.2 Animals\n",
        "animals = ['cat', 'lion', 'panther']\n",
        "for animal in animals:\n",
        "    print(animal)"
      ],
      "metadata": {
        "id": "tcIYHsHj-Ga4",
        "colab": {
          "base_uri": "https://localhost:8080/"
        },
        "outputId": "687d9f88-d853-4a13-852a-2b966f73d2c8"
      },
      "execution_count": null,
      "outputs": [
        {
          "output_type": "stream",
          "name": "stdout",
          "text": [
            "cat\n",
            "lion\n",
            "panther\n"
          ]
        }
      ]
    },
    {
      "cell_type": "markdown",
      "source": [
        "Modify your program to print a statement about each animal, such as `A dog would make a great pet.`"
      ],
      "metadata": {
        "id": "qx5XwmqRK1Jl"
      }
    },
    {
      "cell_type": "code",
      "source": [
        "animals = ['cat', 'lion', 'panther']\n",
        "for animal in animals:\n",
        "    print(f\"A {animal} has a long tail.\")"
      ],
      "metadata": {
        "colab": {
          "base_uri": "https://localhost:8080/"
        },
        "id": "chwaIc1zLDxZ",
        "outputId": "c48eb3f6-f21d-4119-e3f8-79aaf5c9a7dc"
      },
      "execution_count": null,
      "outputs": [
        {
          "output_type": "stream",
          "name": "stdout",
          "text": [
            "A cat has a long tail.\n",
            "A lion has a long tail.\n",
            "A panther has a long tail.\n"
          ]
        }
      ]
    },
    {
      "cell_type": "markdown",
      "source": [
        "Add a line at the end of your program, stating what these animals have in common. You could print a sentence, such as `Any of these animals would make a great pet!`"
      ],
      "metadata": {
        "id": "5kmfHUBvMH90"
      }
    },
    {
      "cell_type": "code",
      "source": [
        "animals = ['cat', 'lion', 'panther']\n",
        "for animal in animals:\n",
        "    print(f\"A {animal} has a long tail.\")\n",
        "print()\n",
        "print(f\"All cats, big and small, have long tails.\")"
      ],
      "metadata": {
        "colab": {
          "base_uri": "https://localhost:8080/"
        },
        "id": "J4GpPt4RMPdY",
        "outputId": "acf2ce61-caa0-46aa-fc09-791f1b680441"
      },
      "execution_count": null,
      "outputs": [
        {
          "output_type": "stream",
          "name": "stdout",
          "text": [
            "A cat has a long tail.\n",
            "A lion has a long tail.\n",
            "A panther has a long tail.\n",
            "\n",
            "All cats, big and small, have long tails.\n"
          ]
        }
      ]
    },
    {
      "cell_type": "markdown",
      "source": [
        "---\n",
        "##0-3 Exercise\n",
        "\n",
        "Exercise_description"
      ],
      "metadata": {
        "id": "tbOFj9vq_DI-"
      }
    },
    {
      "cell_type": "code",
      "source": [
        "# 0.3 Exercise\n"
      ],
      "metadata": {
        "id": "Rw3teboJ-TaQ"
      },
      "execution_count": null,
      "outputs": []
    },
    {
      "cell_type": "markdown",
      "source": [
        "##0-4 Exercise\n",
        "\n",
        "Exercise_description"
      ],
      "metadata": {
        "id": "AdKSwpyl_arx"
      }
    },
    {
      "cell_type": "code",
      "source": [
        "# 0.4 Exercise\n"
      ],
      "metadata": {
        "id": "0SwgrgoT_WYo"
      },
      "execution_count": null,
      "outputs": []
    },
    {
      "cell_type": "markdown",
      "source": [
        "##0-5 Exercise\n",
        "\n",
        "Exercise_description"
      ],
      "metadata": {
        "id": "00XB5uez_2uz"
      }
    },
    {
      "cell_type": "code",
      "source": [
        "# 0.5 Exercise\n"
      ],
      "metadata": {
        "id": "4vDJ_F2GARPP"
      },
      "execution_count": null,
      "outputs": []
    },
    {
      "cell_type": "markdown",
      "source": [
        "##0-6 Exercise\n",
        "\n",
        "Exercise_description"
      ],
      "metadata": {
        "id": "cgeMq8NVAZ8v"
      }
    },
    {
      "cell_type": "code",
      "source": [
        "# 0.6 Exercise\n"
      ],
      "metadata": {
        "id": "e9UNuAgXAaJj"
      },
      "execution_count": null,
      "outputs": []
    },
    {
      "cell_type": "markdown",
      "source": [
        "## 0-7 Exercise\n",
        "\n",
        "Exercise_description"
      ],
      "metadata": {
        "id": "BBhMyoZ1A9i6"
      }
    },
    {
      "cell_type": "code",
      "source": [
        "# 0.7 Exercise\n"
      ],
      "metadata": {
        "id": "lC7CKBnxBO6i"
      },
      "execution_count": null,
      "outputs": []
    },
    {
      "cell_type": "markdown",
      "source": [
        "## 0-8 Exercise\n",
        "\n",
        "Exercise_description"
      ],
      "metadata": {
        "id": "hrG4B6lnB4XX"
      }
    },
    {
      "cell_type": "code",
      "source": [
        "# 0.8 Exercise\n"
      ],
      "metadata": {
        "id": "IO2j0CX-B5wE"
      },
      "execution_count": null,
      "outputs": []
    },
    {
      "cell_type": "markdown",
      "source": [
        "## 0-9 Exercise\n",
        "\n",
        "Exercise_description"
      ],
      "metadata": {
        "id": "A-r-Zl1HBmXw"
      }
    },
    {
      "cell_type": "code",
      "source": [
        "# 0.9 Exercise\n"
      ],
      "metadata": {
        "id": "yYzhntZjB_9W"
      },
      "execution_count": null,
      "outputs": []
    }
  ]
}