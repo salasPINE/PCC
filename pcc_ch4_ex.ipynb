{
  "cells": [
    {
      "cell_type": "markdown",
      "metadata": {
        "id": "EbXSfCYQ85RB"
      },
      "source": [
        "# **Chapter 4 Exercises**"
      ]
    },
    {
      "cell_type": "markdown",
      "metadata": {
        "id": "hKZ34sMI-io5"
      },
      "source": [
        "## 4-1 Pizzas\n",
        "\n",
        "Think of at least three kinds of your favorite pizza. Store these pizza names in a `list`, and then use a `for` loop to print the name of each pizza."
      ]
    },
    {
      "cell_type": "code",
      "execution_count": null,
      "metadata": {
        "colab": {
          "base_uri": "https://localhost:8080/"
        },
        "id": "8HfOiQHU82p7",
        "outputId": "2af3605d-a260-42a2-9eae-988463c75871"
      },
      "outputs": [
        {
          "name": "stdout",
          "output_type": "stream",
          "text": [
            "sausage\n",
            "white\n",
            "supreme\n"
          ]
        }
      ],
      "source": [
        "# 4.1 Pizzas\n",
        "\n",
        "pizzas = ['sausage', 'pepperoni', 'supreme']\n",
        "for pizza in pizzas:\n",
        "    print(pizza)"
      ]
    },
    {
      "cell_type": "markdown",
      "metadata": {
        "id": "eTFmcrqqGrig"
      },
      "source": [
        "Modify your `for` loop to print a sentence using the name of the pizza, instead of printing just the name of the pizza. For each pizza, you should have one line of output containing a simple statement like *I like pepperoni pizza.* **** Modify the variable to print in ALL CAPS."
      ]
    },
    {
      "cell_type": "code",
      "execution_count": null,
      "metadata": {
        "colab": {
          "base_uri": "https://localhost:8080/"
        },
        "id": "qjXfUd8WG11V",
        "outputId": "b511d34b-d83c-4fc6-abf4-85558af51cae"
      },
      "outputs": [
        {
          "name": "stdout",
          "output_type": "stream",
          "text": [
            "I like sausage pizza!\n",
            "I like pepperoni pizza!\n",
            "I like supreme pizza!\n"
          ]
        }
      ],
      "source": [
        "pizzas = ['sausage', 'pepperoni', 'supreme']\n",
        "for pizza in pizzas:\n",
        "    print(f\"I like {pizza} pizza!\")\n",
        "    # print(f\"I like {pizza.upper()} pizza!\")"
      ]
    },
    {
      "cell_type": "markdown",
      "metadata": {
        "id": "7_lOXpkoIWiT"
      },
      "source": [
        "Add a line at the end of your program, outside the `for` loop, that states how much you like pizza. The output should consist of three or more lines about the kinds of pizza you like and then an additional sentence, such as *I really like pizza!*"
      ]
    },
    {
      "cell_type": "code",
      "execution_count": null,
      "metadata": {
        "colab": {
          "base_uri": "https://localhost:8080/"
        },
        "id": "8UVsl4xeIjR5",
        "outputId": "4e3b8d6c-c709-4167-eccc-acbb55ba8667"
      },
      "outputs": [
        {
          "name": "stdout",
          "output_type": "stream",
          "text": [
            "I like sausage pizza!\n",
            "I like pepperoni pizza!\n",
            "I like supreme pizza!\n",
            "\n",
            "I really like pizza!\n"
          ]
        }
      ],
      "source": [
        "pizzas = ['sausage', 'pepperoni', 'supreme']\n",
        "for pizza in pizzas:\n",
        "    print(f\"I like {pizza} pizza!\")\n",
        "print()\n",
        "print(\"I really like pizza!\")"
      ]
    },
    {
      "cell_type": "markdown",
      "metadata": {
        "id": "inxB6tWa-vh2"
      },
      "source": [
        "## 4-2 Animals\n",
        "\n",
        "Think of at least three different animals that have a common characteristic. Store the names of these animals in a `list`, and then use a `for` loop to print out the name of each animal."
      ]
    },
    {
      "cell_type": "code",
      "execution_count": null,
      "metadata": {
        "colab": {
          "base_uri": "https://localhost:8080/"
        },
        "id": "tcIYHsHj-Ga4",
        "outputId": "687d9f88-d853-4a13-852a-2b966f73d2c8"
      },
      "outputs": [
        {
          "name": "stdout",
          "output_type": "stream",
          "text": [
            "cat\n",
            "lion\n",
            "panther\n"
          ]
        }
      ],
      "source": [
        "# 4.2 Animals\n",
        "animals = ['cat', 'lion', 'panther']\n",
        "for animal in animals:\n",
        "    print(animal)"
      ]
    },
    {
      "cell_type": "markdown",
      "metadata": {
        "id": "qx5XwmqRK1Jl"
      },
      "source": [
        "Modify your program to print a statement about each animal, such as `A dog would make a great pet.`"
      ]
    },
    {
      "cell_type": "code",
      "execution_count": null,
      "metadata": {
        "colab": {
          "base_uri": "https://localhost:8080/"
        },
        "id": "chwaIc1zLDxZ",
        "outputId": "c48eb3f6-f21d-4119-e3f8-79aaf5c9a7dc"
      },
      "outputs": [
        {
          "name": "stdout",
          "output_type": "stream",
          "text": [
            "A cat has a long tail.\n",
            "A lion has a long tail.\n",
            "A panther has a long tail.\n"
          ]
        }
      ],
      "source": [
        "animals = ['cat', 'lion', 'panther']\n",
        "for animal in animals:\n",
        "    print(f\"A {animal} has a long tail.\")"
      ]
    },
    {
      "cell_type": "markdown",
      "metadata": {
        "id": "5kmfHUBvMH90"
      },
      "source": [
        "Add a line at the end of your program, stating what these animals have in common. You could print a sentence, such as `Any of these animals would make a great pet!`"
      ]
    },
    {
      "cell_type": "code",
      "execution_count": null,
      "metadata": {
        "colab": {
          "base_uri": "https://localhost:8080/"
        },
        "id": "J4GpPt4RMPdY",
        "outputId": "acf2ce61-caa0-46aa-fc09-791f1b680441"
      },
      "outputs": [
        {
          "name": "stdout",
          "output_type": "stream",
          "text": [
            "A cat has a long tail.\n",
            "A lion has a long tail.\n",
            "A panther has a long tail.\n",
            "\n",
            "All cats, big and small, have long tails.\n"
          ]
        }
      ],
      "source": [
        "animals = ['cat', 'lion', 'panther']\n",
        "for animal in animals:\n",
        "    print(f\"A {animal} has a long tail.\")\n",
        "print()\n",
        "print(f\"All cats, big and small, have long tails.\")"
      ]
    },
    {
      "cell_type": "markdown",
      "metadata": {
        "id": "tbOFj9vq_DI-"
      },
      "source": [
        "---\n",
        "## 4-3 Counting to Twenty\n",
        "\n",
        "Use a `for` loop to print the numbers from 1 to 20, inclusive"
      ]
    },
    {
      "cell_type": "code",
      "execution_count": null,
      "metadata": {
        "id": "Rw3teboJ-TaQ"
      },
      "outputs": [],
      "source": [
        "# 4.3 Counting to Twenty\n",
        "\n",
        "for numbers in range (1,21):\n",
        "    print(numbers)\n",
        "\n",
        "print()\n",
        "\n",
        "# creating a list first\n",
        "numbers = list(range(1,21))\n",
        "\n",
        "for number in numbers:\n",
        "    print(number)"
      ]
    },
    {
      "cell_type": "markdown",
      "metadata": {
        "id": "AdKSwpyl_arx"
      },
      "source": [
        "## 4-4 One Million\n",
        "\n",
        "Make a `list` of the numbers from one to one million, and then use a `for` loop to print the numbers."
      ]
    },
    {
      "cell_type": "code",
      "execution_count": null,
      "metadata": {
        "id": "0SwgrgoT_WYo"
      },
      "outputs": [],
      "source": [
        "# 4.4 One Million\n",
        "\n",
        "numbers = list(range(1,1_000_001))\n",
        "\n",
        "for number in numbers:\n",
        "    print(number)"
      ]
    },
    {
      "cell_type": "markdown",
      "metadata": {
        "id": "00XB5uez_2uz"
      },
      "source": [
        "## 4-5 Summing a Million\n",
        "\n",
        "Make a `list` of the numbers from one to one million, and then use `min()` and `max()` to make sure your list actually starts at one and ends at one million. Also, use the `sum()` function to see how quickly Python can add a million numbers."
      ]
    },
    {
      "cell_type": "code",
      "execution_count": null,
      "metadata": {
        "id": "4vDJ_F2GARPP"
      },
      "outputs": [],
      "source": [
        "# 4.5 Summing a Million\n",
        "\n",
        "numbers = list(range(1,1_000_001))\n",
        "\n",
        "print(min(numbers))\n",
        "print(max(numbers))\n",
        "print(sum(numbers))"
      ]
    },
    {
      "cell_type": "markdown",
      "metadata": {
        "id": "cgeMq8NVAZ8v"
      },
      "source": [
        "## 4-6 Odd Numbers\n",
        "\n",
        "Use the third argument of the `range()` function to make a list of the odd numbers from 1 to 20. Use a `for` loop to print each number."
      ]
    },
    {
      "cell_type": "code",
      "execution_count": null,
      "metadata": {
        "id": "e9UNuAgXAaJj"
      },
      "outputs": [],
      "source": [
        "# 4.6 Odd Numbers\n",
        "\n",
        "odd_numbers = list(range(1, 21, 2))\n",
        "print(odd_numbers)\n",
        "\n",
        "for number in odd_numbers:\n",
        "    print(number)"
      ]
    },
    {
      "cell_type": "markdown",
      "metadata": {
        "id": "BBhMyoZ1A9i6"
      },
      "source": [
        "## 4-7 Threes\n",
        "\n",
        "Make a `list` of the multiples of 3, from 3 to 30. Use a `for` loop to print the numbers in your list."
      ]
    },
    {
      "cell_type": "code",
      "execution_count": null,
      "metadata": {
        "id": "lC7CKBnxBO6i"
      },
      "outputs": [],
      "source": [
        "# 4.7 Threes\n",
        "\n",
        "threes = list(range(3,31, 3))\n",
        "print(threes)\n",
        "\n",
        "for number in threes:\n",
        "    print(number)"
      ]
    },
    {
      "cell_type": "markdown",
      "metadata": {
        "id": "hrG4B6lnB4XX"
      },
      "source": [
        "## 4-8 Cubes\n",
        "\n",
        "A number raised to the third power is called a cube. For example, the cube of 2 is written as 2**3 in Python. Make a `list` of the first 10 cubes (that is, the cube of each integer from 1 through 10), and use a `for` loop to print out the value of each cube."
      ]
    },
    {
      "cell_type": "code",
      "execution_count": 22,
      "metadata": {
        "id": "IO2j0CX-B5wE"
      },
      "outputs": [
        {
          "name": "stdout",
          "output_type": "stream",
          "text": [
            "[1, 8, 27, 64, 125, 216, 343, 512, 729, 1000]\n",
            "[1, 8, 27, 64, 125, 216, 343, 512, 729, 1000]\n",
            "1\n",
            "8\n",
            "27\n",
            "64\n",
            "125\n",
            "216\n",
            "343\n",
            "512\n",
            "729\n",
            "1000\n"
          ]
        }
      ],
      "source": [
        "# 4.8 Cubes\n",
        "\n",
        "cubes = []\n",
        "for value in range(1,11):\n",
        "    cube = value**3\n",
        "    cubes.append(cube)\n",
        "print(cubes)\n",
        "\n",
        "# omit intermediate variable\n",
        "cubes = []\n",
        "for value in range(1,11):\n",
        "    cubes.append(value**3)\n",
        "print(cubes)\n",
        "\n",
        "for cube in cubes:\n",
        "    print(cube)"
      ]
    },
    {
      "cell_type": "markdown",
      "metadata": {
        "id": "A-r-Zl1HBmXw"
      },
      "source": [
        "## 4-9 Cube Comprehension\n",
        "\n",
        "Use a list comprehension to generate a list of the first 10 cubes"
      ]
    },
    {
      "cell_type": "code",
      "execution_count": null,
      "metadata": {
        "id": "yYzhntZjB_9W"
      },
      "outputs": [],
      "source": [
        "# 4.9 Cube Comprehension\n",
        "\n",
        "cubes = [value**3 for value in range(1,11)]\n",
        "print(cubes)\n",
        "\n",
        "for cube in cubes:\n",
        "    print(cube)"
      ]
    },
    {
      "cell_type": "markdown",
      "metadata": {},
      "source": [
        "---\n",
        "## 4-10 xxx\n",
        "\n",
        "xxx"
      ]
    },
    {
      "cell_type": "markdown",
      "metadata": {},
      "source": [
        "## 4-11 xxx\n",
        "\n",
        "xxx"
      ]
    },
    {
      "cell_type": "markdown",
      "metadata": {},
      "source": [
        "## 4-12 xxx\n",
        "\n",
        "xxx"
      ]
    }
  ],
  "metadata": {
    "colab": {
      "authorship_tag": "ABX9TyOG5IBByoToV/j1U/W62vEm",
      "provenance": [],
      "toc_visible": true
    },
    "kernelspec": {
      "display_name": "Python 3",
      "name": "python3"
    },
    "language_info": {
      "codemirror_mode": {
        "name": "ipython",
        "version": 3
      },
      "file_extension": ".py",
      "mimetype": "text/x-python",
      "name": "python",
      "nbconvert_exporter": "python",
      "pygments_lexer": "ipython3",
      "version": "3.10.13"
    }
  },
  "nbformat": 4,
  "nbformat_minor": 0
}
