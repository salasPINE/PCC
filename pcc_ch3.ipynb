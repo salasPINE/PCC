{
  "nbformat": 4,
  "nbformat_minor": 0,
  "metadata": {
    "colab": {
      "provenance": [],
      "toc_visible": true,
      "authorship_tag": "ABX9TyNyDS5iY5WilGL2S8RwkxVV",
      "include_colab_link": true
    },
    "kernelspec": {
      "name": "python3",
      "display_name": "Python 3"
    },
    "language_info": {
      "name": "python"
    }
  },
  "cells": [
    {
      "cell_type": "markdown",
      "metadata": {
        "id": "view-in-github",
        "colab_type": "text"
      },
      "source": [
        "<a href=\"https://colab.research.google.com/github/salasPINE/pythonPCC/blob/main/pcc_ch3.ipynb\" target=\"_parent\"><img src=\"https://colab.research.google.com/assets/colab-badge.svg\" alt=\"Open In Colab\"/></a>"
      ]
    },
    {
      "cell_type": "markdown",
      "source": [
        "# **Chapter 3 - Introducing Lists**"
      ],
      "metadata": {
        "id": "u6F3ZR65yvPc"
      }
    },
    {
      "cell_type": "markdown",
      "source": [
        "## What is a List\n",
        "A list is a collection of items in a particular order.\n",
        "Square Brackets [] indicate a list and elements of the list are separated by commas"
      ],
      "metadata": {
        "id": "zq_ivaIE44Rp"
      }
    },
    {
      "cell_type": "code",
      "execution_count": null,
      "metadata": {
        "colab": {
          "base_uri": "https://localhost:8080/"
        },
        "id": "1vD-QVWTxhom",
        "outputId": "bc508f46-7959-4ee3-f888-6b77a2f361fa"
      },
      "outputs": [
        {
          "output_type": "stream",
          "name": "stdout",
          "text": [
            "['trek', 'cannondale', 'redline', 'specialized']\n"
          ]
        }
      ],
      "source": [
        "# Bycicles List\n",
        "bicycles = ['trek', 'cannondale', 'redline', 'specialized']\n",
        "\n",
        "print(bicycles)"
      ]
    },
    {
      "cell_type": "markdown",
      "source": [
        "#### Print an element from a list\n",
        "The first item in the list is index [0]\n",
        "The last item in the list can be accessed by using [-1]"
      ],
      "metadata": {
        "id": "SNWpWW6R2weR"
      }
    },
    {
      "cell_type": "code",
      "source": [
        "print(bicycles[0])\n",
        "\n",
        "print(bicycles[1])\n",
        "print(bicycles[3])\n",
        "\n",
        "# print the last item of a list\n",
        "print(bicycles[-1])"
      ],
      "metadata": {
        "colab": {
          "base_uri": "https://localhost:8080/"
        },
        "id": "h9gB1gms2pRj",
        "outputId": "55cd6ad3-7cf9-4618-c4d4-a0a7a834672c"
      },
      "execution_count": null,
      "outputs": [
        {
          "output_type": "stream",
          "name": "stdout",
          "text": [
            "trek\n",
            "cannondale\n",
            "specialized\n",
            "specialized\n"
          ]
        }
      ]
    },
    {
      "cell_type": "markdown",
      "source": [
        "#### Using Methods"
      ],
      "metadata": {
        "id": "s89Yxa4M3XXr"
      }
    },
    {
      "cell_type": "code",
      "source": [
        "print(bicycles[0].title())"
      ],
      "metadata": {
        "colab": {
          "base_uri": "https://localhost:8080/"
        },
        "id": "ZPeulukK3dMM",
        "outputId": "e94ae97f-2ef9-45be-f779-fd6bc3707cd6"
      },
      "execution_count": null,
      "outputs": [
        {
          "output_type": "stream",
          "name": "stdout",
          "text": [
            "Trek\n"
          ]
        }
      ]
    },
    {
      "cell_type": "markdown",
      "source": [
        "#### Using in Variables\n",
        "You can use elements of a list in variable and strings"
      ],
      "metadata": {
        "id": "vUQwYhzs4F5o"
      }
    },
    {
      "cell_type": "code",
      "source": [
        "message = f\"My first bicycle was a {bicycles[0].title()}.\"\n",
        "\n",
        "print(message)"
      ],
      "metadata": {
        "colab": {
          "base_uri": "https://localhost:8080/"
        },
        "id": "6ES2roQt4Kiq",
        "outputId": "9d49ea80-c4ea-47f4-c7e0-051862b1c6c8"
      },
      "execution_count": null,
      "outputs": [
        {
          "output_type": "stream",
          "name": "stdout",
          "text": [
            "My first bicycle was a Trek.\n"
          ]
        }
      ]
    },
    {
      "cell_type": "markdown",
      "source": [
        "## Modifying, Adding, Removing Elements\n",
        "Most lists you create will be *dynamic*, meaning you’ll build a list and then add and remove elements from it as your program runs its course"
      ],
      "metadata": {
        "id": "iqwcB_QI6cVX"
      }
    },
    {
      "cell_type": "markdown",
      "source": [
        "#### Modyfing Elements\n",
        "To change an element, use the name of the list followed by the index of the element you want to change, and then provide the new value you want that item to have."
      ],
      "metadata": {
        "id": "fwkkKDl46gkr"
      }
    },
    {
      "cell_type": "code",
      "source": [
        "motorcycles = ['honda', 'yamaha', 'suzuki']\n",
        "print(motorcycles)\n",
        "\n",
        "# replace honda with ducati\n",
        "motorcycles[0] = 'ducati'\n",
        "print(motorcycles)\n",
        "\n",
        "# change it back to honda\n",
        "motorcycles[0] = 'honda'\n",
        "print(motorcycles)"
      ],
      "metadata": {
        "colab": {
          "base_uri": "https://localhost:8080/"
        },
        "id": "tewlCaTw6snY",
        "outputId": "b189000d-c028-4ee6-bcb3-1d146d4b020a"
      },
      "execution_count": null,
      "outputs": [
        {
          "output_type": "stream",
          "name": "stdout",
          "text": [
            "['honda', 'yamaha', 'suzuki']\n",
            "['ducati', 'yamaha', 'suzuki']\n",
            "['honda', 'yamaha', 'suzuki']\n"
          ]
        }
      ]
    },
    {
      "cell_type": "markdown",
      "source": [
        "#### Adding Elements\n",
        "Using append will add items to the end of the list"
      ],
      "metadata": {
        "id": "Zbn2O7wx7wWT"
      }
    },
    {
      "cell_type": "code",
      "source": [
        "motorcycles = ['honda', 'yamaha', 'suzuki']\n",
        "\n",
        "motorcycles.append('ducati')\n",
        "print(motorcycles)"
      ],
      "metadata": {
        "colab": {
          "base_uri": "https://localhost:8080/"
        },
        "id": "SOUxJdGz8MVC",
        "outputId": "6d2137a5-7134-436f-e3d1-a86c18ddabf3"
      },
      "execution_count": null,
      "outputs": [
        {
          "output_type": "stream",
          "name": "stdout",
          "text": [
            "['honda', 'yamaha', 'suzuki', 'ducati']\n"
          ]
        }
      ]
    },
    {
      "cell_type": "markdown",
      "source": [
        "#### Staring with an Empty List\n",
        "You can create an empty list [] and dynamically add items using the append command.\n"
      ],
      "metadata": {
        "id": "DoufZwtt945Q"
      }
    },
    {
      "cell_type": "code",
      "source": [
        "motorcycles = []\n",
        "\n",
        "motorcycles.append('honda')\n",
        "motorcycles.append('yamaha')\n",
        "motorcycles.append('suzuki')\n",
        "\n",
        "print(motorcycles)"
      ],
      "metadata": {
        "colab": {
          "base_uri": "https://localhost:8080/"
        },
        "id": "6pkM5RSi98Ci",
        "outputId": "0a652059-c908-467c-f40e-6ca60aa4db75"
      },
      "execution_count": null,
      "outputs": [
        {
          "output_type": "stream",
          "name": "stdout",
          "text": [
            "['honda', 'yamaha', 'suzuki']\n"
          ]
        }
      ]
    },
    {
      "cell_type": "markdown",
      "source": [
        "#### Inserting Elements\n",
        "You can add a new element at any position in your list by using the insert() method. You do this by specifying the index of the new element and the value of the new item:"
      ],
      "metadata": {
        "id": "rq5qwDjp-Wlo"
      }
    },
    {
      "cell_type": "code",
      "source": [
        "motorcycles = ['honda', 'yamaha', 'suzuki']\n",
        "\n",
        "motorcycles.insert(0, 'ducati')\n",
        "print(motorcycles)"
      ],
      "metadata": {
        "colab": {
          "base_uri": "https://localhost:8080/"
        },
        "id": "-GcFK7_q-utK",
        "outputId": "1e2488c3-4645-4423-fef4-1bb4bfe4f4a1"
      },
      "execution_count": null,
      "outputs": [
        {
          "output_type": "stream",
          "name": "stdout",
          "text": [
            "['ducati', 'honda', 'yamaha', 'suzuki']\n"
          ]
        }
      ]
    },
    {
      "cell_type": "markdown",
      "source": [
        "#### Removing Elements (del)\n",
        "You can remove an item according to its position in the list or according to its value.\n",
        "\n",
        "Use **del** to permanently remove from a list by index position\n"
      ],
      "metadata": {
        "id": "c-OW15oH-bpx"
      }
    },
    {
      "cell_type": "code",
      "source": [
        "motorcycles = ['honda', 'yamaha', 'suzuki']\n",
        "print(motorcycles)\n",
        "\n",
        "# remove the first item from the list\n",
        "del motorcycles[0]\n",
        "print(motorcycles)"
      ],
      "metadata": {
        "colab": {
          "base_uri": "https://localhost:8080/"
        },
        "id": "9Nw-Rjyp_Wi4",
        "outputId": "f4245e7d-3a4e-43d2-ef8b-ceb9df4bcd6c"
      },
      "execution_count": null,
      "outputs": [
        {
          "output_type": "stream",
          "name": "stdout",
          "text": [
            "['honda', 'yamaha', 'suzuki']\n",
            "['yamaha', 'suzuki']\n"
          ]
        }
      ]
    },
    {
      "cell_type": "markdown",
      "source": [
        "You can remove from any position using **del**"
      ],
      "metadata": {
        "id": "-tmK8knR_oSu"
      }
    },
    {
      "cell_type": "code",
      "source": [
        "motorcycles = ['honda', 'yamaha', 'suzuki']\n",
        "print(motorcycles)\n",
        "\n",
        "# remove the second item from the list\n",
        "del motorcycles[1]\n",
        "print(motorcycles)"
      ],
      "metadata": {
        "colab": {
          "base_uri": "https://localhost:8080/"
        },
        "id": "az4JKwAk_wgm",
        "outputId": "faf3feaa-0277-40fd-8bf6-35330e656bc0"
      },
      "execution_count": null,
      "outputs": [
        {
          "output_type": "stream",
          "name": "stdout",
          "text": [
            "['honda', 'yamaha', 'suzuki']\n",
            "['honda', 'suzuki']\n"
          ]
        }
      ]
    },
    {
      "cell_type": "markdown",
      "source": [
        "#### Removing Elements (pop)\n",
        "Use the pop() method to cut the last item in a list but still retain it. (Like the difference between Cut and Delete on a computer.)\n"
      ],
      "metadata": {
        "id": "AzcbL8VACwTg"
      }
    },
    {
      "cell_type": "code",
      "source": [
        "motorcycles = ['honda', 'yamaha', 'suzuki']\n",
        "print(motorcycles)\n",
        "\n",
        "# pop the item out and assign it to a variable\n",
        "popped_motorcycle = motorcycles.pop()\n",
        "\n",
        "print(motorcycles)\n",
        "print(popped_motorcycle)"
      ],
      "metadata": {
        "colab": {
          "base_uri": "https://localhost:8080/"
        },
        "id": "TgxyO3ZnC-6-",
        "outputId": "c8820e57-62aa-4dc8-8bc5-62b2292bf268"
      },
      "execution_count": null,
      "outputs": [
        {
          "output_type": "stream",
          "name": "stdout",
          "text": [
            "['honda', 'yamaha', 'suzuki']\n",
            "['honda', 'yamaha']\n",
            "suzuki\n"
          ]
        }
      ]
    },
    {
      "cell_type": "markdown",
      "source": [
        "Use the popped item in a print sentence, embedding it"
      ],
      "metadata": {
        "id": "q6KOlIsPEexR"
      }
    },
    {
      "cell_type": "code",
      "source": [
        "motorcycles = ['honda', 'yamaha', 'suzuki']\n",
        "print(motorcycles)\n",
        "\n",
        "# using the popped item in a variable for printing\n",
        "last_owned = motorcycles.pop()\n",
        "print(f\"The last motorcycle I owned was a {last_owned.title()}.\")"
      ],
      "metadata": {
        "colab": {
          "base_uri": "https://localhost:8080/"
        },
        "id": "1l7z4f4rENat",
        "outputId": "b5e55ef3-ac24-4bfb-a201-3a16d635d279"
      },
      "execution_count": null,
      "outputs": [
        {
          "output_type": "stream",
          "name": "stdout",
          "text": [
            "['honda', 'yamaha', 'suzuki']\n",
            "The last motorcycle I owned was a Suzuki.\n"
          ]
        }
      ]
    },
    {
      "cell_type": "markdown",
      "source": [
        "You can pop() an item from an position in a list by including the index"
      ],
      "metadata": {
        "id": "cmsDuuvJEv8y"
      }
    },
    {
      "cell_type": "code",
      "source": [
        "motorcycles = ['honda', 'yamaha', 'suzuki']\n",
        "print(motorcycles)\n",
        "\n",
        "# using pop with the index position to pop the first item\n",
        "first_owned = motorcycles.pop(0)\n",
        "print(f\"The first motorcycle I owned was a {first_owned.title()}.\")\n"
      ],
      "metadata": {
        "colab": {
          "base_uri": "https://localhost:8080/"
        },
        "id": "pz-5VCwVEbpp",
        "outputId": "590af41c-d386-4b69-f210-841dd56e41fc"
      },
      "execution_count": null,
      "outputs": [
        {
          "output_type": "stream",
          "name": "stdout",
          "text": [
            "['honda', 'yamaha', 'suzuki']\n",
            "The first motorcycle I owned was a Honda.\n"
          ]
        }
      ]
    },
    {
      "cell_type": "markdown",
      "source": [
        "**NOTE**: Each time you use **pop**(), the item you work with is no longer stored in the list.\n",
        "\n",
        "When you want to delete an item from a list and not use that item in any way, use the **del** statement; if you want to use an item as you remove it, use the **pop**() method."
      ],
      "metadata": {
        "id": "toSZejNrFV1a"
      }
    },
    {
      "cell_type": "markdown",
      "source": [
        "#### Removing Elements (remove)\n",
        "Use **remove()** to permanently remove from a list by value instead of index number\n",
        "\n",
        "Python will figure out where 'ducati' is and remove it."
      ],
      "metadata": {
        "id": "dBTwW0ffGTZm"
      }
    },
    {
      "cell_type": "code",
      "source": [
        "motorcycles = ['honda', 'yamaha', 'suzuki', 'ducati']\n",
        "print(motorcycles)\n",
        "\n",
        "motorcycles.remove('ducati')\n",
        "print(motorcycles)"
      ],
      "metadata": {
        "colab": {
          "base_uri": "https://localhost:8080/"
        },
        "id": "ZY3RqD4AGmTy",
        "outputId": "99e5e95a-7145-4d17-c177-622896f1295b"
      },
      "execution_count": null,
      "outputs": [
        {
          "output_type": "stream",
          "name": "stdout",
          "text": [
            "['honda', 'yamaha', 'suzuki', 'ducati']\n",
            "['honda', 'yamaha', 'suzuki']\n"
          ]
        }
      ]
    },
    {
      "cell_type": "markdown",
      "source": [
        "You can assign the value you are going to remove to a variable first and then remove it."
      ],
      "metadata": {
        "id": "ATxZ7fJUHQ5-"
      }
    },
    {
      "cell_type": "code",
      "source": [
        "motorcycles = ['honda', 'yamaha', 'suzuki', 'ducati']\n",
        "print(motorcycles)\n",
        "\n",
        "# assign the value we are removing to a variable\n",
        "too_expensive = 'ducati'\n",
        "\n",
        "# remove it from the list\n",
        "motorcycles.remove(too_expensive)\n",
        "\n",
        "print(motorcycles)\n",
        "print(f\"A {too_expensive.title()} is too expensive for me.\")"
      ],
      "metadata": {
        "colab": {
          "base_uri": "https://localhost:8080/"
        },
        "id": "PeMQFQR5HZp0",
        "outputId": "b52a3ec0-fb60-454d-e64e-1aa3e33d0b18"
      },
      "execution_count": null,
      "outputs": [
        {
          "output_type": "stream",
          "name": "stdout",
          "text": [
            "['honda', 'yamaha', 'suzuki', 'ducati']\n",
            "['honda', 'yamaha', 'suzuki']\n",
            "A Ducati is too expensive for me.\n"
          ]
        }
      ]
    },
    {
      "cell_type": "markdown",
      "source": [
        "## Organizing Elements"
      ],
      "metadata": {
        "id": "znpyaE69-gtD"
      }
    },
    {
      "cell_type": "markdown",
      "source": [
        "#### Sorting a list permanently\n",
        "sort() alphabetizes the list permanently. It can also sort in reverse."
      ],
      "metadata": {
        "id": "iryh6-dIISbN"
      }
    },
    {
      "cell_type": "code",
      "source": [
        "cars = ['bmw', 'audi', 'toyota', 'subaru']\n",
        "cars.sort()\n",
        "print(cars)\n",
        "\n",
        "cars.sort(reverse=True)\n",
        "print(cars)"
      ],
      "metadata": {
        "colab": {
          "base_uri": "https://localhost:8080/"
        },
        "id": "w95ZpwAWIXdc",
        "outputId": "8b56f58a-cfa5-4ed1-fdef-37f6abafe4cf"
      },
      "execution_count": null,
      "outputs": [
        {
          "output_type": "stream",
          "name": "stdout",
          "text": [
            "['audi', 'bmw', 'subaru', 'toyota']\n",
            "['toyota', 'subaru', 'bmw', 'audi']\n"
          ]
        }
      ]
    },
    {
      "cell_type": "markdown",
      "source": [
        "#### Sorting a list temporarily\n",
        "The sorted() function lets you display your list in a particular order, but does not affect the actual order of the list."
      ],
      "metadata": {
        "id": "yTm34G2bJE-c"
      }
    },
    {
      "cell_type": "code",
      "source": [
        "cars = ['bmw', 'audi', 'toyota', 'subaru']\n",
        "\n",
        "print(\"Here is the original list:\")\n",
        "print(cars)\n",
        "\n",
        "# temporarily changes the sort order, the original list is not permanently changed\n",
        "print()\n",
        "print(\"Here is the sorted list:\")\n",
        "print(sorted(cars))\n",
        "\n",
        "print()\n",
        "print(\"Here is the reverse sorted list:\")\n",
        "print(sorted(cars, reverse=True))\n",
        "\n",
        "print()\n",
        "print(\"Here is the original list again:\")\n",
        "print(cars)"
      ],
      "metadata": {
        "colab": {
          "base_uri": "https://localhost:8080/"
        },
        "id": "jG-H5xHOJYNI",
        "outputId": "76d49e7f-d94b-4424-adce-dae40ef99943"
      },
      "execution_count": null,
      "outputs": [
        {
          "output_type": "stream",
          "name": "stdout",
          "text": [
            "Here is the original list:\n",
            "['bmw', 'audi', 'toyota', 'subaru']\n",
            "\n",
            "Here is the sorted list:\n",
            "['audi', 'bmw', 'subaru', 'toyota']\n",
            "\n",
            "Here is the reverse sorted list:\n",
            "['toyota', 'subaru', 'bmw', 'audi']\n",
            "\n",
            "Here is the original list again:\n",
            "['bmw', 'audi', 'toyota', 'subaru']\n"
          ]
        }
      ]
    },
    {
      "cell_type": "markdown",
      "source": [
        "#### Reverse Order (permanent)\n",
        "To reverse the original order of a list, you can use **reverse**(). It does not sort backward alphabetically; it simply reverses the order of the list."
      ],
      "metadata": {
        "id": "s9b5Jj6pKHDB"
      }
    },
    {
      "cell_type": "code",
      "source": [
        "# permanently reversing the order of a list\n",
        "cars = ['bmw', 'audi', 'toyota', 'subaru']\n",
        "\n",
        "cars.reverse()\n",
        "print(cars)\n",
        "\n",
        "# do it again to return the list to its original order\n",
        "cars.reverse()\n",
        "print(cars)"
      ],
      "metadata": {
        "colab": {
          "base_uri": "https://localhost:8080/"
        },
        "id": "8g-My8G7KfQS",
        "outputId": "e34dd713-3764-4b91-939f-bedaaf5f9f37"
      },
      "execution_count": null,
      "outputs": [
        {
          "output_type": "stream",
          "name": "stdout",
          "text": [
            "['subaru', 'toyota', 'audi', 'bmw']\n",
            "['bmw', 'audi', 'toyota', 'subaru']\n"
          ]
        }
      ]
    },
    {
      "cell_type": "markdown",
      "source": [
        "#### Finding the Length\n",
        "You can find the length of a list by using the len() function."
      ],
      "metadata": {
        "id": "spdWR2w3K5oJ"
      }
    },
    {
      "cell_type": "code",
      "source": [
        "cars = ['bmw', 'audi', 'toyota', 'subaru']\n",
        "\n",
        "# find the length of a list\n",
        "len(cars)\n",
        "print(len(cars))"
      ],
      "metadata": {
        "colab": {
          "base_uri": "https://localhost:8080/"
        },
        "id": "CRm4B0EqLMDD",
        "outputId": "42109b95-c952-473b-8d1d-12820639eb93"
      },
      "execution_count": null,
      "outputs": [
        {
          "output_type": "stream",
          "name": "stdout",
          "text": [
            "4\n"
          ]
        }
      ]
    }
  ]
}